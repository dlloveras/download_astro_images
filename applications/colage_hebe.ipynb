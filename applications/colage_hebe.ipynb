{
 "cells": [
  {
   "cell_type": "code",
   "execution_count": 1,
   "metadata": {},
   "outputs": [],
   "source": [
    "import pandas as pd\n",
    "from descargar_imagenes_clases import euvi_downloader\n",
    "from descargar_imagenes_clases import aia_downloader\n",
    "from descargar_imagenes_clases import cor2_downloader\n",
    "import sunpy.map\n",
    "import sunpy.data.sample \n",
    "from descargar_imagenes_clases import initial_final_time\n",
    "import astropy.units as u\n",
    "from astropy.io import fits\n",
    "from sunpy.net import Fido, attrs as a\n",
    "from datetime import datetime, timedelta\n",
    "import os\n",
    "import matplotlib.pyplot as plt\n",
    "import pdb\n",
    "import numpy as np\n",
    "import requests\n",
    "import warnings\n",
    "warnings.filterwarnings(\"ignore\")\n",
    "# Specify the file path\n",
    "file_path = \"/data_local/Descargas/DatesandTimesCMEs-SRcharacteristics.csv\"\n",
    "\n",
    "# Read the CSV file\n",
    "data = pd.read_csv(file_path)\n",
    "\n",
    "# Display the data\n",
    "#print(data)\n"
   ]
  },
  {
   "cell_type": "code",
   "execution_count": 2,
   "metadata": {},
   "outputs": [
    {
     "data": {
      "text/plain": [
       "Index(['ID', 'Date', 'NOAA_AR', 'Comments_1', 'Links', 'Solar_region',\n",
       "       'Comments_2', 'FIL_activation_time', 'Flare_presence', 'fil_lon1',\n",
       "       'fil_lat1', 'fil_lon2', 'fil_lat2', 'fil_length', 'fil_length.Mm',\n",
       "       'gcs_lat', 'gcs_lon', 'gcs_radial_vel_at6', 'gcs_mean_acc1to6',\n",
       "       'gcs_awd', 'gcs_awd_err', 'gcs_awl', 'gcs_awl_err', 'gcs_awl_awd_ratio',\n",
       "       'aspect_ratio', 'gcs_axial_vel', 'gcs_lat_vel', 'ar_source',\n",
       "       'ar_unsigned_flux', 'ar_mean_current_helicity',\n",
       "       'ar_total_unsigned_current_helicity', 'ar_abs_net_current_helicity',\n",
       "       'ar_excess_mag_energy_density', 'ar_free_energy_density',\n",
       "       'ar_time_tilt', 'ar_tilt', 'pil_length', 'EUV loops comments',\n",
       "       'Instrument', 'ROI box [arcsec]', 'EUV loops data start time',\n",
       "       'EUV loops data end time'],\n",
       "      dtype='object')"
      ]
     },
     "execution_count": 2,
     "metadata": {},
     "output_type": "execute_result"
    }
   ],
   "source": [
    "data.keys()"
   ]
  },
  {
   "cell_type": "code",
   "execution_count": 2,
   "metadata": {},
   "outputs": [
    {
     "data": {
      "text/plain": [
       "0      2010/12/12 1:00:00\n",
       "1     2010/12/14 14:50:00\n",
       "2        2011/03/17 10:00\n",
       "3      2011/06/05 3:00:00\n",
       "4     2013/01/23 12:00:00\n",
       "5      2013/01/29 0:00:00\n",
       "6      2013/02/09 5:00:00\n",
       "7      2013/04/24 4:00:00\n",
       "8      2013/05/02 4:00:00\n",
       "9     2013/05/17 18:00:00\n",
       "10    2013/05/27 16:00:00\n",
       "11    2013/06/07 22:00:00\n",
       "12     No sirve, stealth \n",
       "13     2011/04/27 5:00:00\n",
       "14     2011/05/23 0:00:00\n",
       "15     2013/01/16 5:00:00\n",
       "16    2013/01/23 18:00:00\n",
       "17     2013/01/27 5:00:00\n",
       "Name: EUV loops data start time, dtype: object"
      ]
     },
     "execution_count": 2,
     "metadata": {},
     "output_type": "execute_result"
    }
   ],
   "source": [
    "#asd=data.iloc[0:13]['EUV loops data start time']\n",
    "data_short = data.iloc[0:18].copy()\n",
    "data_short['EUV loops data start time'] #= pd.to_datetime(data_short['EUV loops data start time'])"
   ]
  },
  {
   "cell_type": "code",
   "execution_count": 3,
   "metadata": {},
   "outputs": [
    {
     "data": {
      "text/html": [
       "<div>\n",
       "<style scoped>\n",
       "    .dataframe tbody tr th:only-of-type {\n",
       "        vertical-align: middle;\n",
       "    }\n",
       "\n",
       "    .dataframe tbody tr th {\n",
       "        vertical-align: top;\n",
       "    }\n",
       "\n",
       "    .dataframe thead th {\n",
       "        text-align: right;\n",
       "    }\n",
       "</style>\n",
       "<table border=\"1\" class=\"dataframe\">\n",
       "  <thead>\n",
       "    <tr style=\"text-align: right;\">\n",
       "      <th></th>\n",
       "      <th>Instrument</th>\n",
       "      <th>EUV loops data start time</th>\n",
       "      <th>EUV loops data end time</th>\n",
       "    </tr>\n",
       "  </thead>\n",
       "  <tbody>\n",
       "    <tr>\n",
       "      <th>0</th>\n",
       "      <td>AIA</td>\n",
       "      <td>2010/12/12 1:00:00</td>\n",
       "      <td>2010/12/12 15:00:00</td>\n",
       "    </tr>\n",
       "    <tr>\n",
       "      <th>1</th>\n",
       "      <td>EUVI-A</td>\n",
       "      <td>2010/12/14 14:50:00</td>\n",
       "      <td>2010/12/14 23:59:00</td>\n",
       "    </tr>\n",
       "    <tr>\n",
       "      <th>2</th>\n",
       "      <td>EUVI-B</td>\n",
       "      <td>2011/03/17 10:00</td>\n",
       "      <td>2011/03/17 22:00</td>\n",
       "    </tr>\n",
       "    <tr>\n",
       "      <th>3</th>\n",
       "      <td>AIA</td>\n",
       "      <td>2011/06/05 3:00:00</td>\n",
       "      <td>2011/06/05 16:00:00</td>\n",
       "    </tr>\n",
       "    <tr>\n",
       "      <th>4</th>\n",
       "      <td>AIA</td>\n",
       "      <td>2013/01/23 12:00:00</td>\n",
       "      <td>2013/01/23 20:00:00</td>\n",
       "    </tr>\n",
       "    <tr>\n",
       "      <th>5</th>\n",
       "      <td>AIA</td>\n",
       "      <td>2013/01/29 0:00:00</td>\n",
       "      <td>2013/01/29 8:00:00</td>\n",
       "    </tr>\n",
       "    <tr>\n",
       "      <th>6</th>\n",
       "      <td>AIA</td>\n",
       "      <td>2013/02/09 5:00:00</td>\n",
       "      <td>2013/02/09 12:00:00</td>\n",
       "    </tr>\n",
       "    <tr>\n",
       "      <th>7</th>\n",
       "      <td>EUVI-B</td>\n",
       "      <td>2013/04/24 4:00:00</td>\n",
       "      <td>2013/04/24 18:00:00</td>\n",
       "    </tr>\n",
       "    <tr>\n",
       "      <th>8</th>\n",
       "      <td>AIA</td>\n",
       "      <td>2013/05/02 4:00:00</td>\n",
       "      <td>2013/05/02 12:00:00</td>\n",
       "    </tr>\n",
       "    <tr>\n",
       "      <th>9</th>\n",
       "      <td>EUVI-B</td>\n",
       "      <td>2013/05/17 18:00:00</td>\n",
       "      <td>2013/05/18 10:00:00</td>\n",
       "    </tr>\n",
       "    <tr>\n",
       "      <th>10</th>\n",
       "      <td>EUVI-B</td>\n",
       "      <td>2013/05/27 16:00:00</td>\n",
       "      <td>2013/05/28 8:00:00</td>\n",
       "    </tr>\n",
       "    <tr>\n",
       "      <th>11</th>\n",
       "      <td>EUVI-A</td>\n",
       "      <td>2013/06/07 22:00:00</td>\n",
       "      <td>2013/06/08 12:00:00</td>\n",
       "    </tr>\n",
       "    <tr>\n",
       "      <th>12</th>\n",
       "      <td>AIA</td>\n",
       "      <td>No sirve, stealth</td>\n",
       "      <td>No sirve, stealth</td>\n",
       "    </tr>\n",
       "    <tr>\n",
       "      <th>13</th>\n",
       "      <td>EUVI-A</td>\n",
       "      <td>2011/04/27 5:00:00</td>\n",
       "      <td>2011/04/27 16:00:00</td>\n",
       "    </tr>\n",
       "    <tr>\n",
       "      <th>14</th>\n",
       "      <td>AIA</td>\n",
       "      <td>2011/05/23 0:00:00</td>\n",
       "      <td>2011/05/23 10:00:00</td>\n",
       "    </tr>\n",
       "    <tr>\n",
       "      <th>15</th>\n",
       "      <td>EUVI-A</td>\n",
       "      <td>2013/01/16 5:00:00</td>\n",
       "      <td>2013/01/16 15:00:00</td>\n",
       "    </tr>\n",
       "    <tr>\n",
       "      <th>16</th>\n",
       "      <td>AIA</td>\n",
       "      <td>2013/01/23 18:00:00</td>\n",
       "      <td>2013/01/24 8:00:00</td>\n",
       "    </tr>\n",
       "    <tr>\n",
       "      <th>17</th>\n",
       "      <td>EUVI-A</td>\n",
       "      <td>2013/01/27 5:00:00</td>\n",
       "      <td>2013/01/27 14:00:00</td>\n",
       "    </tr>\n",
       "  </tbody>\n",
       "</table>\n",
       "</div>"
      ],
      "text/plain": [
       "   Instrument EUV loops data start time EUV loops data end time\n",
       "0         AIA        2010/12/12 1:00:00     2010/12/12 15:00:00\n",
       "1      EUVI-A       2010/12/14 14:50:00     2010/12/14 23:59:00\n",
       "2      EUVI-B          2011/03/17 10:00        2011/03/17 22:00\n",
       "3         AIA        2011/06/05 3:00:00     2011/06/05 16:00:00\n",
       "4         AIA       2013/01/23 12:00:00     2013/01/23 20:00:00\n",
       "5         AIA        2013/01/29 0:00:00      2013/01/29 8:00:00\n",
       "6         AIA        2013/02/09 5:00:00     2013/02/09 12:00:00\n",
       "7      EUVI-B        2013/04/24 4:00:00     2013/04/24 18:00:00\n",
       "8         AIA        2013/05/02 4:00:00     2013/05/02 12:00:00\n",
       "9      EUVI-B       2013/05/17 18:00:00     2013/05/18 10:00:00\n",
       "10     EUVI-B       2013/05/27 16:00:00      2013/05/28 8:00:00\n",
       "11     EUVI-A       2013/06/07 22:00:00     2013/06/08 12:00:00\n",
       "12        AIA        No sirve, stealth       No sirve, stealth \n",
       "13     EUVI-A        2011/04/27 5:00:00     2011/04/27 16:00:00\n",
       "14        AIA        2011/05/23 0:00:00     2011/05/23 10:00:00\n",
       "15     EUVI-A        2013/01/16 5:00:00     2013/01/16 15:00:00\n",
       "16        AIA       2013/01/23 18:00:00      2013/01/24 8:00:00\n",
       "17     EUVI-A        2013/01/27 5:00:00     2013/01/27 14:00:00"
      ]
     },
     "execution_count": 3,
     "metadata": {},
     "output_type": "execute_result"
    }
   ],
   "source": [
    "data2=data_short[['Instrument','EUV loops data start time','EUV loops data end time']].copy()\n",
    "data2"
   ]
  },
  {
   "cell_type": "code",
   "execution_count": 3,
   "metadata": {},
   "outputs": [
    {
     "ename": "NameError",
     "evalue": "name 'data2' is not defined",
     "output_type": "error",
     "traceback": [
      "\u001b[0;31m---------------------------------------------------------------------------\u001b[0m",
      "\u001b[0;31mNameError\u001b[0m                                 Traceback (most recent call last)",
      "Cell \u001b[0;32mIn[3], line 7\u001b[0m\n\u001b[1;32m      5\u001b[0m index  \u001b[38;5;241m=\u001b[39m \u001b[38;5;241m17\u001b[39m\n\u001b[1;32m      6\u001b[0m nave\u001b[38;5;241m=\u001b[39m\u001b[38;5;124m'\u001b[39m\u001b[38;5;124mSTEREO_A\u001b[39m\u001b[38;5;124m'\u001b[39m\n\u001b[0;32m----> 7\u001b[0m ini\u001b[38;5;241m=\u001b[39m\u001b[43mdata2\u001b[49m\u001b[38;5;241m.\u001b[39miloc[index][\u001b[38;5;124m'\u001b[39m\u001b[38;5;124mEUV loops data start time\u001b[39m\u001b[38;5;124m'\u001b[39m]\u001b[38;5;241m.\u001b[39mreplace(\u001b[38;5;124m'\u001b[39m\u001b[38;5;124m/\u001b[39m\u001b[38;5;124m'\u001b[39m, \u001b[38;5;124m'\u001b[39m\u001b[38;5;124m-\u001b[39m\u001b[38;5;124m'\u001b[39m)\n\u001b[1;32m      8\u001b[0m fin\u001b[38;5;241m=\u001b[39mdata2\u001b[38;5;241m.\u001b[39miloc[index][\u001b[38;5;124m'\u001b[39m\u001b[38;5;124mEUV loops data end time\u001b[39m\u001b[38;5;124m'\u001b[39m]\u001b[38;5;241m.\u001b[39mreplace(\u001b[38;5;124m'\u001b[39m\u001b[38;5;124m/\u001b[39m\u001b[38;5;124m'\u001b[39m, \u001b[38;5;124m'\u001b[39m\u001b[38;5;124m-\u001b[39m\u001b[38;5;124m'\u001b[39m)\n\u001b[1;32m      9\u001b[0m t_ini\u001b[38;5;241m=\u001b[39mini\n",
      "\u001b[0;31mNameError\u001b[0m: name 'data2' is not defined"
     ]
    }
   ],
   "source": [
    "#EUVI\n",
    "#index = 1\n",
    "#index = 11\n",
    "index = 15\n",
    "index  = 17\n",
    "nave='STEREO_A'\n",
    "ini=data2.iloc[index]['EUV loops data start time'].replace('/', '-')\n",
    "fin=data2.iloc[index]['EUV loops data end time'].replace('/', '-')\n",
    "t_ini=ini\n",
    "t_fin=fin\n",
    "ini,fin = initial_final_time(t_ini, t_fin, delta_t=1)\n",
    "euvi_images = euvi_downloader(start_time=ini,end_time=fin,nave=nave,cadence=10,wave=195,origin_download_path=True,band_folder=True)\n",
    "euvi_images.search()\n",
    "euvi_images.display()"
   ]
  },
  {
   "cell_type": "code",
   "execution_count": null,
   "metadata": {},
   "outputs": [],
   "source": [
    "euvi_images.download()"
   ]
  },
  {
   "cell_type": "code",
   "execution_count": null,
   "metadata": {},
   "outputs": [],
   "source": [
    "euvi_images.search_euvi['fileid']"
   ]
  },
  {
   "cell_type": "code",
   "execution_count": 4,
   "metadata": {},
   "outputs": [
    {
     "name": "stdout",
     "output_type": "stream",
     "text": [
      "Filtrando por tamanio\n"
     ]
    },
    {
     "data": {
      "image/png": "[encoded data removed]",
      "text/plain": [
       "<Figure size 640x480 with 1 Axes>"
      ]
     },
     "metadata": {},
     "output_type": "display_data"
    }
   ],
   "source": [
    "t_ini=\"2011/11/28 10:00:00\"\n",
    "t_ini=t_ini.replace('/', '-')\n",
    "t_fin=\"2011/11/28 16:30:00\"\n",
    "t_fin=t_fin.replace('/', '-')\n",
    "ini,fin = initial_final_time(t_ini, t_fin, delta_t=10)\n",
    "nave='STEREO_A'\n",
    "cor2_images = cor2_downloader(start_time=ini,end_time=fin,nave=nave,image_type='img')#,cadence=15,origin_download_path=True,band_folder=True)\n",
    "cor2_images.search()\n",
    "cor2_images.filtro()\n",
    "cor2_images.display()"
   ]
  },
  {
   "cell_type": "code",
   "execution_count": 5,
   "metadata": {},
   "outputs": [
    {
     "name": "stdout",
     "output_type": "stream",
     "text": [
      "El directorio /media/gehme/gehme/data/stereo/secchi/L0/a/img/cor2/20111128/ ya existe\n"
     ]
    },
    {
     "data": {
      "application/vnd.jupyter.widget-view+json": {
       "model_id": "22bf4de48bdd4beda6f873e787c211c7",
       "version_major": 2,
       "version_minor": 0
      },
      "text/plain": [
       "Files Downloaded:   0%|          | 0/1 [00:00<?, ?file/s]"
      ]
     },
     "metadata": {},
     "output_type": "display_data"
    },
    {
     "data": {
      "application/vnd.jupyter.widget-view+json": {
       "model_id": "8551a1fb80a14fd2a2602d2cee42e623",
       "version_major": 2,
       "version_minor": 0
      },
      "text/plain": [
       "20111128_095400_d4c2a.fts:   0%|          | 0.00/8.42M [00:00<?, ?B/s]"
      ]
     },
     "metadata": {},
     "output_type": "display_data"
    },
    {
     "name": "stdout",
     "output_type": "stream",
     "text": [
      "[]\n",
      "El directorio /media/gehme/gehme/data/stereo/secchi/L0/a/img/cor2/20111128/ ya existe\n"
     ]
    },
    {
     "name": "stderr",
     "output_type": "stream",
     "text": [
      "chmod: cambiando los permisos de '/media/gehme/gehme/data/stereo/secchi/L0/a/img/cor2/20111128/': Permiso denegado\n",
      "chmod: cambiando los permisos de '/media/gehme/gehme/data/stereo/secchi/L0/a/img/cor2/20111128/20111128_065400_d4c2a.fts': Permiso denegado\n",
      "chmod: cambiando los permisos de '/media/gehme/gehme/data/stereo/secchi/L0/a/img/cor2/20111128/20111128_195400_d4c2a.fts': Permiso denegado\n",
      "chmod: cambiando los permisos de '/media/gehme/gehme/data/stereo/secchi/L0/a/img/cor2/20111128/20111128_185400_d4c2a.fts': Permiso denegado\n",
      "chmod: cambiando los permisos de '/media/gehme/gehme/data/stereo/secchi/L0/a/img/cor2/20111128/20111128_055400_d4c2a.fts': Permiso denegado\n"
     ]
    },
    {
     "data": {
      "application/vnd.jupyter.widget-view+json": {
       "model_id": "3cb37ac07b4641bdb9aa512abff799bf",
       "version_major": 2,
       "version_minor": 0
      },
      "text/plain": [
       "Files Downloaded:   0%|          | 0/1 [00:00<?, ?file/s]"
      ]
     },
     "metadata": {},
     "output_type": "display_data"
    },
    {
     "data": {
      "application/vnd.jupyter.widget-view+json": {
       "model_id": "366684b22f3a4d2cb9e1c072d6496250",
       "version_major": 2,
       "version_minor": 0
      },
      "text/plain": [
       "20111128_102400_d4c2a.fts:   0%|          | 0.00/8.42M [00:00<?, ?B/s]"
      ]
     },
     "metadata": {},
     "output_type": "display_data"
    },
    {
     "name": "stdout",
     "output_type": "stream",
     "text": [
      "[]\n",
      "El directorio /media/gehme/gehme/data/stereo/secchi/L0/a/img/cor2/20111128/ ya existe\n"
     ]
    },
    {
     "name": "stderr",
     "output_type": "stream",
     "text": [
      "chmod: cambiando los permisos de '/media/gehme/gehme/data/stereo/secchi/L0/a/img/cor2/20111128/': Permiso denegado\n",
      "chmod: cambiando los permisos de '/media/gehme/gehme/data/stereo/secchi/L0/a/img/cor2/20111128/20111128_065400_d4c2a.fts': Permiso denegado\n",
      "chmod: cambiando los permisos de '/media/gehme/gehme/data/stereo/secchi/L0/a/img/cor2/20111128/20111128_195400_d4c2a.fts': Permiso denegado\n",
      "chmod: cambiando los permisos de '/media/gehme/gehme/data/stereo/secchi/L0/a/img/cor2/20111128/20111128_185400_d4c2a.fts': Permiso denegado\n",
      "chmod: cambiando los permisos de '/media/gehme/gehme/data/stereo/secchi/L0/a/img/cor2/20111128/20111128_055400_d4c2a.fts': Permiso denegado\n"
     ]
    },
    {
     "data": {
      "application/vnd.jupyter.widget-view+json": {
       "model_id": "805740cec5f240e791119629b54f8485",
       "version_major": 2,
       "version_minor": 0
      },
      "text/plain": [
       "Files Downloaded:   0%|          | 0/1 [00:00<?, ?file/s]"
      ]
     },
     "metadata": {},
     "output_type": "display_data"
    },
    {
     "data": {
      "application/vnd.jupyter.widget-view+json": {
       "model_id": "029810e742434abdae50d68e811c5764",
       "version_major": 2,
       "version_minor": 0
      },
      "text/plain": [
       "20111128_103900_d4c2a.fts:   0%|          | 0.00/8.42M [00:00<?, ?B/s]"
      ]
     },
     "metadata": {},
     "output_type": "display_data"
    },
    {
     "name": "stdout",
     "output_type": "stream",
     "text": [
      "[]\n",
      "El directorio /media/gehme/gehme/data/stereo/secchi/L0/a/img/cor2/20111128/ ya existe\n"
     ]
    },
    {
     "name": "stderr",
     "output_type": "stream",
     "text": [
      "chmod: cambiando los permisos de '/media/gehme/gehme/data/stereo/secchi/L0/a/img/cor2/20111128/': Permiso denegado\n",
      "chmod: cambiando los permisos de '/media/gehme/gehme/data/stereo/secchi/L0/a/img/cor2/20111128/20111128_065400_d4c2a.fts': Permiso denegado\n",
      "chmod: cambiando los permisos de '/media/gehme/gehme/data/stereo/secchi/L0/a/img/cor2/20111128/20111128_195400_d4c2a.fts': Permiso denegado\n",
      "chmod: cambiando los permisos de '/media/gehme/gehme/data/stereo/secchi/L0/a/img/cor2/20111128/20111128_185400_d4c2a.fts': Permiso denegado\n",
      "chmod: cambiando los permisos de '/media/gehme/gehme/data/stereo/secchi/L0/a/img/cor2/20111128/20111128_055400_d4c2a.fts': Permiso denegado\n"
     ]
    },
    {
     "data": {
      "application/vnd.jupyter.widget-view+json": {
       "model_id": "c818c2a4917849898e2b982d59840725",
       "version_major": 2,
       "version_minor": 0
      },
      "text/plain": [
       "Files Downloaded:   0%|          | 0/1 [00:00<?, ?file/s]"
      ]
     },
     "metadata": {},
     "output_type": "display_data"
    },
    {
     "data": {
      "application/vnd.jupyter.widget-view+json": {
       "model_id": "a76b70efc1444ee98835a4db6d9046b4",
       "version_major": 2,
       "version_minor": 0
      },
      "text/plain": [
       "20111128_105400_d4c2a.fts:   0%|          | 0.00/8.42M [00:00<?, ?B/s]"
      ]
     },
     "metadata": {},
     "output_type": "display_data"
    },
    {
     "name": "stdout",
     "output_type": "stream",
     "text": [
      "[]\n",
      "El directorio /media/gehme/gehme/data/stereo/secchi/L0/a/img/cor2/20111128/ ya existe\n"
     ]
    },
    {
     "name": "stderr",
     "output_type": "stream",
     "text": [
      "chmod: cambiando los permisos de '/media/gehme/gehme/data/stereo/secchi/L0/a/img/cor2/20111128/': Permiso denegado\n",
      "chmod: cambiando los permisos de '/media/gehme/gehme/data/stereo/secchi/L0/a/img/cor2/20111128/20111128_065400_d4c2a.fts': Permiso denegado\n",
      "chmod: cambiando los permisos de '/media/gehme/gehme/data/stereo/secchi/L0/a/img/cor2/20111128/20111128_195400_d4c2a.fts': Permiso denegado\n",
      "chmod: cambiando los permisos de '/media/gehme/gehme/data/stereo/secchi/L0/a/img/cor2/20111128/20111128_185400_d4c2a.fts': Permiso denegado\n",
      "chmod: cambiando los permisos de '/media/gehme/gehme/data/stereo/secchi/L0/a/img/cor2/20111128/20111128_055400_d4c2a.fts': Permiso denegado\n"
     ]
    },
    {
     "data": {
      "application/vnd.jupyter.widget-view+json": {
       "model_id": "14aa2b11e7da4fb0919fe95215cb6be0",
       "version_major": 2,
       "version_minor": 0
      },
      "text/plain": [
       "Files Downloaded:   0%|          | 0/1 [00:00<?, ?file/s]"
      ]
     },
     "metadata": {},
     "output_type": "display_data"
    },
    {
     "data": {
      "application/vnd.jupyter.widget-view+json": {
       "model_id": "133b137f8cfb4ac29184153c98c1f76d",
       "version_major": 2,
       "version_minor": 0
      },
      "text/plain": [
       "20111128_112400_d4c2a.fts:   0%|          | 0.00/8.42M [00:00<?, ?B/s]"
      ]
     },
     "metadata": {},
     "output_type": "display_data"
    },
    {
     "name": "stdout",
     "output_type": "stream",
     "text": [
      "[]\n",
      "El directorio /media/gehme/gehme/data/stereo/secchi/L0/a/img/cor2/20111128/ ya existe\n"
     ]
    },
    {
     "name": "stderr",
     "output_type": "stream",
     "text": [
      "chmod: cambiando los permisos de '/media/gehme/gehme/data/stereo/secchi/L0/a/img/cor2/20111128/': Permiso denegado\n",
      "chmod: cambiando los permisos de '/media/gehme/gehme/data/stereo/secchi/L0/a/img/cor2/20111128/20111128_065400_d4c2a.fts': Permiso denegado\n",
      "chmod: cambiando los permisos de '/media/gehme/gehme/data/stereo/secchi/L0/a/img/cor2/20111128/20111128_195400_d4c2a.fts': Permiso denegado\n",
      "chmod: cambiando los permisos de '/media/gehme/gehme/data/stereo/secchi/L0/a/img/cor2/20111128/20111128_185400_d4c2a.fts': Permiso denegado\n",
      "chmod: cambiando los permisos de '/media/gehme/gehme/data/stereo/secchi/L0/a/img/cor2/20111128/20111128_055400_d4c2a.fts': Permiso denegado\n"
     ]
    },
    {
     "data": {
      "application/vnd.jupyter.widget-view+json": {
       "model_id": "dfe4be5740734e3c904b7b6f67dd7fa5",
       "version_major": 2,
       "version_minor": 0
      },
      "text/plain": [
       "Files Downloaded:   0%|          | 0/1 [00:00<?, ?file/s]"
      ]
     },
     "metadata": {},
     "output_type": "display_data"
    },
    {
     "name": "stderr",
     "output_type": "stream",
     "text": [
      "Exception ignored in: <function BaseEventLoop.__del__ at 0x7f7d85972170>\n",
      "Traceback (most recent call last):\n",
      "  File \"/home/diegol/anaconda3/envs/new_actual/lib/python3.10/asyncio/base_events.py\", line 687, in __del__\n",
      "    self.close()\n",
      "  File \"/home/diegol/anaconda3/envs/new_actual/lib/python3.10/asyncio/unix_events.py\", line 71, in close\n",
      "    self.remove_signal_handler(sig)\n",
      "  File \"/home/diegol/anaconda3/envs/new_actual/lib/python3.10/asyncio/unix_events.py\", line 160, in remove_signal_handler\n",
      "    signal.signal(sig, handler)\n",
      "  File \"/home/diegol/anaconda3/envs/new_actual/lib/python3.10/signal.py\", line 56, in signal\n",
      "    handler = _signal.signal(_enum_to_int(signalnum), _enum_to_int(handler))\n",
      "ValueError: signal only works in main thread of the main interpreter\n",
      "Exception ignored in: <function BaseEventLoop.__del__ at 0x7f7d85972170>\n",
      "Traceback (most recent call last):\n",
      "  File \"/home/diegol/anaconda3/envs/new_actual/lib/python3.10/asyncio/base_events.py\", line 687, in __del__\n",
      "    self.close()\n",
      "  File \"/home/diegol/anaconda3/envs/new_actual/lib/python3.10/asyncio/unix_events.py\", line 71, in close\n",
      "    self.remove_signal_handler(sig)\n",
      "  File \"/home/diegol/anaconda3/envs/new_actual/lib/python3.10/asyncio/unix_events.py\", line 160, in remove_signal_handler\n",
      "    signal.signal(sig, handler)\n",
      "  File \"/home/diegol/anaconda3/envs/new_actual/lib/python3.10/signal.py\", line 56, in signal\n",
      "    handler = _signal.signal(_enum_to_int(signalnum), _enum_to_int(handler))\n",
      "ValueError: signal only works in main thread of the main interpreter\n",
      "Exception ignored in: <function BaseEventLoop.__del__ at 0x7f7d85972170>\n",
      "Traceback (most recent call last):\n",
      "  File \"/home/diegol/anaconda3/envs/new_actual/lib/python3.10/asyncio/base_events.py\", line 687, in __del__\n",
      "    self.close()\n",
      "  File \"/home/diegol/anaconda3/envs/new_actual/lib/python3.10/asyncio/unix_events.py\", line 71, in close\n",
      "    self.remove_signal_handler(sig)\n",
      "  File \"/home/diegol/anaconda3/envs/new_actual/lib/python3.10/asyncio/unix_events.py\", line 160, in remove_signal_handler\n",
      "    signal.signal(sig, handler)\n",
      "  File \"/home/diegol/anaconda3/envs/new_actual/lib/python3.10/signal.py\", line 56, in signal\n",
      "    handler = _signal.signal(_enum_to_int(signalnum), _enum_to_int(handler))\n",
      "ValueError: signal only works in main thread of the main interpreter\n",
      "Exception ignored in: <function BaseEventLoop.__del__ at 0x7f7d85972170>\n",
      "Traceback (most recent call last):\n",
      "  File \"/home/diegol/anaconda3/envs/new_actual/lib/python3.10/asyncio/base_events.py\", line 687, in __del__\n",
      "    self.close()\n",
      "  File \"/home/diegol/anaconda3/envs/new_actual/lib/python3.10/asyncio/unix_events.py\", line 71, in close\n",
      "    self.remove_signal_handler(sig)\n",
      "  File \"/home/diegol/anaconda3/envs/new_actual/lib/python3.10/asyncio/unix_events.py\", line 160, in remove_signal_handler\n",
      "    signal.signal(sig, handler)\n",
      "  File \"/home/diegol/anaconda3/envs/new_actual/lib/python3.10/signal.py\", line 56, in signal\n",
      "    handler = _signal.signal(_enum_to_int(signalnum), _enum_to_int(handler))\n",
      "ValueError: signal only works in main thread of the main interpreter\n",
      "Exception ignored in: <function BaseEventLoop.__del__ at 0x7f7d85972170>\n",
      "Traceback (most recent call last):\n",
      "  File \"/home/diegol/anaconda3/envs/new_actual/lib/python3.10/asyncio/base_events.py\", line 687, in __del__\n",
      "    self.close()\n",
      "  File \"/home/diegol/anaconda3/envs/new_actual/lib/python3.10/asyncio/unix_events.py\", line 71, in close\n",
      "    self.remove_signal_handler(sig)\n",
      "  File \"/home/diegol/anaconda3/envs/new_actual/lib/python3.10/asyncio/unix_events.py\", line 160, in remove_signal_handler\n",
      "    signal.signal(sig, handler)\n",
      "  File \"/home/diegol/anaconda3/envs/new_actual/lib/python3.10/signal.py\", line 56, in signal\n",
      "    handler = _signal.signal(_enum_to_int(signalnum), _enum_to_int(handler))\n",
      "ValueError: signal only works in main thread of the main interpreter\n"
     ]
    },
    {
     "data": {
      "application/vnd.jupyter.widget-view+json": {
       "model_id": "0ec0d080eb784b87b9243b5056f90eb2",
       "version_major": 2,
       "version_minor": 0
      },
      "text/plain": [
       "20111128_113900_d4c2a.fts:   0%|          | 0.00/8.42M [00:00<?, ?B/s]"
      ]
     },
     "metadata": {},
     "output_type": "display_data"
    },
    {
     "name": "stdout",
     "output_type": "stream",
     "text": [
      "[]\n",
      "El directorio /media/gehme/gehme/data/stereo/secchi/L0/a/img/cor2/20111128/ ya existe\n"
     ]
    },
    {
     "name": "stderr",
     "output_type": "stream",
     "text": [
      "chmod: cambiando los permisos de '/media/gehme/gehme/data/stereo/secchi/L0/a/img/cor2/20111128/': Permiso denegado\n",
      "chmod: cambiando los permisos de '/media/gehme/gehme/data/stereo/secchi/L0/a/img/cor2/20111128/20111128_065400_d4c2a.fts': Permiso denegado\n",
      "chmod: cambiando los permisos de '/media/gehme/gehme/data/stereo/secchi/L0/a/img/cor2/20111128/20111128_195400_d4c2a.fts': Permiso denegado\n",
      "chmod: cambiando los permisos de '/media/gehme/gehme/data/stereo/secchi/L0/a/img/cor2/20111128/20111128_185400_d4c2a.fts': Permiso denegado\n",
      "chmod: cambiando los permisos de '/media/gehme/gehme/data/stereo/secchi/L0/a/img/cor2/20111128/20111128_055400_d4c2a.fts': Permiso denegado\n"
     ]
    },
    {
     "data": {
      "application/vnd.jupyter.widget-view+json": {
       "model_id": "31d7c2bb464e48f0b9ae706afa8f2f0d",
       "version_major": 2,
       "version_minor": 0
      },
      "text/plain": [
       "Files Downloaded:   0%|          | 0/1 [00:00<?, ?file/s]"
      ]
     },
     "metadata": {},
     "output_type": "display_data"
    },
    {
     "data": {
      "application/vnd.jupyter.widget-view+json": {
       "model_id": "367b183c5af046c6ad732b58a7f2ce60",
       "version_major": 2,
       "version_minor": 0
      },
      "text/plain": [
       "20111128_115400_d4c2a.fts:   0%|          | 0.00/8.42M [00:00<?, ?B/s]"
      ]
     },
     "metadata": {},
     "output_type": "display_data"
    },
    {
     "name": "stdout",
     "output_type": "stream",
     "text": [
      "[]\n",
      "El directorio /media/gehme/gehme/data/stereo/secchi/L0/a/img/cor2/20111128/ ya existe\n"
     ]
    },
    {
     "name": "stderr",
     "output_type": "stream",
     "text": [
      "chmod: cambiando los permisos de '/media/gehme/gehme/data/stereo/secchi/L0/a/img/cor2/20111128/': Permiso denegado\n",
      "chmod: cambiando los permisos de '/media/gehme/gehme/data/stereo/secchi/L0/a/img/cor2/20111128/20111128_065400_d4c2a.fts': Permiso denegado\n",
      "chmod: cambiando los permisos de '/media/gehme/gehme/data/stereo/secchi/L0/a/img/cor2/20111128/20111128_195400_d4c2a.fts': Permiso denegado\n",
      "chmod: cambiando los permisos de '/media/gehme/gehme/data/stereo/secchi/L0/a/img/cor2/20111128/20111128_185400_d4c2a.fts': Permiso denegado\n",
      "chmod: cambiando los permisos de '/media/gehme/gehme/data/stereo/secchi/L0/a/img/cor2/20111128/20111128_055400_d4c2a.fts': Permiso denegado\n"
     ]
    },
    {
     "data": {
      "application/vnd.jupyter.widget-view+json": {
       "model_id": "43500615cede4f4ab4ab472e97b12175",
       "version_major": 2,
       "version_minor": 0
      },
      "text/plain": [
       "Files Downloaded:   0%|          | 0/1 [00:00<?, ?file/s]"
      ]
     },
     "metadata": {},
     "output_type": "display_data"
    },
    {
     "data": {
      "application/vnd.jupyter.widget-view+json": {
       "model_id": "63f4064ba4694eb4971d7336df282de7",
       "version_major": 2,
       "version_minor": 0
      },
      "text/plain": [
       "20111128_122400_d4c2a.fts:   0%|          | 0.00/8.42M [00:00<?, ?B/s]"
      ]
     },
     "metadata": {},
     "output_type": "display_data"
    },
    {
     "name": "stdout",
     "output_type": "stream",
     "text": [
      "[]\n",
      "El directorio /media/gehme/gehme/data/stereo/secchi/L0/a/img/cor2/20111128/ ya existe\n"
     ]
    },
    {
     "name": "stderr",
     "output_type": "stream",
     "text": [
      "chmod: cambiando los permisos de '/media/gehme/gehme/data/stereo/secchi/L0/a/img/cor2/20111128/': Permiso denegado\n",
      "chmod: cambiando los permisos de '/media/gehme/gehme/data/stereo/secchi/L0/a/img/cor2/20111128/20111128_065400_d4c2a.fts': Permiso denegado\n",
      "chmod: cambiando los permisos de '/media/gehme/gehme/data/stereo/secchi/L0/a/img/cor2/20111128/20111128_195400_d4c2a.fts': Permiso denegado\n",
      "chmod: cambiando los permisos de '/media/gehme/gehme/data/stereo/secchi/L0/a/img/cor2/20111128/20111128_185400_d4c2a.fts': Permiso denegado\n",
      "chmod: cambiando los permisos de '/media/gehme/gehme/data/stereo/secchi/L0/a/img/cor2/20111128/20111128_055400_d4c2a.fts': Permiso denegado\n"
     ]
    },
    {
     "data": {
      "application/vnd.jupyter.widget-view+json": {
       "model_id": "e5645a19e786485da0713df2f538ee41",
       "version_major": 2,
       "version_minor": 0
      },
      "text/plain": [
       "Files Downloaded:   0%|          | 0/1 [00:00<?, ?file/s]"
      ]
     },
     "metadata": {},
     "output_type": "display_data"
    },
    {
     "data": {
      "application/vnd.jupyter.widget-view+json": {
       "model_id": "a18f6ee46e644761a54b6e75f7f3f89d",
       "version_major": 2,
       "version_minor": 0
      },
      "text/plain": [
       "20111128_123900_d4c2a.fts:   0%|          | 0.00/8.42M [00:00<?, ?B/s]"
      ]
     },
     "metadata": {},
     "output_type": "display_data"
    },
    {
     "name": "stdout",
     "output_type": "stream",
     "text": [
      "[]\n",
      "El directorio /media/gehme/gehme/data/stereo/secchi/L0/a/img/cor2/20111128/ ya existe\n"
     ]
    },
    {
     "name": "stderr",
     "output_type": "stream",
     "text": [
      "chmod: cambiando los permisos de '/media/gehme/gehme/data/stereo/secchi/L0/a/img/cor2/20111128/': Permiso denegado\n",
      "chmod: cambiando los permisos de '/media/gehme/gehme/data/stereo/secchi/L0/a/img/cor2/20111128/20111128_065400_d4c2a.fts': Permiso denegado\n",
      "chmod: cambiando los permisos de '/media/gehme/gehme/data/stereo/secchi/L0/a/img/cor2/20111128/20111128_195400_d4c2a.fts': Permiso denegado\n",
      "chmod: cambiando los permisos de '/media/gehme/gehme/data/stereo/secchi/L0/a/img/cor2/20111128/20111128_185400_d4c2a.fts': Permiso denegado\n",
      "chmod: cambiando los permisos de '/media/gehme/gehme/data/stereo/secchi/L0/a/img/cor2/20111128/20111128_055400_d4c2a.fts': Permiso denegado\n"
     ]
    },
    {
     "data": {
      "application/vnd.jupyter.widget-view+json": {
       "model_id": "7a44c82bf89845d1a537ab7890399f9c",
       "version_major": 2,
       "version_minor": 0
      },
      "text/plain": [
       "Files Downloaded:   0%|          | 0/1 [00:00<?, ?file/s]"
      ]
     },
     "metadata": {},
     "output_type": "display_data"
    },
    {
     "data": {
      "application/vnd.jupyter.widget-view+json": {
       "model_id": "40e8477d03144828ac0ccbac6c9f2436",
       "version_major": 2,
       "version_minor": 0
      },
      "text/plain": [
       "20111128_125400_d4c2a.fts:   0%|          | 0.00/8.42M [00:00<?, ?B/s]"
      ]
     },
     "metadata": {},
     "output_type": "display_data"
    },
    {
     "name": "stdout",
     "output_type": "stream",
     "text": [
      "[]\n",
      "El directorio /media/gehme/gehme/data/stereo/secchi/L0/a/img/cor2/20111128/ ya existe\n"
     ]
    },
    {
     "name": "stderr",
     "output_type": "stream",
     "text": [
      "chmod: cambiando los permisos de '/media/gehme/gehme/data/stereo/secchi/L0/a/img/cor2/20111128/': Permiso denegado\n",
      "chmod: cambiando los permisos de '/media/gehme/gehme/data/stereo/secchi/L0/a/img/cor2/20111128/20111128_065400_d4c2a.fts': Permiso denegado\n",
      "chmod: cambiando los permisos de '/media/gehme/gehme/data/stereo/secchi/L0/a/img/cor2/20111128/20111128_195400_d4c2a.fts': Permiso denegado\n",
      "chmod: cambiando los permisos de '/media/gehme/gehme/data/stereo/secchi/L0/a/img/cor2/20111128/20111128_185400_d4c2a.fts': Permiso denegado\n",
      "chmod: cambiando los permisos de '/media/gehme/gehme/data/stereo/secchi/L0/a/img/cor2/20111128/20111128_055400_d4c2a.fts': Permiso denegado\n"
     ]
    },
    {
     "data": {
      "application/vnd.jupyter.widget-view+json": {
       "model_id": "9ed3ef22338646ea8073bc2e7531b809",
       "version_major": 2,
       "version_minor": 0
      },
      "text/plain": [
       "Files Downloaded:   0%|          | 0/1 [00:00<?, ?file/s]"
      ]
     },
     "metadata": {},
     "output_type": "display_data"
    },
    {
     "data": {
      "application/vnd.jupyter.widget-view+json": {
       "model_id": "7fcafae9befa4e7cbc4435d5c020dafb",
       "version_major": 2,
       "version_minor": 0
      },
      "text/plain": [
       "20111128_132400_d4c2a.fts:   0%|          | 0.00/8.42M [00:00<?, ?B/s]"
      ]
     },
     "metadata": {},
     "output_type": "display_data"
    },
    {
     "name": "stdout",
     "output_type": "stream",
     "text": [
      "[]\n",
      "El directorio /media/gehme/gehme/data/stereo/secchi/L0/a/img/cor2/20111128/ ya existe\n"
     ]
    },
    {
     "name": "stderr",
     "output_type": "stream",
     "text": [
      "chmod: cambiando los permisos de '/media/gehme/gehme/data/stereo/secchi/L0/a/img/cor2/20111128/': Permiso denegado\n",
      "chmod: cambiando los permisos de '/media/gehme/gehme/data/stereo/secchi/L0/a/img/cor2/20111128/20111128_065400_d4c2a.fts': Permiso denegado\n",
      "chmod: cambiando los permisos de '/media/gehme/gehme/data/stereo/secchi/L0/a/img/cor2/20111128/20111128_195400_d4c2a.fts': Permiso denegado\n",
      "chmod: cambiando los permisos de '/media/gehme/gehme/data/stereo/secchi/L0/a/img/cor2/20111128/20111128_185400_d4c2a.fts': Permiso denegado\n",
      "chmod: cambiando los permisos de '/media/gehme/gehme/data/stereo/secchi/L0/a/img/cor2/20111128/20111128_055400_d4c2a.fts': Permiso denegado\n"
     ]
    },
    {
     "data": {
      "application/vnd.jupyter.widget-view+json": {
       "model_id": "5380fc710f354c88bc82364083a834f1",
       "version_major": 2,
       "version_minor": 0
      },
      "text/plain": [
       "Files Downloaded:   0%|          | 0/1 [00:00<?, ?file/s]"
      ]
     },
     "metadata": {},
     "output_type": "display_data"
    },
    {
     "data": {
      "application/vnd.jupyter.widget-view+json": {
       "model_id": "0bc72d79aad44827854205bd9485c49f",
       "version_major": 2,
       "version_minor": 0
      },
      "text/plain": [
       "20111128_133900_d4c2a.fts:   0%|          | 0.00/8.42M [00:00<?, ?B/s]"
      ]
     },
     "metadata": {},
     "output_type": "display_data"
    },
    {
     "name": "stdout",
     "output_type": "stream",
     "text": [
      "[]\n",
      "El directorio /media/gehme/gehme/data/stereo/secchi/L0/a/img/cor2/20111128/ ya existe\n"
     ]
    },
    {
     "name": "stderr",
     "output_type": "stream",
     "text": [
      "chmod: cambiando los permisos de '/media/gehme/gehme/data/stereo/secchi/L0/a/img/cor2/20111128/': Permiso denegado\n",
      "chmod: cambiando los permisos de '/media/gehme/gehme/data/stereo/secchi/L0/a/img/cor2/20111128/20111128_065400_d4c2a.fts': Permiso denegado\n",
      "chmod: cambiando los permisos de '/media/gehme/gehme/data/stereo/secchi/L0/a/img/cor2/20111128/20111128_195400_d4c2a.fts': Permiso denegado\n",
      "chmod: cambiando los permisos de '/media/gehme/gehme/data/stereo/secchi/L0/a/img/cor2/20111128/20111128_185400_d4c2a.fts': Permiso denegado\n",
      "chmod: cambiando los permisos de '/media/gehme/gehme/data/stereo/secchi/L0/a/img/cor2/20111128/20111128_055400_d4c2a.fts': Permiso denegado\n"
     ]
    },
    {
     "data": {
      "application/vnd.jupyter.widget-view+json": {
       "model_id": "7a47e5cee81a490f9d243d4c4e4d93be",
       "version_major": 2,
       "version_minor": 0
      },
      "text/plain": [
       "Files Downloaded:   0%|          | 0/1 [00:00<?, ?file/s]"
      ]
     },
     "metadata": {},
     "output_type": "display_data"
    },
    {
     "data": {
      "application/vnd.jupyter.widget-view+json": {
       "model_id": "6d55dbb0f4634948bfedab0f06c1118f",
       "version_major": 2,
       "version_minor": 0
      },
      "text/plain": [
       "20111128_135400_d4c2a.fts:   0%|          | 0.00/8.42M [00:00<?, ?B/s]"
      ]
     },
     "metadata": {},
     "output_type": "display_data"
    },
    {
     "name": "stdout",
     "output_type": "stream",
     "text": [
      "[]\n",
      "El directorio /media/gehme/gehme/data/stereo/secchi/L0/a/img/cor2/20111128/ ya existe\n"
     ]
    },
    {
     "name": "stderr",
     "output_type": "stream",
     "text": [
      "chmod: cambiando los permisos de '/media/gehme/gehme/data/stereo/secchi/L0/a/img/cor2/20111128/': Permiso denegado\n",
      "chmod: cambiando los permisos de '/media/gehme/gehme/data/stereo/secchi/L0/a/img/cor2/20111128/20111128_065400_d4c2a.fts': Permiso denegado\n",
      "chmod: cambiando los permisos de '/media/gehme/gehme/data/stereo/secchi/L0/a/img/cor2/20111128/20111128_195400_d4c2a.fts': Permiso denegado\n",
      "chmod: cambiando los permisos de '/media/gehme/gehme/data/stereo/secchi/L0/a/img/cor2/20111128/20111128_185400_d4c2a.fts': Permiso denegado\n",
      "chmod: cambiando los permisos de '/media/gehme/gehme/data/stereo/secchi/L0/a/img/cor2/20111128/20111128_055400_d4c2a.fts': Permiso denegado\n"
     ]
    },
    {
     "data": {
      "application/vnd.jupyter.widget-view+json": {
       "model_id": "ffa3f7c70fc84798b5ab6c0b9cb9d729",
       "version_major": 2,
       "version_minor": 0
      },
      "text/plain": [
       "Files Downloaded:   0%|          | 0/1 [00:00<?, ?file/s]"
      ]
     },
     "metadata": {},
     "output_type": "display_data"
    },
    {
     "name": "stderr",
     "output_type": "stream",
     "text": [
      "Exception ignored in: <function BaseEventLoop.__del__ at 0x7f7d85972170>\n",
      "Traceback (most recent call last):\n",
      "  File \"/home/diegol/anaconda3/envs/new_actual/lib/python3.10/asyncio/base_events.py\", line 687, in __del__\n",
      "    self.close()\n",
      "  File \"/home/diegol/anaconda3/envs/new_actual/lib/python3.10/asyncio/unix_events.py\", line 71, in close\n",
      "    self.remove_signal_handler(sig)\n",
      "  File \"/home/diegol/anaconda3/envs/new_actual/lib/python3.10/asyncio/unix_events.py\", line 160, in remove_signal_handler\n",
      "    signal.signal(sig, handler)\n",
      "  File \"/home/diegol/anaconda3/envs/new_actual/lib/python3.10/signal.py\", line 56, in signal\n",
      "    handler = _signal.signal(_enum_to_int(signalnum), _enum_to_int(handler))\n",
      "ValueError: signal only works in main thread of the main interpreter\n",
      "Exception ignored in: <function BaseEventLoop.__del__ at 0x7f7d85972170>\n",
      "Traceback (most recent call last):\n",
      "  File \"/home/diegol/anaconda3/envs/new_actual/lib/python3.10/asyncio/base_events.py\", line 687, in __del__\n",
      "    self.close()\n",
      "  File \"/home/diegol/anaconda3/envs/new_actual/lib/python3.10/asyncio/unix_events.py\", line 71, in close\n",
      "    self.remove_signal_handler(sig)\n",
      "  File \"/home/diegol/anaconda3/envs/new_actual/lib/python3.10/asyncio/unix_events.py\", line 160, in remove_signal_handler\n",
      "    signal.signal(sig, handler)\n",
      "  File \"/home/diegol/anaconda3/envs/new_actual/lib/python3.10/signal.py\", line 56, in signal\n",
      "    handler = _signal.signal(_enum_to_int(signalnum), _enum_to_int(handler))\n",
      "ValueError: signal only works in main thread of the main interpreter\n",
      "Exception ignored in: <function BaseEventLoop.__del__ at 0x7f7d85972170>\n",
      "Traceback (most recent call last):\n",
      "  File \"/home/diegol/anaconda3/envs/new_actual/lib/python3.10/asyncio/base_events.py\", line 687, in __del__\n",
      "    self.close()\n",
      "  File \"/home/diegol/anaconda3/envs/new_actual/lib/python3.10/asyncio/unix_events.py\", line 71, in close\n",
      "    self.remove_signal_handler(sig)\n",
      "  File \"/home/diegol/anaconda3/envs/new_actual/lib/python3.10/asyncio/unix_events.py\", line 160, in remove_signal_handler\n",
      "    signal.signal(sig, handler)\n",
      "  File \"/home/diegol/anaconda3/envs/new_actual/lib/python3.10/signal.py\", line 56, in signal\n",
      "    handler = _signal.signal(_enum_to_int(signalnum), _enum_to_int(handler))\n",
      "ValueError: signal only works in main thread of the main interpreter\n",
      "Exception ignored in: <function BaseEventLoop.__del__ at 0x7f7d85972170>\n",
      "Traceback (most recent call last):\n",
      "  File \"/home/diegol/anaconda3/envs/new_actual/lib/python3.10/asyncio/base_events.py\", line 687, in __del__\n",
      "    self.close()\n",
      "  File \"/home/diegol/anaconda3/envs/new_actual/lib/python3.10/asyncio/unix_events.py\", line 71, in close\n",
      "    self.remove_signal_handler(sig)\n",
      "  File \"/home/diegol/anaconda3/envs/new_actual/lib/python3.10/asyncio/unix_events.py\", line 160, in remove_signal_handler\n",
      "    signal.signal(sig, handler)\n",
      "  File \"/home/diegol/anaconda3/envs/new_actual/lib/python3.10/signal.py\", line 56, in signal\n",
      "    handler = _signal.signal(_enum_to_int(signalnum), _enum_to_int(handler))\n",
      "ValueError: signal only works in main thread of the main interpreter\n",
      "Exception ignored in: <function BaseEventLoop.__del__ at 0x7f7d85972170>\n",
      "Traceback (most recent call last):\n",
      "  File \"/home/diegol/anaconda3/envs/new_actual/lib/python3.10/asyncio/base_events.py\", line 687, in __del__\n",
      "    self.close()\n",
      "  File \"/home/diegol/anaconda3/envs/new_actual/lib/python3.10/asyncio/unix_events.py\", line 71, in close\n",
      "    self.remove_signal_handler(sig)\n",
      "  File \"/home/diegol/anaconda3/envs/new_actual/lib/python3.10/asyncio/unix_events.py\", line 160, in remove_signal_handler\n",
      "    signal.signal(sig, handler)\n",
      "  File \"/home/diegol/anaconda3/envs/new_actual/lib/python3.10/signal.py\", line 56, in signal\n",
      "    handler = _signal.signal(_enum_to_int(signalnum), _enum_to_int(handler))\n",
      "ValueError: signal only works in main thread of the main interpreter\n",
      "Exception ignored in: <function BaseEventLoop.__del__ at 0x7f7d85972170>\n",
      "Traceback (most recent call last):\n",
      "  File \"/home/diegol/anaconda3/envs/new_actual/lib/python3.10/asyncio/base_events.py\", line 687, in __del__\n",
      "    self.close()\n",
      "  File \"/home/diegol/anaconda3/envs/new_actual/lib/python3.10/asyncio/unix_events.py\", line 71, in close\n",
      "    self.remove_signal_handler(sig)\n",
      "  File \"/home/diegol/anaconda3/envs/new_actual/lib/python3.10/asyncio/unix_events.py\", line 160, in remove_signal_handler\n",
      "    signal.signal(sig, handler)\n",
      "  File \"/home/diegol/anaconda3/envs/new_actual/lib/python3.10/signal.py\", line 56, in signal\n",
      "    handler = _signal.signal(_enum_to_int(signalnum), _enum_to_int(handler))\n",
      "ValueError: signal only works in main thread of the main interpreter\n",
      "Exception ignored in: <function BaseEventLoop.__del__ at 0x7f7d85972170>\n",
      "Traceback (most recent call last):\n",
      "  File \"/home/diegol/anaconda3/envs/new_actual/lib/python3.10/asyncio/base_events.py\", line 687, in __del__\n",
      "    self.close()\n",
      "  File \"/home/diegol/anaconda3/envs/new_actual/lib/python3.10/asyncio/unix_events.py\", line 71, in close\n",
      "    self.remove_signal_handler(sig)\n",
      "  File \"/home/diegol/anaconda3/envs/new_actual/lib/python3.10/asyncio/unix_events.py\", line 160, in remove_signal_handler\n",
      "    signal.signal(sig, handler)\n",
      "  File \"/home/diegol/anaconda3/envs/new_actual/lib/python3.10/signal.py\", line 56, in signal\n",
      "    handler = _signal.signal(_enum_to_int(signalnum), _enum_to_int(handler))\n",
      "ValueError: signal only works in main thread of the main interpreter\n"
     ]
    },
    {
     "data": {
      "application/vnd.jupyter.widget-view+json": {
       "model_id": "a361b83db6f7403e843ab1086b43afb3",
       "version_major": 2,
       "version_minor": 0
      },
      "text/plain": [
       "20111128_142400_d4c2a.fts:   0%|          | 0.00/8.42M [00:00<?, ?B/s]"
      ]
     },
     "metadata": {},
     "output_type": "display_data"
    },
    {
     "name": "stdout",
     "output_type": "stream",
     "text": [
      "[]\n",
      "El directorio /media/gehme/gehme/data/stereo/secchi/L0/a/img/cor2/20111128/ ya existe\n"
     ]
    },
    {
     "name": "stderr",
     "output_type": "stream",
     "text": [
      "chmod: cambiando los permisos de '/media/gehme/gehme/data/stereo/secchi/L0/a/img/cor2/20111128/': Permiso denegado\n",
      "chmod: cambiando los permisos de '/media/gehme/gehme/data/stereo/secchi/L0/a/img/cor2/20111128/20111128_065400_d4c2a.fts': Permiso denegado\n",
      "chmod: cambiando los permisos de '/media/gehme/gehme/data/stereo/secchi/L0/a/img/cor2/20111128/20111128_195400_d4c2a.fts': Permiso denegado\n",
      "chmod: cambiando los permisos de '/media/gehme/gehme/data/stereo/secchi/L0/a/img/cor2/20111128/20111128_185400_d4c2a.fts': Permiso denegado\n",
      "chmod: cambiando los permisos de '/media/gehme/gehme/data/stereo/secchi/L0/a/img/cor2/20111128/20111128_055400_d4c2a.fts': Permiso denegado\n"
     ]
    },
    {
     "data": {
      "application/vnd.jupyter.widget-view+json": {
       "model_id": "c3b707aad2d142658257e5054fd409b9",
       "version_major": 2,
       "version_minor": 0
      },
      "text/plain": [
       "Files Downloaded:   0%|          | 0/1 [00:00<?, ?file/s]"
      ]
     },
     "metadata": {},
     "output_type": "display_data"
    },
    {
     "data": {
      "application/vnd.jupyter.widget-view+json": {
       "model_id": "bb1008e0807640f5b5174a13cec65b28",
       "version_major": 2,
       "version_minor": 0
      },
      "text/plain": [
       "20111128_143900_d4c2a.fts:   0%|          | 0.00/8.42M [00:00<?, ?B/s]"
      ]
     },
     "metadata": {},
     "output_type": "display_data"
    },
    {
     "name": "stdout",
     "output_type": "stream",
     "text": [
      "[]\n",
      "El directorio /media/gehme/gehme/data/stereo/secchi/L0/a/img/cor2/20111128/ ya existe\n"
     ]
    },
    {
     "name": "stderr",
     "output_type": "stream",
     "text": [
      "chmod: cambiando los permisos de '/media/gehme/gehme/data/stereo/secchi/L0/a/img/cor2/20111128/': Permiso denegado\n",
      "chmod: cambiando los permisos de '/media/gehme/gehme/data/stereo/secchi/L0/a/img/cor2/20111128/20111128_065400_d4c2a.fts': Permiso denegado\n",
      "chmod: cambiando los permisos de '/media/gehme/gehme/data/stereo/secchi/L0/a/img/cor2/20111128/20111128_195400_d4c2a.fts': Permiso denegado\n",
      "chmod: cambiando los permisos de '/media/gehme/gehme/data/stereo/secchi/L0/a/img/cor2/20111128/20111128_185400_d4c2a.fts': Permiso denegado\n",
      "chmod: cambiando los permisos de '/media/gehme/gehme/data/stereo/secchi/L0/a/img/cor2/20111128/20111128_055400_d4c2a.fts': Permiso denegado\n"
     ]
    },
    {
     "data": {
      "application/vnd.jupyter.widget-view+json": {
       "model_id": "aaef71a4c0304185bfa1a9fa5c66797d",
       "version_major": 2,
       "version_minor": 0
      },
      "text/plain": [
       "Files Downloaded:   0%|          | 0/1 [00:00<?, ?file/s]"
      ]
     },
     "metadata": {},
     "output_type": "display_data"
    },
    {
     "data": {
      "application/vnd.jupyter.widget-view+json": {
       "model_id": "a5c6f5051ef34092a4e86c9222e550ed",
       "version_major": 2,
       "version_minor": 0
      },
      "text/plain": [
       "20111128_145400_d4c2a.fts:   0%|          | 0.00/8.42M [00:00<?, ?B/s]"
      ]
     },
     "metadata": {},
     "output_type": "display_data"
    },
    {
     "name": "stdout",
     "output_type": "stream",
     "text": [
      "[]\n",
      "El directorio /media/gehme/gehme/data/stereo/secchi/L0/a/img/cor2/20111128/ ya existe\n"
     ]
    },
    {
     "name": "stderr",
     "output_type": "stream",
     "text": [
      "chmod: cambiando los permisos de '/media/gehme/gehme/data/stereo/secchi/L0/a/img/cor2/20111128/': Permiso denegado\n",
      "chmod: cambiando los permisos de '/media/gehme/gehme/data/stereo/secchi/L0/a/img/cor2/20111128/20111128_065400_d4c2a.fts': Permiso denegado\n",
      "chmod: cambiando los permisos de '/media/gehme/gehme/data/stereo/secchi/L0/a/img/cor2/20111128/20111128_195400_d4c2a.fts': Permiso denegado\n",
      "chmod: cambiando los permisos de '/media/gehme/gehme/data/stereo/secchi/L0/a/img/cor2/20111128/20111128_185400_d4c2a.fts': Permiso denegado\n",
      "chmod: cambiando los permisos de '/media/gehme/gehme/data/stereo/secchi/L0/a/img/cor2/20111128/20111128_055400_d4c2a.fts': Permiso denegado\n"
     ]
    },
    {
     "data": {
      "application/vnd.jupyter.widget-view+json": {
       "model_id": "5ff67fca5ec84706aea4fb9638971cba",
       "version_major": 2,
       "version_minor": 0
      },
      "text/plain": [
       "Files Downloaded:   0%|          | 0/1 [00:00<?, ?file/s]"
      ]
     },
     "metadata": {},
     "output_type": "display_data"
    },
    {
     "data": {
      "application/vnd.jupyter.widget-view+json": {
       "model_id": "636a437d3f114b98866f1d9e7299654e",
       "version_major": 2,
       "version_minor": 0
      },
      "text/plain": [
       "20111128_152400_d4c2a.fts:   0%|          | 0.00/8.42M [00:00<?, ?B/s]"
      ]
     },
     "metadata": {},
     "output_type": "display_data"
    },
    {
     "name": "stdout",
     "output_type": "stream",
     "text": [
      "[]\n",
      "El directorio /media/gehme/gehme/data/stereo/secchi/L0/a/img/cor2/20111128/ ya existe\n"
     ]
    },
    {
     "name": "stderr",
     "output_type": "stream",
     "text": [
      "chmod: cambiando los permisos de '/media/gehme/gehme/data/stereo/secchi/L0/a/img/cor2/20111128/': Permiso denegado\n",
      "chmod: cambiando los permisos de '/media/gehme/gehme/data/stereo/secchi/L0/a/img/cor2/20111128/20111128_065400_d4c2a.fts': Permiso denegado\n",
      "chmod: cambiando los permisos de '/media/gehme/gehme/data/stereo/secchi/L0/a/img/cor2/20111128/20111128_195400_d4c2a.fts': Permiso denegado\n",
      "chmod: cambiando los permisos de '/media/gehme/gehme/data/stereo/secchi/L0/a/img/cor2/20111128/20111128_185400_d4c2a.fts': Permiso denegado\n",
      "chmod: cambiando los permisos de '/media/gehme/gehme/data/stereo/secchi/L0/a/img/cor2/20111128/20111128_055400_d4c2a.fts': Permiso denegado\n"
     ]
    },
    {
     "data": {
      "application/vnd.jupyter.widget-view+json": {
       "model_id": "3fc5cdb2974242a89a3c51b0fc7b0fc1",
       "version_major": 2,
       "version_minor": 0
      },
      "text/plain": [
       "Files Downloaded:   0%|          | 0/1 [00:00<?, ?file/s]"
      ]
     },
     "metadata": {},
     "output_type": "display_data"
    },
    {
     "data": {
      "application/vnd.jupyter.widget-view+json": {
       "model_id": "a162ef6e43894295a86dbab829c5033e",
       "version_major": 2,
       "version_minor": 0
      },
      "text/plain": [
       "20111128_153900_d4c2a.fts:   0%|          | 0.00/8.42M [00:00<?, ?B/s]"
      ]
     },
     "metadata": {},
     "output_type": "display_data"
    },
    {
     "name": "stdout",
     "output_type": "stream",
     "text": [
      "[]\n",
      "El directorio /media/gehme/gehme/data/stereo/secchi/L0/a/img/cor2/20111128/ ya existe\n"
     ]
    },
    {
     "name": "stderr",
     "output_type": "stream",
     "text": [
      "chmod: cambiando los permisos de '/media/gehme/gehme/data/stereo/secchi/L0/a/img/cor2/20111128/': Permiso denegado\n",
      "chmod: cambiando los permisos de '/media/gehme/gehme/data/stereo/secchi/L0/a/img/cor2/20111128/20111128_065400_d4c2a.fts': Permiso denegado\n",
      "chmod: cambiando los permisos de '/media/gehme/gehme/data/stereo/secchi/L0/a/img/cor2/20111128/20111128_195400_d4c2a.fts': Permiso denegado\n",
      "chmod: cambiando los permisos de '/media/gehme/gehme/data/stereo/secchi/L0/a/img/cor2/20111128/20111128_185400_d4c2a.fts': Permiso denegado\n",
      "chmod: cambiando los permisos de '/media/gehme/gehme/data/stereo/secchi/L0/a/img/cor2/20111128/20111128_055400_d4c2a.fts': Permiso denegado\n"
     ]
    },
    {
     "data": {
      "application/vnd.jupyter.widget-view+json": {
       "model_id": "e68fb14288954b4c8be2b9c2a824890b",
       "version_major": 2,
       "version_minor": 0
      },
      "text/plain": [
       "Files Downloaded:   0%|          | 0/1 [00:00<?, ?file/s]"
      ]
     },
     "metadata": {},
     "output_type": "display_data"
    },
    {
     "data": {
      "application/vnd.jupyter.widget-view+json": {
       "model_id": "829039929cd3413e9c2a52a744bd77a5",
       "version_major": 2,
       "version_minor": 0
      },
      "text/plain": [
       "20111128_155400_d4c2a.fts:   0%|          | 0.00/8.42M [00:00<?, ?B/s]"
      ]
     },
     "metadata": {},
     "output_type": "display_data"
    },
    {
     "name": "stdout",
     "output_type": "stream",
     "text": [
      "[]\n",
      "El directorio /media/gehme/gehme/data/stereo/secchi/L0/a/img/cor2/20111128/ ya existe\n"
     ]
    },
    {
     "name": "stderr",
     "output_type": "stream",
     "text": [
      "chmod: cambiando los permisos de '/media/gehme/gehme/data/stereo/secchi/L0/a/img/cor2/20111128/': Permiso denegado\n",
      "chmod: cambiando los permisos de '/media/gehme/gehme/data/stereo/secchi/L0/a/img/cor2/20111128/20111128_065400_d4c2a.fts': Permiso denegado\n",
      "chmod: cambiando los permisos de '/media/gehme/gehme/data/stereo/secchi/L0/a/img/cor2/20111128/20111128_195400_d4c2a.fts': Permiso denegado\n",
      "chmod: cambiando los permisos de '/media/gehme/gehme/data/stereo/secchi/L0/a/img/cor2/20111128/20111128_185400_d4c2a.fts': Permiso denegado\n",
      "chmod: cambiando los permisos de '/media/gehme/gehme/data/stereo/secchi/L0/a/img/cor2/20111128/20111128_055400_d4c2a.fts': Permiso denegado\n"
     ]
    },
    {
     "data": {
      "application/vnd.jupyter.widget-view+json": {
       "model_id": "0f24e6dc4727468b85311653de2ec5d0",
       "version_major": 2,
       "version_minor": 0
      },
      "text/plain": [
       "Files Downloaded:   0%|          | 0/1 [00:00<?, ?file/s]"
      ]
     },
     "metadata": {},
     "output_type": "display_data"
    },
    {
     "data": {
      "application/vnd.jupyter.widget-view+json": {
       "model_id": "c663348748f544bdbdcfb9df77eff4fd",
       "version_major": 2,
       "version_minor": 0
      },
      "text/plain": [
       "20111128_162400_d4c2a.fts:   0%|          | 0.00/8.42M [00:00<?, ?B/s]"
      ]
     },
     "metadata": {},
     "output_type": "display_data"
    },
    {
     "name": "stdout",
     "output_type": "stream",
     "text": [
      "[]\n",
      "El directorio /media/gehme/gehme/data/stereo/secchi/L0/a/img/cor2/20111128/ ya existe\n"
     ]
    },
    {
     "name": "stderr",
     "output_type": "stream",
     "text": [
      "chmod: cambiando los permisos de '/media/gehme/gehme/data/stereo/secchi/L0/a/img/cor2/20111128/': Permiso denegado\n",
      "chmod: cambiando los permisos de '/media/gehme/gehme/data/stereo/secchi/L0/a/img/cor2/20111128/20111128_065400_d4c2a.fts': Permiso denegado\n",
      "chmod: cambiando los permisos de '/media/gehme/gehme/data/stereo/secchi/L0/a/img/cor2/20111128/20111128_195400_d4c2a.fts': Permiso denegado\n",
      "chmod: cambiando los permisos de '/media/gehme/gehme/data/stereo/secchi/L0/a/img/cor2/20111128/20111128_185400_d4c2a.fts': Permiso denegado\n",
      "chmod: cambiando los permisos de '/media/gehme/gehme/data/stereo/secchi/L0/a/img/cor2/20111128/20111128_055400_d4c2a.fts': Permiso denegado\n"
     ]
    },
    {
     "data": {
      "application/vnd.jupyter.widget-view+json": {
       "model_id": "622b21409578427da19f956c88518bc5",
       "version_major": 2,
       "version_minor": 0
      },
      "text/plain": [
       "Files Downloaded:   0%|          | 0/1 [00:00<?, ?file/s]"
      ]
     },
     "metadata": {},
     "output_type": "display_data"
    },
    {
     "data": {
      "application/vnd.jupyter.widget-view+json": {
       "model_id": "ded4dc749abc438cbb62cbe05343c9f4",
       "version_major": 2,
       "version_minor": 0
      },
      "text/plain": [
       "20111128_163900_d4c2a.fts:   0%|          | 0.00/8.42M [00:00<?, ?B/s]"
      ]
     },
     "metadata": {},
     "output_type": "display_data"
    },
    {
     "name": "stdout",
     "output_type": "stream",
     "text": [
      "[]\n",
      "Archivos descargados en: /media/gehme/gehme/data/stereo/secchi/L0/a/img/cor2/20111128/\n"
     ]
    },
    {
     "name": "stderr",
     "output_type": "stream",
     "text": [
      "chmod: cambiando los permisos de '/media/gehme/gehme/data/stereo/secchi/L0/a/img/cor2/20111128/': Permiso denegado\n",
      "chmod: cambiando los permisos de '/media/gehme/gehme/data/stereo/secchi/L0/a/img/cor2/20111128/20111128_065400_d4c2a.fts': Permiso denegado\n",
      "chmod: cambiando los permisos de '/media/gehme/gehme/data/stereo/secchi/L0/a/img/cor2/20111128/20111128_195400_d4c2a.fts': Permiso denegado\n",
      "chmod: cambiando los permisos de '/media/gehme/gehme/data/stereo/secchi/L0/a/img/cor2/20111128/20111128_185400_d4c2a.fts': Permiso denegado\n",
      "chmod: cambiando los permisos de '/media/gehme/gehme/data/stereo/secchi/L0/a/img/cor2/20111128/20111128_055400_d4c2a.fts': Permiso denegado\n"
     ]
    }
   ],
   "source": [
    "cor2_images.download()"
   ]
  }
 ],
 "metadata": {
  "kernelspec": {
   "display_name": "new_actual",
   "language": "python",
   "name": "python3"
  },
  "language_info": {
   "codemirror_mode": {
    "name": "ipython",
    "version": 3
   },
   "file_extension": ".py",
   "mimetype": "text/x-python",
   "name": "python",
   "nbconvert_exporter": "python",
   "pygments_lexer": "ipython3",
   "version": "3.10.6"
  }
 },
 "nbformat": 4,
 "nbformat_minor": 2
}
