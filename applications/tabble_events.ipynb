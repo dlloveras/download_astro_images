{
 "cells": [
  {
   "cell_type": "code",
   "execution_count": 1,
   "metadata": {},
   "outputs": [],
   "source": [
    "import pandas as pd\n",
    "\n",
    "class EventManager:\n",
    "    def __init__(self):\n",
    "        self.events = pd.DataFrame(columns=['EventName', 'T0_LascoC2', 'Tf_LascoC2', 'CME_vel_C2','T0_Cor1A', 'Tf_Cor1A', 'T0_Cor2A', 'Tf_Cor2A',\n",
    "                                            'T0_Cor1B', 'Tf_Cor1B', 'T0_Cor2B', 'Tf_Cor2B' ,'T0_Hi1','Tf_Hi1','GCS_parameters'], index=None)\n",
    "\n",
    "    def add_event(self, event_name, T0_LascoC2='', Tf_LascoC2='',T0_LascoC3='', Tf_LascoC3='',CME_vel_C2='',T0_Cor1A='',Tf_Cor1A='',T0_Cor2A='',Tf_Cor2A='',\n",
    "                T0_Cor1B='', Tf_Cor1B='', T0_Cor2B='', Tf_Cor2B='',T0_Hi1='',Tf_Hi1='',Comments='',GCS_parameters='',CR=''):\n",
    "        new_event = pd.DataFrame({'EventName': [event_name],\n",
    "                                'T0_LascoC2': [T0_LascoC2],\n",
    "                                'Tf_LascoC2': [Tf_LascoC2],\n",
    "                                'T0_LascoC3': [T0_LascoC3],\n",
    "                                'Tf_LascoC3': [Tf_LascoC3],\n",
    "                                'CME_vel_C2': [CME_vel_C2],#[km/s]\n",
    "                                'T0_Cor1A': [T0_Cor1A],\n",
    "                                'Tf_Cor1A': [Tf_Cor1A],\n",
    "                                'T0_Cor2A': [T0_Cor2A],\n",
    "                                'Tf_Cor2A': [Tf_Cor2A],\n",
    "                                'T0_Cor1B': [T0_Cor1B],\n",
    "                                'Tf_Cor1B': [Tf_Cor1B],\n",
    "                                'T0_Cor2B': [T0_Cor2B],\n",
    "                                'Tf_Cor2B': [Tf_Cor2B],\n",
    "                                'T0_Hi1': [T0_Hi1],\n",
    "                                'Tf_Hi1': [Tf_Hi1],\n",
    "                                'Comments': [Comments],\n",
    "                                'CR': [CR],\n",
    "                                'GCS_parameters': [GCS_parameters]\n",
    "                                })\n",
    "        self.events = pd.concat([self.events, new_event], ignore_index=True)\n",
    "\n",
    "    def get_events(self):\n",
    "        return self.events\n",
    "    \n",
    "    def save_to_csv(self, filename):\n",
    "        self.events.to_csv(filename)#, index=False)\n"
   ]
  },
  {
   "cell_type": "code",
   "execution_count": 2,
   "metadata": {},
   "outputs": [
    {
     "data": {
      "text/html": [
       "<div>\n",
       "<style scoped>\n",
       "    .dataframe tbody tr th:only-of-type {\n",
       "        vertical-align: middle;\n",
       "    }\n",
       "\n",
       "    .dataframe tbody tr th {\n",
       "        vertical-align: top;\n",
       "    }\n",
       "\n",
       "    .dataframe thead th {\n",
       "        text-align: right;\n",
       "    }\n",
       "</style>\n",
       "<table border=\"1\" class=\"dataframe\">\n",
       "  <thead>\n",
       "    <tr style=\"text-align: right;\">\n",
       "      <th></th>\n",
       "      <th>EventName</th>\n",
       "      <th>T0_LascoC2</th>\n",
       "      <th>Tf_LascoC2</th>\n",
       "      <th>CME_vel_C2</th>\n",
       "      <th>T0_Cor1A</th>\n",
       "      <th>Tf_Cor1A</th>\n",
       "      <th>T0_Cor2A</th>\n",
       "      <th>Tf_Cor2A</th>\n",
       "      <th>T0_Cor1B</th>\n",
       "      <th>Tf_Cor1B</th>\n",
       "      <th>T0_Cor2B</th>\n",
       "      <th>Tf_Cor2B</th>\n",
       "      <th>T0_Hi1</th>\n",
       "      <th>Tf_Hi1</th>\n",
       "      <th>GCS_parameters</th>\n",
       "      <th>T0_LascoC3</th>\n",
       "      <th>Tf_LascoC3</th>\n",
       "      <th>Comments</th>\n",
       "      <th>CR</th>\n",
       "    </tr>\n",
       "  </thead>\n",
       "  <tbody>\n",
       "    <tr>\n",
       "      <th>0</th>\n",
       "      <td>Chip_event_01</td>\n",
       "      <td>2010-04-03 09:00:00</td>\n",
       "      <td>2010-04-03 11:40:00</td>\n",
       "      <td>668</td>\n",
       "      <td>2010-04-03 09:05:00</td>\n",
       "      <td>2010-04-03 09:55:00</td>\n",
       "      <td>2010-04-03 09:00:00</td>\n",
       "      <td>2010-04-03 12:40:00</td>\n",
       "      <td>2010-04-03 09:05:00</td>\n",
       "      <td>2010-04-03 09:55:00</td>\n",
       "      <td>2010-04-03 09:00:00</td>\n",
       "      <td>2010-04-03 12:40:00</td>\n",
       "      <td></td>\n",
       "      <td></td>\n",
       "      <td></td>\n",
       "      <td>2010-04-03 09:50:00</td>\n",
       "      <td>2010-04-03 17:50:00</td>\n",
       "      <td>Sta y Stb  casi en cuadratura points of view -...</td>\n",
       "      <td>CR2095</td>\n",
       "    </tr>\n",
       "    <tr>\n",
       "      <th>1</th>\n",
       "      <td>Chip_event_02</td>\n",
       "      <td>2011-02-15 02:00:00</td>\n",
       "      <td>2011-02-15 04:20:00</td>\n",
       "      <td>669</td>\n",
       "      <td>2011-02-15 01:55:00</td>\n",
       "      <td>2011-02-15 02:15:00</td>\n",
       "      <td>2011-02-14 17:30:00</td>\n",
       "      <td>2011-02-15 05:30:00</td>\n",
       "      <td>2011-02-15 01:55:00</td>\n",
       "      <td>2011-02-15 02:15:00</td>\n",
       "      <td>2011-02-14 17:30:00</td>\n",
       "      <td>2011-02-15 05:30:00</td>\n",
       "      <td></td>\n",
       "      <td></td>\n",
       "      <td></td>\n",
       "      <td>2011-02-15 02:20:00</td>\n",
       "      <td>2011-02-15 12:10:00</td>\n",
       "      <td>Sta y Stb en cuadratura  points of view -&gt;  EU...</td>\n",
       "      <td>Entre CR2106 y CR2107</td>\n",
       "    </tr>\n",
       "    <tr>\n",
       "      <th>2</th>\n",
       "      <td>Chip_event_03</td>\n",
       "      <td>2012-07-12 16:20:00</td>\n",
       "      <td>2012-07-12 20:10:00</td>\n",
       "      <td>885</td>\n",
       "      <td>2012-07-12 16:15:00</td>\n",
       "      <td>2012-07-12 16:50:00</td>\n",
       "      <td>2012-07-12 16:20:00</td>\n",
       "      <td>2012-07-12 18:54:00</td>\n",
       "      <td>2012-07-12 16:15:00</td>\n",
       "      <td>2012-07-12 16:50:00</td>\n",
       "      <td>2012-07-12 16:20:00</td>\n",
       "      <td>2012-07-12 18:54:00</td>\n",
       "      <td></td>\n",
       "      <td></td>\n",
       "      <td></td>\n",
       "      <td>2012-07-12 17:10:00</td>\n",
       "      <td>2012-07-12 23:30:00</td>\n",
       "      <td>Sta y Stb casi en cuadratura  points of view -...</td>\n",
       "      <td>Entre 2125 y 2126</td>\n",
       "    </tr>\n",
       "    <tr>\n",
       "      <th>3</th>\n",
       "      <td>Chip_event_04</td>\n",
       "      <td>2013-03-15 06:30:00</td>\n",
       "      <td>2013-03-15 08:00:00</td>\n",
       "      <td>1063</td>\n",
       "      <td>2013-03-15 06:15:00</td>\n",
       "      <td>2013-03-15 06:50:00</td>\n",
       "      <td>2013-03-15 06:20:00</td>\n",
       "      <td>2013-03-15 09:40:00</td>\n",
       "      <td>2013-03-15 06:16:00</td>\n",
       "      <td>2013-03-15 06:50:00</td>\n",
       "      <td>2013-03-15 06:20:00</td>\n",
       "      <td>2013-03-15 09:40:00</td>\n",
       "      <td></td>\n",
       "      <td></td>\n",
       "      <td></td>\n",
       "      <td>2013-03-15 07:10:00</td>\n",
       "      <td>2013-03-15 14:00:00</td>\n",
       "      <td>points of view -&gt;  EUVI+Cor1/2+LascoC2</td>\n",
       "      <td>Entre CR2134 y CR2135</td>\n",
       "    </tr>\n",
       "    <tr>\n",
       "      <th>4</th>\n",
       "      <td>Chip_event_05</td>\n",
       "      <td>2013-04-11 06:48:00</td>\n",
       "      <td>2013-04-11 08:00:00</td>\n",
       "      <td>861</td>\n",
       "      <td>2013-04-11 07:00:00</td>\n",
       "      <td>2013-04-11 07:25:00</td>\n",
       "      <td>2013-04-11 07:24:00</td>\n",
       "      <td>2013-04-11 09:24:00</td>\n",
       "      <td>2013-04-11 07:00:00</td>\n",
       "      <td>2013-04-11 07:25:00</td>\n",
       "      <td>2013-04-11 07:24:00</td>\n",
       "      <td>2013-04-11 09:24:00</td>\n",
       "      <td></td>\n",
       "      <td></td>\n",
       "      <td></td>\n",
       "      <td></td>\n",
       "      <td></td>\n",
       "      <td>Sta Halo en direccion opuesta. stb ok. lasco h...</td>\n",
       "      <td>Entre CR2135 y CR2136</td>\n",
       "    </tr>\n",
       "    <tr>\n",
       "      <th>5</th>\n",
       "      <td>Chip_event_06</td>\n",
       "      <td>2013-09-29 21:36:00</td>\n",
       "      <td>2013-09-29 23:36:00</td>\n",
       "      <td>1179</td>\n",
       "      <td>2013-09-29 21:36:00</td>\n",
       "      <td>2013-09-29 22:20:00</td>\n",
       "      <td>2013-09-29 21:50:00</td>\n",
       "      <td>2013-09-30 02:30:00</td>\n",
       "      <td>2013-09-29 21:36:00</td>\n",
       "      <td>2013-09-29 22:20:00</td>\n",
       "      <td>2013-09-29 21:50:00</td>\n",
       "      <td>2013-09-30 02:30:00</td>\n",
       "      <td></td>\n",
       "      <td></td>\n",
       "      <td></td>\n",
       "      <td>2013-09-29 22:30:00</td>\n",
       "      <td>2013-09-30 03:30:00</td>\n",
       "      <td>sta ok. stb halo en direccion opuesta. lasco h...</td>\n",
       "      <td>Entre CR2142 y CR2144</td>\n",
       "    </tr>\n",
       "    <tr>\n",
       "      <th>6</th>\n",
       "      <td>Chip_event_07</td>\n",
       "      <td>2022-09-05 16:12:00</td>\n",
       "      <td>2022-09-05 16:48:00</td>\n",
       "      <td>2776</td>\n",
       "      <td>2022-09-05 16:10:00</td>\n",
       "      <td>2022-09-05 16:30:00</td>\n",
       "      <td>2022-09-05 16:24:00</td>\n",
       "      <td>2022-09-05 17:24:00</td>\n",
       "      <td>No Data</td>\n",
       "      <td>No Data</td>\n",
       "      <td>No Data</td>\n",
       "      <td>No Data</td>\n",
       "      <td></td>\n",
       "      <td></td>\n",
       "      <td></td>\n",
       "      <td></td>\n",
       "      <td></td>\n",
       "      <td>sta y lasco muy juntas, ven halo en direccion ...</td>\n",
       "      <td>CR2261</td>\n",
       "    </tr>\n",
       "    <tr>\n",
       "      <th>7</th>\n",
       "      <td>Chip_event_08</td>\n",
       "      <td>2014-09-10 17:40:00</td>\n",
       "      <td>2014-09-10 18:40:00</td>\n",
       "      <td>1179</td>\n",
       "      <td>No Data</td>\n",
       "      <td>No Data</td>\n",
       "      <td>No Data</td>\n",
       "      <td>No Data</td>\n",
       "      <td></td>\n",
       "      <td></td>\n",
       "      <td>2014-09-10 17:50:00</td>\n",
       "      <td>2014-09-10 20:30:00</td>\n",
       "      <td></td>\n",
       "      <td></td>\n",
       "      <td></td>\n",
       "      <td>2014-09-10 17:40:00</td>\n",
       "      <td>2014-09-10 21:40:00</td>\n",
       "      <td>sta sin telemetria. stb,C2 y C3 halo.</td>\n",
       "      <td></td>\n",
       "    </tr>\n",
       "    <tr>\n",
       "      <th>8</th>\n",
       "      <td>Chip_event_09</td>\n",
       "      <td>2015-03-15 01:30:00</td>\n",
       "      <td>2015-03-15 03:30:00</td>\n",
       "      <td>1179</td>\n",
       "      <td>No Data</td>\n",
       "      <td>No Data</td>\n",
       "      <td>No Data</td>\n",
       "      <td>No Data</td>\n",
       "      <td>No Data</td>\n",
       "      <td>No Data</td>\n",
       "      <td>No Data</td>\n",
       "      <td>No Data</td>\n",
       "      <td></td>\n",
       "      <td></td>\n",
       "      <td></td>\n",
       "      <td>2015-03-15 02:30:00</td>\n",
       "      <td>2015-03-15 07:30:00</td>\n",
       "      <td>sta sin telemetria y stb ya habia dejado de fu...</td>\n",
       "      <td></td>\n",
       "    </tr>\n",
       "    <tr>\n",
       "      <th>9</th>\n",
       "      <td>Chip_event_10</td>\n",
       "      <td>2017-04-14 00:10:00</td>\n",
       "      <td>2017-04-14 02:40:00</td>\n",
       "      <td>1179</td>\n",
       "      <td>2017-04-14 01:10:00</td>\n",
       "      <td>2017-04-14 02:30:00</td>\n",
       "      <td>2017-04-14 01:40:00</td>\n",
       "      <td>2017-04-14 04:00:00</td>\n",
       "      <td>No Data</td>\n",
       "      <td>No Data</td>\n",
       "      <td>No Data</td>\n",
       "      <td>No Data</td>\n",
       "      <td></td>\n",
       "      <td></td>\n",
       "      <td></td>\n",
       "      <td>2017-04-14 04:40:00</td>\n",
       "      <td>2017-04-14 05:10:00</td>\n",
       "      <td>C2,C3 y sta ven practicamente un Halo, pero qu...</td>\n",
       "      <td></td>\n",
       "    </tr>\n",
       "    <tr>\n",
       "      <th>10</th>\n",
       "      <td>Leo_event_01</td>\n",
       "      <td>2010-06-16 12:54:00</td>\n",
       "      <td>2010-06-16 20:56:00</td>\n",
       "      <td>236</td>\n",
       "      <td>2010-06-16 07:25:00</td>\n",
       "      <td>2010-06-16 11:55:00</td>\n",
       "      <td>2010-06-16 09:54:00</td>\n",
       "      <td>2010-06-16 20:24:00</td>\n",
       "      <td>2010-06-16 07:25:00</td>\n",
       "      <td>2010-06-16 11:55:00</td>\n",
       "      <td>2010-06-16 09:54:00</td>\n",
       "      <td>2010-06-16 20:24:00</td>\n",
       "      <td></td>\n",
       "      <td></td>\n",
       "      <td></td>\n",
       "      <td></td>\n",
       "      <td></td>\n",
       "      <td>cor2a/b ok. poca visivilidad en Lasco-C2.</td>\n",
       "      <td>Entre CR 2097 y CR 2098</td>\n",
       "    </tr>\n",
       "    <tr>\n",
       "      <th>11</th>\n",
       "      <td>Leo_event_02</td>\n",
       "      <td>2011-06-14 05:12:00</td>\n",
       "      <td>2011-06-14 09:24:00</td>\n",
       "      <td>571</td>\n",
       "      <td>2011-06-14 04:13:00</td>\n",
       "      <td>2011-06-14 08:05:00</td>\n",
       "      <td>2011-06-14 06:54:00</td>\n",
       "      <td>2011-06-14 11:39:00</td>\n",
       "      <td>2011-06-14 04:13:00</td>\n",
       "      <td>2011-06-14 08:05:00</td>\n",
       "      <td>2011-06-14 06:54:00</td>\n",
       "      <td>2011-06-14 11:39:00</td>\n",
       "      <td></td>\n",
       "      <td></td>\n",
       "      <td></td>\n",
       "      <td></td>\n",
       "      <td></td>\n",
       "      <td>Cor2a/b ok. PA en Lasco-C2.</td>\n",
       "      <td>CR2111</td>\n",
       "    </tr>\n",
       "    <tr>\n",
       "      <th>12</th>\n",
       "      <td>Diego_event_01</td>\n",
       "      <td></td>\n",
       "      <td></td>\n",
       "      <td></td>\n",
       "      <td></td>\n",
       "      <td></td>\n",
       "      <td></td>\n",
       "      <td></td>\n",
       "      <td></td>\n",
       "      <td></td>\n",
       "      <td></td>\n",
       "      <td></td>\n",
       "      <td></td>\n",
       "      <td></td>\n",
       "      <td></td>\n",
       "      <td></td>\n",
       "      <td></td>\n",
       "      <td></td>\n",
       "      <td></td>\n",
       "    </tr>\n",
       "  </tbody>\n",
       "</table>\n",
       "</div>"
      ],
      "text/plain": [
       "         EventName           T0_LascoC2           Tf_LascoC2 CME_vel_C2  \\\n",
       "0    Chip_event_01  2010-04-03 09:00:00  2010-04-03 11:40:00        668   \n",
       "1    Chip_event_02  2011-02-15 02:00:00  2011-02-15 04:20:00        669   \n",
       "2    Chip_event_03  2012-07-12 16:20:00  2012-07-12 20:10:00        885   \n",
       "3    Chip_event_04  2013-03-15 06:30:00  2013-03-15 08:00:00       1063   \n",
       "4    Chip_event_05  2013-04-11 06:48:00  2013-04-11 08:00:00        861   \n",
       "5    Chip_event_06  2013-09-29 21:36:00  2013-09-29 23:36:00       1179   \n",
       "6    Chip_event_07  2022-09-05 16:12:00  2022-09-05 16:48:00       2776   \n",
       "7    Chip_event_08  2014-09-10 17:40:00  2014-09-10 18:40:00       1179   \n",
       "8    Chip_event_09  2015-03-15 01:30:00  2015-03-15 03:30:00       1179   \n",
       "9    Chip_event_10  2017-04-14 00:10:00  2017-04-14 02:40:00       1179   \n",
       "10    Leo_event_01  2010-06-16 12:54:00  2010-06-16 20:56:00        236   \n",
       "11    Leo_event_02  2011-06-14 05:12:00  2011-06-14 09:24:00        571   \n",
       "12  Diego_event_01                                                        \n",
       "\n",
       "               T0_Cor1A             Tf_Cor1A             T0_Cor2A  \\\n",
       "0   2010-04-03 09:05:00  2010-04-03 09:55:00  2010-04-03 09:00:00   \n",
       "1   2011-02-15 01:55:00  2011-02-15 02:15:00  2011-02-14 17:30:00   \n",
       "2   2012-07-12 16:15:00  2012-07-12 16:50:00  2012-07-12 16:20:00   \n",
       "3   2013-03-15 06:15:00  2013-03-15 06:50:00  2013-03-15 06:20:00   \n",
       "4   2013-04-11 07:00:00  2013-04-11 07:25:00  2013-04-11 07:24:00   \n",
       "5   2013-09-29 21:36:00  2013-09-29 22:20:00  2013-09-29 21:50:00   \n",
       "6   2022-09-05 16:10:00  2022-09-05 16:30:00  2022-09-05 16:24:00   \n",
       "7               No Data              No Data              No Data   \n",
       "8               No Data              No Data              No Data   \n",
       "9   2017-04-14 01:10:00  2017-04-14 02:30:00  2017-04-14 01:40:00   \n",
       "10  2010-06-16 07:25:00  2010-06-16 11:55:00  2010-06-16 09:54:00   \n",
       "11  2011-06-14 04:13:00  2011-06-14 08:05:00  2011-06-14 06:54:00   \n",
       "12                                                                  \n",
       "\n",
       "               Tf_Cor2A             T0_Cor1B             Tf_Cor1B  \\\n",
       "0   2010-04-03 12:40:00  2010-04-03 09:05:00  2010-04-03 09:55:00   \n",
       "1   2011-02-15 05:30:00  2011-02-15 01:55:00  2011-02-15 02:15:00   \n",
       "2   2012-07-12 18:54:00  2012-07-12 16:15:00  2012-07-12 16:50:00   \n",
       "3   2013-03-15 09:40:00  2013-03-15 06:16:00  2013-03-15 06:50:00   \n",
       "4   2013-04-11 09:24:00  2013-04-11 07:00:00  2013-04-11 07:25:00   \n",
       "5   2013-09-30 02:30:00  2013-09-29 21:36:00  2013-09-29 22:20:00   \n",
       "6   2022-09-05 17:24:00              No Data              No Data   \n",
       "7               No Data                                             \n",
       "8               No Data              No Data              No Data   \n",
       "9   2017-04-14 04:00:00              No Data              No Data   \n",
       "10  2010-06-16 20:24:00  2010-06-16 07:25:00  2010-06-16 11:55:00   \n",
       "11  2011-06-14 11:39:00  2011-06-14 04:13:00  2011-06-14 08:05:00   \n",
       "12                                                                  \n",
       "\n",
       "               T0_Cor2B             Tf_Cor2B T0_Hi1 Tf_Hi1 GCS_parameters  \\\n",
       "0   2010-04-03 09:00:00  2010-04-03 12:40:00                                \n",
       "1   2011-02-14 17:30:00  2011-02-15 05:30:00                                \n",
       "2   2012-07-12 16:20:00  2012-07-12 18:54:00                                \n",
       "3   2013-03-15 06:20:00  2013-03-15 09:40:00                                \n",
       "4   2013-04-11 07:24:00  2013-04-11 09:24:00                                \n",
       "5   2013-09-29 21:50:00  2013-09-30 02:30:00                                \n",
       "6               No Data              No Data                                \n",
       "7   2014-09-10 17:50:00  2014-09-10 20:30:00                                \n",
       "8               No Data              No Data                                \n",
       "9               No Data              No Data                                \n",
       "10  2010-06-16 09:54:00  2010-06-16 20:24:00                                \n",
       "11  2011-06-14 06:54:00  2011-06-14 11:39:00                                \n",
       "12                                                                          \n",
       "\n",
       "             T0_LascoC3           Tf_LascoC3  \\\n",
       "0   2010-04-03 09:50:00  2010-04-03 17:50:00   \n",
       "1   2011-02-15 02:20:00  2011-02-15 12:10:00   \n",
       "2   2012-07-12 17:10:00  2012-07-12 23:30:00   \n",
       "3   2013-03-15 07:10:00  2013-03-15 14:00:00   \n",
       "4                                              \n",
       "5   2013-09-29 22:30:00  2013-09-30 03:30:00   \n",
       "6                                              \n",
       "7   2014-09-10 17:40:00  2014-09-10 21:40:00   \n",
       "8   2015-03-15 02:30:00  2015-03-15 07:30:00   \n",
       "9   2017-04-14 04:40:00  2017-04-14 05:10:00   \n",
       "10                                             \n",
       "11                                             \n",
       "12                                             \n",
       "\n",
       "                                             Comments                       CR  \n",
       "0   Sta y Stb  casi en cuadratura points of view -...                   CR2095  \n",
       "1   Sta y Stb en cuadratura  points of view ->  EU...    Entre CR2106 y CR2107  \n",
       "2   Sta y Stb casi en cuadratura  points of view -...        Entre 2125 y 2126  \n",
       "3              points of view ->  EUVI+Cor1/2+LascoC2    Entre CR2134 y CR2135  \n",
       "4   Sta Halo en direccion opuesta. stb ok. lasco h...    Entre CR2135 y CR2136  \n",
       "5   sta ok. stb halo en direccion opuesta. lasco h...    Entre CR2142 y CR2144  \n",
       "6   sta y lasco muy juntas, ven halo en direccion ...                   CR2261  \n",
       "7               sta sin telemetria. stb,C2 y C3 halo.                           \n",
       "8   sta sin telemetria y stb ya habia dejado de fu...                           \n",
       "9   C2,C3 y sta ven practicamente un Halo, pero qu...                           \n",
       "10          cor2a/b ok. poca visivilidad en Lasco-C2.  Entre CR 2097 y CR 2098  \n",
       "11                        Cor2a/b ok. PA en Lasco-C2.                   CR2111  \n",
       "12                                                                              "
      ]
     },
     "execution_count": 2,
     "metadata": {},
     "output_type": "execute_result"
    }
   ],
   "source": [
    "table_events = EventManager()\n",
    "table_events.add_event('Chip_event_01', \n",
    "                       T0_LascoC2='2010-04-03 09:00:00',Tf_LascoC2='2010-04-03 11:40:00',CME_vel_C2='668',\n",
    "                       T0_LascoC3='2010-04-03 09:50:00',Tf_LascoC3='2010-04-03 17:50:00',\n",
    "                       T0_Cor1A='2010-04-03 09:05:00',Tf_Cor1A='2010-04-03 09:55:00',\n",
    "                       T0_Cor2A='2010-04-03 09:00:00',Tf_Cor2A='2010-04-03 12:40:00',\n",
    "                       T0_Cor1B='2010-04-03 09:05:00',Tf_Cor1B='2010-04-03 09:55:00',\n",
    "                       T0_Cor2B='2010-04-03 09:00:00',Tf_Cor2B='2010-04-03 12:40:00',\n",
    "                       T0_Hi1='',Tf_Hi1='',\n",
    "                       Comments='Sta y Stb  casi en cuadratura points of view ->  EUVI+Cor1/2+LascoC2.',\n",
    "                       CR='CR2095',\n",
    "                       GCS_parameters='')\n",
    "table_events.add_event('Chip_event_02', \n",
    "                       T0_LascoC2='2011-02-15 02:00:00',Tf_LascoC2='2011-02-15 04:20:00', CME_vel_C2='669',\n",
    "                       T0_LascoC3='2011-02-15 02:20:00',Tf_LascoC3='2011-02-15 12:10:00',\n",
    "                       T0_Cor1A='2011-02-15 01:55:00',Tf_Cor1A='2011-02-15 02:15:00',\n",
    "                       T0_Cor2A='2011-02-14 17:30:00',Tf_Cor2A='2011-02-15 05:30:00',\n",
    "                       T0_Cor1B='2011-02-15 01:55:00',Tf_Cor1B='2011-02-15 02:15:00',\n",
    "                       T0_Cor2B='2011-02-14 17:30:00',Tf_Cor2B='2011-02-15 05:30:00',\n",
    "                       T0_Hi1='',Tf_Hi1='',\n",
    "                       Comments='Sta y Stb en cuadratura  points of view ->  EUVI+Cor1/2+LascoC2',\n",
    "                       CR='Entre CR2106 y CR2107',\n",
    "                       GCS_parameters='')\n",
    "table_events.add_event('Chip_event_03', \n",
    "                       T0_LascoC2='2012-07-12 16:20:00',Tf_LascoC2='2012-07-12 20:10:00', CME_vel_C2='885',\n",
    "                       T0_LascoC3='2012-07-12 17:10:00',Tf_LascoC3='2012-07-12 23:30:00',\n",
    "                       T0_Cor1A='2012-07-12 16:15:00',Tf_Cor1A='2012-07-12 16:50:00',\n",
    "                       T0_Cor2A='2012-07-12 16:20:00',Tf_Cor2A='2012-07-12 18:54:00',\n",
    "                       T0_Cor1B='2012-07-12 16:15:00',Tf_Cor1B='2012-07-12 16:50:00',\n",
    "                       T0_Cor2B='2012-07-12 16:20:00',Tf_Cor2B='2012-07-12 18:54:00',\n",
    "                       T0_Hi1='',Tf_Hi1='',\n",
    "                       Comments='Sta y Stb casi en cuadratura  points of view ->  EUVI+Cor1/2+LascoC2',\n",
    "                       CR='Entre 2125 y 2126',\n",
    "                       GCS_parameters='')\n",
    "table_events.add_event('Chip_event_04', \n",
    "                       T0_LascoC2='2013-03-15 06:30:00',Tf_LascoC2='2013-03-15 08:00:00', CME_vel_C2='1063',\n",
    "                       T0_LascoC3='2013-03-15 07:10:00',Tf_LascoC3='2013-03-15 14:00:00',\n",
    "                       T0_Cor1A='2013-03-15 06:15:00',Tf_Cor1A='2013-03-15 06:50:00',\n",
    "                       T0_Cor2A='2013-03-15 06:20:00',Tf_Cor2A='2013-03-15 09:40:00',\n",
    "                       T0_Cor1B='2013-03-15 06:16:00',Tf_Cor1B='2013-03-15 06:50:00',\n",
    "                       T0_Cor2B='2013-03-15 06:20:00',Tf_Cor2B='2013-03-15 09:40:00',\n",
    "                       T0_Hi1='',Tf_Hi1='',\n",
    "                       Comments='points of view ->  EUVI+Cor1/2+LascoC2',\n",
    "                       CR='Entre CR2134 y CR2135',\n",
    "                       GCS_parameters='')\n",
    "table_events.add_event('Chip_event_05', T0_LascoC2='2013-04-11 06:48:00', Tf_LascoC2='2013-04-11 08:00:00',CME_vel_C2='861',\n",
    "                       T0_Cor1A='2013-04-11 07:00:00',Tf_Cor1A='2013-04-11 07:25:00',\n",
    "                       T0_Cor2A='2013-04-11 07:24:00',Tf_Cor2A='2013-04-11 09:24:00',\n",
    "                       T0_Cor1B='2013-04-11 07:00:00',Tf_Cor1B='2013-04-11 07:25:00',\n",
    "                       T0_Cor2B='2013-04-11 07:24:00',Tf_Cor2B='2013-04-11 09:24:00',\n",
    "                       T0_Hi1='',Tf_Hi1='',\n",
    "                       Comments='Sta Halo en direccion opuesta. stb ok. lasco halo.',\n",
    "                       CR='Entre CR2135 y CR2136',\n",
    "                       GCS_parameters='')\n",
    "table_events.add_event('Chip_event_06', \n",
    "                       T0_LascoC2='2013-09-29 21:36:00',Tf_LascoC2='2013-09-29 23:36:00',CME_vel_C2='1179',\n",
    "                       T0_LascoC3='2013-09-29 22:30:00',Tf_LascoC3='2013-09-30 03:30:00',\n",
    "                       T0_Cor1A='2013-09-29 21:36:00',Tf_Cor1A='2013-09-29 22:20:00',\n",
    "                       T0_Cor2A='2013-09-29 21:50:00',Tf_Cor2A='2013-09-30 02:30:00',\n",
    "                       T0_Cor1B='2013-09-29 21:36:00',Tf_Cor1B='2013-09-29 22:20:00',\n",
    "                       T0_Cor2B='2013-09-29 21:50:00',Tf_Cor2B='2013-09-30 02:30:00',\n",
    "                       T0_Hi1='',Tf_Hi1='',\n",
    "                       Comments='sta ok. stb halo en direccion opuesta. lasco halo.',\n",
    "                       CR='Entre CR2142 y CR2144',\n",
    "                       GCS_parameters='')\n",
    "table_events.add_event('Chip_event_07', T0_LascoC2='2022-09-05 16:12:00', Tf_LascoC2='2022-09-05 16:48:00',CME_vel_C2='2776',\n",
    "                       T0_Cor1A='2022-09-05 16:10:00',Tf_Cor1A='2022-09-05 16:30:00',\n",
    "                       T0_Cor2A='2022-09-05 16:24:00',Tf_Cor2A='2022-09-05 17:24:00',\n",
    "                       T0_Cor1B='No Data',Tf_Cor1B='No Data',\n",
    "                       T0_Cor2B='No Data',Tf_Cor2B='No Data',\n",
    "                       T0_Hi1='',Tf_Hi1='',\n",
    "                       Comments='sta y lasco muy juntas, ven halo en direccion opuesta.',\n",
    "                       CR='CR2261',\n",
    "                       GCS_parameters='')\n",
    "table_events.add_event('Chip_event_08', \n",
    "                       T0_LascoC2='2014-09-10 17:40:00',Tf_LascoC2='2014-09-10 18:40:00',CME_vel_C2='1179',\n",
    "                       T0_LascoC3='2014-09-10 17:40:00',Tf_LascoC3='2014-09-10 21:40:00',\n",
    "                       T0_Cor1A='No Data',Tf_Cor1A='No Data',\n",
    "                       T0_Cor2A='No Data',Tf_Cor2A='No Data',\n",
    "                       T0_Cor1B='',Tf_Cor1B='',\n",
    "                       T0_Cor2B='2014-09-10 17:50:00',Tf_Cor2B='2014-09-10 20:30:00',\n",
    "                       T0_Hi1='',Tf_Hi1='',\n",
    "                       Comments='sta sin telemetria. stb,C2 y C3 halo.',\n",
    "                       CR='',\n",
    "                       GCS_parameters='')\n",
    "table_events.add_event('Chip_event_09', \n",
    "                       T0_LascoC2='2015-03-15 01:30:00',Tf_LascoC2='2015-03-15 03:30:00',CME_vel_C2='1179',\n",
    "                       T0_LascoC3='2015-03-15 02:30:00',Tf_LascoC3='2015-03-15 07:30:00',\n",
    "                       T0_Cor1A='No Data',Tf_Cor1A='No Data',\n",
    "                       T0_Cor2A='No Data',Tf_Cor2A='No Data',\n",
    "                       T0_Cor1B='No Data',Tf_Cor1B='No Data',\n",
    "                       T0_Cor2B='No Data',Tf_Cor2B='No Data',\n",
    "                       T0_Hi1='',Tf_Hi1='',\n",
    "                       Comments='sta sin telemetria y stb ya habia dejado de funcionar. Quizas se pueda hacer segmentacion en C2 y C3,',\n",
    "                       CR='',\n",
    "                       GCS_parameters='')\n",
    "table_events.add_event('Chip_event_10', \n",
    "                       T0_LascoC2='2017-04-14 00:10:00',Tf_LascoC2='2017-04-14 02:40:00',CME_vel_C2='1179',\n",
    "                       T0_LascoC3='2017-04-14 04:40:00',Tf_LascoC3='2017-04-14 05:10:00',\n",
    "                       T0_Cor1A='2017-04-14 01:10:00',Tf_Cor1A='2017-04-14 02:30:00',\n",
    "                       T0_Cor2A='2017-04-14 01:40:00',Tf_Cor2A='2017-04-14 04:00:00',\n",
    "                       T0_Cor1B='No Data',Tf_Cor1B='No Data',\n",
    "                       T0_Cor2B='No Data',Tf_Cor2B='No Data',\n",
    "                       T0_Hi1='',Tf_Hi1='',\n",
    "                       Comments='C2,C3 y sta ven practicamente un Halo, pero quizas se puede utilizar segmentacion en todas ellas. Backsided para sta, y frontsided para C2.',\n",
    "                       CR='',\n",
    "                       GCS_parameters='')\n",
    "\n",
    "table_events.add_event('Leo_event_01', T0_LascoC2='2010-06-16 12:54:00', Tf_LascoC2='2010-06-16 20:56:00',CME_vel_C2='236',\n",
    "                       T0_Cor1A='2010-06-16 07:25:00',Tf_Cor1A='2010-06-16 11:55:00',\n",
    "                       T0_Cor2A='2010-06-16 09:54:00',Tf_Cor2A='2010-06-16 20:24:00',\n",
    "                       T0_Cor1B='2010-06-16 07:25:00',Tf_Cor1B='2010-06-16 11:55:00',\n",
    "                       T0_Cor2B='2010-06-16 09:54:00',Tf_Cor2B='2010-06-16 20:24:00',\n",
    "                       T0_Hi1='',Tf_Hi1='',\n",
    "                       Comments='cor2a/b ok. poca visivilidad en Lasco-C2.',\n",
    "                       CR='Entre CR 2097 y CR 2098',\n",
    "                       GCS_parameters='')\n",
    "table_events.add_event('Leo_event_02', T0_LascoC2='2011-06-14 05:12:00', Tf_LascoC2='2011-06-14 09:24:00',CME_vel_C2='571',\n",
    "                       T0_Cor1A='2011-06-14 04:13:00',Tf_Cor1A='2011-06-14 08:05:00',\n",
    "                       T0_Cor2A='2011-06-14 06:54:00',Tf_Cor2A='2011-06-14 11:39:00',\n",
    "                       T0_Cor1B='2011-06-14 04:13:00',Tf_Cor1B='2011-06-14 08:05:00',\n",
    "                       T0_Cor2B='2011-06-14 06:54:00',Tf_Cor2B='2011-06-14 11:39:00',\n",
    "                       T0_Hi1='',Tf_Hi1='',\n",
    "                       Comments='Cor2a/b ok. PA en Lasco-C2.',\n",
    "                       CR='CR2111',\n",
    "                       GCS_parameters='')\n",
    "\n",
    "table_events.add_event('Diego_event_01', T0_LascoC2='', Tf_LascoC2='',CME_vel_C2='',\n",
    "                       T0_Cor1A='',Tf_Cor1A='',\n",
    "                       T0_Cor2A='',Tf_Cor2A='',\n",
    "                       T0_Hi1='',Tf_Hi1='',\n",
    "                       Comments='',\n",
    "                       CR='',\n",
    "                       GCS_parameters='')\n",
    "\n",
    "# Get the events dataframe\n",
    "events_df = table_events.get_events()\n",
    "\n",
    "# Print the dataframe\n",
    "events_df"
   ]
  },
  {
   "cell_type": "code",
   "execution_count": 3,
   "metadata": {},
   "outputs": [],
   "source": [
    "evento_1 = events_df.loc[events_df[\"EventName\"]==\"Chip_event_01\"]\n",
    "evento_2 = events_df.loc[events_df[\"EventName\"]==\"Chip_event_02\"]\n",
    "evento_3 = events_df.loc[events_df[\"EventName\"]==\"Chip_event_03\"]\n",
    "evento_4 = events_df.loc[events_df[\"EventName\"]==\"Chip_event_04\"]\n",
    "evento_6 = events_df.loc[events_df[\"EventName\"]==\"Chip_event_06\"]\n",
    "\n",
    "evento_8 = events_df.loc[events_df[\"EventName\"]==\"Leo_event_01\"]\n",
    "evento_9 = events_df.loc[events_df[\"EventName\"]==\"Leo_event_02\"]"
   ]
  },
  {
   "cell_type": "code",
   "execution_count": 12,
   "metadata": {},
   "outputs": [
    {
     "data": {
      "text/html": [
       "<div>\n",
       "<style scoped>\n",
       "    .dataframe tbody tr th:only-of-type {\n",
       "        vertical-align: middle;\n",
       "    }\n",
       "\n",
       "    .dataframe tbody tr th {\n",
       "        vertical-align: top;\n",
       "    }\n",
       "\n",
       "    .dataframe thead th {\n",
       "        text-align: right;\n",
       "    }\n",
       "</style>\n",
       "<table border=\"1\" class=\"dataframe\">\n",
       "  <thead>\n",
       "    <tr style=\"text-align: right;\">\n",
       "      <th></th>\n",
       "      <th>EventName</th>\n",
       "      <th>T0_LascoC2</th>\n",
       "      <th>Tf_LascoC2</th>\n",
       "      <th>CME_vel_C2</th>\n",
       "      <th>T0_Cor1A</th>\n",
       "      <th>Tf_Cor1A</th>\n",
       "      <th>T0_Cor2A</th>\n",
       "      <th>Tf_Cor2A</th>\n",
       "      <th>T0_Cor1B</th>\n",
       "      <th>Tf_Cor1B</th>\n",
       "      <th>T0_Cor2B</th>\n",
       "      <th>Tf_Cor2B</th>\n",
       "      <th>T0_Hi1</th>\n",
       "      <th>Tf_Hi1</th>\n",
       "      <th>GCS_parameters</th>\n",
       "      <th>T0_LascoC3</th>\n",
       "      <th>Tf_LascoC3</th>\n",
       "      <th>Comments</th>\n",
       "      <th>CR</th>\n",
       "    </tr>\n",
       "  </thead>\n",
       "  <tbody>\n",
       "    <tr>\n",
       "      <th>1</th>\n",
       "      <td>Chip_event_02</td>\n",
       "      <td>2011-02-15 02:00:00</td>\n",
       "      <td>2011-02-15 04:20:00</td>\n",
       "      <td>669</td>\n",
       "      <td>2011-02-15 01:55:00</td>\n",
       "      <td>2011-02-15 02:15:00</td>\n",
       "      <td>2011-02-14 17:30:00</td>\n",
       "      <td>2011-02-15 05:30:00</td>\n",
       "      <td>2011-02-15 01:55:00</td>\n",
       "      <td>2011-02-15 02:15:00</td>\n",
       "      <td>2011-02-14 17:30:00</td>\n",
       "      <td>2011-02-15 05:30:00</td>\n",
       "      <td></td>\n",
       "      <td></td>\n",
       "      <td></td>\n",
       "      <td>2011-02-15 02:20:00</td>\n",
       "      <td>2011-02-15 12:10:00</td>\n",
       "      <td>Sta y Stb en cuadratura  points of view -&gt;  EU...</td>\n",
       "      <td>Entre CR2106 y CR2107</td>\n",
       "    </tr>\n",
       "  </tbody>\n",
       "</table>\n",
       "</div>"
      ],
      "text/plain": [
       "       EventName           T0_LascoC2           Tf_LascoC2 CME_vel_C2  \\\n",
       "1  Chip_event_02  2011-02-15 02:00:00  2011-02-15 04:20:00        669   \n",
       "\n",
       "              T0_Cor1A             Tf_Cor1A             T0_Cor2A  \\\n",
       "1  2011-02-15 01:55:00  2011-02-15 02:15:00  2011-02-14 17:30:00   \n",
       "\n",
       "              Tf_Cor2A             T0_Cor1B             Tf_Cor1B  \\\n",
       "1  2011-02-15 05:30:00  2011-02-15 01:55:00  2011-02-15 02:15:00   \n",
       "\n",
       "              T0_Cor2B             Tf_Cor2B T0_Hi1 Tf_Hi1 GCS_parameters  \\\n",
       "1  2011-02-14 17:30:00  2011-02-15 05:30:00                                \n",
       "\n",
       "            T0_LascoC3           Tf_LascoC3  \\\n",
       "1  2011-02-15 02:20:00  2011-02-15 12:10:00   \n",
       "\n",
       "                                            Comments                     CR  \n",
       "1  Sta y Stb en cuadratura  points of view ->  EU...  Entre CR2106 y CR2107  "
      ]
     },
     "execution_count": 12,
     "metadata": {},
     "output_type": "execute_result"
    }
   ],
   "source": [
    "evento_2['Tf_LascoC2'][1]\n",
    "evento_2"
   ]
  },
  {
   "cell_type": "code",
   "execution_count": 4,
   "metadata": {},
   "outputs": [],
   "source": [
    "from descargar_imagenes_clases import lascoc2_downloader\n",
    "from descargar_imagenes_clases import cor2_downloader\n",
    "from descargar_imagenes_clases import cor1_downloader\n",
    "from descargar_imagenes_clases import initial_final_time\n",
    "import pandas as pd\n",
    "from datetime import datetime, timedelta\n"
   ]
  },
  {
   "cell_type": "code",
   "execution_count": null,
   "metadata": {},
   "outputs": [],
   "source": [
    "lascoc2_i = evento_2['T0_LascoC2'][1]\n",
    "lascoc2_f = evento_2['Tf_LascoC2'][1]\n",
    "ini,fin = initial_final_time(lascoc2_i, lascoc2_f, delta_t=50)\n",
    "c2_images = lascoc2_downloader(start_time=ini,end_time=fin,nivel='level_05',size=2)\n",
    "c2_images.search()\n",
    "c2_images.search_lascoc2"
   ]
  },
  {
   "cell_type": "code",
   "execution_count": null,
   "metadata": {},
   "outputs": [],
   "source": [
    "#path='/data1/work/gcs/Imagenes/2010-04-03/C2/'\n",
    "path='/data_local/GCS/gcs/Imagenes/'+lascoc2_i.split()[0]+'/C2/'\n",
    "print(path)\n",
    "c2_images.download(download_path=path)\n"
   ]
  },
  {
   "cell_type": "code",
   "execution_count": 5,
   "metadata": {},
   "outputs": [],
   "source": [
    "cor2A_i = evento_2['T0_Cor2A'][1]\n",
    "cor2A_f = evento_2['Tf_Cor2A'][1]\n",
    "ini,fin = initial_final_time(cor2A_i, cor2A_f, delta_t=50)\n",
    "cor2A_images = cor2_downloader(start_time=ini,end_time=fin,nave='STEREO_A',nivel='double',image_type='img')#,size=8)\n",
    "cor2A_images.search()\n",
    "#cor2A_images.search_cor2\n",
    "\n"
   ]
  },
  {
   "cell_type": "code",
   "execution_count": 6,
   "metadata": {},
   "outputs": [
    {
     "name": "stdout",
     "output_type": "stream",
     "text": [
      "/data_local/GCS/gcs/Imagenes/2011-02-14/Cor2A/\n",
      "Se ha creado el directorio /data_local/GCS/gcs/Imagenes/2011-02-14/Cor2A/\n"
     ]
    },
    {
     "data": {
      "application/vnd.jupyter.widget-view+json": {
       "model_id": "c8b30223a4314b9a875bb67af77896fb",
       "version_major": 2,
       "version_minor": 0
      },
      "text/plain": [
       "Files Downloaded:   0%|          | 0/1 [00:00<?, ?file/s]"
      ]
     },
     "metadata": {},
     "output_type": "display_data"
    },
    {
     "data": {
      "application/vnd.jupyter.widget-view+json": {
       "model_id": "649f07b21c02451e90c4d4a7e3280c1d",
       "version_major": 2,
       "version_minor": 0
      },
      "text/plain": [
       "20110214_165400_d4c2a.fts:   0%|          | 0.00/8.42M [00:00<?, ?B/s]"
      ]
     },
     "metadata": {},
     "output_type": "display_data"
    },
    {
     "name": "stdout",
     "output_type": "stream",
     "text": [
      "El directorio /data_local/GCS/gcs/Imagenes/2011-02-14/Cor2A/ ya existe\n"
     ]
    },
    {
     "data": {
      "application/vnd.jupyter.widget-view+json": {
       "model_id": "c191de78a2d043b598b0a0c6dbfd9a3d",
       "version_major": 2,
       "version_minor": 0
      },
      "text/plain": [
       "Files Downloaded:   0%|          | 0/1 [00:00<?, ?file/s]"
      ]
     },
     "metadata": {},
     "output_type": "display_data"
    },
    {
     "data": {
      "application/vnd.jupyter.widget-view+json": {
       "model_id": "eae0e4170cff4710855d20755b2116fa",
       "version_major": 2,
       "version_minor": 0
      },
      "text/plain": [
       "20110214_170800_d4c2a.fts:   0%|          | 0.00/153k [00:00<?, ?B/s]"
      ]
     },
     "metadata": {},
     "output_type": "display_data"
    },
    {
     "name": "stdout",
     "output_type": "stream",
     "text": [
      "El directorio /data_local/GCS/gcs/Imagenes/2011-02-14/Cor2A/ ya existe\n"
     ]
    },
    {
     "data": {
      "application/vnd.jupyter.widget-view+json": {
       "model_id": "6361871ac48c4b98b172b419775da8c3",
       "version_major": 2,
       "version_minor": 0
      },
      "text/plain": [
       "Files Downloaded:   0%|          | 0/1 [00:00<?, ?file/s]"
      ]
     },
     "metadata": {},
     "output_type": "display_data"
    },
    {
     "data": {
      "application/vnd.jupyter.widget-view+json": {
       "model_id": "b80d8cb8a39140289e5e5cf488b41f16",
       "version_major": 2,
       "version_minor": 0
      },
      "text/plain": [
       "20110214_172400_d4c2a.fts:   0%|          | 0.00/8.42M [00:00<?, ?B/s]"
      ]
     },
     "metadata": {},
     "output_type": "display_data"
    },
    {
     "name": "stdout",
     "output_type": "stream",
     "text": [
      "El directorio /data_local/GCS/gcs/Imagenes/2011-02-14/Cor2A/ ya existe\n"
     ]
    },
    {
     "data": {
      "application/vnd.jupyter.widget-view+json": {
       "model_id": "6bd4695a38964f0a86e10cf934c3cae2",
       "version_major": 2,
       "version_minor": 0
      },
      "text/plain": [
       "Files Downloaded:   0%|          | 0/1 [00:00<?, ?file/s]"
      ]
     },
     "metadata": {},
     "output_type": "display_data"
    },
    {
     "name": "stderr",
     "output_type": "stream",
     "text": [
      "Exception ignored in: <function BaseEventLoop.__del__ at 0x7f9725646a70>\n",
      "Traceback (most recent call last):\n",
      "  File \"/home/diegol/anaconda3/envs/actual/lib/python3.10/asyncio/base_events.py\", line 687, in __del__\n",
      "    self.close()\n",
      "  File \"/home/diegol/anaconda3/envs/actual/lib/python3.10/asyncio/unix_events.py\", line 71, in close\n",
      "    self.remove_signal_handler(sig)\n",
      "  File \"/home/diegol/anaconda3/envs/actual/lib/python3.10/asyncio/unix_events.py\", line 160, in remove_signal_handler\n",
      "    signal.signal(sig, handler)\n",
      "  File \"/home/diegol/anaconda3/envs/actual/lib/python3.10/signal.py\", line 56, in signal\n",
      "    handler = _signal.signal(_enum_to_int(signalnum), _enum_to_int(handler))\n",
      "ValueError: signal only works in main thread of the main interpreter\n",
      "Exception ignored in: <function BaseEventLoop.__del__ at 0x7f9725646a70>\n",
      "Traceback (most recent call last):\n",
      "  File \"/home/diegol/anaconda3/envs/actual/lib/python3.10/asyncio/base_events.py\", line 687, in __del__\n",
      "    self.close()\n",
      "  File \"/home/diegol/anaconda3/envs/actual/lib/python3.10/asyncio/unix_events.py\", line 71, in close\n",
      "    self.remove_signal_handler(sig)\n",
      "  File \"/home/diegol/anaconda3/envs/actual/lib/python3.10/asyncio/unix_events.py\", line 160, in remove_signal_handler\n",
      "    signal.signal(sig, handler)\n",
      "  File \"/home/diegol/anaconda3/envs/actual/lib/python3.10/signal.py\", line 56, in signal\n",
      "    handler = _signal.signal(_enum_to_int(signalnum), _enum_to_int(handler))\n",
      "ValueError: signal only works in main thread of the main interpreter\n",
      "Exception ignored in: <function BaseEventLoop.__del__ at 0x7f9725646a70>\n",
      "Traceback (most recent call last):\n",
      "  File \"/home/diegol/anaconda3/envs/actual/lib/python3.10/asyncio/base_events.py\", line 687, in __del__\n",
      "    self.close()\n",
      "  File \"/home/diegol/anaconda3/envs/actual/lib/python3.10/asyncio/unix_events.py\", line 71, in close\n",
      "    self.remove_signal_handler(sig)\n",
      "  File \"/home/diegol/anaconda3/envs/actual/lib/python3.10/asyncio/unix_events.py\", line 160, in remove_signal_handler\n",
      "    signal.signal(sig, handler)\n",
      "  File \"/home/diegol/anaconda3/envs/actual/lib/python3.10/signal.py\", line 56, in signal\n",
      "    handler = _signal.signal(_enum_to_int(signalnum), _enum_to_int(handler))\n",
      "ValueError: signal only works in main thread of the main interpreter\n"
     ]
    },
    {
     "data": {
      "application/vnd.jupyter.widget-view+json": {
       "model_id": "ee7c61caae6142b6b15a96b5d3622bed",
       "version_major": 2,
       "version_minor": 0
      },
      "text/plain": [
       "20110214_173900_d4c2a.fts:   0%|          | 0.00/8.42M [00:00<?, ?B/s]"
      ]
     },
     "metadata": {},
     "output_type": "display_data"
    },
    {
     "name": "stdout",
     "output_type": "stream",
     "text": [
      "El directorio /data_local/GCS/gcs/Imagenes/2011-02-14/Cor2A/ ya existe\n"
     ]
    },
    {
     "data": {
      "application/vnd.jupyter.widget-view+json": {
       "model_id": "ab843a91541749da953370afcd8a41f7",
       "version_major": 2,
       "version_minor": 0
      },
      "text/plain": [
       "Files Downloaded:   0%|          | 0/1 [00:00<?, ?file/s]"
      ]
     },
     "metadata": {},
     "output_type": "display_data"
    },
    {
     "data": {
      "application/vnd.jupyter.widget-view+json": {
       "model_id": "3f53badb211842c5bcfc0814c9a0c4e2",
       "version_major": 2,
       "version_minor": 0
      },
      "text/plain": [
       "20110214_175400_d4c2a.fts:   0%|          | 0.00/8.42M [00:00<?, ?B/s]"
      ]
     },
     "metadata": {},
     "output_type": "display_data"
    },
    {
     "name": "stdout",
     "output_type": "stream",
     "text": [
      "El directorio /data_local/GCS/gcs/Imagenes/2011-02-14/Cor2A/ ya existe\n"
     ]
    },
    {
     "data": {
      "application/vnd.jupyter.widget-view+json": {
       "model_id": "bead0adae16447cfbb4d0b524731e2f6",
       "version_major": 2,
       "version_minor": 0
      },
      "text/plain": [
       "Files Downloaded:   0%|          | 0/1 [00:00<?, ?file/s]"
      ]
     },
     "metadata": {},
     "output_type": "display_data"
    },
    {
     "data": {
      "application/vnd.jupyter.widget-view+json": {
       "model_id": "024eda6333a640228540beea2defbe9d",
       "version_major": 2,
       "version_minor": 0
      },
      "text/plain": [
       "20110214_180800_d4c2a.fts:   0%|          | 0.00/153k [00:00<?, ?B/s]"
      ]
     },
     "metadata": {},
     "output_type": "display_data"
    },
    {
     "name": "stdout",
     "output_type": "stream",
     "text": [
      "El directorio /data_local/GCS/gcs/Imagenes/2011-02-14/Cor2A/ ya existe\n"
     ]
    },
    {
     "data": {
      "application/vnd.jupyter.widget-view+json": {
       "model_id": "d7d81451cf7b4b6ca64e6c9e31ef476d",
       "version_major": 2,
       "version_minor": 0
      },
      "text/plain": [
       "Files Downloaded:   0%|          | 0/1 [00:00<?, ?file/s]"
      ]
     },
     "metadata": {},
     "output_type": "display_data"
    },
    {
     "data": {
      "application/vnd.jupyter.widget-view+json": {
       "model_id": "647c89a083554ef9853719bc5288e75b",
       "version_major": 2,
       "version_minor": 0
      },
      "text/plain": [
       "20110214_182400_d4c2a.fts:   0%|          | 0.00/8.42M [00:00<?, ?B/s]"
      ]
     },
     "metadata": {},
     "output_type": "display_data"
    },
    {
     "name": "stdout",
     "output_type": "stream",
     "text": [
      "El directorio /data_local/GCS/gcs/Imagenes/2011-02-14/Cor2A/ ya existe\n"
     ]
    },
    {
     "data": {
      "application/vnd.jupyter.widget-view+json": {
       "model_id": "de9101358b9d4a2ebc42f5c43a468100",
       "version_major": 2,
       "version_minor": 0
      },
      "text/plain": [
       "Files Downloaded:   0%|          | 0/1 [00:00<?, ?file/s]"
      ]
     },
     "metadata": {},
     "output_type": "display_data"
    },
    {
     "data": {
      "application/vnd.jupyter.widget-view+json": {
       "model_id": "3e05404b893f4b4eaa5f1c54d8e396d3",
       "version_major": 2,
       "version_minor": 0
      },
      "text/plain": [
       "20110214_183900_d4c2a.fts:   0%|          | 0.00/8.42M [00:00<?, ?B/s]"
      ]
     },
     "metadata": {},
     "output_type": "display_data"
    },
    {
     "name": "stdout",
     "output_type": "stream",
     "text": [
      "El directorio /data_local/GCS/gcs/Imagenes/2011-02-14/Cor2A/ ya existe\n"
     ]
    },
    {
     "data": {
      "application/vnd.jupyter.widget-view+json": {
       "model_id": "a466a4fd7f2e4fcabfbde22da7854d24",
       "version_major": 2,
       "version_minor": 0
      },
      "text/plain": [
       "Files Downloaded:   0%|          | 0/1 [00:00<?, ?file/s]"
      ]
     },
     "metadata": {},
     "output_type": "display_data"
    },
    {
     "data": {
      "application/vnd.jupyter.widget-view+json": {
       "model_id": "04bcff211f1641089969309d425dce67",
       "version_major": 2,
       "version_minor": 0
      },
      "text/plain": [
       "20110214_185400_d4c2a.fts:   0%|          | 0.00/8.42M [00:00<?, ?B/s]"
      ]
     },
     "metadata": {},
     "output_type": "display_data"
    },
    {
     "name": "stdout",
     "output_type": "stream",
     "text": [
      "El directorio /data_local/GCS/gcs/Imagenes/2011-02-14/Cor2A/ ya existe\n"
     ]
    },
    {
     "data": {
      "application/vnd.jupyter.widget-view+json": {
       "model_id": "1c027e2759ac417e97367fef20fd91b8",
       "version_major": 2,
       "version_minor": 0
      },
      "text/plain": [
       "Files Downloaded:   0%|          | 0/1 [00:00<?, ?file/s]"
      ]
     },
     "metadata": {},
     "output_type": "display_data"
    },
    {
     "data": {
      "application/vnd.jupyter.widget-view+json": {
       "model_id": "df8e0482cfd5440dbfd74813891f58b2",
       "version_major": 2,
       "version_minor": 0
      },
      "text/plain": [
       "20110214_190800_d4c2a.fts:   0%|          | 0.00/153k [00:00<?, ?B/s]"
      ]
     },
     "metadata": {},
     "output_type": "display_data"
    },
    {
     "name": "stdout",
     "output_type": "stream",
     "text": [
      "El directorio /data_local/GCS/gcs/Imagenes/2011-02-14/Cor2A/ ya existe\n"
     ]
    },
    {
     "data": {
      "application/vnd.jupyter.widget-view+json": {
       "model_id": "c4dd4355df38463ea213acc528fcf2c8",
       "version_major": 2,
       "version_minor": 0
      },
      "text/plain": [
       "Files Downloaded:   0%|          | 0/1 [00:00<?, ?file/s]"
      ]
     },
     "metadata": {},
     "output_type": "display_data"
    },
    {
     "name": "stderr",
     "output_type": "stream",
     "text": [
      "Exception ignored in: <function BaseEventLoop.__del__ at 0x7f9725646a70>\n",
      "Traceback (most recent call last):\n",
      "  File \"/home/diegol/anaconda3/envs/actual/lib/python3.10/asyncio/base_events.py\", line 687, in __del__\n",
      "    self.close()\n",
      "  File \"/home/diegol/anaconda3/envs/actual/lib/python3.10/asyncio/unix_events.py\", line 71, in close\n",
      "    self.remove_signal_handler(sig)\n",
      "  File \"/home/diegol/anaconda3/envs/actual/lib/python3.10/asyncio/unix_events.py\", line 160, in remove_signal_handler\n",
      "    signal.signal(sig, handler)\n",
      "  File \"/home/diegol/anaconda3/envs/actual/lib/python3.10/signal.py\", line 56, in signal\n",
      "    handler = _signal.signal(_enum_to_int(signalnum), _enum_to_int(handler))\n",
      "ValueError: signal only works in main thread of the main interpreter\n",
      "Exception ignored in: <function BaseEventLoop.__del__ at 0x7f9725646a70>\n",
      "Traceback (most recent call last):\n",
      "  File \"/home/diegol/anaconda3/envs/actual/lib/python3.10/asyncio/base_events.py\", line 687, in __del__\n",
      "    self.close()\n",
      "  File \"/home/diegol/anaconda3/envs/actual/lib/python3.10/asyncio/unix_events.py\", line 71, in close\n",
      "    self.remove_signal_handler(sig)\n",
      "  File \"/home/diegol/anaconda3/envs/actual/lib/python3.10/asyncio/unix_events.py\", line 160, in remove_signal_handler\n",
      "    signal.signal(sig, handler)\n",
      "  File \"/home/diegol/anaconda3/envs/actual/lib/python3.10/signal.py\", line 56, in signal\n",
      "    handler = _signal.signal(_enum_to_int(signalnum), _enum_to_int(handler))\n",
      "ValueError: signal only works in main thread of the main interpreter\n",
      "Exception ignored in: <function BaseEventLoop.__del__ at 0x7f9725646a70>\n",
      "Traceback (most recent call last):\n",
      "  File \"/home/diegol/anaconda3/envs/actual/lib/python3.10/asyncio/base_events.py\", line 687, in __del__\n",
      "    self.close()\n",
      "  File \"/home/diegol/anaconda3/envs/actual/lib/python3.10/asyncio/unix_events.py\", line 71, in close\n",
      "    self.remove_signal_handler(sig)\n",
      "  File \"/home/diegol/anaconda3/envs/actual/lib/python3.10/asyncio/unix_events.py\", line 160, in remove_signal_handler\n",
      "    signal.signal(sig, handler)\n",
      "  File \"/home/diegol/anaconda3/envs/actual/lib/python3.10/signal.py\", line 56, in signal\n",
      "    handler = _signal.signal(_enum_to_int(signalnum), _enum_to_int(handler))\n",
      "ValueError: signal only works in main thread of the main interpreter\n",
      "Exception ignored in: <function BaseEventLoop.__del__ at 0x7f9725646a70>\n",
      "Traceback (most recent call last):\n",
      "  File \"/home/diegol/anaconda3/envs/actual/lib/python3.10/asyncio/base_events.py\", line 687, in __del__\n",
      "    self.close()\n",
      "  File \"/home/diegol/anaconda3/envs/actual/lib/python3.10/asyncio/unix_events.py\", line 71, in close\n",
      "    self.remove_signal_handler(sig)\n",
      "  File \"/home/diegol/anaconda3/envs/actual/lib/python3.10/asyncio/unix_events.py\", line 160, in remove_signal_handler\n",
      "    signal.signal(sig, handler)\n",
      "  File \"/home/diegol/anaconda3/envs/actual/lib/python3.10/signal.py\", line 56, in signal\n",
      "    handler = _signal.signal(_enum_to_int(signalnum), _enum_to_int(handler))\n",
      "ValueError: signal only works in main thread of the main interpreter\n",
      "Exception ignored in: <function BaseEventLoop.__del__ at 0x7f9725646a70>\n",
      "Traceback (most recent call last):\n",
      "  File \"/home/diegol/anaconda3/envs/actual/lib/python3.10/asyncio/base_events.py\", line 687, in __del__\n",
      "    self.close()\n",
      "  File \"/home/diegol/anaconda3/envs/actual/lib/python3.10/asyncio/unix_events.py\", line 71, in close\n",
      "    self.remove_signal_handler(sig)\n",
      "  File \"/home/diegol/anaconda3/envs/actual/lib/python3.10/asyncio/unix_events.py\", line 160, in remove_signal_handler\n",
      "    signal.signal(sig, handler)\n",
      "  File \"/home/diegol/anaconda3/envs/actual/lib/python3.10/signal.py\", line 56, in signal\n",
      "    handler = _signal.signal(_enum_to_int(signalnum), _enum_to_int(handler))\n",
      "ValueError: signal only works in main thread of the main interpreter\n",
      "Exception ignored in: <function BaseEventLoop.__del__ at 0x7f9725646a70>\n",
      "Traceback (most recent call last):\n",
      "  File \"/home/diegol/anaconda3/envs/actual/lib/python3.10/asyncio/base_events.py\", line 687, in __del__\n",
      "    self.close()\n",
      "  File \"/home/diegol/anaconda3/envs/actual/lib/python3.10/asyncio/unix_events.py\", line 71, in close\n",
      "    self.remove_signal_handler(sig)\n",
      "  File \"/home/diegol/anaconda3/envs/actual/lib/python3.10/asyncio/unix_events.py\", line 160, in remove_signal_handler\n",
      "    signal.signal(sig, handler)\n",
      "  File \"/home/diegol/anaconda3/envs/actual/lib/python3.10/signal.py\", line 56, in signal\n",
      "    handler = _signal.signal(_enum_to_int(signalnum), _enum_to_int(handler))\n",
      "ValueError: signal only works in main thread of the main interpreter\n"
     ]
    },
    {
     "data": {
      "application/vnd.jupyter.widget-view+json": {
       "model_id": "1e04795afa9e4053b46c08056444ed24",
       "version_major": 2,
       "version_minor": 0
      },
      "text/plain": [
       "20110214_192400_d4c2a.fts:   0%|          | 0.00/8.42M [00:00<?, ?B/s]"
      ]
     },
     "metadata": {},
     "output_type": "display_data"
    },
    {
     "name": "stdout",
     "output_type": "stream",
     "text": [
      "El directorio /data_local/GCS/gcs/Imagenes/2011-02-14/Cor2A/ ya existe\n"
     ]
    },
    {
     "data": {
      "application/vnd.jupyter.widget-view+json": {
       "model_id": "612cbaf8fddb427f83a678bc9af934fa",
       "version_major": 2,
       "version_minor": 0
      },
      "text/plain": [
       "Files Downloaded:   0%|          | 0/1 [00:00<?, ?file/s]"
      ]
     },
     "metadata": {},
     "output_type": "display_data"
    },
    {
     "data": {
      "application/vnd.jupyter.widget-view+json": {
       "model_id": "a638ef55b80f4cb49f5231305b599a87",
       "version_major": 2,
       "version_minor": 0
      },
      "text/plain": [
       "20110214_193900_d4c2a.fts:   0%|          | 0.00/8.42M [00:00<?, ?B/s]"
      ]
     },
     "metadata": {},
     "output_type": "display_data"
    },
    {
     "name": "stdout",
     "output_type": "stream",
     "text": [
      "El directorio /data_local/GCS/gcs/Imagenes/2011-02-14/Cor2A/ ya existe\n"
     ]
    },
    {
     "data": {
      "application/vnd.jupyter.widget-view+json": {
       "model_id": "cc05abf73b5e463dacd5894b86717af0",
       "version_major": 2,
       "version_minor": 0
      },
      "text/plain": [
       "Files Downloaded:   0%|          | 0/1 [00:00<?, ?file/s]"
      ]
     },
     "metadata": {},
     "output_type": "display_data"
    },
    {
     "data": {
      "application/vnd.jupyter.widget-view+json": {
       "model_id": "91f3dffc2eda45fabc55e632f2c6bc68",
       "version_major": 2,
       "version_minor": 0
      },
      "text/plain": [
       "20110214_195400_d4c2a.fts:   0%|          | 0.00/8.42M [00:00<?, ?B/s]"
      ]
     },
     "metadata": {},
     "output_type": "display_data"
    },
    {
     "name": "stdout",
     "output_type": "stream",
     "text": [
      "El directorio /data_local/GCS/gcs/Imagenes/2011-02-14/Cor2A/ ya existe\n"
     ]
    },
    {
     "data": {
      "application/vnd.jupyter.widget-view+json": {
       "model_id": "7a17b959500e4f22b3c4d97cc351750a",
       "version_major": 2,
       "version_minor": 0
      },
      "text/plain": [
       "Files Downloaded:   0%|          | 0/1 [00:00<?, ?file/s]"
      ]
     },
     "metadata": {},
     "output_type": "display_data"
    },
    {
     "data": {
      "application/vnd.jupyter.widget-view+json": {
       "model_id": "93e2b754a3034510bb88b22610ef4c13",
       "version_major": 2,
       "version_minor": 0
      },
      "text/plain": [
       "20110214_200800_d4c2a.fts:   0%|          | 0.00/153k [00:00<?, ?B/s]"
      ]
     },
     "metadata": {},
     "output_type": "display_data"
    },
    {
     "name": "stdout",
     "output_type": "stream",
     "text": [
      "El directorio /data_local/GCS/gcs/Imagenes/2011-02-14/Cor2A/ ya existe\n"
     ]
    },
    {
     "data": {
      "application/vnd.jupyter.widget-view+json": {
       "model_id": "d45eb06e47de4af98e9ef8c03b9ccd55",
       "version_major": 2,
       "version_minor": 0
      },
      "text/plain": [
       "Files Downloaded:   0%|          | 0/1 [00:00<?, ?file/s]"
      ]
     },
     "metadata": {},
     "output_type": "display_data"
    },
    {
     "data": {
      "application/vnd.jupyter.widget-view+json": {
       "model_id": "440ef96e76a44f858aa6eae18a3b938f",
       "version_major": 2,
       "version_minor": 0
      },
      "text/plain": [
       "20110214_202400_d4c2a.fts:   0%|          | 0.00/8.42M [00:00<?, ?B/s]"
      ]
     },
     "metadata": {},
     "output_type": "display_data"
    },
    {
     "name": "stdout",
     "output_type": "stream",
     "text": [
      "El directorio /data_local/GCS/gcs/Imagenes/2011-02-14/Cor2A/ ya existe\n"
     ]
    },
    {
     "data": {
      "application/vnd.jupyter.widget-view+json": {
       "model_id": "fb766d7ba1e4421298615eba3d1d2d82",
       "version_major": 2,
       "version_minor": 0
      },
      "text/plain": [
       "Files Downloaded:   0%|          | 0/1 [00:00<?, ?file/s]"
      ]
     },
     "metadata": {},
     "output_type": "display_data"
    },
    {
     "data": {
      "application/vnd.jupyter.widget-view+json": {
       "model_id": "9a7bd10dd8e74a62b43e4c631da9c00e",
       "version_major": 2,
       "version_minor": 0
      },
      "text/plain": [
       "20110214_203900_d4c2a.fts:   0%|          | 0.00/8.42M [00:00<?, ?B/s]"
      ]
     },
     "metadata": {},
     "output_type": "display_data"
    },
    {
     "name": "stdout",
     "output_type": "stream",
     "text": [
      "El directorio /data_local/GCS/gcs/Imagenes/2011-02-14/Cor2A/ ya existe\n"
     ]
    },
    {
     "data": {
      "application/vnd.jupyter.widget-view+json": {
       "model_id": "dd1a6228e1e1426b862dca35fe30e004",
       "version_major": 2,
       "version_minor": 0
      },
      "text/plain": [
       "Files Downloaded:   0%|          | 0/1 [00:00<?, ?file/s]"
      ]
     },
     "metadata": {},
     "output_type": "display_data"
    },
    {
     "data": {
      "application/vnd.jupyter.widget-view+json": {
       "model_id": "1bff2312253b402982b9d59996e31487",
       "version_major": 2,
       "version_minor": 0
      },
      "text/plain": [
       "20110214_205400_d4c2a.fts:   0%|          | 0.00/8.42M [00:00<?, ?B/s]"
      ]
     },
     "metadata": {},
     "output_type": "display_data"
    },
    {
     "name": "stdout",
     "output_type": "stream",
     "text": [
      "El directorio /data_local/GCS/gcs/Imagenes/2011-02-14/Cor2A/ ya existe\n"
     ]
    },
    {
     "data": {
      "application/vnd.jupyter.widget-view+json": {
       "model_id": "7dd4c846640846f1a01d3b6d052140e7",
       "version_major": 2,
       "version_minor": 0
      },
      "text/plain": [
       "Files Downloaded:   0%|          | 0/1 [00:00<?, ?file/s]"
      ]
     },
     "metadata": {},
     "output_type": "display_data"
    },
    {
     "name": "stderr",
     "output_type": "stream",
     "text": [
      "Exception ignored in: <function BaseEventLoop.__del__ at 0x7f9725646a70>\n",
      "Traceback (most recent call last):\n",
      "  File \"/home/diegol/anaconda3/envs/actual/lib/python3.10/asyncio/base_events.py\", line 687, in __del__\n",
      "    self.close()\n",
      "  File \"/home/diegol/anaconda3/envs/actual/lib/python3.10/asyncio/unix_events.py\", line 71, in close\n",
      "    self.remove_signal_handler(sig)\n",
      "  File \"/home/diegol/anaconda3/envs/actual/lib/python3.10/asyncio/unix_events.py\", line 160, in remove_signal_handler\n",
      "    signal.signal(sig, handler)\n",
      "  File \"/home/diegol/anaconda3/envs/actual/lib/python3.10/signal.py\", line 56, in signal\n",
      "    handler = _signal.signal(_enum_to_int(signalnum), _enum_to_int(handler))\n",
      "ValueError: signal only works in main thread of the main interpreter\n",
      "Exception ignored in: <function BaseEventLoop.__del__ at 0x7f9725646a70>\n",
      "Traceback (most recent call last):\n",
      "  File \"/home/diegol/anaconda3/envs/actual/lib/python3.10/asyncio/base_events.py\", line 687, in __del__\n",
      "    self.close()\n",
      "  File \"/home/diegol/anaconda3/envs/actual/lib/python3.10/asyncio/unix_events.py\", line 71, in close\n",
      "    self.remove_signal_handler(sig)\n",
      "  File \"/home/diegol/anaconda3/envs/actual/lib/python3.10/asyncio/unix_events.py\", line 160, in remove_signal_handler\n",
      "    signal.signal(sig, handler)\n",
      "  File \"/home/diegol/anaconda3/envs/actual/lib/python3.10/signal.py\", line 56, in signal\n",
      "    handler = _signal.signal(_enum_to_int(signalnum), _enum_to_int(handler))\n",
      "ValueError: signal only works in main thread of the main interpreter\n",
      "Exception ignored in: <function BaseEventLoop.__del__ at 0x7f9725646a70>\n",
      "Traceback (most recent call last):\n",
      "  File \"/home/diegol/anaconda3/envs/actual/lib/python3.10/asyncio/base_events.py\", line 687, in __del__\n",
      "    self.close()\n",
      "  File \"/home/diegol/anaconda3/envs/actual/lib/python3.10/asyncio/unix_events.py\", line 71, in close\n",
      "    self.remove_signal_handler(sig)\n",
      "  File \"/home/diegol/anaconda3/envs/actual/lib/python3.10/asyncio/unix_events.py\", line 160, in remove_signal_handler\n",
      "    signal.signal(sig, handler)\n",
      "  File \"/home/diegol/anaconda3/envs/actual/lib/python3.10/signal.py\", line 56, in signal\n",
      "    handler = _signal.signal(_enum_to_int(signalnum), _enum_to_int(handler))\n",
      "ValueError: signal only works in main thread of the main interpreter\n",
      "Exception ignored in: <function BaseEventLoop.__del__ at 0x7f9725646a70>\n",
      "Traceback (most recent call last):\n",
      "  File \"/home/diegol/anaconda3/envs/actual/lib/python3.10/asyncio/base_events.py\", line 687, in __del__\n",
      "    self.close()\n",
      "  File \"/home/diegol/anaconda3/envs/actual/lib/python3.10/asyncio/unix_events.py\", line 71, in close\n",
      "    self.remove_signal_handler(sig)\n",
      "  File \"/home/diegol/anaconda3/envs/actual/lib/python3.10/asyncio/unix_events.py\", line 160, in remove_signal_handler\n",
      "    signal.signal(sig, handler)\n",
      "  File \"/home/diegol/anaconda3/envs/actual/lib/python3.10/signal.py\", line 56, in signal\n",
      "    handler = _signal.signal(_enum_to_int(signalnum), _enum_to_int(handler))\n",
      "ValueError: signal only works in main thread of the main interpreter\n",
      "Exception ignored in: <function BaseEventLoop.__del__ at 0x7f9725646a70>\n",
      "Traceback (most recent call last):\n",
      "  File \"/home/diegol/anaconda3/envs/actual/lib/python3.10/asyncio/base_events.py\", line 687, in __del__\n",
      "    self.close()\n",
      "  File \"/home/diegol/anaconda3/envs/actual/lib/python3.10/asyncio/unix_events.py\", line 71, in close\n",
      "    self.remove_signal_handler(sig)\n",
      "  File \"/home/diegol/anaconda3/envs/actual/lib/python3.10/asyncio/unix_events.py\", line 160, in remove_signal_handler\n",
      "    signal.signal(sig, handler)\n",
      "  File \"/home/diegol/anaconda3/envs/actual/lib/python3.10/signal.py\", line 56, in signal\n",
      "    handler = _signal.signal(_enum_to_int(signalnum), _enum_to_int(handler))\n",
      "ValueError: signal only works in main thread of the main interpreter\n",
      "Exception ignored in: <function BaseEventLoop.__del__ at 0x7f9725646a70>\n",
      "Traceback (most recent call last):\n",
      "  File \"/home/diegol/anaconda3/envs/actual/lib/python3.10/asyncio/base_events.py\", line 687, in __del__\n",
      "    self.close()\n",
      "  File \"/home/diegol/anaconda3/envs/actual/lib/python3.10/asyncio/unix_events.py\", line 71, in close\n",
      "    self.remove_signal_handler(sig)\n",
      "  File \"/home/diegol/anaconda3/envs/actual/lib/python3.10/asyncio/unix_events.py\", line 160, in remove_signal_handler\n",
      "    signal.signal(sig, handler)\n",
      "  File \"/home/diegol/anaconda3/envs/actual/lib/python3.10/signal.py\", line 56, in signal\n",
      "    handler = _signal.signal(_enum_to_int(signalnum), _enum_to_int(handler))\n",
      "ValueError: signal only works in main thread of the main interpreter\n"
     ]
    },
    {
     "data": {
      "application/vnd.jupyter.widget-view+json": {
       "model_id": "5f3b124e8ef64d76aaca0532517eefd9",
       "version_major": 2,
       "version_minor": 0
      },
      "text/plain": [
       "20110214_210800_d4c2a.fts:   0%|          | 0.00/153k [00:00<?, ?B/s]"
      ]
     },
     "metadata": {},
     "output_type": "display_data"
    },
    {
     "name": "stdout",
     "output_type": "stream",
     "text": [
      "El directorio /data_local/GCS/gcs/Imagenes/2011-02-14/Cor2A/ ya existe\n"
     ]
    },
    {
     "data": {
      "application/vnd.jupyter.widget-view+json": {
       "model_id": "bca8ac3e811a4cba82e009b6ccc9c8fa",
       "version_major": 2,
       "version_minor": 0
      },
      "text/plain": [
       "Files Downloaded:   0%|          | 0/1 [00:00<?, ?file/s]"
      ]
     },
     "metadata": {},
     "output_type": "display_data"
    },
    {
     "data": {
      "application/vnd.jupyter.widget-view+json": {
       "model_id": "658af68e310541209dad1433e96e6a93",
       "version_major": 2,
       "version_minor": 0
      },
      "text/plain": [
       "20110214_212400_d4c2a.fts:   0%|          | 0.00/8.42M [00:00<?, ?B/s]"
      ]
     },
     "metadata": {},
     "output_type": "display_data"
    },
    {
     "name": "stdout",
     "output_type": "stream",
     "text": [
      "El directorio /data_local/GCS/gcs/Imagenes/2011-02-14/Cor2A/ ya existe\n"
     ]
    },
    {
     "data": {
      "application/vnd.jupyter.widget-view+json": {
       "model_id": "884d3aa090ea4518a8c6f78b44c2e28b",
       "version_major": 2,
       "version_minor": 0
      },
      "text/plain": [
       "Files Downloaded:   0%|          | 0/1 [00:00<?, ?file/s]"
      ]
     },
     "metadata": {},
     "output_type": "display_data"
    },
    {
     "data": {
      "application/vnd.jupyter.widget-view+json": {
       "model_id": "108c900de8014eebbadd23cafc0e6c1b",
       "version_major": 2,
       "version_minor": 0
      },
      "text/plain": [
       "20110214_213900_d4c2a.fts:   0%|          | 0.00/8.42M [00:00<?, ?B/s]"
      ]
     },
     "metadata": {},
     "output_type": "display_data"
    },
    {
     "name": "stdout",
     "output_type": "stream",
     "text": [
      "El directorio /data_local/GCS/gcs/Imagenes/2011-02-14/Cor2A/ ya existe\n"
     ]
    },
    {
     "data": {
      "application/vnd.jupyter.widget-view+json": {
       "model_id": "24a28f677c6146778fbfd0ba7cf1f083",
       "version_major": 2,
       "version_minor": 0
      },
      "text/plain": [
       "Files Downloaded:   0%|          | 0/1 [00:00<?, ?file/s]"
      ]
     },
     "metadata": {},
     "output_type": "display_data"
    },
    {
     "data": {
      "application/vnd.jupyter.widget-view+json": {
       "model_id": "e79d7a8ae98e4c8590baec44aab01ebc",
       "version_major": 2,
       "version_minor": 0
      },
      "text/plain": [
       "20110214_215400_d4c2a.fts:   0%|          | 0.00/8.42M [00:00<?, ?B/s]"
      ]
     },
     "metadata": {},
     "output_type": "display_data"
    },
    {
     "name": "stdout",
     "output_type": "stream",
     "text": [
      "El directorio /data_local/GCS/gcs/Imagenes/2011-02-14/Cor2A/ ya existe\n"
     ]
    },
    {
     "data": {
      "application/vnd.jupyter.widget-view+json": {
       "model_id": "fe25697baebd4308814e055f3485170a",
       "version_major": 2,
       "version_minor": 0
      },
      "text/plain": [
       "Files Downloaded:   0%|          | 0/1 [00:00<?, ?file/s]"
      ]
     },
     "metadata": {},
     "output_type": "display_data"
    },
    {
     "data": {
      "application/vnd.jupyter.widget-view+json": {
       "model_id": "39355a51916743e0a32d4470a42c84f1",
       "version_major": 2,
       "version_minor": 0
      },
      "text/plain": [
       "20110214_220800_d4c2a.fts:   0%|          | 0.00/153k [00:00<?, ?B/s]"
      ]
     },
     "metadata": {},
     "output_type": "display_data"
    },
    {
     "name": "stdout",
     "output_type": "stream",
     "text": [
      "El directorio /data_local/GCS/gcs/Imagenes/2011-02-14/Cor2A/ ya existe\n"
     ]
    },
    {
     "data": {
      "application/vnd.jupyter.widget-view+json": {
       "model_id": "8f934fe6058f4091a3b0cfe06bf580bc",
       "version_major": 2,
       "version_minor": 0
      },
      "text/plain": [
       "Files Downloaded:   0%|          | 0/1 [00:00<?, ?file/s]"
      ]
     },
     "metadata": {},
     "output_type": "display_data"
    },
    {
     "data": {
      "application/vnd.jupyter.widget-view+json": {
       "model_id": "197ec8ca2aca4b69bc52afcd45521e7c",
       "version_major": 2,
       "version_minor": 0
      },
      "text/plain": [
       "20110214_222400_d4c2a.fts:   0%|          | 0.00/8.42M [00:00<?, ?B/s]"
      ]
     },
     "metadata": {},
     "output_type": "display_data"
    },
    {
     "name": "stdout",
     "output_type": "stream",
     "text": [
      "El directorio /data_local/GCS/gcs/Imagenes/2011-02-14/Cor2A/ ya existe\n"
     ]
    },
    {
     "data": {
      "application/vnd.jupyter.widget-view+json": {
       "model_id": "b8020e95c45a44469bfadd850072f677",
       "version_major": 2,
       "version_minor": 0
      },
      "text/plain": [
       "Files Downloaded:   0%|          | 0/1 [00:00<?, ?file/s]"
      ]
     },
     "metadata": {},
     "output_type": "display_data"
    },
    {
     "data": {
      "application/vnd.jupyter.widget-view+json": {
       "model_id": "307ad3f88c654f5c8db1afc899e0a49a",
       "version_major": 2,
       "version_minor": 0
      },
      "text/plain": [
       "20110214_223900_d4c2a.fts:   0%|          | 0.00/8.42M [00:00<?, ?B/s]"
      ]
     },
     "metadata": {},
     "output_type": "display_data"
    },
    {
     "name": "stdout",
     "output_type": "stream",
     "text": [
      "El directorio /data_local/GCS/gcs/Imagenes/2011-02-14/Cor2A/ ya existe\n"
     ]
    },
    {
     "data": {
      "application/vnd.jupyter.widget-view+json": {
       "model_id": "b861733cbb4f4095928a45396746a87f",
       "version_major": 2,
       "version_minor": 0
      },
      "text/plain": [
       "Files Downloaded:   0%|          | 0/1 [00:00<?, ?file/s]"
      ]
     },
     "metadata": {},
     "output_type": "display_data"
    },
    {
     "data": {
      "application/vnd.jupyter.widget-view+json": {
       "model_id": "fb48330714bd48bc8658bf3ebccea1ae",
       "version_major": 2,
       "version_minor": 0
      },
      "text/plain": [
       "20110214_225400_d4c2a.fts:   0%|          | 0.00/8.42M [00:00<?, ?B/s]"
      ]
     },
     "metadata": {},
     "output_type": "display_data"
    },
    {
     "name": "stderr",
     "output_type": "stream",
     "text": [
      "Exception ignored in: <function BaseEventLoop.__del__ at 0x7f9725646a70>\n",
      "Traceback (most recent call last):\n",
      "  File \"/home/diegol/anaconda3/envs/actual/lib/python3.10/asyncio/base_events.py\", line 687, in __del__\n",
      "    self.close()\n",
      "  File \"/home/diegol/anaconda3/envs/actual/lib/python3.10/asyncio/unix_events.py\", line 71, in close\n",
      "    self.remove_signal_handler(sig)\n",
      "  File \"/home/diegol/anaconda3/envs/actual/lib/python3.10/asyncio/unix_events.py\", line 160, in remove_signal_handler\n",
      "    signal.signal(sig, handler)\n",
      "  File \"/home/diegol/anaconda3/envs/actual/lib/python3.10/signal.py\", line 56, in signal\n",
      "    handler = _signal.signal(_enum_to_int(signalnum), _enum_to_int(handler))\n",
      "ValueError: signal only works in main thread of the main interpreter\n",
      "Exception ignored in: <function BaseEventLoop.__del__ at 0x7f9725646a70>\n",
      "Traceback (most recent call last):\n",
      "  File \"/home/diegol/anaconda3/envs/actual/lib/python3.10/asyncio/base_events.py\", line 687, in __del__\n",
      "    self.close()\n",
      "  File \"/home/diegol/anaconda3/envs/actual/lib/python3.10/asyncio/unix_events.py\", line 71, in close\n",
      "    self.remove_signal_handler(sig)\n",
      "  File \"/home/diegol/anaconda3/envs/actual/lib/python3.10/asyncio/unix_events.py\", line 160, in remove_signal_handler\n",
      "    signal.signal(sig, handler)\n",
      "  File \"/home/diegol/anaconda3/envs/actual/lib/python3.10/signal.py\", line 56, in signal\n",
      "    handler = _signal.signal(_enum_to_int(signalnum), _enum_to_int(handler))\n",
      "ValueError: signal only works in main thread of the main interpreter\n",
      "Exception ignored in: <function BaseEventLoop.__del__ at 0x7f9725646a70>\n",
      "Traceback (most recent call last):\n",
      "  File \"/home/diegol/anaconda3/envs/actual/lib/python3.10/asyncio/base_events.py\", line 687, in __del__\n",
      "    self.close()\n",
      "  File \"/home/diegol/anaconda3/envs/actual/lib/python3.10/asyncio/unix_events.py\", line 71, in close\n",
      "    self.remove_signal_handler(sig)\n",
      "  File \"/home/diegol/anaconda3/envs/actual/lib/python3.10/asyncio/unix_events.py\", line 160, in remove_signal_handler\n",
      "    signal.signal(sig, handler)\n",
      "  File \"/home/diegol/anaconda3/envs/actual/lib/python3.10/signal.py\", line 56, in signal\n",
      "    handler = _signal.signal(_enum_to_int(signalnum), _enum_to_int(handler))\n",
      "ValueError: signal only works in main thread of the main interpreter\n",
      "Exception ignored in: <function BaseEventLoop.__del__ at 0x7f9725646a70>\n",
      "Traceback (most recent call last):\n",
      "  File \"/home/diegol/anaconda3/envs/actual/lib/python3.10/asyncio/base_events.py\", line 687, in __del__\n",
      "    self.close()\n",
      "  File \"/home/diegol/anaconda3/envs/actual/lib/python3.10/asyncio/unix_events.py\", line 71, in close\n",
      "    self.remove_signal_handler(sig)\n",
      "  File \"/home/diegol/anaconda3/envs/actual/lib/python3.10/asyncio/unix_events.py\", line 160, in remove_signal_handler\n",
      "    signal.signal(sig, handler)\n",
      "  File \"/home/diegol/anaconda3/envs/actual/lib/python3.10/signal.py\", line 56, in signal\n",
      "    handler = _signal.signal(_enum_to_int(signalnum), _enum_to_int(handler))\n",
      "ValueError: signal only works in main thread of the main interpreter\n",
      "Exception ignored in: <function BaseEventLoop.__del__ at 0x7f9725646a70>\n",
      "Traceback (most recent call last):\n",
      "  File \"/home/diegol/anaconda3/envs/actual/lib/python3.10/asyncio/base_events.py\", line 687, in __del__\n",
      "    self.close()\n",
      "  File \"/home/diegol/anaconda3/envs/actual/lib/python3.10/asyncio/unix_events.py\", line 71, in close\n",
      "    self.remove_signal_handler(sig)\n",
      "  File \"/home/diegol/anaconda3/envs/actual/lib/python3.10/asyncio/unix_events.py\", line 160, in remove_signal_handler\n",
      "    signal.signal(sig, handler)\n",
      "  File \"/home/diegol/anaconda3/envs/actual/lib/python3.10/signal.py\", line 56, in signal\n",
      "    handler = _signal.signal(_enum_to_int(signalnum), _enum_to_int(handler))\n",
      "ValueError: signal only works in main thread of the main interpreter\n",
      "Exception ignored in: <function BaseEventLoop.__del__ at 0x7f9725646a70>\n",
      "Traceback (most recent call last):\n",
      "  File \"/home/diegol/anaconda3/envs/actual/lib/python3.10/asyncio/base_events.py\", line 687, in __del__\n",
      "    self.close()\n",
      "  File \"/home/diegol/anaconda3/envs/actual/lib/python3.10/asyncio/unix_events.py\", line 71, in close\n",
      "    self.remove_signal_handler(sig)\n",
      "  File \"/home/diegol/anaconda3/envs/actual/lib/python3.10/asyncio/unix_events.py\", line 160, in remove_signal_handler\n",
      "    signal.signal(sig, handler)\n",
      "  File \"/home/diegol/anaconda3/envs/actual/lib/python3.10/signal.py\", line 56, in signal\n",
      "    handler = _signal.signal(_enum_to_int(signalnum), _enum_to_int(handler))\n",
      "ValueError: signal only works in main thread of the main interpreter\n"
     ]
    },
    {
     "name": "stdout",
     "output_type": "stream",
     "text": [
      "El directorio /data_local/GCS/gcs/Imagenes/2011-02-14/Cor2A/ ya existe\n"
     ]
    },
    {
     "data": {
      "application/vnd.jupyter.widget-view+json": {
       "model_id": "ea6b057f991b4f1784564459361ef1d8",
       "version_major": 2,
       "version_minor": 0
      },
      "text/plain": [
       "Files Downloaded:   0%|          | 0/1 [00:00<?, ?file/s]"
      ]
     },
     "metadata": {},
     "output_type": "display_data"
    },
    {
     "data": {
      "application/vnd.jupyter.widget-view+json": {
       "model_id": "9d479872177a4d358f32645ddb7c4212",
       "version_major": 2,
       "version_minor": 0
      },
      "text/plain": [
       "20110214_230800_d4c2a.fts:   0%|          | 0.00/153k [00:00<?, ?B/s]"
      ]
     },
     "metadata": {},
     "output_type": "display_data"
    },
    {
     "name": "stdout",
     "output_type": "stream",
     "text": [
      "El directorio /data_local/GCS/gcs/Imagenes/2011-02-14/Cor2A/ ya existe\n"
     ]
    },
    {
     "data": {
      "application/vnd.jupyter.widget-view+json": {
       "model_id": "8d68aa481e4543e7a7f7b735913e1b52",
       "version_major": 2,
       "version_minor": 0
      },
      "text/plain": [
       "Files Downloaded:   0%|          | 0/1 [00:00<?, ?file/s]"
      ]
     },
     "metadata": {},
     "output_type": "display_data"
    },
    {
     "data": {
      "application/vnd.jupyter.widget-view+json": {
       "model_id": "27eddabe2cb640f1b4703e224ea1577b",
       "version_major": 2,
       "version_minor": 0
      },
      "text/plain": [
       "20110214_232400_d4c2a.fts:   0%|          | 0.00/8.42M [00:00<?, ?B/s]"
      ]
     },
     "metadata": {},
     "output_type": "display_data"
    },
    {
     "name": "stdout",
     "output_type": "stream",
     "text": [
      "El directorio /data_local/GCS/gcs/Imagenes/2011-02-14/Cor2A/ ya existe\n"
     ]
    },
    {
     "data": {
      "application/vnd.jupyter.widget-view+json": {
       "model_id": "30dd89aa51dd47f3954bda57b856cf9d",
       "version_major": 2,
       "version_minor": 0
      },
      "text/plain": [
       "Files Downloaded:   0%|          | 0/1 [00:00<?, ?file/s]"
      ]
     },
     "metadata": {},
     "output_type": "display_data"
    },
    {
     "data": {
      "application/vnd.jupyter.widget-view+json": {
       "model_id": "fedc3560876544578624ef6e869a6b03",
       "version_major": 2,
       "version_minor": 0
      },
      "text/plain": [
       "20110214_233900_d4c2a.fts:   0%|          | 0.00/8.42M [00:00<?, ?B/s]"
      ]
     },
     "metadata": {},
     "output_type": "display_data"
    },
    {
     "name": "stdout",
     "output_type": "stream",
     "text": [
      "El directorio /data_local/GCS/gcs/Imagenes/2011-02-14/Cor2A/ ya existe\n"
     ]
    },
    {
     "data": {
      "application/vnd.jupyter.widget-view+json": {
       "model_id": "2232512b554847f7b614ccb1d43e2f3f",
       "version_major": 2,
       "version_minor": 0
      },
      "text/plain": [
       "Files Downloaded:   0%|          | 0/1 [00:00<?, ?file/s]"
      ]
     },
     "metadata": {},
     "output_type": "display_data"
    },
    {
     "data": {
      "application/vnd.jupyter.widget-view+json": {
       "model_id": "3c3d796bde3440649d23be5eb89ff075",
       "version_major": 2,
       "version_minor": 0
      },
      "text/plain": [
       "20110214_235400_d4c2a.fts:   0%|          | 0.00/8.42M [00:00<?, ?B/s]"
      ]
     },
     "metadata": {},
     "output_type": "display_data"
    },
    {
     "name": "stdout",
     "output_type": "stream",
     "text": [
      "El directorio /data_local/GCS/gcs/Imagenes/2011-02-14/Cor2A/ ya existe\n"
     ]
    },
    {
     "data": {
      "application/vnd.jupyter.widget-view+json": {
       "model_id": "83dbc6fc7d36458b9214fd69e214c722",
       "version_major": 2,
       "version_minor": 0
      },
      "text/plain": [
       "Files Downloaded:   0%|          | 0/1 [00:00<?, ?file/s]"
      ]
     },
     "metadata": {},
     "output_type": "display_data"
    },
    {
     "data": {
      "application/vnd.jupyter.widget-view+json": {
       "model_id": "4904ee9d6c2641d9b18b926a93294422",
       "version_major": 2,
       "version_minor": 0
      },
      "text/plain": [
       "20110215_000800_d4c2a.fts:   0%|          | 0.00/153k [00:00<?, ?B/s]"
      ]
     },
     "metadata": {},
     "output_type": "display_data"
    },
    {
     "name": "stdout",
     "output_type": "stream",
     "text": [
      "El directorio /data_local/GCS/gcs/Imagenes/2011-02-14/Cor2A/ ya existe\n"
     ]
    },
    {
     "data": {
      "application/vnd.jupyter.widget-view+json": {
       "model_id": "fbd008b706184113ac1d289596058c7a",
       "version_major": 2,
       "version_minor": 0
      },
      "text/plain": [
       "Files Downloaded:   0%|          | 0/1 [00:00<?, ?file/s]"
      ]
     },
     "metadata": {},
     "output_type": "display_data"
    },
    {
     "data": {
      "application/vnd.jupyter.widget-view+json": {
       "model_id": "f9c557454c2f442fb9c0e055a04a0695",
       "version_major": 2,
       "version_minor": 0
      },
      "text/plain": [
       "20110215_002400_d4c2a.fts:   0%|          | 0.00/8.42M [00:00<?, ?B/s]"
      ]
     },
     "metadata": {},
     "output_type": "display_data"
    },
    {
     "name": "stdout",
     "output_type": "stream",
     "text": [
      "El directorio /data_local/GCS/gcs/Imagenes/2011-02-14/Cor2A/ ya existe\n"
     ]
    },
    {
     "data": {
      "application/vnd.jupyter.widget-view+json": {
       "model_id": "ba5121c4fc2547699ad7381333764cc9",
       "version_major": 2,
       "version_minor": 0
      },
      "text/plain": [
       "Files Downloaded:   0%|          | 0/1 [00:00<?, ?file/s]"
      ]
     },
     "metadata": {},
     "output_type": "display_data"
    },
    {
     "data": {
      "application/vnd.jupyter.widget-view+json": {
       "model_id": "2cb23351cb7d4afcb92a5a37503ff35a",
       "version_major": 2,
       "version_minor": 0
      },
      "text/plain": [
       "20110215_003900_d4c2a.fts:   0%|          | 0.00/8.42M [00:00<?, ?B/s]"
      ]
     },
     "metadata": {},
     "output_type": "display_data"
    },
    {
     "name": "stdout",
     "output_type": "stream",
     "text": [
      "El directorio /data_local/GCS/gcs/Imagenes/2011-02-14/Cor2A/ ya existe\n"
     ]
    },
    {
     "data": {
      "application/vnd.jupyter.widget-view+json": {
       "model_id": "60df437a10c749ac835ef1579d7443db",
       "version_major": 2,
       "version_minor": 0
      },
      "text/plain": [
       "Files Downloaded:   0%|          | 0/1 [00:00<?, ?file/s]"
      ]
     },
     "metadata": {},
     "output_type": "display_data"
    },
    {
     "name": "stderr",
     "output_type": "stream",
     "text": [
      "Exception ignored in: <function BaseEventLoop.__del__ at 0x7f9725646a70>\n",
      "Traceback (most recent call last):\n",
      "  File \"/home/diegol/anaconda3/envs/actual/lib/python3.10/asyncio/base_events.py\", line 687, in __del__\n",
      "    self.close()\n",
      "  File \"/home/diegol/anaconda3/envs/actual/lib/python3.10/asyncio/unix_events.py\", line 71, in close\n",
      "    self.remove_signal_handler(sig)\n",
      "  File \"/home/diegol/anaconda3/envs/actual/lib/python3.10/asyncio/unix_events.py\", line 160, in remove_signal_handler\n",
      "    signal.signal(sig, handler)\n",
      "  File \"/home/diegol/anaconda3/envs/actual/lib/python3.10/signal.py\", line 56, in signal\n",
      "    handler = _signal.signal(_enum_to_int(signalnum), _enum_to_int(handler))\n",
      "ValueError: signal only works in main thread of the main interpreter\n",
      "Exception ignored in: <function BaseEventLoop.__del__ at 0x7f9725646a70>\n",
      "Traceback (most recent call last):\n",
      "  File \"/home/diegol/anaconda3/envs/actual/lib/python3.10/asyncio/base_events.py\", line 687, in __del__\n",
      "    self.close()\n",
      "  File \"/home/diegol/anaconda3/envs/actual/lib/python3.10/asyncio/unix_events.py\", line 71, in close\n",
      "    self.remove_signal_handler(sig)\n",
      "  File \"/home/diegol/anaconda3/envs/actual/lib/python3.10/asyncio/unix_events.py\", line 160, in remove_signal_handler\n",
      "    signal.signal(sig, handler)\n",
      "  File \"/home/diegol/anaconda3/envs/actual/lib/python3.10/signal.py\", line 56, in signal\n",
      "    handler = _signal.signal(_enum_to_int(signalnum), _enum_to_int(handler))\n",
      "ValueError: signal only works in main thread of the main interpreter\n",
      "Exception ignored in: <function BaseEventLoop.__del__ at 0x7f9725646a70>\n",
      "Traceback (most recent call last):\n",
      "  File \"/home/diegol/anaconda3/envs/actual/lib/python3.10/asyncio/base_events.py\", line 687, in __del__\n",
      "    self.close()\n",
      "  File \"/home/diegol/anaconda3/envs/actual/lib/python3.10/asyncio/unix_events.py\", line 71, in close\n",
      "    self.remove_signal_handler(sig)\n",
      "  File \"/home/diegol/anaconda3/envs/actual/lib/python3.10/asyncio/unix_events.py\", line 160, in remove_signal_handler\n",
      "    signal.signal(sig, handler)\n",
      "  File \"/home/diegol/anaconda3/envs/actual/lib/python3.10/signal.py\", line 56, in signal\n",
      "    handler = _signal.signal(_enum_to_int(signalnum), _enum_to_int(handler))\n",
      "ValueError: signal only works in main thread of the main interpreter\n",
      "Exception ignored in: <function BaseEventLoop.__del__ at 0x7f9725646a70>\n",
      "Traceback (most recent call last):\n",
      "  File \"/home/diegol/anaconda3/envs/actual/lib/python3.10/asyncio/base_events.py\", line 687, in __del__\n",
      "    self.close()\n",
      "  File \"/home/diegol/anaconda3/envs/actual/lib/python3.10/asyncio/unix_events.py\", line 71, in close\n",
      "    self.remove_signal_handler(sig)\n",
      "  File \"/home/diegol/anaconda3/envs/actual/lib/python3.10/asyncio/unix_events.py\", line 160, in remove_signal_handler\n",
      "    signal.signal(sig, handler)\n",
      "  File \"/home/diegol/anaconda3/envs/actual/lib/python3.10/signal.py\", line 56, in signal\n",
      "    handler = _signal.signal(_enum_to_int(signalnum), _enum_to_int(handler))\n",
      "ValueError: signal only works in main thread of the main interpreter\n",
      "Exception ignored in: <function BaseEventLoop.__del__ at 0x7f9725646a70>\n",
      "Traceback (most recent call last):\n",
      "  File \"/home/diegol/anaconda3/envs/actual/lib/python3.10/asyncio/base_events.py\", line 687, in __del__\n",
      "    self.close()\n",
      "  File \"/home/diegol/anaconda3/envs/actual/lib/python3.10/asyncio/unix_events.py\", line 71, in close\n",
      "    self.remove_signal_handler(sig)\n",
      "  File \"/home/diegol/anaconda3/envs/actual/lib/python3.10/asyncio/unix_events.py\", line 160, in remove_signal_handler\n",
      "    signal.signal(sig, handler)\n",
      "  File \"/home/diegol/anaconda3/envs/actual/lib/python3.10/signal.py\", line 56, in signal\n",
      "    handler = _signal.signal(_enum_to_int(signalnum), _enum_to_int(handler))\n",
      "ValueError: signal only works in main thread of the main interpreter\n",
      "Exception ignored in: <function BaseEventLoop.__del__ at 0x7f9725646a70>\n",
      "Traceback (most recent call last):\n",
      "  File \"/home/diegol/anaconda3/envs/actual/lib/python3.10/asyncio/base_events.py\", line 687, in __del__\n",
      "    self.close()\n",
      "  File \"/home/diegol/anaconda3/envs/actual/lib/python3.10/asyncio/unix_events.py\", line 71, in close\n",
      "    self.remove_signal_handler(sig)\n",
      "  File \"/home/diegol/anaconda3/envs/actual/lib/python3.10/asyncio/unix_events.py\", line 160, in remove_signal_handler\n",
      "    signal.signal(sig, handler)\n",
      "  File \"/home/diegol/anaconda3/envs/actual/lib/python3.10/signal.py\", line 56, in signal\n",
      "    handler = _signal.signal(_enum_to_int(signalnum), _enum_to_int(handler))\n",
      "ValueError: signal only works in main thread of the main interpreter\n",
      "Exception ignored in: <function BaseEventLoop.__del__ at 0x7f9725646a70>\n",
      "Traceback (most recent call last):\n",
      "  File \"/home/diegol/anaconda3/envs/actual/lib/python3.10/asyncio/base_events.py\", line 687, in __del__\n",
      "    self.close()\n",
      "  File \"/home/diegol/anaconda3/envs/actual/lib/python3.10/asyncio/unix_events.py\", line 71, in close\n",
      "    self.remove_signal_handler(sig)\n",
      "  File \"/home/diegol/anaconda3/envs/actual/lib/python3.10/asyncio/unix_events.py\", line 160, in remove_signal_handler\n",
      "    signal.signal(sig, handler)\n",
      "  File \"/home/diegol/anaconda3/envs/actual/lib/python3.10/signal.py\", line 56, in signal\n",
      "    handler = _signal.signal(_enum_to_int(signalnum), _enum_to_int(handler))\n",
      "ValueError: signal only works in main thread of the main interpreter\n"
     ]
    },
    {
     "data": {
      "application/vnd.jupyter.widget-view+json": {
       "model_id": "4ce07a278f064e46884edf00fd4a93ca",
       "version_major": 2,
       "version_minor": 0
      },
      "text/plain": [
       "20110215_005400_d4c2a.fts:   0%|          | 0.00/8.42M [00:00<?, ?B/s]"
      ]
     },
     "metadata": {},
     "output_type": "display_data"
    },
    {
     "name": "stdout",
     "output_type": "stream",
     "text": [
      "El directorio /data_local/GCS/gcs/Imagenes/2011-02-14/Cor2A/ ya existe\n"
     ]
    },
    {
     "data": {
      "application/vnd.jupyter.widget-view+json": {
       "model_id": "0bc9c914d8e945728934c017baea159b",
       "version_major": 2,
       "version_minor": 0
      },
      "text/plain": [
       "Files Downloaded:   0%|          | 0/1 [00:00<?, ?file/s]"
      ]
     },
     "metadata": {},
     "output_type": "display_data"
    },
    {
     "data": {
      "application/vnd.jupyter.widget-view+json": {
       "model_id": "e868a6bd91e649f4bdb1e617ef2c1110",
       "version_major": 2,
       "version_minor": 0
      },
      "text/plain": [
       "20110215_010800_d4c2a.fts:   0%|          | 0.00/153k [00:00<?, ?B/s]"
      ]
     },
     "metadata": {},
     "output_type": "display_data"
    },
    {
     "name": "stdout",
     "output_type": "stream",
     "text": [
      "El directorio /data_local/GCS/gcs/Imagenes/2011-02-14/Cor2A/ ya existe\n"
     ]
    },
    {
     "data": {
      "application/vnd.jupyter.widget-view+json": {
       "model_id": "92ed92f106004143b37cf008e99e13a6",
       "version_major": 2,
       "version_minor": 0
      },
      "text/plain": [
       "Files Downloaded:   0%|          | 0/1 [00:00<?, ?file/s]"
      ]
     },
     "metadata": {},
     "output_type": "display_data"
    },
    {
     "data": {
      "application/vnd.jupyter.widget-view+json": {
       "model_id": "1e8fa91915e44a918ee7e6b5291ad689",
       "version_major": 2,
       "version_minor": 0
      },
      "text/plain": [
       "20110215_012400_d4c2a.fts:   0%|          | 0.00/8.42M [00:00<?, ?B/s]"
      ]
     },
     "metadata": {},
     "output_type": "display_data"
    },
    {
     "name": "stdout",
     "output_type": "stream",
     "text": [
      "El directorio /data_local/GCS/gcs/Imagenes/2011-02-14/Cor2A/ ya existe\n"
     ]
    },
    {
     "data": {
      "application/vnd.jupyter.widget-view+json": {
       "model_id": "96e1a3dd5afc4c218c2351a897d70a01",
       "version_major": 2,
       "version_minor": 0
      },
      "text/plain": [
       "Files Downloaded:   0%|          | 0/1 [00:00<?, ?file/s]"
      ]
     },
     "metadata": {},
     "output_type": "display_data"
    },
    {
     "data": {
      "application/vnd.jupyter.widget-view+json": {
       "model_id": "b03a53f4b9b749398f0bc6205ba26f49",
       "version_major": 2,
       "version_minor": 0
      },
      "text/plain": [
       "20110215_013900_d4c2a.fts:   0%|          | 0.00/8.42M [00:00<?, ?B/s]"
      ]
     },
     "metadata": {},
     "output_type": "display_data"
    },
    {
     "name": "stdout",
     "output_type": "stream",
     "text": [
      "El directorio /data_local/GCS/gcs/Imagenes/2011-02-14/Cor2A/ ya existe\n"
     ]
    },
    {
     "data": {
      "application/vnd.jupyter.widget-view+json": {
       "model_id": "de425045c1524acab4358200b5c9e3de",
       "version_major": 2,
       "version_minor": 0
      },
      "text/plain": [
       "Files Downloaded:   0%|          | 0/1 [00:00<?, ?file/s]"
      ]
     },
     "metadata": {},
     "output_type": "display_data"
    },
    {
     "data": {
      "application/vnd.jupyter.widget-view+json": {
       "model_id": "ef475d84f69b445dad97e161669bc1ac",
       "version_major": 2,
       "version_minor": 0
      },
      "text/plain": [
       "20110215_015400_d4c2a.fts:   0%|          | 0.00/8.42M [00:00<?, ?B/s]"
      ]
     },
     "metadata": {},
     "output_type": "display_data"
    },
    {
     "name": "stdout",
     "output_type": "stream",
     "text": [
      "El directorio /data_local/GCS/gcs/Imagenes/2011-02-14/Cor2A/ ya existe\n"
     ]
    },
    {
     "data": {
      "application/vnd.jupyter.widget-view+json": {
       "model_id": "1482c26e8256461985d616276c25fc7d",
       "version_major": 2,
       "version_minor": 0
      },
      "text/plain": [
       "Files Downloaded:   0%|          | 0/1 [00:00<?, ?file/s]"
      ]
     },
     "metadata": {},
     "output_type": "display_data"
    },
    {
     "data": {
      "application/vnd.jupyter.widget-view+json": {
       "model_id": "380577c5697d4a7c81012096b31ce867",
       "version_major": 2,
       "version_minor": 0
      },
      "text/plain": [
       "20110215_020800_d4c2a.fts:   0%|          | 0.00/153k [00:00<?, ?B/s]"
      ]
     },
     "metadata": {},
     "output_type": "display_data"
    },
    {
     "name": "stdout",
     "output_type": "stream",
     "text": [
      "El directorio /data_local/GCS/gcs/Imagenes/2011-02-14/Cor2A/ ya existe\n"
     ]
    },
    {
     "data": {
      "application/vnd.jupyter.widget-view+json": {
       "model_id": "755da22eb55c4dd6b8370b49a0a8f2f2",
       "version_major": 2,
       "version_minor": 0
      },
      "text/plain": [
       "Files Downloaded:   0%|          | 0/1 [00:00<?, ?file/s]"
      ]
     },
     "metadata": {},
     "output_type": "display_data"
    },
    {
     "data": {
      "application/vnd.jupyter.widget-view+json": {
       "model_id": "73b512ef98024978a15398dcc62847a2",
       "version_major": 2,
       "version_minor": 0
      },
      "text/plain": [
       "20110215_022400_d4c2a.fts:   0%|          | 0.00/8.42M [00:00<?, ?B/s]"
      ]
     },
     "metadata": {},
     "output_type": "display_data"
    },
    {
     "name": "stdout",
     "output_type": "stream",
     "text": [
      "El directorio /data_local/GCS/gcs/Imagenes/2011-02-14/Cor2A/ ya existe\n"
     ]
    },
    {
     "data": {
      "application/vnd.jupyter.widget-view+json": {
       "model_id": "62575ca9fe65472b99a0b2be130df382",
       "version_major": 2,
       "version_minor": 0
      },
      "text/plain": [
       "Files Downloaded:   0%|          | 0/1 [00:00<?, ?file/s]"
      ]
     },
     "metadata": {},
     "output_type": "display_data"
    },
    {
     "data": {
      "application/vnd.jupyter.widget-view+json": {
       "model_id": "1d668569abcd4fecb9999d9640f20924",
       "version_major": 2,
       "version_minor": 0
      },
      "text/plain": [
       "20110215_023900_d4c2a.fts:   0%|          | 0.00/8.42M [00:00<?, ?B/s]"
      ]
     },
     "metadata": {},
     "output_type": "display_data"
    },
    {
     "name": "stdout",
     "output_type": "stream",
     "text": [
      "El directorio /data_local/GCS/gcs/Imagenes/2011-02-14/Cor2A/ ya existe\n"
     ]
    },
    {
     "data": {
      "application/vnd.jupyter.widget-view+json": {
       "model_id": "1bff8f76d6814f1da2a519281601cb9e",
       "version_major": 2,
       "version_minor": 0
      },
      "text/plain": [
       "Files Downloaded:   0%|          | 0/1 [00:00<?, ?file/s]"
      ]
     },
     "metadata": {},
     "output_type": "display_data"
    },
    {
     "name": "stderr",
     "output_type": "stream",
     "text": [
      "Exception ignored in: <function BaseEventLoop.__del__ at 0x7f9725646a70>\n",
      "Traceback (most recent call last):\n",
      "  File \"/home/diegol/anaconda3/envs/actual/lib/python3.10/asyncio/base_events.py\", line 687, in __del__\n",
      "    self.close()\n",
      "  File \"/home/diegol/anaconda3/envs/actual/lib/python3.10/asyncio/unix_events.py\", line 71, in close\n",
      "    self.remove_signal_handler(sig)\n",
      "  File \"/home/diegol/anaconda3/envs/actual/lib/python3.10/asyncio/unix_events.py\", line 160, in remove_signal_handler\n",
      "    signal.signal(sig, handler)\n",
      "  File \"/home/diegol/anaconda3/envs/actual/lib/python3.10/signal.py\", line 56, in signal\n",
      "    handler = _signal.signal(_enum_to_int(signalnum), _enum_to_int(handler))\n",
      "ValueError: signal only works in main thread of the main interpreter\n",
      "Exception ignored in: <function BaseEventLoop.__del__ at 0x7f9725646a70>\n",
      "Traceback (most recent call last):\n",
      "  File \"/home/diegol/anaconda3/envs/actual/lib/python3.10/asyncio/base_events.py\", line 687, in __del__\n",
      "    self.close()\n",
      "  File \"/home/diegol/anaconda3/envs/actual/lib/python3.10/asyncio/unix_events.py\", line 71, in close\n",
      "    self.remove_signal_handler(sig)\n",
      "  File \"/home/diegol/anaconda3/envs/actual/lib/python3.10/asyncio/unix_events.py\", line 160, in remove_signal_handler\n",
      "    signal.signal(sig, handler)\n",
      "  File \"/home/diegol/anaconda3/envs/actual/lib/python3.10/signal.py\", line 56, in signal\n",
      "    handler = _signal.signal(_enum_to_int(signalnum), _enum_to_int(handler))\n",
      "ValueError: signal only works in main thread of the main interpreter\n",
      "Exception ignored in: <function BaseEventLoop.__del__ at 0x7f9725646a70>\n",
      "Traceback (most recent call last):\n",
      "  File \"/home/diegol/anaconda3/envs/actual/lib/python3.10/asyncio/base_events.py\", line 687, in __del__\n",
      "    self.close()\n",
      "  File \"/home/diegol/anaconda3/envs/actual/lib/python3.10/asyncio/unix_events.py\", line 71, in close\n",
      "    self.remove_signal_handler(sig)\n",
      "  File \"/home/diegol/anaconda3/envs/actual/lib/python3.10/asyncio/unix_events.py\", line 160, in remove_signal_handler\n",
      "    signal.signal(sig, handler)\n",
      "  File \"/home/diegol/anaconda3/envs/actual/lib/python3.10/signal.py\", line 56, in signal\n",
      "    handler = _signal.signal(_enum_to_int(signalnum), _enum_to_int(handler))\n",
      "ValueError: signal only works in main thread of the main interpreter\n",
      "Exception ignored in: <function BaseEventLoop.__del__ at 0x7f9725646a70>\n",
      "Traceback (most recent call last):\n",
      "  File \"/home/diegol/anaconda3/envs/actual/lib/python3.10/asyncio/base_events.py\", line 687, in __del__\n",
      "    self.close()\n",
      "  File \"/home/diegol/anaconda3/envs/actual/lib/python3.10/asyncio/unix_events.py\", line 71, in close\n",
      "    self.remove_signal_handler(sig)\n",
      "  File \"/home/diegol/anaconda3/envs/actual/lib/python3.10/asyncio/unix_events.py\", line 160, in remove_signal_handler\n",
      "    signal.signal(sig, handler)\n",
      "  File \"/home/diegol/anaconda3/envs/actual/lib/python3.10/signal.py\", line 56, in signal\n",
      "    handler = _signal.signal(_enum_to_int(signalnum), _enum_to_int(handler))\n",
      "ValueError: signal only works in main thread of the main interpreter\n",
      "Exception ignored in: <function BaseEventLoop.__del__ at 0x7f9725646a70>\n",
      "Traceback (most recent call last):\n",
      "  File \"/home/diegol/anaconda3/envs/actual/lib/python3.10/asyncio/base_events.py\", line 687, in __del__\n",
      "    self.close()\n",
      "  File \"/home/diegol/anaconda3/envs/actual/lib/python3.10/asyncio/unix_events.py\", line 71, in close\n",
      "    self.remove_signal_handler(sig)\n",
      "  File \"/home/diegol/anaconda3/envs/actual/lib/python3.10/asyncio/unix_events.py\", line 160, in remove_signal_handler\n",
      "    signal.signal(sig, handler)\n",
      "  File \"/home/diegol/anaconda3/envs/actual/lib/python3.10/signal.py\", line 56, in signal\n",
      "    handler = _signal.signal(_enum_to_int(signalnum), _enum_to_int(handler))\n",
      "ValueError: signal only works in main thread of the main interpreter\n",
      "Exception ignored in: <function BaseEventLoop.__del__ at 0x7f9725646a70>\n",
      "Traceback (most recent call last):\n",
      "  File \"/home/diegol/anaconda3/envs/actual/lib/python3.10/asyncio/base_events.py\", line 687, in __del__\n",
      "    self.close()\n",
      "  File \"/home/diegol/anaconda3/envs/actual/lib/python3.10/asyncio/unix_events.py\", line 71, in close\n",
      "    self.remove_signal_handler(sig)\n",
      "  File \"/home/diegol/anaconda3/envs/actual/lib/python3.10/asyncio/unix_events.py\", line 160, in remove_signal_handler\n",
      "    signal.signal(sig, handler)\n",
      "  File \"/home/diegol/anaconda3/envs/actual/lib/python3.10/signal.py\", line 56, in signal\n",
      "    handler = _signal.signal(_enum_to_int(signalnum), _enum_to_int(handler))\n",
      "ValueError: signal only works in main thread of the main interpreter\n",
      "Exception ignored in: <function BaseEventLoop.__del__ at 0x7f9725646a70>\n",
      "Traceback (most recent call last):\n",
      "  File \"/home/diegol/anaconda3/envs/actual/lib/python3.10/asyncio/base_events.py\", line 687, in __del__\n",
      "    self.close()\n",
      "  File \"/home/diegol/anaconda3/envs/actual/lib/python3.10/asyncio/unix_events.py\", line 71, in close\n",
      "    self.remove_signal_handler(sig)\n",
      "  File \"/home/diegol/anaconda3/envs/actual/lib/python3.10/asyncio/unix_events.py\", line 160, in remove_signal_handler\n",
      "    signal.signal(sig, handler)\n",
      "  File \"/home/diegol/anaconda3/envs/actual/lib/python3.10/signal.py\", line 56, in signal\n",
      "    handler = _signal.signal(_enum_to_int(signalnum), _enum_to_int(handler))\n",
      "ValueError: signal only works in main thread of the main interpreter\n"
     ]
    },
    {
     "data": {
      "application/vnd.jupyter.widget-view+json": {
       "model_id": "f67c604ba50a4058b7fc06bd7a7917b9",
       "version_major": 2,
       "version_minor": 0
      },
      "text/plain": [
       "20110215_025400_d4c2a.fts:   0%|          | 0.00/8.42M [00:00<?, ?B/s]"
      ]
     },
     "metadata": {},
     "output_type": "display_data"
    },
    {
     "name": "stdout",
     "output_type": "stream",
     "text": [
      "El directorio /data_local/GCS/gcs/Imagenes/2011-02-14/Cor2A/ ya existe\n"
     ]
    },
    {
     "data": {
      "application/vnd.jupyter.widget-view+json": {
       "model_id": "cabd87be866841eb83bc79a9a43dcc02",
       "version_major": 2,
       "version_minor": 0
      },
      "text/plain": [
       "Files Downloaded:   0%|          | 0/1 [00:00<?, ?file/s]"
      ]
     },
     "metadata": {},
     "output_type": "display_data"
    },
    {
     "data": {
      "application/vnd.jupyter.widget-view+json": {
       "model_id": "d597687b9e054a38afe91913475e0fc6",
       "version_major": 2,
       "version_minor": 0
      },
      "text/plain": [
       "20110215_030800_d4c2a.fts:   0%|          | 0.00/153k [00:00<?, ?B/s]"
      ]
     },
     "metadata": {},
     "output_type": "display_data"
    },
    {
     "name": "stdout",
     "output_type": "stream",
     "text": [
      "El directorio /data_local/GCS/gcs/Imagenes/2011-02-14/Cor2A/ ya existe\n"
     ]
    },
    {
     "data": {
      "application/vnd.jupyter.widget-view+json": {
       "model_id": "f06a1121c7154a76b4e210b98fbfec66",
       "version_major": 2,
       "version_minor": 0
      },
      "text/plain": [
       "Files Downloaded:   0%|          | 0/1 [00:00<?, ?file/s]"
      ]
     },
     "metadata": {},
     "output_type": "display_data"
    },
    {
     "data": {
      "application/vnd.jupyter.widget-view+json": {
       "model_id": "83cf585d2d9841ffba341bb943477621",
       "version_major": 2,
       "version_minor": 0
      },
      "text/plain": [
       "20110215_032400_d4c2a.fts:   0%|          | 0.00/8.42M [00:00<?, ?B/s]"
      ]
     },
     "metadata": {},
     "output_type": "display_data"
    },
    {
     "name": "stdout",
     "output_type": "stream",
     "text": [
      "El directorio /data_local/GCS/gcs/Imagenes/2011-02-14/Cor2A/ ya existe\n"
     ]
    },
    {
     "data": {
      "application/vnd.jupyter.widget-view+json": {
       "model_id": "74bb3294633d484688ed798b739f5877",
       "version_major": 2,
       "version_minor": 0
      },
      "text/plain": [
       "Files Downloaded:   0%|          | 0/1 [00:00<?, ?file/s]"
      ]
     },
     "metadata": {},
     "output_type": "display_data"
    },
    {
     "data": {
      "application/vnd.jupyter.widget-view+json": {
       "model_id": "f8ede7a2b0b64fd6af63ca3a0b31e61a",
       "version_major": 2,
       "version_minor": 0
      },
      "text/plain": [
       "20110215_033900_d4c2a.fts:   0%|          | 0.00/8.42M [00:00<?, ?B/s]"
      ]
     },
     "metadata": {},
     "output_type": "display_data"
    },
    {
     "name": "stdout",
     "output_type": "stream",
     "text": [
      "El directorio /data_local/GCS/gcs/Imagenes/2011-02-14/Cor2A/ ya existe\n"
     ]
    },
    {
     "data": {
      "application/vnd.jupyter.widget-view+json": {
       "model_id": "e23e353c42614257b7f98d93f261b1b3",
       "version_major": 2,
       "version_minor": 0
      },
      "text/plain": [
       "Files Downloaded:   0%|          | 0/1 [00:00<?, ?file/s]"
      ]
     },
     "metadata": {},
     "output_type": "display_data"
    },
    {
     "data": {
      "application/vnd.jupyter.widget-view+json": {
       "model_id": "f3da3647f6e34813bf0ee0ce852a8629",
       "version_major": 2,
       "version_minor": 0
      },
      "text/plain": [
       "20110215_035400_d4c2a.fts:   0%|          | 0.00/8.42M [00:00<?, ?B/s]"
      ]
     },
     "metadata": {},
     "output_type": "display_data"
    },
    {
     "name": "stdout",
     "output_type": "stream",
     "text": [
      "El directorio /data_local/GCS/gcs/Imagenes/2011-02-14/Cor2A/ ya existe\n"
     ]
    },
    {
     "data": {
      "application/vnd.jupyter.widget-view+json": {
       "model_id": "03062bbf13c849c0a1b8d79419714103",
       "version_major": 2,
       "version_minor": 0
      },
      "text/plain": [
       "Files Downloaded:   0%|          | 0/1 [00:00<?, ?file/s]"
      ]
     },
     "metadata": {},
     "output_type": "display_data"
    },
    {
     "data": {
      "application/vnd.jupyter.widget-view+json": {
       "model_id": "cad3982dd45d4085b05792a529bc6ee8",
       "version_major": 2,
       "version_minor": 0
      },
      "text/plain": [
       "20110215_040800_d4c2a.fts:   0%|          | 0.00/153k [00:00<?, ?B/s]"
      ]
     },
     "metadata": {},
     "output_type": "display_data"
    },
    {
     "name": "stdout",
     "output_type": "stream",
     "text": [
      "El directorio /data_local/GCS/gcs/Imagenes/2011-02-14/Cor2A/ ya existe\n"
     ]
    },
    {
     "data": {
      "application/vnd.jupyter.widget-view+json": {
       "model_id": "0064c2acd8f54930be982c7b4bd6485c",
       "version_major": 2,
       "version_minor": 0
      },
      "text/plain": [
       "Files Downloaded:   0%|          | 0/1 [00:00<?, ?file/s]"
      ]
     },
     "metadata": {},
     "output_type": "display_data"
    },
    {
     "data": {
      "application/vnd.jupyter.widget-view+json": {
       "model_id": "2fe12c79e8ad47049416b3eb001c00bb",
       "version_major": 2,
       "version_minor": 0
      },
      "text/plain": [
       "20110215_042400_d4c2a.fts:   0%|          | 0.00/8.42M [00:00<?, ?B/s]"
      ]
     },
     "metadata": {},
     "output_type": "display_data"
    },
    {
     "name": "stdout",
     "output_type": "stream",
     "text": [
      "El directorio /data_local/GCS/gcs/Imagenes/2011-02-14/Cor2A/ ya existe\n"
     ]
    },
    {
     "data": {
      "application/vnd.jupyter.widget-view+json": {
       "model_id": "119a165e45224e7e8783451a87e3e369",
       "version_major": 2,
       "version_minor": 0
      },
      "text/plain": [
       "Files Downloaded:   0%|          | 0/1 [00:00<?, ?file/s]"
      ]
     },
     "metadata": {},
     "output_type": "display_data"
    },
    {
     "data": {
      "application/vnd.jupyter.widget-view+json": {
       "model_id": "8885b0b6313a457996b6768a96cf2569",
       "version_major": 2,
       "version_minor": 0
      },
      "text/plain": [
       "20110215_043900_d4c2a.fts:   0%|          | 0.00/8.42M [00:00<?, ?B/s]"
      ]
     },
     "metadata": {},
     "output_type": "display_data"
    },
    {
     "name": "stderr",
     "output_type": "stream",
     "text": [
      "Exception ignored in: <function BaseEventLoop.__del__ at 0x7f9725646a70>\n",
      "Traceback (most recent call last):\n",
      "  File \"/home/diegol/anaconda3/envs/actual/lib/python3.10/asyncio/base_events.py\", line 687, in __del__\n",
      "    self.close()\n",
      "  File \"/home/diegol/anaconda3/envs/actual/lib/python3.10/asyncio/unix_events.py\", line 71, in close\n",
      "    self.remove_signal_handler(sig)\n",
      "  File \"/home/diegol/anaconda3/envs/actual/lib/python3.10/asyncio/unix_events.py\", line 160, in remove_signal_handler\n",
      "    signal.signal(sig, handler)\n",
      "  File \"/home/diegol/anaconda3/envs/actual/lib/python3.10/signal.py\", line 56, in signal\n",
      "    handler = _signal.signal(_enum_to_int(signalnum), _enum_to_int(handler))\n",
      "ValueError: signal only works in main thread of the main interpreter\n",
      "Exception ignored in: <function BaseEventLoop.__del__ at 0x7f9725646a70>\n",
      "Traceback (most recent call last):\n",
      "  File \"/home/diegol/anaconda3/envs/actual/lib/python3.10/asyncio/base_events.py\", line 687, in __del__\n",
      "    self.close()\n",
      "  File \"/home/diegol/anaconda3/envs/actual/lib/python3.10/asyncio/unix_events.py\", line 71, in close\n",
      "    self.remove_signal_handler(sig)\n",
      "  File \"/home/diegol/anaconda3/envs/actual/lib/python3.10/asyncio/unix_events.py\", line 160, in remove_signal_handler\n",
      "    signal.signal(sig, handler)\n",
      "  File \"/home/diegol/anaconda3/envs/actual/lib/python3.10/signal.py\", line 56, in signal\n",
      "    handler = _signal.signal(_enum_to_int(signalnum), _enum_to_int(handler))\n",
      "ValueError: signal only works in main thread of the main interpreter\n",
      "Exception ignored in: <function BaseEventLoop.__del__ at 0x7f9725646a70>\n",
      "Traceback (most recent call last):\n",
      "  File \"/home/diegol/anaconda3/envs/actual/lib/python3.10/asyncio/base_events.py\", line 687, in __del__\n",
      "    self.close()\n",
      "  File \"/home/diegol/anaconda3/envs/actual/lib/python3.10/asyncio/unix_events.py\", line 71, in close\n",
      "    self.remove_signal_handler(sig)\n",
      "  File \"/home/diegol/anaconda3/envs/actual/lib/python3.10/asyncio/unix_events.py\", line 160, in remove_signal_handler\n",
      "    signal.signal(sig, handler)\n",
      "  File \"/home/diegol/anaconda3/envs/actual/lib/python3.10/signal.py\", line 56, in signal\n",
      "    handler = _signal.signal(_enum_to_int(signalnum), _enum_to_int(handler))\n",
      "ValueError: signal only works in main thread of the main interpreter\n",
      "Exception ignored in: <function BaseEventLoop.__del__ at 0x7f9725646a70>\n",
      "Traceback (most recent call last):\n",
      "  File \"/home/diegol/anaconda3/envs/actual/lib/python3.10/asyncio/base_events.py\", line 687, in __del__\n",
      "    self.close()\n",
      "  File \"/home/diegol/anaconda3/envs/actual/lib/python3.10/asyncio/unix_events.py\", line 71, in close\n",
      "    self.remove_signal_handler(sig)\n",
      "  File \"/home/diegol/anaconda3/envs/actual/lib/python3.10/asyncio/unix_events.py\", line 160, in remove_signal_handler\n",
      "    signal.signal(sig, handler)\n",
      "  File \"/home/diegol/anaconda3/envs/actual/lib/python3.10/signal.py\", line 56, in signal\n",
      "    handler = _signal.signal(_enum_to_int(signalnum), _enum_to_int(handler))\n",
      "ValueError: signal only works in main thread of the main interpreter\n",
      "Exception ignored in: <function BaseEventLoop.__del__ at 0x7f9725646a70>\n",
      "Traceback (most recent call last):\n",
      "  File \"/home/diegol/anaconda3/envs/actual/lib/python3.10/asyncio/base_events.py\", line 687, in __del__\n",
      "    self.close()\n",
      "  File \"/home/diegol/anaconda3/envs/actual/lib/python3.10/asyncio/unix_events.py\", line 71, in close\n",
      "    self.remove_signal_handler(sig)\n",
      "  File \"/home/diegol/anaconda3/envs/actual/lib/python3.10/asyncio/unix_events.py\", line 160, in remove_signal_handler\n",
      "    signal.signal(sig, handler)\n",
      "  File \"/home/diegol/anaconda3/envs/actual/lib/python3.10/signal.py\", line 56, in signal\n",
      "    handler = _signal.signal(_enum_to_int(signalnum), _enum_to_int(handler))\n",
      "ValueError: signal only works in main thread of the main interpreter\n",
      "Exception ignored in: <function BaseEventLoop.__del__ at 0x7f9725646a70>\n",
      "Traceback (most recent call last):\n",
      "  File \"/home/diegol/anaconda3/envs/actual/lib/python3.10/asyncio/base_events.py\", line 687, in __del__\n",
      "    self.close()\n",
      "  File \"/home/diegol/anaconda3/envs/actual/lib/python3.10/asyncio/unix_events.py\", line 71, in close\n",
      "    self.remove_signal_handler(sig)\n",
      "  File \"/home/diegol/anaconda3/envs/actual/lib/python3.10/asyncio/unix_events.py\", line 160, in remove_signal_handler\n",
      "    signal.signal(sig, handler)\n",
      "  File \"/home/diegol/anaconda3/envs/actual/lib/python3.10/signal.py\", line 56, in signal\n",
      "    handler = _signal.signal(_enum_to_int(signalnum), _enum_to_int(handler))\n",
      "ValueError: signal only works in main thread of the main interpreter\n"
     ]
    },
    {
     "name": "stdout",
     "output_type": "stream",
     "text": [
      "El directorio /data_local/GCS/gcs/Imagenes/2011-02-14/Cor2A/ ya existe\n"
     ]
    },
    {
     "data": {
      "application/vnd.jupyter.widget-view+json": {
       "model_id": "9276bd8399b4400ba04d7e73ad5a0574",
       "version_major": 2,
       "version_minor": 0
      },
      "text/plain": [
       "Files Downloaded:   0%|          | 0/1 [00:00<?, ?file/s]"
      ]
     },
     "metadata": {},
     "output_type": "display_data"
    },
    {
     "data": {
      "application/vnd.jupyter.widget-view+json": {
       "model_id": "6e3ccb9a36764407bd8e16105c26befc",
       "version_major": 2,
       "version_minor": 0
      },
      "text/plain": [
       "20110215_045400_d4c2a.fts:   0%|          | 0.00/8.42M [00:00<?, ?B/s]"
      ]
     },
     "metadata": {},
     "output_type": "display_data"
    },
    {
     "name": "stdout",
     "output_type": "stream",
     "text": [
      "El directorio /data_local/GCS/gcs/Imagenes/2011-02-14/Cor2A/ ya existe\n"
     ]
    },
    {
     "data": {
      "application/vnd.jupyter.widget-view+json": {
       "model_id": "6b61ed8877544d759a89a29e9f8a0690",
       "version_major": 2,
       "version_minor": 0
      },
      "text/plain": [
       "Files Downloaded:   0%|          | 0/1 [00:00<?, ?file/s]"
      ]
     },
     "metadata": {},
     "output_type": "display_data"
    },
    {
     "data": {
      "application/vnd.jupyter.widget-view+json": {
       "model_id": "d5b397181cb94b8d80492a9578732e9b",
       "version_major": 2,
       "version_minor": 0
      },
      "text/plain": [
       "20110215_050800_d4c2a.fts:   0%|          | 0.00/153k [00:00<?, ?B/s]"
      ]
     },
     "metadata": {},
     "output_type": "display_data"
    },
    {
     "name": "stdout",
     "output_type": "stream",
     "text": [
      "El directorio /data_local/GCS/gcs/Imagenes/2011-02-14/Cor2A/ ya existe\n"
     ]
    },
    {
     "data": {
      "application/vnd.jupyter.widget-view+json": {
       "model_id": "ae57f15df51148c4814843e946b006dd",
       "version_major": 2,
       "version_minor": 0
      },
      "text/plain": [
       "Files Downloaded:   0%|          | 0/1 [00:00<?, ?file/s]"
      ]
     },
     "metadata": {},
     "output_type": "display_data"
    },
    {
     "data": {
      "application/vnd.jupyter.widget-view+json": {
       "model_id": "4424c7f33e424f3b847ce1fbccb3328e",
       "version_major": 2,
       "version_minor": 0
      },
      "text/plain": [
       "20110215_052400_d4c2a.fts:   0%|          | 0.00/8.42M [00:00<?, ?B/s]"
      ]
     },
     "metadata": {},
     "output_type": "display_data"
    },
    {
     "name": "stdout",
     "output_type": "stream",
     "text": [
      "El directorio /data_local/GCS/gcs/Imagenes/2011-02-14/Cor2A/ ya existe\n"
     ]
    },
    {
     "data": {
      "application/vnd.jupyter.widget-view+json": {
       "model_id": "8c91f5bd0ed947e296f84aca463a4261",
       "version_major": 2,
       "version_minor": 0
      },
      "text/plain": [
       "Files Downloaded:   0%|          | 0/1 [00:00<?, ?file/s]"
      ]
     },
     "metadata": {},
     "output_type": "display_data"
    },
    {
     "data": {
      "application/vnd.jupyter.widget-view+json": {
       "model_id": "07fb21a888b0465ebed5da3e7f131180",
       "version_major": 2,
       "version_minor": 0
      },
      "text/plain": [
       "20110215_053900_d4c2a.fts:   0%|          | 0.00/8.42M [00:00<?, ?B/s]"
      ]
     },
     "metadata": {},
     "output_type": "display_data"
    },
    {
     "name": "stdout",
     "output_type": "stream",
     "text": [
      "El directorio /data_local/GCS/gcs/Imagenes/2011-02-14/Cor2A/ ya existe\n"
     ]
    },
    {
     "data": {
      "application/vnd.jupyter.widget-view+json": {
       "model_id": "de69fb505a5b4b028cf7f73bccd3a209",
       "version_major": 2,
       "version_minor": 0
      },
      "text/plain": [
       "Files Downloaded:   0%|          | 0/1 [00:00<?, ?file/s]"
      ]
     },
     "metadata": {},
     "output_type": "display_data"
    },
    {
     "data": {
      "application/vnd.jupyter.widget-view+json": {
       "model_id": "ef4dbf64ebdb46c99c36750d95400f54",
       "version_major": 2,
       "version_minor": 0
      },
      "text/plain": [
       "20110215_055400_d4c2a.fts:   0%|          | 0.00/8.42M [00:00<?, ?B/s]"
      ]
     },
     "metadata": {},
     "output_type": "display_data"
    },
    {
     "name": "stdout",
     "output_type": "stream",
     "text": [
      "El directorio /data_local/GCS/gcs/Imagenes/2011-02-14/Cor2A/ ya existe\n"
     ]
    },
    {
     "data": {
      "application/vnd.jupyter.widget-view+json": {
       "model_id": "5cec3cf9c307409a8792fbe10ea36bce",
       "version_major": 2,
       "version_minor": 0
      },
      "text/plain": [
       "Files Downloaded:   0%|          | 0/1 [00:00<?, ?file/s]"
      ]
     },
     "metadata": {},
     "output_type": "display_data"
    },
    {
     "data": {
      "application/vnd.jupyter.widget-view+json": {
       "model_id": "4deff0947c8c47a8a0893b48dff7a2ed",
       "version_major": 2,
       "version_minor": 0
      },
      "text/plain": [
       "20110215_060800_d4c2a.fts:   0%|          | 0.00/153k [00:00<?, ?B/s]"
      ]
     },
     "metadata": {},
     "output_type": "display_data"
    },
    {
     "name": "stdout",
     "output_type": "stream",
     "text": [
      "Archivos descargados en: /data_local/GCS/gcs/Imagenes/2011-02-14/Cor2A/\n"
     ]
    }
   ],
   "source": [
    "#path='/data1/work/gcs/Imagenes/2010-04-03/Cor2A/'\n",
    "path='/data_local/GCS/gcs/Imagenes/'+cor2A_i.split()[0]+'/Cor2A/'\n",
    "print(path)\n",
    "cor2A_images.download(download_path=path)"
   ]
  },
  {
   "cell_type": "code",
   "execution_count": 7,
   "metadata": {},
   "outputs": [
    {
     "data": {
      "text/html": [
       "<div><i>VSOQueryResponseTable length=54</i>\n",
       "<table id=\"table140284661589488\" class=\"table-striped table-bordered table-condensed\">\n",
       "<thead><tr><th>Start Time</th><th>End Time</th><th>Source</th><th>Instrument</th><th>Wavelength</th><th>Provider</th><th>Wavetype</th><th>Extent Type</th><th>Size</th></tr></thead>\n",
       "<thead><tr><th></th><th></th><th></th><th></th><th>Angstrom</th><th></th><th></th><th></th><th>Mibyte</th></tr></thead>\n",
       "<thead><tr><th>Time</th><th>Time</th><th>str8</th><th>str6</th><th>float64[2]</th><th>str3</th><th>str5</th><th>object</th><th>float64</th></tr></thead>\n",
       "<tr><td>2011-02-14 16:54:33.000</td><td>2011-02-14 16:54:59.000</td><td>STEREO_B</td><td>SECCHI</td><td>6500.0 .. 7500.0</td><td>SSC</td><td>BROAD</td><td>None</td><td>8.03375</td></tr>\n",
       "<tr><td>2011-02-14 17:08:33.000</td><td>2011-02-14 17:08:35.000</td><td>STEREO_B</td><td>SECCHI</td><td>6500.0 .. 7500.0</td><td>SSC</td><td>BROAD</td><td>CORONA</td><td>0.14557</td></tr>\n",
       "<tr><td>2011-02-14 17:24:33.000</td><td>2011-02-14 17:24:59.000</td><td>STEREO_B</td><td>SECCHI</td><td>6500.0 .. 7500.0</td><td>SSC</td><td>BROAD</td><td>None</td><td>8.03375</td></tr>\n",
       "<tr><td>2011-02-14 17:39:33.000</td><td>2011-02-14 17:39:59.000</td><td>STEREO_B</td><td>SECCHI</td><td>6500.0 .. 7500.0</td><td>SSC</td><td>BROAD</td><td>None</td><td>8.03375</td></tr>\n",
       "<tr><td>2011-02-14 17:54:33.000</td><td>2011-02-14 17:54:59.000</td><td>STEREO_B</td><td>SECCHI</td><td>6500.0 .. 7500.0</td><td>SSC</td><td>BROAD</td><td>None</td><td>8.03375</td></tr>\n",
       "<tr><td>2011-02-14 18:08:33.000</td><td>2011-02-14 18:08:35.000</td><td>STEREO_B</td><td>SECCHI</td><td>6500.0 .. 7500.0</td><td>SSC</td><td>BROAD</td><td>CORONA</td><td>0.14557</td></tr>\n",
       "<tr><td>2011-02-14 18:24:33.000</td><td>2011-02-14 18:24:59.000</td><td>STEREO_B</td><td>SECCHI</td><td>6500.0 .. 7500.0</td><td>SSC</td><td>BROAD</td><td>None</td><td>8.03375</td></tr>\n",
       "<tr><td>2011-02-14 18:39:33.000</td><td>2011-02-14 18:39:59.000</td><td>STEREO_B</td><td>SECCHI</td><td>6500.0 .. 7500.0</td><td>SSC</td><td>BROAD</td><td>None</td><td>8.03375</td></tr>\n",
       "<tr><td>2011-02-14 18:54:33.000</td><td>2011-02-14 18:54:59.000</td><td>STEREO_B</td><td>SECCHI</td><td>6500.0 .. 7500.0</td><td>SSC</td><td>BROAD</td><td>None</td><td>8.03375</td></tr>\n",
       "<tr><td>...</td><td>...</td><td>...</td><td>...</td><td>...</td><td>...</td><td>...</td><td>...</td><td>...</td></tr>\n",
       "<tr><td>2011-02-15 03:54:33.000</td><td>2011-02-15 03:54:59.000</td><td>STEREO_B</td><td>SECCHI</td><td>6500.0 .. 7500.0</td><td>SSC</td><td>BROAD</td><td>None</td><td>8.03375</td></tr>\n",
       "<tr><td>2011-02-15 04:08:33.000</td><td>2011-02-15 04:08:35.000</td><td>STEREO_B</td><td>SECCHI</td><td>6500.0 .. 7500.0</td><td>SSC</td><td>BROAD</td><td>CORONA</td><td>0.14557</td></tr>\n",
       "<tr><td>2011-02-15 04:24:33.000</td><td>2011-02-15 04:24:59.000</td><td>STEREO_B</td><td>SECCHI</td><td>6500.0 .. 7500.0</td><td>SSC</td><td>BROAD</td><td>None</td><td>8.03375</td></tr>\n",
       "<tr><td>2011-02-15 04:39:33.000</td><td>2011-02-15 04:39:59.000</td><td>STEREO_B</td><td>SECCHI</td><td>6500.0 .. 7500.0</td><td>SSC</td><td>BROAD</td><td>None</td><td>8.03375</td></tr>\n",
       "<tr><td>2011-02-15 04:54:33.000</td><td>2011-02-15 04:54:59.000</td><td>STEREO_B</td><td>SECCHI</td><td>6500.0 .. 7500.0</td><td>SSC</td><td>BROAD</td><td>None</td><td>8.03375</td></tr>\n",
       "<tr><td>2011-02-15 05:08:33.000</td><td>2011-02-15 05:08:35.000</td><td>STEREO_B</td><td>SECCHI</td><td>6500.0 .. 7500.0</td><td>SSC</td><td>BROAD</td><td>CORONA</td><td>0.14557</td></tr>\n",
       "<tr><td>2011-02-15 05:24:33.000</td><td>2011-02-15 05:24:59.000</td><td>STEREO_B</td><td>SECCHI</td><td>6500.0 .. 7500.0</td><td>SSC</td><td>BROAD</td><td>None</td><td>8.03375</td></tr>\n",
       "<tr><td>2011-02-15 05:39:33.000</td><td>2011-02-15 05:39:59.000</td><td>STEREO_B</td><td>SECCHI</td><td>6500.0 .. 7500.0</td><td>SSC</td><td>BROAD</td><td>None</td><td>8.03375</td></tr>\n",
       "<tr><td>2011-02-15 05:54:33.000</td><td>2011-02-15 05:54:59.000</td><td>STEREO_B</td><td>SECCHI</td><td>6500.0 .. 7500.0</td><td>SSC</td><td>BROAD</td><td>None</td><td>8.03375</td></tr>\n",
       "<tr><td>2011-02-15 06:08:33.000</td><td>2011-02-15 06:08:35.000</td><td>STEREO_B</td><td>SECCHI</td><td>6500.0 .. 7500.0</td><td>SSC</td><td>BROAD</td><td>CORONA</td><td>0.14557</td></tr>\n",
       "</table></div>"
      ],
      "text/plain": [
       "<sunpy.net.vso.table_response.VSOQueryResponseTable object at 0x7f96916be140>\n",
       "       Start Time               End Time         Source  ... Extent Type   Size \n",
       "                                                         ...              Mibyte\n",
       "----------------------- ----------------------- -------- ... ----------- -------\n",
       "2011-02-14 16:54:33.000 2011-02-14 16:54:59.000 STEREO_B ...        None 8.03375\n",
       "2011-02-14 17:08:33.000 2011-02-14 17:08:35.000 STEREO_B ...      CORONA 0.14557\n",
       "2011-02-14 17:24:33.000 2011-02-14 17:24:59.000 STEREO_B ...        None 8.03375\n",
       "2011-02-14 17:39:33.000 2011-02-14 17:39:59.000 STEREO_B ...        None 8.03375\n",
       "2011-02-14 17:54:33.000 2011-02-14 17:54:59.000 STEREO_B ...        None 8.03375\n",
       "2011-02-14 18:08:33.000 2011-02-14 18:08:35.000 STEREO_B ...      CORONA 0.14557\n",
       "2011-02-14 18:24:33.000 2011-02-14 18:24:59.000 STEREO_B ...        None 8.03375\n",
       "2011-02-14 18:39:33.000 2011-02-14 18:39:59.000 STEREO_B ...        None 8.03375\n",
       "2011-02-14 18:54:33.000 2011-02-14 18:54:59.000 STEREO_B ...        None 8.03375\n",
       "2011-02-14 19:08:33.000 2011-02-14 19:08:35.000 STEREO_B ...      CORONA 0.14557\n",
       "                    ...                     ...      ... ...         ...     ...\n",
       "2011-02-15 03:54:33.000 2011-02-15 03:54:59.000 STEREO_B ...        None 8.03375\n",
       "2011-02-15 04:08:33.000 2011-02-15 04:08:35.000 STEREO_B ...      CORONA 0.14557\n",
       "2011-02-15 04:24:33.000 2011-02-15 04:24:59.000 STEREO_B ...        None 8.03375\n",
       "2011-02-15 04:39:33.000 2011-02-15 04:39:59.000 STEREO_B ...        None 8.03375\n",
       "2011-02-15 04:54:33.000 2011-02-15 04:54:59.000 STEREO_B ...        None 8.03375\n",
       "2011-02-15 05:08:33.000 2011-02-15 05:08:35.000 STEREO_B ...      CORONA 0.14557\n",
       "2011-02-15 05:24:33.000 2011-02-15 05:24:59.000 STEREO_B ...        None 8.03375\n",
       "2011-02-15 05:39:33.000 2011-02-15 05:39:59.000 STEREO_B ...        None 8.03375\n",
       "2011-02-15 05:54:33.000 2011-02-15 05:54:59.000 STEREO_B ...        None 8.03375\n",
       "2011-02-15 06:08:33.000 2011-02-15 06:08:35.000 STEREO_B ...      CORONA 0.14557\n",
       "Length = 54 rows"
      ]
     },
     "execution_count": 7,
     "metadata": {},
     "output_type": "execute_result"
    }
   ],
   "source": [
    "cor2B_i = evento_2['T0_Cor2B'][1]\n",
    "cor2B_f = evento_2['Tf_Cor2B'][1]\n",
    "ini,fin = initial_final_time(cor2B_i, cor2B_f, delta_t=50)\n",
    "cor2B_images = cor2_downloader(start_time=ini,end_time=fin,nave='STEREO_B',nivel='double',image_type='img')\n",
    "cor2B_images.search()\n",
    "cor2B_images.search_cor2\n",
    "\n"
   ]
  },
  {
   "cell_type": "code",
   "execution_count": 8,
   "metadata": {},
   "outputs": [
    {
     "name": "stdout",
     "output_type": "stream",
     "text": [
      "Se ha creado el directorio /data_local/GCS/gcs/Imagenes/2011-02-14/Cor2B/\n"
     ]
    },
    {
     "data": {
      "application/vnd.jupyter.widget-view+json": {
       "model_id": "4bcbd08e2342471d84ae21c08d965584",
       "version_major": 2,
       "version_minor": 0
      },
      "text/plain": [
       "Files Downloaded:   0%|          | 0/1 [00:00<?, ?file/s]"
      ]
     },
     "metadata": {},
     "output_type": "display_data"
    },
    {
     "data": {
      "application/vnd.jupyter.widget-view+json": {
       "model_id": "2292d3c3776445a7976c4ba09a02e56f",
       "version_major": 2,
       "version_minor": 0
      },
      "text/plain": [
       "20110214_165400_d4c2b.fts:   0%|          | 0.00/8.42M [00:00<?, ?B/s]"
      ]
     },
     "metadata": {},
     "output_type": "display_data"
    },
    {
     "name": "stdout",
     "output_type": "stream",
     "text": [
      "El directorio /data_local/GCS/gcs/Imagenes/2011-02-14/Cor2B/ ya existe\n"
     ]
    },
    {
     "data": {
      "application/vnd.jupyter.widget-view+json": {
       "model_id": "836b6524e52a4e2d9e57da11f408a107",
       "version_major": 2,
       "version_minor": 0
      },
      "text/plain": [
       "Files Downloaded:   0%|          | 0/1 [00:00<?, ?file/s]"
      ]
     },
     "metadata": {},
     "output_type": "display_data"
    },
    {
     "data": {
      "application/vnd.jupyter.widget-view+json": {
       "model_id": "96058caf8e404ba59eed46fca8d3fd48",
       "version_major": 2,
       "version_minor": 0
      },
      "text/plain": [
       "20110214_170800_d4c2b.fts:   0%|          | 0.00/153k [00:00<?, ?B/s]"
      ]
     },
     "metadata": {},
     "output_type": "display_data"
    },
    {
     "name": "stdout",
     "output_type": "stream",
     "text": [
      "El directorio /data_local/GCS/gcs/Imagenes/2011-02-14/Cor2B/ ya existe\n"
     ]
    },
    {
     "name": "stderr",
     "output_type": "stream",
     "text": [
      "Exception ignored in: <function BaseEventLoop.__del__ at 0x7f9725646a70>\n",
      "Traceback (most recent call last):\n",
      "  File \"/home/diegol/anaconda3/envs/actual/lib/python3.10/asyncio/base_events.py\", line 687, in __del__\n",
      "    self.close()\n",
      "  File \"/home/diegol/anaconda3/envs/actual/lib/python3.10/asyncio/unix_events.py\", line 71, in close\n",
      "    self.remove_signal_handler(sig)\n",
      "  File \"/home/diegol/anaconda3/envs/actual/lib/python3.10/asyncio/unix_events.py\", line 160, in remove_signal_handler\n",
      "    signal.signal(sig, handler)\n",
      "  File \"/home/diegol/anaconda3/envs/actual/lib/python3.10/signal.py\", line 56, in signal\n",
      "    handler = _signal.signal(_enum_to_int(signalnum), _enum_to_int(handler))\n",
      "ValueError: signal only works in main thread of the main interpreter\n",
      "Exception ignored in: <function BaseEventLoop.__del__ at 0x7f9725646a70>\n",
      "Traceback (most recent call last):\n",
      "  File \"/home/diegol/anaconda3/envs/actual/lib/python3.10/asyncio/base_events.py\", line 687, in __del__\n",
      "    self.close()\n",
      "  File \"/home/diegol/anaconda3/envs/actual/lib/python3.10/asyncio/unix_events.py\", line 71, in close\n",
      "    self.remove_signal_handler(sig)\n",
      "  File \"/home/diegol/anaconda3/envs/actual/lib/python3.10/asyncio/unix_events.py\", line 160, in remove_signal_handler\n",
      "    signal.signal(sig, handler)\n",
      "  File \"/home/diegol/anaconda3/envs/actual/lib/python3.10/signal.py\", line 56, in signal\n",
      "    handler = _signal.signal(_enum_to_int(signalnum), _enum_to_int(handler))\n",
      "ValueError: signal only works in main thread of the main interpreter\n"
     ]
    },
    {
     "data": {
      "application/vnd.jupyter.widget-view+json": {
       "model_id": "4dcd60b6034443edb6de50c55045a59d",
       "version_major": 2,
       "version_minor": 0
      },
      "text/plain": [
       "Files Downloaded:   0%|          | 0/1 [00:00<?, ?file/s]"
      ]
     },
     "metadata": {},
     "output_type": "display_data"
    },
    {
     "data": {
      "application/vnd.jupyter.widget-view+json": {
       "model_id": "c892759b328c4cd981719c2898737bef",
       "version_major": 2,
       "version_minor": 0
      },
      "text/plain": [
       "20110214_172400_d4c2b.fts:   0%|          | 0.00/8.42M [00:00<?, ?B/s]"
      ]
     },
     "metadata": {},
     "output_type": "display_data"
    },
    {
     "name": "stdout",
     "output_type": "stream",
     "text": [
      "El directorio /data_local/GCS/gcs/Imagenes/2011-02-14/Cor2B/ ya existe\n"
     ]
    },
    {
     "data": {
      "application/vnd.jupyter.widget-view+json": {
       "model_id": "8b0e84e307f34601a895b56b4d6f7f1c",
       "version_major": 2,
       "version_minor": 0
      },
      "text/plain": [
       "Files Downloaded:   0%|          | 0/1 [00:00<?, ?file/s]"
      ]
     },
     "metadata": {},
     "output_type": "display_data"
    },
    {
     "data": {
      "application/vnd.jupyter.widget-view+json": {
       "model_id": "394d2bb2837c430fa9b94fbd11a9295f",
       "version_major": 2,
       "version_minor": 0
      },
      "text/plain": [
       "20110214_173900_d4c2b.fts:   0%|          | 0.00/8.42M [00:00<?, ?B/s]"
      ]
     },
     "metadata": {},
     "output_type": "display_data"
    },
    {
     "name": "stdout",
     "output_type": "stream",
     "text": [
      "El directorio /data_local/GCS/gcs/Imagenes/2011-02-14/Cor2B/ ya existe\n"
     ]
    },
    {
     "data": {
      "application/vnd.jupyter.widget-view+json": {
       "model_id": "134c4ed0714344f2a5bb6bdc6ae45479",
       "version_major": 2,
       "version_minor": 0
      },
      "text/plain": [
       "Files Downloaded:   0%|          | 0/1 [00:00<?, ?file/s]"
      ]
     },
     "metadata": {},
     "output_type": "display_data"
    },
    {
     "data": {
      "application/vnd.jupyter.widget-view+json": {
       "model_id": "a915f03b071c42bd81978ef36b965b48",
       "version_major": 2,
       "version_minor": 0
      },
      "text/plain": [
       "20110214_175400_d4c2b.fts:   0%|          | 0.00/8.42M [00:00<?, ?B/s]"
      ]
     },
     "metadata": {},
     "output_type": "display_data"
    },
    {
     "name": "stdout",
     "output_type": "stream",
     "text": [
      "El directorio /data_local/GCS/gcs/Imagenes/2011-02-14/Cor2B/ ya existe\n"
     ]
    },
    {
     "data": {
      "application/vnd.jupyter.widget-view+json": {
       "model_id": "7588d04b64a2455ba6eaf373680ae0ef",
       "version_major": 2,
       "version_minor": 0
      },
      "text/plain": [
       "Files Downloaded:   0%|          | 0/1 [00:00<?, ?file/s]"
      ]
     },
     "metadata": {},
     "output_type": "display_data"
    },
    {
     "data": {
      "application/vnd.jupyter.widget-view+json": {
       "model_id": "ef77cc2ca1c04452abb8c3f44ab94a6a",
       "version_major": 2,
       "version_minor": 0
      },
      "text/plain": [
       "20110214_180800_d4c2b.fts:   0%|          | 0.00/153k [00:00<?, ?B/s]"
      ]
     },
     "metadata": {},
     "output_type": "display_data"
    },
    {
     "name": "stdout",
     "output_type": "stream",
     "text": [
      "El directorio /data_local/GCS/gcs/Imagenes/2011-02-14/Cor2B/ ya existe\n"
     ]
    },
    {
     "data": {
      "application/vnd.jupyter.widget-view+json": {
       "model_id": "cde20cdfea8d459fa6423dae71e2cbc9",
       "version_major": 2,
       "version_minor": 0
      },
      "text/plain": [
       "Files Downloaded:   0%|          | 0/1 [00:00<?, ?file/s]"
      ]
     },
     "metadata": {},
     "output_type": "display_data"
    },
    {
     "data": {
      "application/vnd.jupyter.widget-view+json": {
       "model_id": "2d39baa4255344af84e8f8bddd19a1b6",
       "version_major": 2,
       "version_minor": 0
      },
      "text/plain": [
       "20110214_182400_d4c2b.fts:   0%|          | 0.00/8.42M [00:00<?, ?B/s]"
      ]
     },
     "metadata": {},
     "output_type": "display_data"
    },
    {
     "name": "stdout",
     "output_type": "stream",
     "text": [
      "El directorio /data_local/GCS/gcs/Imagenes/2011-02-14/Cor2B/ ya existe\n"
     ]
    },
    {
     "data": {
      "application/vnd.jupyter.widget-view+json": {
       "model_id": "e6f8d98214f844bf965a8f6f244d20c9",
       "version_major": 2,
       "version_minor": 0
      },
      "text/plain": [
       "Files Downloaded:   0%|          | 0/1 [00:00<?, ?file/s]"
      ]
     },
     "metadata": {},
     "output_type": "display_data"
    },
    {
     "data": {
      "application/vnd.jupyter.widget-view+json": {
       "model_id": "8c7f193f9e0d4631857284c88abad80f",
       "version_major": 2,
       "version_minor": 0
      },
      "text/plain": [
       "20110214_183900_d4c2b.fts:   0%|          | 0.00/8.42M [00:00<?, ?B/s]"
      ]
     },
     "metadata": {},
     "output_type": "display_data"
    },
    {
     "name": "stdout",
     "output_type": "stream",
     "text": [
      "El directorio /data_local/GCS/gcs/Imagenes/2011-02-14/Cor2B/ ya existe\n"
     ]
    },
    {
     "data": {
      "application/vnd.jupyter.widget-view+json": {
       "model_id": "76ced0eb32034d14aa113aaeaa6f877b",
       "version_major": 2,
       "version_minor": 0
      },
      "text/plain": [
       "Files Downloaded:   0%|          | 0/1 [00:00<?, ?file/s]"
      ]
     },
     "metadata": {},
     "output_type": "display_data"
    },
    {
     "data": {
      "application/vnd.jupyter.widget-view+json": {
       "model_id": "7d860eb9727047d3a49cc5a9b638abc3",
       "version_major": 2,
       "version_minor": 0
      },
      "text/plain": [
       "20110214_185400_d4c2b.fts:   0%|          | 0.00/8.42M [00:00<?, ?B/s]"
      ]
     },
     "metadata": {},
     "output_type": "display_data"
    },
    {
     "name": "stdout",
     "output_type": "stream",
     "text": [
      "El directorio /data_local/GCS/gcs/Imagenes/2011-02-14/Cor2B/ ya existe\n"
     ]
    },
    {
     "data": {
      "application/vnd.jupyter.widget-view+json": {
       "model_id": "909c9cff5f95419581d6b2659063135a",
       "version_major": 2,
       "version_minor": 0
      },
      "text/plain": [
       "Files Downloaded:   0%|          | 0/1 [00:00<?, ?file/s]"
      ]
     },
     "metadata": {},
     "output_type": "display_data"
    },
    {
     "name": "stderr",
     "output_type": "stream",
     "text": [
      "Exception ignored in: <function BaseEventLoop.__del__ at 0x7f9725646a70>\n",
      "Traceback (most recent call last):\n",
      "  File \"/home/diegol/anaconda3/envs/actual/lib/python3.10/asyncio/base_events.py\", line 687, in __del__\n",
      "    self.close()\n",
      "  File \"/home/diegol/anaconda3/envs/actual/lib/python3.10/asyncio/unix_events.py\", line 71, in close\n",
      "    self.remove_signal_handler(sig)\n",
      "  File \"/home/diegol/anaconda3/envs/actual/lib/python3.10/asyncio/unix_events.py\", line 160, in remove_signal_handler\n",
      "    signal.signal(sig, handler)\n",
      "  File \"/home/diegol/anaconda3/envs/actual/lib/python3.10/signal.py\", line 56, in signal\n",
      "    handler = _signal.signal(_enum_to_int(signalnum), _enum_to_int(handler))\n",
      "ValueError: signal only works in main thread of the main interpreter\n",
      "Exception ignored in: <function BaseEventLoop.__del__ at 0x7f9725646a70>\n",
      "Traceback (most recent call last):\n",
      "  File \"/home/diegol/anaconda3/envs/actual/lib/python3.10/asyncio/base_events.py\", line 687, in __del__\n",
      "    self.close()\n",
      "  File \"/home/diegol/anaconda3/envs/actual/lib/python3.10/asyncio/unix_events.py\", line 71, in close\n",
      "    self.remove_signal_handler(sig)\n",
      "  File \"/home/diegol/anaconda3/envs/actual/lib/python3.10/asyncio/unix_events.py\", line 160, in remove_signal_handler\n",
      "    signal.signal(sig, handler)\n",
      "  File \"/home/diegol/anaconda3/envs/actual/lib/python3.10/signal.py\", line 56, in signal\n",
      "    handler = _signal.signal(_enum_to_int(signalnum), _enum_to_int(handler))\n",
      "ValueError: signal only works in main thread of the main interpreter\n",
      "Exception ignored in: <function BaseEventLoop.__del__ at 0x7f9725646a70>\n",
      "Traceback (most recent call last):\n",
      "  File \"/home/diegol/anaconda3/envs/actual/lib/python3.10/asyncio/base_events.py\", line 687, in __del__\n",
      "    self.close()\n",
      "  File \"/home/diegol/anaconda3/envs/actual/lib/python3.10/asyncio/unix_events.py\", line 71, in close\n",
      "    self.remove_signal_handler(sig)\n",
      "  File \"/home/diegol/anaconda3/envs/actual/lib/python3.10/asyncio/unix_events.py\", line 160, in remove_signal_handler\n",
      "    signal.signal(sig, handler)\n",
      "  File \"/home/diegol/anaconda3/envs/actual/lib/python3.10/signal.py\", line 56, in signal\n",
      "    handler = _signal.signal(_enum_to_int(signalnum), _enum_to_int(handler))\n",
      "ValueError: signal only works in main thread of the main interpreter\n",
      "Exception ignored in: <function BaseEventLoop.__del__ at 0x7f9725646a70>\n",
      "Traceback (most recent call last):\n",
      "  File \"/home/diegol/anaconda3/envs/actual/lib/python3.10/asyncio/base_events.py\", line 687, in __del__\n",
      "    self.close()\n",
      "  File \"/home/diegol/anaconda3/envs/actual/lib/python3.10/asyncio/unix_events.py\", line 71, in close\n",
      "    self.remove_signal_handler(sig)\n",
      "  File \"/home/diegol/anaconda3/envs/actual/lib/python3.10/asyncio/unix_events.py\", line 160, in remove_signal_handler\n",
      "    signal.signal(sig, handler)\n",
      "  File \"/home/diegol/anaconda3/envs/actual/lib/python3.10/signal.py\", line 56, in signal\n",
      "    handler = _signal.signal(_enum_to_int(signalnum), _enum_to_int(handler))\n",
      "ValueError: signal only works in main thread of the main interpreter\n",
      "Exception ignored in: <function BaseEventLoop.__del__ at 0x7f9725646a70>\n",
      "Traceback (most recent call last):\n",
      "  File \"/home/diegol/anaconda3/envs/actual/lib/python3.10/asyncio/base_events.py\", line 687, in __del__\n",
      "    self.close()\n",
      "  File \"/home/diegol/anaconda3/envs/actual/lib/python3.10/asyncio/unix_events.py\", line 71, in close\n",
      "    self.remove_signal_handler(sig)\n",
      "  File \"/home/diegol/anaconda3/envs/actual/lib/python3.10/asyncio/unix_events.py\", line 160, in remove_signal_handler\n",
      "    signal.signal(sig, handler)\n",
      "  File \"/home/diegol/anaconda3/envs/actual/lib/python3.10/signal.py\", line 56, in signal\n",
      "    handler = _signal.signal(_enum_to_int(signalnum), _enum_to_int(handler))\n",
      "ValueError: signal only works in main thread of the main interpreter\n",
      "Exception ignored in: <function BaseEventLoop.__del__ at 0x7f9725646a70>\n",
      "Traceback (most recent call last):\n",
      "  File \"/home/diegol/anaconda3/envs/actual/lib/python3.10/asyncio/base_events.py\", line 687, in __del__\n",
      "    self.close()\n",
      "  File \"/home/diegol/anaconda3/envs/actual/lib/python3.10/asyncio/unix_events.py\", line 71, in close\n",
      "    self.remove_signal_handler(sig)\n",
      "  File \"/home/diegol/anaconda3/envs/actual/lib/python3.10/asyncio/unix_events.py\", line 160, in remove_signal_handler\n",
      "    signal.signal(sig, handler)\n",
      "  File \"/home/diegol/anaconda3/envs/actual/lib/python3.10/signal.py\", line 56, in signal\n",
      "    handler = _signal.signal(_enum_to_int(signalnum), _enum_to_int(handler))\n",
      "ValueError: signal only works in main thread of the main interpreter\n"
     ]
    },
    {
     "data": {
      "application/vnd.jupyter.widget-view+json": {
       "model_id": "d6eb37af17d140c2abeb4ebec02c47b2",
       "version_major": 2,
       "version_minor": 0
      },
      "text/plain": [
       "20110214_190800_d4c2b.fts:   0%|          | 0.00/153k [00:00<?, ?B/s]"
      ]
     },
     "metadata": {},
     "output_type": "display_data"
    },
    {
     "name": "stdout",
     "output_type": "stream",
     "text": [
      "El directorio /data_local/GCS/gcs/Imagenes/2011-02-14/Cor2B/ ya existe\n"
     ]
    },
    {
     "data": {
      "application/vnd.jupyter.widget-view+json": {
       "model_id": "a0b765f2c5a14d35aae0797001b3d17d",
       "version_major": 2,
       "version_minor": 0
      },
      "text/plain": [
       "Files Downloaded:   0%|          | 0/1 [00:00<?, ?file/s]"
      ]
     },
     "metadata": {},
     "output_type": "display_data"
    },
    {
     "data": {
      "application/vnd.jupyter.widget-view+json": {
       "model_id": "2d01c0a6f1174787931de056d0808a81",
       "version_major": 2,
       "version_minor": 0
      },
      "text/plain": [
       "20110214_192400_d4c2b.fts:   0%|          | 0.00/8.42M [00:00<?, ?B/s]"
      ]
     },
     "metadata": {},
     "output_type": "display_data"
    },
    {
     "name": "stdout",
     "output_type": "stream",
     "text": [
      "El directorio /data_local/GCS/gcs/Imagenes/2011-02-14/Cor2B/ ya existe\n"
     ]
    },
    {
     "data": {
      "application/vnd.jupyter.widget-view+json": {
       "model_id": "df5202b8f34040eb9456341875f8822b",
       "version_major": 2,
       "version_minor": 0
      },
      "text/plain": [
       "Files Downloaded:   0%|          | 0/1 [00:00<?, ?file/s]"
      ]
     },
     "metadata": {},
     "output_type": "display_data"
    },
    {
     "data": {
      "application/vnd.jupyter.widget-view+json": {
       "model_id": "49e5d5610bce4dbaa283c99d293832f3",
       "version_major": 2,
       "version_minor": 0
      },
      "text/plain": [
       "20110214_193900_d4c2b.fts:   0%|          | 0.00/8.42M [00:00<?, ?B/s]"
      ]
     },
     "metadata": {},
     "output_type": "display_data"
    },
    {
     "name": "stdout",
     "output_type": "stream",
     "text": [
      "El directorio /data_local/GCS/gcs/Imagenes/2011-02-14/Cor2B/ ya existe\n"
     ]
    },
    {
     "data": {
      "application/vnd.jupyter.widget-view+json": {
       "model_id": "d3cfb1bdecab4dd79b2f48bc3a062515",
       "version_major": 2,
       "version_minor": 0
      },
      "text/plain": [
       "Files Downloaded:   0%|          | 0/1 [00:00<?, ?file/s]"
      ]
     },
     "metadata": {},
     "output_type": "display_data"
    },
    {
     "data": {
      "application/vnd.jupyter.widget-view+json": {
       "model_id": "b00ff7587815475c87c8a1c6c07710fd",
       "version_major": 2,
       "version_minor": 0
      },
      "text/plain": [
       "20110214_195400_d4c2b.fts:   0%|          | 0.00/8.42M [00:00<?, ?B/s]"
      ]
     },
     "metadata": {},
     "output_type": "display_data"
    },
    {
     "name": "stdout",
     "output_type": "stream",
     "text": [
      "El directorio /data_local/GCS/gcs/Imagenes/2011-02-14/Cor2B/ ya existe\n"
     ]
    },
    {
     "data": {
      "application/vnd.jupyter.widget-view+json": {
       "model_id": "ee5f3f2a01b44347885cc724fb8d5c3a",
       "version_major": 2,
       "version_minor": 0
      },
      "text/plain": [
       "Files Downloaded:   0%|          | 0/1 [00:00<?, ?file/s]"
      ]
     },
     "metadata": {},
     "output_type": "display_data"
    },
    {
     "data": {
      "application/vnd.jupyter.widget-view+json": {
       "model_id": "6f5e2dcec1ab47578b61c4bfe45cbd66",
       "version_major": 2,
       "version_minor": 0
      },
      "text/plain": [
       "20110214_200800_d4c2b.fts:   0%|          | 0.00/153k [00:00<?, ?B/s]"
      ]
     },
     "metadata": {},
     "output_type": "display_data"
    },
    {
     "name": "stdout",
     "output_type": "stream",
     "text": [
      "El directorio /data_local/GCS/gcs/Imagenes/2011-02-14/Cor2B/ ya existe\n"
     ]
    },
    {
     "data": {
      "application/vnd.jupyter.widget-view+json": {
       "model_id": "8ba00708ed7a4b73a8c6e371cc0f6235",
       "version_major": 2,
       "version_minor": 0
      },
      "text/plain": [
       "Files Downloaded:   0%|          | 0/1 [00:00<?, ?file/s]"
      ]
     },
     "metadata": {},
     "output_type": "display_data"
    },
    {
     "data": {
      "application/vnd.jupyter.widget-view+json": {
       "model_id": "636706fb5bc84a4492f9daaec6224dfa",
       "version_major": 2,
       "version_minor": 0
      },
      "text/plain": [
       "20110214_202400_d4c2b.fts:   0%|          | 0.00/8.42M [00:00<?, ?B/s]"
      ]
     },
     "metadata": {},
     "output_type": "display_data"
    },
    {
     "name": "stdout",
     "output_type": "stream",
     "text": [
      "El directorio /data_local/GCS/gcs/Imagenes/2011-02-14/Cor2B/ ya existe\n"
     ]
    },
    {
     "data": {
      "application/vnd.jupyter.widget-view+json": {
       "model_id": "4e75fe5a3c924183a68da097352a9a11",
       "version_major": 2,
       "version_minor": 0
      },
      "text/plain": [
       "Files Downloaded:   0%|          | 0/1 [00:00<?, ?file/s]"
      ]
     },
     "metadata": {},
     "output_type": "display_data"
    },
    {
     "data": {
      "application/vnd.jupyter.widget-view+json": {
       "model_id": "22acc4317d6b4abf82e495fcc8bd6f7a",
       "version_major": 2,
       "version_minor": 0
      },
      "text/plain": [
       "20110214_203900_d4c2b.fts:   0%|          | 0.00/8.42M [00:00<?, ?B/s]"
      ]
     },
     "metadata": {},
     "output_type": "display_data"
    },
    {
     "name": "stdout",
     "output_type": "stream",
     "text": [
      "El directorio /data_local/GCS/gcs/Imagenes/2011-02-14/Cor2B/ ya existe\n"
     ]
    },
    {
     "data": {
      "application/vnd.jupyter.widget-view+json": {
       "model_id": "69f3d27332d54598a39e87e51ac6b5e1",
       "version_major": 2,
       "version_minor": 0
      },
      "text/plain": [
       "Files Downloaded:   0%|          | 0/1 [00:00<?, ?file/s]"
      ]
     },
     "metadata": {},
     "output_type": "display_data"
    },
    {
     "data": {
      "application/vnd.jupyter.widget-view+json": {
       "model_id": "665afeea96044ab3b0ad818ae138f941",
       "version_major": 2,
       "version_minor": 0
      },
      "text/plain": [
       "20110214_205400_d4c2b.fts:   0%|          | 0.00/8.42M [00:00<?, ?B/s]"
      ]
     },
     "metadata": {},
     "output_type": "display_data"
    },
    {
     "name": "stderr",
     "output_type": "stream",
     "text": [
      "Exception ignored in: <function BaseEventLoop.__del__ at 0x7f9725646a70>\n",
      "Traceback (most recent call last):\n",
      "  File \"/home/diegol/anaconda3/envs/actual/lib/python3.10/asyncio/base_events.py\", line 687, in __del__\n",
      "    self.close()\n",
      "  File \"/home/diegol/anaconda3/envs/actual/lib/python3.10/asyncio/unix_events.py\", line 71, in close\n",
      "    self.remove_signal_handler(sig)\n",
      "  File \"/home/diegol/anaconda3/envs/actual/lib/python3.10/asyncio/unix_events.py\", line 160, in remove_signal_handler\n",
      "    signal.signal(sig, handler)\n",
      "  File \"/home/diegol/anaconda3/envs/actual/lib/python3.10/signal.py\", line 56, in signal\n",
      "    handler = _signal.signal(_enum_to_int(signalnum), _enum_to_int(handler))\n",
      "ValueError: signal only works in main thread of the main interpreter\n",
      "Exception ignored in: <function BaseEventLoop.__del__ at 0x7f9725646a70>\n",
      "Traceback (most recent call last):\n",
      "  File \"/home/diegol/anaconda3/envs/actual/lib/python3.10/asyncio/base_events.py\", line 687, in __del__\n",
      "    self.close()\n",
      "  File \"/home/diegol/anaconda3/envs/actual/lib/python3.10/asyncio/unix_events.py\", line 71, in close\n",
      "    self.remove_signal_handler(sig)\n",
      "  File \"/home/diegol/anaconda3/envs/actual/lib/python3.10/asyncio/unix_events.py\", line 160, in remove_signal_handler\n",
      "    signal.signal(sig, handler)\n",
      "  File \"/home/diegol/anaconda3/envs/actual/lib/python3.10/signal.py\", line 56, in signal\n",
      "    handler = _signal.signal(_enum_to_int(signalnum), _enum_to_int(handler))\n",
      "ValueError: signal only works in main thread of the main interpreter\n",
      "Exception ignored in: <function BaseEventLoop.__del__ at 0x7f9725646a70>\n",
      "Traceback (most recent call last):\n",
      "  File \"/home/diegol/anaconda3/envs/actual/lib/python3.10/asyncio/base_events.py\", line 687, in __del__\n",
      "    self.close()\n",
      "  File \"/home/diegol/anaconda3/envs/actual/lib/python3.10/asyncio/unix_events.py\", line 71, in close\n",
      "    self.remove_signal_handler(sig)\n",
      "  File \"/home/diegol/anaconda3/envs/actual/lib/python3.10/asyncio/unix_events.py\", line 160, in remove_signal_handler\n",
      "    signal.signal(sig, handler)\n",
      "  File \"/home/diegol/anaconda3/envs/actual/lib/python3.10/signal.py\", line 56, in signal\n",
      "    handler = _signal.signal(_enum_to_int(signalnum), _enum_to_int(handler))\n",
      "ValueError: signal only works in main thread of the main interpreter\n",
      "Exception ignored in: <function BaseEventLoop.__del__ at 0x7f9725646a70>\n",
      "Traceback (most recent call last):\n",
      "  File \"/home/diegol/anaconda3/envs/actual/lib/python3.10/asyncio/base_events.py\", line 687, in __del__\n",
      "    self.close()\n",
      "  File \"/home/diegol/anaconda3/envs/actual/lib/python3.10/asyncio/unix_events.py\", line 71, in close\n",
      "    self.remove_signal_handler(sig)\n",
      "  File \"/home/diegol/anaconda3/envs/actual/lib/python3.10/asyncio/unix_events.py\", line 160, in remove_signal_handler\n",
      "    signal.signal(sig, handler)\n",
      "  File \"/home/diegol/anaconda3/envs/actual/lib/python3.10/signal.py\", line 56, in signal\n",
      "    handler = _signal.signal(_enum_to_int(signalnum), _enum_to_int(handler))\n",
      "ValueError: signal only works in main thread of the main interpreter\n",
      "Exception ignored in: <function BaseEventLoop.__del__ at 0x7f9725646a70>\n",
      "Traceback (most recent call last):\n",
      "  File \"/home/diegol/anaconda3/envs/actual/lib/python3.10/asyncio/base_events.py\", line 687, in __del__\n",
      "    self.close()\n",
      "  File \"/home/diegol/anaconda3/envs/actual/lib/python3.10/asyncio/unix_events.py\", line 71, in close\n",
      "    self.remove_signal_handler(sig)\n",
      "  File \"/home/diegol/anaconda3/envs/actual/lib/python3.10/asyncio/unix_events.py\", line 160, in remove_signal_handler\n",
      "    signal.signal(sig, handler)\n",
      "  File \"/home/diegol/anaconda3/envs/actual/lib/python3.10/signal.py\", line 56, in signal\n",
      "    handler = _signal.signal(_enum_to_int(signalnum), _enum_to_int(handler))\n",
      "ValueError: signal only works in main thread of the main interpreter\n",
      "Exception ignored in: <function BaseEventLoop.__del__ at 0x7f9725646a70>\n",
      "Traceback (most recent call last):\n",
      "  File \"/home/diegol/anaconda3/envs/actual/lib/python3.10/asyncio/base_events.py\", line 687, in __del__\n",
      "    self.close()\n",
      "  File \"/home/diegol/anaconda3/envs/actual/lib/python3.10/asyncio/unix_events.py\", line 71, in close\n",
      "    self.remove_signal_handler(sig)\n",
      "  File \"/home/diegol/anaconda3/envs/actual/lib/python3.10/asyncio/unix_events.py\", line 160, in remove_signal_handler\n",
      "    signal.signal(sig, handler)\n",
      "  File \"/home/diegol/anaconda3/envs/actual/lib/python3.10/signal.py\", line 56, in signal\n",
      "    handler = _signal.signal(_enum_to_int(signalnum), _enum_to_int(handler))\n",
      "ValueError: signal only works in main thread of the main interpreter\n"
     ]
    },
    {
     "name": "stdout",
     "output_type": "stream",
     "text": [
      "El directorio /data_local/GCS/gcs/Imagenes/2011-02-14/Cor2B/ ya existe\n"
     ]
    },
    {
     "data": {
      "application/vnd.jupyter.widget-view+json": {
       "model_id": "3add3e34b9cb45a0869914559250eb9c",
       "version_major": 2,
       "version_minor": 0
      },
      "text/plain": [
       "Files Downloaded:   0%|          | 0/1 [00:00<?, ?file/s]"
      ]
     },
     "metadata": {},
     "output_type": "display_data"
    },
    {
     "data": {
      "application/vnd.jupyter.widget-view+json": {
       "model_id": "d38e5843a5e040218d7372ca01c4a53c",
       "version_major": 2,
       "version_minor": 0
      },
      "text/plain": [
       "20110214_210800_d4c2b.fts:   0%|          | 0.00/153k [00:00<?, ?B/s]"
      ]
     },
     "metadata": {},
     "output_type": "display_data"
    },
    {
     "name": "stdout",
     "output_type": "stream",
     "text": [
      "El directorio /data_local/GCS/gcs/Imagenes/2011-02-14/Cor2B/ ya existe\n"
     ]
    },
    {
     "data": {
      "application/vnd.jupyter.widget-view+json": {
       "model_id": "a3e780cc0f2b4887af9e99b69bc01b5e",
       "version_major": 2,
       "version_minor": 0
      },
      "text/plain": [
       "Files Downloaded:   0%|          | 0/1 [00:00<?, ?file/s]"
      ]
     },
     "metadata": {},
     "output_type": "display_data"
    },
    {
     "data": {
      "application/vnd.jupyter.widget-view+json": {
       "model_id": "d5bd55c7ce4b43ac9dc7b0c4837a49ee",
       "version_major": 2,
       "version_minor": 0
      },
      "text/plain": [
       "20110214_212400_d4c2b.fts:   0%|          | 0.00/8.42M [00:00<?, ?B/s]"
      ]
     },
     "metadata": {},
     "output_type": "display_data"
    },
    {
     "name": "stdout",
     "output_type": "stream",
     "text": [
      "El directorio /data_local/GCS/gcs/Imagenes/2011-02-14/Cor2B/ ya existe\n"
     ]
    },
    {
     "data": {
      "application/vnd.jupyter.widget-view+json": {
       "model_id": "d3d1b7d8d0354a34abafae9d315e962a",
       "version_major": 2,
       "version_minor": 0
      },
      "text/plain": [
       "Files Downloaded:   0%|          | 0/1 [00:00<?, ?file/s]"
      ]
     },
     "metadata": {},
     "output_type": "display_data"
    },
    {
     "data": {
      "application/vnd.jupyter.widget-view+json": {
       "model_id": "54ca58c4f350400c876db5fa3360c587",
       "version_major": 2,
       "version_minor": 0
      },
      "text/plain": [
       "20110214_213900_d4c2b.fts:   0%|          | 0.00/8.42M [00:00<?, ?B/s]"
      ]
     },
     "metadata": {},
     "output_type": "display_data"
    },
    {
     "name": "stdout",
     "output_type": "stream",
     "text": [
      "El directorio /data_local/GCS/gcs/Imagenes/2011-02-14/Cor2B/ ya existe\n"
     ]
    },
    {
     "data": {
      "application/vnd.jupyter.widget-view+json": {
       "model_id": "5d0ed85b500c412a82f11f467b36b972",
       "version_major": 2,
       "version_minor": 0
      },
      "text/plain": [
       "Files Downloaded:   0%|          | 0/1 [00:00<?, ?file/s]"
      ]
     },
     "metadata": {},
     "output_type": "display_data"
    },
    {
     "data": {
      "application/vnd.jupyter.widget-view+json": {
       "model_id": "4fc7543b7b694632953d227f586481e4",
       "version_major": 2,
       "version_minor": 0
      },
      "text/plain": [
       "20110214_215400_d4c2b.fts:   0%|          | 0.00/8.42M [00:00<?, ?B/s]"
      ]
     },
     "metadata": {},
     "output_type": "display_data"
    },
    {
     "name": "stdout",
     "output_type": "stream",
     "text": [
      "El directorio /data_local/GCS/gcs/Imagenes/2011-02-14/Cor2B/ ya existe\n"
     ]
    },
    {
     "data": {
      "application/vnd.jupyter.widget-view+json": {
       "model_id": "e282c76192694183894433ed590149f4",
       "version_major": 2,
       "version_minor": 0
      },
      "text/plain": [
       "Files Downloaded:   0%|          | 0/1 [00:00<?, ?file/s]"
      ]
     },
     "metadata": {},
     "output_type": "display_data"
    },
    {
     "data": {
      "application/vnd.jupyter.widget-view+json": {
       "model_id": "a398551099904b86b991dc8e97756372",
       "version_major": 2,
       "version_minor": 0
      },
      "text/plain": [
       "20110214_220800_d4c2b.fts:   0%|          | 0.00/153k [00:00<?, ?B/s]"
      ]
     },
     "metadata": {},
     "output_type": "display_data"
    },
    {
     "name": "stdout",
     "output_type": "stream",
     "text": [
      "El directorio /data_local/GCS/gcs/Imagenes/2011-02-14/Cor2B/ ya existe\n"
     ]
    },
    {
     "data": {
      "application/vnd.jupyter.widget-view+json": {
       "model_id": "3a441da35a7940f4bb7995117744fdc5",
       "version_major": 2,
       "version_minor": 0
      },
      "text/plain": [
       "Files Downloaded:   0%|          | 0/1 [00:00<?, ?file/s]"
      ]
     },
     "metadata": {},
     "output_type": "display_data"
    },
    {
     "data": {
      "application/vnd.jupyter.widget-view+json": {
       "model_id": "4a0793f4b4024b1492c815fac121bbb6",
       "version_major": 2,
       "version_minor": 0
      },
      "text/plain": [
       "20110214_222400_d4c2b.fts:   0%|          | 0.00/8.42M [00:00<?, ?B/s]"
      ]
     },
     "metadata": {},
     "output_type": "display_data"
    },
    {
     "name": "stdout",
     "output_type": "stream",
     "text": [
      "El directorio /data_local/GCS/gcs/Imagenes/2011-02-14/Cor2B/ ya existe\n"
     ]
    },
    {
     "data": {
      "application/vnd.jupyter.widget-view+json": {
       "model_id": "2306e7bb10964d5ab57900b0803ce78d",
       "version_major": 2,
       "version_minor": 0
      },
      "text/plain": [
       "Files Downloaded:   0%|          | 0/1 [00:00<?, ?file/s]"
      ]
     },
     "metadata": {},
     "output_type": "display_data"
    },
    {
     "data": {
      "application/vnd.jupyter.widget-view+json": {
       "model_id": "9fba2eefc42343e9b58e4333aaea6cab",
       "version_major": 2,
       "version_minor": 0
      },
      "text/plain": [
       "20110214_223900_d4c2b.fts:   0%|          | 0.00/8.42M [00:00<?, ?B/s]"
      ]
     },
     "metadata": {},
     "output_type": "display_data"
    },
    {
     "name": "stdout",
     "output_type": "stream",
     "text": [
      "El directorio /data_local/GCS/gcs/Imagenes/2011-02-14/Cor2B/ ya existe\n"
     ]
    },
    {
     "data": {
      "application/vnd.jupyter.widget-view+json": {
       "model_id": "bf1a984716ce46248c4bcef0aa794d1f",
       "version_major": 2,
       "version_minor": 0
      },
      "text/plain": [
       "Files Downloaded:   0%|          | 0/1 [00:00<?, ?file/s]"
      ]
     },
     "metadata": {},
     "output_type": "display_data"
    },
    {
     "name": "stderr",
     "output_type": "stream",
     "text": [
      "Exception ignored in: <function BaseEventLoop.__del__ at 0x7f9725646a70>\n",
      "Traceback (most recent call last):\n",
      "  File \"/home/diegol/anaconda3/envs/actual/lib/python3.10/asyncio/base_events.py\", line 687, in __del__\n",
      "    self.close()\n",
      "  File \"/home/diegol/anaconda3/envs/actual/lib/python3.10/asyncio/unix_events.py\", line 71, in close\n",
      "    self.remove_signal_handler(sig)\n",
      "  File \"/home/diegol/anaconda3/envs/actual/lib/python3.10/asyncio/unix_events.py\", line 160, in remove_signal_handler\n",
      "    signal.signal(sig, handler)\n",
      "  File \"/home/diegol/anaconda3/envs/actual/lib/python3.10/signal.py\", line 56, in signal\n",
      "    handler = _signal.signal(_enum_to_int(signalnum), _enum_to_int(handler))\n",
      "ValueError: signal only works in main thread of the main interpreter\n",
      "Exception ignored in: <function BaseEventLoop.__del__ at 0x7f9725646a70>\n",
      "Traceback (most recent call last):\n",
      "  File \"/home/diegol/anaconda3/envs/actual/lib/python3.10/asyncio/base_events.py\", line 687, in __del__\n",
      "    self.close()\n",
      "  File \"/home/diegol/anaconda3/envs/actual/lib/python3.10/asyncio/unix_events.py\", line 71, in close\n",
      "    self.remove_signal_handler(sig)\n",
      "  File \"/home/diegol/anaconda3/envs/actual/lib/python3.10/asyncio/unix_events.py\", line 160, in remove_signal_handler\n",
      "    signal.signal(sig, handler)\n",
      "  File \"/home/diegol/anaconda3/envs/actual/lib/python3.10/signal.py\", line 56, in signal\n",
      "    handler = _signal.signal(_enum_to_int(signalnum), _enum_to_int(handler))\n",
      "ValueError: signal only works in main thread of the main interpreter\n",
      "Exception ignored in: <function BaseEventLoop.__del__ at 0x7f9725646a70>\n",
      "Traceback (most recent call last):\n",
      "  File \"/home/diegol/anaconda3/envs/actual/lib/python3.10/asyncio/base_events.py\", line 687, in __del__\n",
      "    self.close()\n",
      "  File \"/home/diegol/anaconda3/envs/actual/lib/python3.10/asyncio/unix_events.py\", line 71, in close\n",
      "    self.remove_signal_handler(sig)\n",
      "  File \"/home/diegol/anaconda3/envs/actual/lib/python3.10/asyncio/unix_events.py\", line 160, in remove_signal_handler\n",
      "    signal.signal(sig, handler)\n",
      "  File \"/home/diegol/anaconda3/envs/actual/lib/python3.10/signal.py\", line 56, in signal\n",
      "    handler = _signal.signal(_enum_to_int(signalnum), _enum_to_int(handler))\n",
      "ValueError: signal only works in main thread of the main interpreter\n",
      "Exception ignored in: <function BaseEventLoop.__del__ at 0x7f9725646a70>\n",
      "Traceback (most recent call last):\n",
      "  File \"/home/diegol/anaconda3/envs/actual/lib/python3.10/asyncio/base_events.py\", line 687, in __del__\n",
      "    self.close()\n",
      "  File \"/home/diegol/anaconda3/envs/actual/lib/python3.10/asyncio/unix_events.py\", line 71, in close\n",
      "    self.remove_signal_handler(sig)\n",
      "  File \"/home/diegol/anaconda3/envs/actual/lib/python3.10/asyncio/unix_events.py\", line 160, in remove_signal_handler\n",
      "    signal.signal(sig, handler)\n",
      "  File \"/home/diegol/anaconda3/envs/actual/lib/python3.10/signal.py\", line 56, in signal\n",
      "    handler = _signal.signal(_enum_to_int(signalnum), _enum_to_int(handler))\n",
      "ValueError: signal only works in main thread of the main interpreter\n",
      "Exception ignored in: <function BaseEventLoop.__del__ at 0x7f9725646a70>\n",
      "Traceback (most recent call last):\n",
      "  File \"/home/diegol/anaconda3/envs/actual/lib/python3.10/asyncio/base_events.py\", line 687, in __del__\n",
      "    self.close()\n",
      "  File \"/home/diegol/anaconda3/envs/actual/lib/python3.10/asyncio/unix_events.py\", line 71, in close\n",
      "    self.remove_signal_handler(sig)\n",
      "  File \"/home/diegol/anaconda3/envs/actual/lib/python3.10/asyncio/unix_events.py\", line 160, in remove_signal_handler\n",
      "    signal.signal(sig, handler)\n",
      "  File \"/home/diegol/anaconda3/envs/actual/lib/python3.10/signal.py\", line 56, in signal\n",
      "    handler = _signal.signal(_enum_to_int(signalnum), _enum_to_int(handler))\n",
      "ValueError: signal only works in main thread of the main interpreter\n",
      "Exception ignored in: <function BaseEventLoop.__del__ at 0x7f9725646a70>\n",
      "Traceback (most recent call last):\n",
      "  File \"/home/diegol/anaconda3/envs/actual/lib/python3.10/asyncio/base_events.py\", line 687, in __del__\n",
      "    self.close()\n",
      "  File \"/home/diegol/anaconda3/envs/actual/lib/python3.10/asyncio/unix_events.py\", line 71, in close\n",
      "    self.remove_signal_handler(sig)\n",
      "  File \"/home/diegol/anaconda3/envs/actual/lib/python3.10/asyncio/unix_events.py\", line 160, in remove_signal_handler\n",
      "    signal.signal(sig, handler)\n",
      "  File \"/home/diegol/anaconda3/envs/actual/lib/python3.10/signal.py\", line 56, in signal\n",
      "    handler = _signal.signal(_enum_to_int(signalnum), _enum_to_int(handler))\n",
      "ValueError: signal only works in main thread of the main interpreter\n",
      "Exception ignored in: <function BaseEventLoop.__del__ at 0x7f9725646a70>\n",
      "Traceback (most recent call last):\n",
      "  File \"/home/diegol/anaconda3/envs/actual/lib/python3.10/asyncio/base_events.py\", line 687, in __del__\n",
      "    self.close()\n",
      "  File \"/home/diegol/anaconda3/envs/actual/lib/python3.10/asyncio/unix_events.py\", line 71, in close\n",
      "    self.remove_signal_handler(sig)\n",
      "  File \"/home/diegol/anaconda3/envs/actual/lib/python3.10/asyncio/unix_events.py\", line 160, in remove_signal_handler\n",
      "    signal.signal(sig, handler)\n",
      "  File \"/home/diegol/anaconda3/envs/actual/lib/python3.10/signal.py\", line 56, in signal\n",
      "    handler = _signal.signal(_enum_to_int(signalnum), _enum_to_int(handler))\n",
      "ValueError: signal only works in main thread of the main interpreter\n"
     ]
    },
    {
     "data": {
      "application/vnd.jupyter.widget-view+json": {
       "model_id": "b4baadf17f7b416e89452596f8866f48",
       "version_major": 2,
       "version_minor": 0
      },
      "text/plain": [
       "20110214_225400_d4c2b.fts:   0%|          | 0.00/8.42M [00:00<?, ?B/s]"
      ]
     },
     "metadata": {},
     "output_type": "display_data"
    },
    {
     "name": "stdout",
     "output_type": "stream",
     "text": [
      "El directorio /data_local/GCS/gcs/Imagenes/2011-02-14/Cor2B/ ya existe\n"
     ]
    },
    {
     "data": {
      "application/vnd.jupyter.widget-view+json": {
       "model_id": "ffd203ec11ff4c9dabeb88f010045a00",
       "version_major": 2,
       "version_minor": 0
      },
      "text/plain": [
       "Files Downloaded:   0%|          | 0/1 [00:00<?, ?file/s]"
      ]
     },
     "metadata": {},
     "output_type": "display_data"
    },
    {
     "data": {
      "application/vnd.jupyter.widget-view+json": {
       "model_id": "e89f6edb09c24680a76171a2d778297c",
       "version_major": 2,
       "version_minor": 0
      },
      "text/plain": [
       "20110214_230800_d4c2b.fts:   0%|          | 0.00/153k [00:00<?, ?B/s]"
      ]
     },
     "metadata": {},
     "output_type": "display_data"
    },
    {
     "name": "stdout",
     "output_type": "stream",
     "text": [
      "El directorio /data_local/GCS/gcs/Imagenes/2011-02-14/Cor2B/ ya existe\n"
     ]
    },
    {
     "data": {
      "application/vnd.jupyter.widget-view+json": {
       "model_id": "8e60622909ab40d3ab5b126fe7d2f9aa",
       "version_major": 2,
       "version_minor": 0
      },
      "text/plain": [
       "Files Downloaded:   0%|          | 0/1 [00:00<?, ?file/s]"
      ]
     },
     "metadata": {},
     "output_type": "display_data"
    },
    {
     "data": {
      "application/vnd.jupyter.widget-view+json": {
       "model_id": "4d1d1acd70b947d0a5711588a08cc115",
       "version_major": 2,
       "version_minor": 0
      },
      "text/plain": [
       "20110214_232400_d4c2b.fts:   0%|          | 0.00/8.42M [00:00<?, ?B/s]"
      ]
     },
     "metadata": {},
     "output_type": "display_data"
    },
    {
     "name": "stdout",
     "output_type": "stream",
     "text": [
      "El directorio /data_local/GCS/gcs/Imagenes/2011-02-14/Cor2B/ ya existe\n"
     ]
    },
    {
     "data": {
      "application/vnd.jupyter.widget-view+json": {
       "model_id": "42664df1760c490eaf504c90b19c6483",
       "version_major": 2,
       "version_minor": 0
      },
      "text/plain": [
       "Files Downloaded:   0%|          | 0/1 [00:00<?, ?file/s]"
      ]
     },
     "metadata": {},
     "output_type": "display_data"
    },
    {
     "data": {
      "application/vnd.jupyter.widget-view+json": {
       "model_id": "b3f77b25d42247d0afd316cb06fd8674",
       "version_major": 2,
       "version_minor": 0
      },
      "text/plain": [
       "20110214_233900_d4c2b.fts:   0%|          | 0.00/8.42M [00:00<?, ?B/s]"
      ]
     },
     "metadata": {},
     "output_type": "display_data"
    },
    {
     "name": "stdout",
     "output_type": "stream",
     "text": [
      "El directorio /data_local/GCS/gcs/Imagenes/2011-02-14/Cor2B/ ya existe\n"
     ]
    },
    {
     "data": {
      "application/vnd.jupyter.widget-view+json": {
       "model_id": "77cb0f86d0144b25a63d53fa65b7b43d",
       "version_major": 2,
       "version_minor": 0
      },
      "text/plain": [
       "Files Downloaded:   0%|          | 0/1 [00:00<?, ?file/s]"
      ]
     },
     "metadata": {},
     "output_type": "display_data"
    },
    {
     "data": {
      "application/vnd.jupyter.widget-view+json": {
       "model_id": "e193d98a16404e6d8599328ea1b8ee94",
       "version_major": 2,
       "version_minor": 0
      },
      "text/plain": [
       "20110214_235400_d4c2b.fts:   0%|          | 0.00/8.42M [00:00<?, ?B/s]"
      ]
     },
     "metadata": {},
     "output_type": "display_data"
    },
    {
     "name": "stdout",
     "output_type": "stream",
     "text": [
      "El directorio /data_local/GCS/gcs/Imagenes/2011-02-14/Cor2B/ ya existe\n"
     ]
    },
    {
     "data": {
      "application/vnd.jupyter.widget-view+json": {
       "model_id": "2f95ea1b42f94cdda7d390af561a228b",
       "version_major": 2,
       "version_minor": 0
      },
      "text/plain": [
       "Files Downloaded:   0%|          | 0/1 [00:00<?, ?file/s]"
      ]
     },
     "metadata": {},
     "output_type": "display_data"
    },
    {
     "data": {
      "application/vnd.jupyter.widget-view+json": {
       "model_id": "dc1353973f204e8d9bd1ec5def5c5b75",
       "version_major": 2,
       "version_minor": 0
      },
      "text/plain": [
       "20110215_000800_d4c2b.fts:   0%|          | 0.00/153k [00:00<?, ?B/s]"
      ]
     },
     "metadata": {},
     "output_type": "display_data"
    },
    {
     "name": "stdout",
     "output_type": "stream",
     "text": [
      "El directorio /data_local/GCS/gcs/Imagenes/2011-02-14/Cor2B/ ya existe\n"
     ]
    },
    {
     "data": {
      "application/vnd.jupyter.widget-view+json": {
       "model_id": "ad7d4fb4613f4786a283138393f768c2",
       "version_major": 2,
       "version_minor": 0
      },
      "text/plain": [
       "Files Downloaded:   0%|          | 0/1 [00:00<?, ?file/s]"
      ]
     },
     "metadata": {},
     "output_type": "display_data"
    },
    {
     "data": {
      "application/vnd.jupyter.widget-view+json": {
       "model_id": "fcdda03d42d64ba2a477abfee3aa62c5",
       "version_major": 2,
       "version_minor": 0
      },
      "text/plain": [
       "20110215_002400_d4c2b.fts:   0%|          | 0.00/8.42M [00:00<?, ?B/s]"
      ]
     },
     "metadata": {},
     "output_type": "display_data"
    },
    {
     "name": "stdout",
     "output_type": "stream",
     "text": [
      "El directorio /data_local/GCS/gcs/Imagenes/2011-02-14/Cor2B/ ya existe\n"
     ]
    },
    {
     "data": {
      "application/vnd.jupyter.widget-view+json": {
       "model_id": "0868e4bb97ef4e77b26600371a9bb67a",
       "version_major": 2,
       "version_minor": 0
      },
      "text/plain": [
       "Files Downloaded:   0%|          | 0/1 [00:00<?, ?file/s]"
      ]
     },
     "metadata": {},
     "output_type": "display_data"
    },
    {
     "data": {
      "application/vnd.jupyter.widget-view+json": {
       "model_id": "e40c4fa65a8b47d7a2ee0155cc435412",
       "version_major": 2,
       "version_minor": 0
      },
      "text/plain": [
       "20110215_003900_d4c2b.fts:   0%|          | 0.00/8.42M [00:00<?, ?B/s]"
      ]
     },
     "metadata": {},
     "output_type": "display_data"
    },
    {
     "name": "stdout",
     "output_type": "stream",
     "text": [
      "El directorio /data_local/GCS/gcs/Imagenes/2011-02-14/Cor2B/ ya existe\n"
     ]
    },
    {
     "data": {
      "application/vnd.jupyter.widget-view+json": {
       "model_id": "5d6dca61990a472c907c5c163e54e4d0",
       "version_major": 2,
       "version_minor": 0
      },
      "text/plain": [
       "Files Downloaded:   0%|          | 0/1 [00:00<?, ?file/s]"
      ]
     },
     "metadata": {},
     "output_type": "display_data"
    },
    {
     "name": "stderr",
     "output_type": "stream",
     "text": [
      "Exception ignored in: <function BaseEventLoop.__del__ at 0x7f9725646a70>\n",
      "Traceback (most recent call last):\n",
      "  File \"/home/diegol/anaconda3/envs/actual/lib/python3.10/asyncio/base_events.py\", line 687, in __del__\n",
      "    self.close()\n",
      "  File \"/home/diegol/anaconda3/envs/actual/lib/python3.10/asyncio/unix_events.py\", line 71, in close\n",
      "    self.remove_signal_handler(sig)\n",
      "  File \"/home/diegol/anaconda3/envs/actual/lib/python3.10/asyncio/unix_events.py\", line 160, in remove_signal_handler\n",
      "    signal.signal(sig, handler)\n",
      "  File \"/home/diegol/anaconda3/envs/actual/lib/python3.10/signal.py\", line 56, in signal\n",
      "    handler = _signal.signal(_enum_to_int(signalnum), _enum_to_int(handler))\n",
      "ValueError: signal only works in main thread of the main interpreter\n",
      "Exception ignored in: <function BaseEventLoop.__del__ at 0x7f9725646a70>\n",
      "Traceback (most recent call last):\n",
      "  File \"/home/diegol/anaconda3/envs/actual/lib/python3.10/asyncio/base_events.py\", line 687, in __del__\n",
      "    self.close()\n",
      "  File \"/home/diegol/anaconda3/envs/actual/lib/python3.10/asyncio/unix_events.py\", line 71, in close\n",
      "    self.remove_signal_handler(sig)\n",
      "  File \"/home/diegol/anaconda3/envs/actual/lib/python3.10/asyncio/unix_events.py\", line 160, in remove_signal_handler\n",
      "    signal.signal(sig, handler)\n",
      "  File \"/home/diegol/anaconda3/envs/actual/lib/python3.10/signal.py\", line 56, in signal\n",
      "    handler = _signal.signal(_enum_to_int(signalnum), _enum_to_int(handler))\n",
      "ValueError: signal only works in main thread of the main interpreter\n",
      "Exception ignored in: <function BaseEventLoop.__del__ at 0x7f9725646a70>\n",
      "Traceback (most recent call last):\n",
      "  File \"/home/diegol/anaconda3/envs/actual/lib/python3.10/asyncio/base_events.py\", line 687, in __del__\n",
      "    self.close()\n",
      "  File \"/home/diegol/anaconda3/envs/actual/lib/python3.10/asyncio/unix_events.py\", line 71, in close\n",
      "    self.remove_signal_handler(sig)\n",
      "  File \"/home/diegol/anaconda3/envs/actual/lib/python3.10/asyncio/unix_events.py\", line 160, in remove_signal_handler\n",
      "    signal.signal(sig, handler)\n",
      "  File \"/home/diegol/anaconda3/envs/actual/lib/python3.10/signal.py\", line 56, in signal\n",
      "    handler = _signal.signal(_enum_to_int(signalnum), _enum_to_int(handler))\n",
      "ValueError: signal only works in main thread of the main interpreter\n",
      "Exception ignored in: <function BaseEventLoop.__del__ at 0x7f9725646a70>\n",
      "Traceback (most recent call last):\n",
      "  File \"/home/diegol/anaconda3/envs/actual/lib/python3.10/asyncio/base_events.py\", line 687, in __del__\n",
      "    self.close()\n",
      "  File \"/home/diegol/anaconda3/envs/actual/lib/python3.10/asyncio/unix_events.py\", line 71, in close\n",
      "    self.remove_signal_handler(sig)\n",
      "  File \"/home/diegol/anaconda3/envs/actual/lib/python3.10/asyncio/unix_events.py\", line 160, in remove_signal_handler\n",
      "    signal.signal(sig, handler)\n",
      "  File \"/home/diegol/anaconda3/envs/actual/lib/python3.10/signal.py\", line 56, in signal\n",
      "    handler = _signal.signal(_enum_to_int(signalnum), _enum_to_int(handler))\n",
      "ValueError: signal only works in main thread of the main interpreter\n",
      "Exception ignored in: <function BaseEventLoop.__del__ at 0x7f9725646a70>\n",
      "Traceback (most recent call last):\n",
      "  File \"/home/diegol/anaconda3/envs/actual/lib/python3.10/asyncio/base_events.py\", line 687, in __del__\n",
      "    self.close()\n",
      "  File \"/home/diegol/anaconda3/envs/actual/lib/python3.10/asyncio/unix_events.py\", line 71, in close\n",
      "    self.remove_signal_handler(sig)\n",
      "  File \"/home/diegol/anaconda3/envs/actual/lib/python3.10/asyncio/unix_events.py\", line 160, in remove_signal_handler\n",
      "    signal.signal(sig, handler)\n",
      "  File \"/home/diegol/anaconda3/envs/actual/lib/python3.10/signal.py\", line 56, in signal\n",
      "    handler = _signal.signal(_enum_to_int(signalnum), _enum_to_int(handler))\n",
      "ValueError: signal only works in main thread of the main interpreter\n",
      "Exception ignored in: <function BaseEventLoop.__del__ at 0x7f9725646a70>\n",
      "Traceback (most recent call last):\n",
      "  File \"/home/diegol/anaconda3/envs/actual/lib/python3.10/asyncio/base_events.py\", line 687, in __del__\n",
      "    self.close()\n",
      "  File \"/home/diegol/anaconda3/envs/actual/lib/python3.10/asyncio/unix_events.py\", line 71, in close\n",
      "    self.remove_signal_handler(sig)\n",
      "  File \"/home/diegol/anaconda3/envs/actual/lib/python3.10/asyncio/unix_events.py\", line 160, in remove_signal_handler\n",
      "    signal.signal(sig, handler)\n",
      "  File \"/home/diegol/anaconda3/envs/actual/lib/python3.10/signal.py\", line 56, in signal\n",
      "    handler = _signal.signal(_enum_to_int(signalnum), _enum_to_int(handler))\n",
      "ValueError: signal only works in main thread of the main interpreter\n",
      "Exception ignored in: <function BaseEventLoop.__del__ at 0x7f9725646a70>\n",
      "Traceback (most recent call last):\n",
      "  File \"/home/diegol/anaconda3/envs/actual/lib/python3.10/asyncio/base_events.py\", line 687, in __del__\n",
      "    self.close()\n",
      "  File \"/home/diegol/anaconda3/envs/actual/lib/python3.10/asyncio/unix_events.py\", line 71, in close\n",
      "    self.remove_signal_handler(sig)\n",
      "  File \"/home/diegol/anaconda3/envs/actual/lib/python3.10/asyncio/unix_events.py\", line 160, in remove_signal_handler\n",
      "    signal.signal(sig, handler)\n",
      "  File \"/home/diegol/anaconda3/envs/actual/lib/python3.10/signal.py\", line 56, in signal\n",
      "    handler = _signal.signal(_enum_to_int(signalnum), _enum_to_int(handler))\n",
      "ValueError: signal only works in main thread of the main interpreter\n"
     ]
    },
    {
     "data": {
      "application/vnd.jupyter.widget-view+json": {
       "model_id": "dd1b0796107646a582948ec759fe17d4",
       "version_major": 2,
       "version_minor": 0
      },
      "text/plain": [
       "20110215_005400_d4c2b.fts:   0%|          | 0.00/8.42M [00:00<?, ?B/s]"
      ]
     },
     "metadata": {},
     "output_type": "display_data"
    },
    {
     "name": "stdout",
     "output_type": "stream",
     "text": [
      "El directorio /data_local/GCS/gcs/Imagenes/2011-02-14/Cor2B/ ya existe\n"
     ]
    },
    {
     "data": {
      "application/vnd.jupyter.widget-view+json": {
       "model_id": "8c7fb42874aa4e10bea73ca80ffe9719",
       "version_major": 2,
       "version_minor": 0
      },
      "text/plain": [
       "Files Downloaded:   0%|          | 0/1 [00:00<?, ?file/s]"
      ]
     },
     "metadata": {},
     "output_type": "display_data"
    },
    {
     "data": {
      "application/vnd.jupyter.widget-view+json": {
       "model_id": "c1d13ca9df574055a512a1b0729ab53d",
       "version_major": 2,
       "version_minor": 0
      },
      "text/plain": [
       "20110215_010800_d4c2b.fts:   0%|          | 0.00/153k [00:00<?, ?B/s]"
      ]
     },
     "metadata": {},
     "output_type": "display_data"
    },
    {
     "name": "stdout",
     "output_type": "stream",
     "text": [
      "El directorio /data_local/GCS/gcs/Imagenes/2011-02-14/Cor2B/ ya existe\n"
     ]
    },
    {
     "data": {
      "application/vnd.jupyter.widget-view+json": {
       "model_id": "e154cf1de2104baba00788732dcaaf1c",
       "version_major": 2,
       "version_minor": 0
      },
      "text/plain": [
       "Files Downloaded:   0%|          | 0/1 [00:00<?, ?file/s]"
      ]
     },
     "metadata": {},
     "output_type": "display_data"
    },
    {
     "data": {
      "application/vnd.jupyter.widget-view+json": {
       "model_id": "03248a9e1be246e2b7510fa9f00eff68",
       "version_major": 2,
       "version_minor": 0
      },
      "text/plain": [
       "20110215_012400_d4c2b.fts:   0%|          | 0.00/8.42M [00:00<?, ?B/s]"
      ]
     },
     "metadata": {},
     "output_type": "display_data"
    },
    {
     "name": "stdout",
     "output_type": "stream",
     "text": [
      "El directorio /data_local/GCS/gcs/Imagenes/2011-02-14/Cor2B/ ya existe\n"
     ]
    },
    {
     "data": {
      "application/vnd.jupyter.widget-view+json": {
       "model_id": "02b63d7aa8d3459cb67349c9aa726b16",
       "version_major": 2,
       "version_minor": 0
      },
      "text/plain": [
       "Files Downloaded:   0%|          | 0/1 [00:00<?, ?file/s]"
      ]
     },
     "metadata": {},
     "output_type": "display_data"
    },
    {
     "data": {
      "application/vnd.jupyter.widget-view+json": {
       "model_id": "a27fb3ec250b43ffaf9c0e88f98e8b65",
       "version_major": 2,
       "version_minor": 0
      },
      "text/plain": [
       "20110215_013900_d4c2b.fts:   0%|          | 0.00/8.42M [00:00<?, ?B/s]"
      ]
     },
     "metadata": {},
     "output_type": "display_data"
    },
    {
     "name": "stdout",
     "output_type": "stream",
     "text": [
      "El directorio /data_local/GCS/gcs/Imagenes/2011-02-14/Cor2B/ ya existe\n"
     ]
    },
    {
     "data": {
      "application/vnd.jupyter.widget-view+json": {
       "model_id": "06366072e31445b1923b6ff6bcdeaef5",
       "version_major": 2,
       "version_minor": 0
      },
      "text/plain": [
       "Files Downloaded:   0%|          | 0/1 [00:00<?, ?file/s]"
      ]
     },
     "metadata": {},
     "output_type": "display_data"
    },
    {
     "data": {
      "application/vnd.jupyter.widget-view+json": {
       "model_id": "18983086cf4d4e53b55fb45aefafde5c",
       "version_major": 2,
       "version_minor": 0
      },
      "text/plain": [
       "20110215_015400_d4c2b.fts:   0%|          | 0.00/8.42M [00:00<?, ?B/s]"
      ]
     },
     "metadata": {},
     "output_type": "display_data"
    },
    {
     "name": "stdout",
     "output_type": "stream",
     "text": [
      "El directorio /data_local/GCS/gcs/Imagenes/2011-02-14/Cor2B/ ya existe\n"
     ]
    },
    {
     "data": {
      "application/vnd.jupyter.widget-view+json": {
       "model_id": "ca646653cff94feab19d95b8ac9b497f",
       "version_major": 2,
       "version_minor": 0
      },
      "text/plain": [
       "Files Downloaded:   0%|          | 0/1 [00:00<?, ?file/s]"
      ]
     },
     "metadata": {},
     "output_type": "display_data"
    },
    {
     "data": {
      "application/vnd.jupyter.widget-view+json": {
       "model_id": "594d34b003674a828066218701edb211",
       "version_major": 2,
       "version_minor": 0
      },
      "text/plain": [
       "20110215_020800_d4c2b.fts:   0%|          | 0.00/153k [00:00<?, ?B/s]"
      ]
     },
     "metadata": {},
     "output_type": "display_data"
    },
    {
     "name": "stdout",
     "output_type": "stream",
     "text": [
      "El directorio /data_local/GCS/gcs/Imagenes/2011-02-14/Cor2B/ ya existe\n"
     ]
    },
    {
     "data": {
      "application/vnd.jupyter.widget-view+json": {
       "model_id": "eac5202a469e446d86a044ffb7f478bb",
       "version_major": 2,
       "version_minor": 0
      },
      "text/plain": [
       "Files Downloaded:   0%|          | 0/1 [00:00<?, ?file/s]"
      ]
     },
     "metadata": {},
     "output_type": "display_data"
    },
    {
     "data": {
      "application/vnd.jupyter.widget-view+json": {
       "model_id": "d02c8f071c5943a6b46268481ef90dd9",
       "version_major": 2,
       "version_minor": 0
      },
      "text/plain": [
       "20110215_022400_d4c2b.fts:   0%|          | 0.00/8.42M [00:00<?, ?B/s]"
      ]
     },
     "metadata": {},
     "output_type": "display_data"
    },
    {
     "name": "stdout",
     "output_type": "stream",
     "text": [
      "El directorio /data_local/GCS/gcs/Imagenes/2011-02-14/Cor2B/ ya existe\n"
     ]
    },
    {
     "data": {
      "application/vnd.jupyter.widget-view+json": {
       "model_id": "19ee9758ebd74d19b45e468ea44296df",
       "version_major": 2,
       "version_minor": 0
      },
      "text/plain": [
       "Files Downloaded:   0%|          | 0/1 [00:00<?, ?file/s]"
      ]
     },
     "metadata": {},
     "output_type": "display_data"
    },
    {
     "data": {
      "application/vnd.jupyter.widget-view+json": {
       "model_id": "6a893264450f4418b7cae9ecc518be32",
       "version_major": 2,
       "version_minor": 0
      },
      "text/plain": [
       "20110215_023900_d4c2b.fts:   0%|          | 0.00/8.42M [00:00<?, ?B/s]"
      ]
     },
     "metadata": {},
     "output_type": "display_data"
    },
    {
     "name": "stdout",
     "output_type": "stream",
     "text": [
      "El directorio /data_local/GCS/gcs/Imagenes/2011-02-14/Cor2B/ ya existe\n"
     ]
    },
    {
     "data": {
      "application/vnd.jupyter.widget-view+json": {
       "model_id": "0fbd7ceb16434d88bcc6166047f708c1",
       "version_major": 2,
       "version_minor": 0
      },
      "text/plain": [
       "Files Downloaded:   0%|          | 0/1 [00:00<?, ?file/s]"
      ]
     },
     "metadata": {},
     "output_type": "display_data"
    },
    {
     "name": "stderr",
     "output_type": "stream",
     "text": [
      "Exception ignored in: <function BaseEventLoop.__del__ at 0x7f9725646a70>\n",
      "Traceback (most recent call last):\n",
      "  File \"/home/diegol/anaconda3/envs/actual/lib/python3.10/asyncio/base_events.py\", line 687, in __del__\n",
      "    self.close()\n",
      "  File \"/home/diegol/anaconda3/envs/actual/lib/python3.10/asyncio/unix_events.py\", line 71, in close\n",
      "    self.remove_signal_handler(sig)\n",
      "  File \"/home/diegol/anaconda3/envs/actual/lib/python3.10/asyncio/unix_events.py\", line 160, in remove_signal_handler\n",
      "    signal.signal(sig, handler)\n",
      "  File \"/home/diegol/anaconda3/envs/actual/lib/python3.10/signal.py\", line 56, in signal\n",
      "    handler = _signal.signal(_enum_to_int(signalnum), _enum_to_int(handler))\n",
      "ValueError: signal only works in main thread of the main interpreter\n",
      "Exception ignored in: <function BaseEventLoop.__del__ at 0x7f9725646a70>\n",
      "Traceback (most recent call last):\n",
      "  File \"/home/diegol/anaconda3/envs/actual/lib/python3.10/asyncio/base_events.py\", line 687, in __del__\n",
      "    self.close()\n",
      "  File \"/home/diegol/anaconda3/envs/actual/lib/python3.10/asyncio/unix_events.py\", line 71, in close\n",
      "    self.remove_signal_handler(sig)\n",
      "  File \"/home/diegol/anaconda3/envs/actual/lib/python3.10/asyncio/unix_events.py\", line 160, in remove_signal_handler\n",
      "    signal.signal(sig, handler)\n",
      "  File \"/home/diegol/anaconda3/envs/actual/lib/python3.10/signal.py\", line 56, in signal\n",
      "    handler = _signal.signal(_enum_to_int(signalnum), _enum_to_int(handler))\n",
      "ValueError: signal only works in main thread of the main interpreter\n",
      "Exception ignored in: <function BaseEventLoop.__del__ at 0x7f9725646a70>\n",
      "Traceback (most recent call last):\n",
      "  File \"/home/diegol/anaconda3/envs/actual/lib/python3.10/asyncio/base_events.py\", line 687, in __del__\n",
      "    self.close()\n",
      "  File \"/home/diegol/anaconda3/envs/actual/lib/python3.10/asyncio/unix_events.py\", line 71, in close\n",
      "    self.remove_signal_handler(sig)\n",
      "  File \"/home/diegol/anaconda3/envs/actual/lib/python3.10/asyncio/unix_events.py\", line 160, in remove_signal_handler\n",
      "    signal.signal(sig, handler)\n",
      "  File \"/home/diegol/anaconda3/envs/actual/lib/python3.10/signal.py\", line 56, in signal\n",
      "    handler = _signal.signal(_enum_to_int(signalnum), _enum_to_int(handler))\n",
      "ValueError: signal only works in main thread of the main interpreter\n",
      "Exception ignored in: <function BaseEventLoop.__del__ at 0x7f9725646a70>\n",
      "Traceback (most recent call last):\n",
      "  File \"/home/diegol/anaconda3/envs/actual/lib/python3.10/asyncio/base_events.py\", line 687, in __del__\n",
      "    self.close()\n",
      "  File \"/home/diegol/anaconda3/envs/actual/lib/python3.10/asyncio/unix_events.py\", line 71, in close\n",
      "    self.remove_signal_handler(sig)\n",
      "  File \"/home/diegol/anaconda3/envs/actual/lib/python3.10/asyncio/unix_events.py\", line 160, in remove_signal_handler\n",
      "    signal.signal(sig, handler)\n",
      "  File \"/home/diegol/anaconda3/envs/actual/lib/python3.10/signal.py\", line 56, in signal\n",
      "    handler = _signal.signal(_enum_to_int(signalnum), _enum_to_int(handler))\n",
      "ValueError: signal only works in main thread of the main interpreter\n",
      "Exception ignored in: <function BaseEventLoop.__del__ at 0x7f9725646a70>\n",
      "Traceback (most recent call last):\n",
      "  File \"/home/diegol/anaconda3/envs/actual/lib/python3.10/asyncio/base_events.py\", line 687, in __del__\n",
      "    self.close()\n",
      "  File \"/home/diegol/anaconda3/envs/actual/lib/python3.10/asyncio/unix_events.py\", line 71, in close\n",
      "    self.remove_signal_handler(sig)\n",
      "  File \"/home/diegol/anaconda3/envs/actual/lib/python3.10/asyncio/unix_events.py\", line 160, in remove_signal_handler\n",
      "    signal.signal(sig, handler)\n",
      "  File \"/home/diegol/anaconda3/envs/actual/lib/python3.10/signal.py\", line 56, in signal\n",
      "    handler = _signal.signal(_enum_to_int(signalnum), _enum_to_int(handler))\n",
      "ValueError: signal only works in main thread of the main interpreter\n",
      "Exception ignored in: <function BaseEventLoop.__del__ at 0x7f9725646a70>\n",
      "Traceback (most recent call last):\n",
      "  File \"/home/diegol/anaconda3/envs/actual/lib/python3.10/asyncio/base_events.py\", line 687, in __del__\n",
      "    self.close()\n",
      "  File \"/home/diegol/anaconda3/envs/actual/lib/python3.10/asyncio/unix_events.py\", line 71, in close\n",
      "    self.remove_signal_handler(sig)\n",
      "  File \"/home/diegol/anaconda3/envs/actual/lib/python3.10/asyncio/unix_events.py\", line 160, in remove_signal_handler\n",
      "    signal.signal(sig, handler)\n",
      "  File \"/home/diegol/anaconda3/envs/actual/lib/python3.10/signal.py\", line 56, in signal\n",
      "    handler = _signal.signal(_enum_to_int(signalnum), _enum_to_int(handler))\n",
      "ValueError: signal only works in main thread of the main interpreter\n",
      "Exception ignored in: <function BaseEventLoop.__del__ at 0x7f9725646a70>\n",
      "Traceback (most recent call last):\n",
      "  File \"/home/diegol/anaconda3/envs/actual/lib/python3.10/asyncio/base_events.py\", line 687, in __del__\n",
      "    self.close()\n",
      "  File \"/home/diegol/anaconda3/envs/actual/lib/python3.10/asyncio/unix_events.py\", line 71, in close\n",
      "    self.remove_signal_handler(sig)\n",
      "  File \"/home/diegol/anaconda3/envs/actual/lib/python3.10/asyncio/unix_events.py\", line 160, in remove_signal_handler\n",
      "    signal.signal(sig, handler)\n",
      "  File \"/home/diegol/anaconda3/envs/actual/lib/python3.10/signal.py\", line 56, in signal\n",
      "    handler = _signal.signal(_enum_to_int(signalnum), _enum_to_int(handler))\n",
      "ValueError: signal only works in main thread of the main interpreter\n"
     ]
    },
    {
     "data": {
      "application/vnd.jupyter.widget-view+json": {
       "model_id": "40198d8e58f64eb2bae55f9277d65053",
       "version_major": 2,
       "version_minor": 0
      },
      "text/plain": [
       "20110215_025400_d4c2b.fts:   0%|          | 0.00/8.42M [00:00<?, ?B/s]"
      ]
     },
     "metadata": {},
     "output_type": "display_data"
    },
    {
     "name": "stdout",
     "output_type": "stream",
     "text": [
      "El directorio /data_local/GCS/gcs/Imagenes/2011-02-14/Cor2B/ ya existe\n"
     ]
    },
    {
     "data": {
      "application/vnd.jupyter.widget-view+json": {
       "model_id": "d7bc500164e443f7b20e39609d658fdd",
       "version_major": 2,
       "version_minor": 0
      },
      "text/plain": [
       "Files Downloaded:   0%|          | 0/1 [00:00<?, ?file/s]"
      ]
     },
     "metadata": {},
     "output_type": "display_data"
    },
    {
     "data": {
      "application/vnd.jupyter.widget-view+json": {
       "model_id": "195ec9ee015944c3a3d68c79bcf5dc7a",
       "version_major": 2,
       "version_minor": 0
      },
      "text/plain": [
       "20110215_030800_d4c2b.fts:   0%|          | 0.00/153k [00:00<?, ?B/s]"
      ]
     },
     "metadata": {},
     "output_type": "display_data"
    },
    {
     "name": "stdout",
     "output_type": "stream",
     "text": [
      "El directorio /data_local/GCS/gcs/Imagenes/2011-02-14/Cor2B/ ya existe\n"
     ]
    },
    {
     "data": {
      "application/vnd.jupyter.widget-view+json": {
       "model_id": "babc285efb90442595f99f243e9b6bda",
       "version_major": 2,
       "version_minor": 0
      },
      "text/plain": [
       "Files Downloaded:   0%|          | 0/1 [00:00<?, ?file/s]"
      ]
     },
     "metadata": {},
     "output_type": "display_data"
    },
    {
     "data": {
      "application/vnd.jupyter.widget-view+json": {
       "model_id": "43661860c123427d9f348ccda09548ba",
       "version_major": 2,
       "version_minor": 0
      },
      "text/plain": [
       "20110215_032400_d4c2b.fts:   0%|          | 0.00/8.42M [00:00<?, ?B/s]"
      ]
     },
     "metadata": {},
     "output_type": "display_data"
    },
    {
     "name": "stdout",
     "output_type": "stream",
     "text": [
      "El directorio /data_local/GCS/gcs/Imagenes/2011-02-14/Cor2B/ ya existe\n"
     ]
    },
    {
     "data": {
      "application/vnd.jupyter.widget-view+json": {
       "model_id": "0ca78545ce0c428d934c64e35940b44d",
       "version_major": 2,
       "version_minor": 0
      },
      "text/plain": [
       "Files Downloaded:   0%|          | 0/1 [00:00<?, ?file/s]"
      ]
     },
     "metadata": {},
     "output_type": "display_data"
    },
    {
     "data": {
      "application/vnd.jupyter.widget-view+json": {
       "model_id": "ed1f18fdce59476992dadfbec3f1c459",
       "version_major": 2,
       "version_minor": 0
      },
      "text/plain": [
       "20110215_033900_d4c2b.fts:   0%|          | 0.00/8.42M [00:00<?, ?B/s]"
      ]
     },
     "metadata": {},
     "output_type": "display_data"
    },
    {
     "name": "stdout",
     "output_type": "stream",
     "text": [
      "El directorio /data_local/GCS/gcs/Imagenes/2011-02-14/Cor2B/ ya existe\n"
     ]
    },
    {
     "data": {
      "application/vnd.jupyter.widget-view+json": {
       "model_id": "ea2f177267184484a161fe4aa50147d3",
       "version_major": 2,
       "version_minor": 0
      },
      "text/plain": [
       "Files Downloaded:   0%|          | 0/1 [00:00<?, ?file/s]"
      ]
     },
     "metadata": {},
     "output_type": "display_data"
    },
    {
     "data": {
      "application/vnd.jupyter.widget-view+json": {
       "model_id": "a0a0e75666e245a68200df1a966bca9b",
       "version_major": 2,
       "version_minor": 0
      },
      "text/plain": [
       "20110215_035400_d4c2b.fts:   0%|          | 0.00/8.42M [00:00<?, ?B/s]"
      ]
     },
     "metadata": {},
     "output_type": "display_data"
    },
    {
     "name": "stdout",
     "output_type": "stream",
     "text": [
      "El directorio /data_local/GCS/gcs/Imagenes/2011-02-14/Cor2B/ ya existe\n"
     ]
    },
    {
     "data": {
      "application/vnd.jupyter.widget-view+json": {
       "model_id": "5bbe13a6fdfc452a8fed55adaa955333",
       "version_major": 2,
       "version_minor": 0
      },
      "text/plain": [
       "Files Downloaded:   0%|          | 0/1 [00:00<?, ?file/s]"
      ]
     },
     "metadata": {},
     "output_type": "display_data"
    },
    {
     "data": {
      "application/vnd.jupyter.widget-view+json": {
       "model_id": "012123df502d4fc8937826665eda5669",
       "version_major": 2,
       "version_minor": 0
      },
      "text/plain": [
       "20110215_040800_d4c2b.fts:   0%|          | 0.00/153k [00:00<?, ?B/s]"
      ]
     },
     "metadata": {},
     "output_type": "display_data"
    },
    {
     "name": "stdout",
     "output_type": "stream",
     "text": [
      "El directorio /data_local/GCS/gcs/Imagenes/2011-02-14/Cor2B/ ya existe\n"
     ]
    },
    {
     "data": {
      "application/vnd.jupyter.widget-view+json": {
       "model_id": "ce606bdee03d4976b6789a02c4fa7536",
       "version_major": 2,
       "version_minor": 0
      },
      "text/plain": [
       "Files Downloaded:   0%|          | 0/1 [00:00<?, ?file/s]"
      ]
     },
     "metadata": {},
     "output_type": "display_data"
    },
    {
     "data": {
      "application/vnd.jupyter.widget-view+json": {
       "model_id": "f3248be6fbde49a9ac3440207f364e9d",
       "version_major": 2,
       "version_minor": 0
      },
      "text/plain": [
       "20110215_042400_d4c2b.fts:   0%|          | 0.00/8.42M [00:00<?, ?B/s]"
      ]
     },
     "metadata": {},
     "output_type": "display_data"
    },
    {
     "name": "stdout",
     "output_type": "stream",
     "text": [
      "El directorio /data_local/GCS/gcs/Imagenes/2011-02-14/Cor2B/ ya existe\n"
     ]
    },
    {
     "data": {
      "application/vnd.jupyter.widget-view+json": {
       "model_id": "ec4f0b4f51ac419290127c99c0b556ff",
       "version_major": 2,
       "version_minor": 0
      },
      "text/plain": [
       "Files Downloaded:   0%|          | 0/1 [00:00<?, ?file/s]"
      ]
     },
     "metadata": {},
     "output_type": "display_data"
    },
    {
     "data": {
      "application/vnd.jupyter.widget-view+json": {
       "model_id": "fd0c012dd652436fbb15b114ee585978",
       "version_major": 2,
       "version_minor": 0
      },
      "text/plain": [
       "20110215_043900_d4c2b.fts:   0%|          | 0.00/8.42M [00:00<?, ?B/s]"
      ]
     },
     "metadata": {},
     "output_type": "display_data"
    },
    {
     "name": "stdout",
     "output_type": "stream",
     "text": [
      "El directorio /data_local/GCS/gcs/Imagenes/2011-02-14/Cor2B/ ya existe\n"
     ]
    },
    {
     "data": {
      "application/vnd.jupyter.widget-view+json": {
       "model_id": "ba0b28621c184dae90bf9b74ac15d6fe",
       "version_major": 2,
       "version_minor": 0
      },
      "text/plain": [
       "Files Downloaded:   0%|          | 0/1 [00:00<?, ?file/s]"
      ]
     },
     "metadata": {},
     "output_type": "display_data"
    },
    {
     "name": "stderr",
     "output_type": "stream",
     "text": [
      "Exception ignored in: <function BaseEventLoop.__del__ at 0x7f9725646a70>\n",
      "Traceback (most recent call last):\n",
      "  File \"/home/diegol/anaconda3/envs/actual/lib/python3.10/asyncio/base_events.py\", line 687, in __del__\n",
      "    self.close()\n",
      "  File \"/home/diegol/anaconda3/envs/actual/lib/python3.10/asyncio/unix_events.py\", line 71, in close\n",
      "    self.remove_signal_handler(sig)\n",
      "  File \"/home/diegol/anaconda3/envs/actual/lib/python3.10/asyncio/unix_events.py\", line 160, in remove_signal_handler\n",
      "    signal.signal(sig, handler)\n",
      "  File \"/home/diegol/anaconda3/envs/actual/lib/python3.10/signal.py\", line 56, in signal\n",
      "    handler = _signal.signal(_enum_to_int(signalnum), _enum_to_int(handler))\n",
      "ValueError: signal only works in main thread of the main interpreter\n",
      "Exception ignored in: <function BaseEventLoop.__del__ at 0x7f9725646a70>\n",
      "Traceback (most recent call last):\n",
      "  File \"/home/diegol/anaconda3/envs/actual/lib/python3.10/asyncio/base_events.py\", line 687, in __del__\n",
      "    self.close()\n",
      "  File \"/home/diegol/anaconda3/envs/actual/lib/python3.10/asyncio/unix_events.py\", line 71, in close\n",
      "    self.remove_signal_handler(sig)\n",
      "  File \"/home/diegol/anaconda3/envs/actual/lib/python3.10/asyncio/unix_events.py\", line 160, in remove_signal_handler\n",
      "    signal.signal(sig, handler)\n",
      "  File \"/home/diegol/anaconda3/envs/actual/lib/python3.10/signal.py\", line 56, in signal\n",
      "    handler = _signal.signal(_enum_to_int(signalnum), _enum_to_int(handler))\n",
      "ValueError: signal only works in main thread of the main interpreter\n",
      "Exception ignored in: <function BaseEventLoop.__del__ at 0x7f9725646a70>\n",
      "Traceback (most recent call last):\n",
      "  File \"/home/diegol/anaconda3/envs/actual/lib/python3.10/asyncio/base_events.py\", line 687, in __del__\n",
      "    self.close()\n",
      "  File \"/home/diegol/anaconda3/envs/actual/lib/python3.10/asyncio/unix_events.py\", line 71, in close\n",
      "    self.remove_signal_handler(sig)\n",
      "  File \"/home/diegol/anaconda3/envs/actual/lib/python3.10/asyncio/unix_events.py\", line 160, in remove_signal_handler\n",
      "    signal.signal(sig, handler)\n",
      "  File \"/home/diegol/anaconda3/envs/actual/lib/python3.10/signal.py\", line 56, in signal\n",
      "    handler = _signal.signal(_enum_to_int(signalnum), _enum_to_int(handler))\n",
      "ValueError: signal only works in main thread of the main interpreter\n",
      "Exception ignored in: <function BaseEventLoop.__del__ at 0x7f9725646a70>\n",
      "Traceback (most recent call last):\n",
      "  File \"/home/diegol/anaconda3/envs/actual/lib/python3.10/asyncio/base_events.py\", line 687, in __del__\n",
      "    self.close()\n",
      "  File \"/home/diegol/anaconda3/envs/actual/lib/python3.10/asyncio/unix_events.py\", line 71, in close\n",
      "    self.remove_signal_handler(sig)\n",
      "  File \"/home/diegol/anaconda3/envs/actual/lib/python3.10/asyncio/unix_events.py\", line 160, in remove_signal_handler\n",
      "    signal.signal(sig, handler)\n",
      "  File \"/home/diegol/anaconda3/envs/actual/lib/python3.10/signal.py\", line 56, in signal\n",
      "    handler = _signal.signal(_enum_to_int(signalnum), _enum_to_int(handler))\n",
      "ValueError: signal only works in main thread of the main interpreter\n",
      "Exception ignored in: <function BaseEventLoop.__del__ at 0x7f9725646a70>\n",
      "Traceback (most recent call last):\n",
      "  File \"/home/diegol/anaconda3/envs/actual/lib/python3.10/asyncio/base_events.py\", line 687, in __del__\n",
      "    self.close()\n",
      "  File \"/home/diegol/anaconda3/envs/actual/lib/python3.10/asyncio/unix_events.py\", line 71, in close\n",
      "    self.remove_signal_handler(sig)\n",
      "  File \"/home/diegol/anaconda3/envs/actual/lib/python3.10/asyncio/unix_events.py\", line 160, in remove_signal_handler\n",
      "    signal.signal(sig, handler)\n",
      "  File \"/home/diegol/anaconda3/envs/actual/lib/python3.10/signal.py\", line 56, in signal\n",
      "    handler = _signal.signal(_enum_to_int(signalnum), _enum_to_int(handler))\n",
      "ValueError: signal only works in main thread of the main interpreter\n",
      "Exception ignored in: <function BaseEventLoop.__del__ at 0x7f9725646a70>\n",
      "Traceback (most recent call last):\n",
      "  File \"/home/diegol/anaconda3/envs/actual/lib/python3.10/asyncio/base_events.py\", line 687, in __del__\n",
      "    self.close()\n",
      "  File \"/home/diegol/anaconda3/envs/actual/lib/python3.10/asyncio/unix_events.py\", line 71, in close\n",
      "    self.remove_signal_handler(sig)\n",
      "  File \"/home/diegol/anaconda3/envs/actual/lib/python3.10/asyncio/unix_events.py\", line 160, in remove_signal_handler\n",
      "    signal.signal(sig, handler)\n",
      "  File \"/home/diegol/anaconda3/envs/actual/lib/python3.10/signal.py\", line 56, in signal\n",
      "    handler = _signal.signal(_enum_to_int(signalnum), _enum_to_int(handler))\n",
      "ValueError: signal only works in main thread of the main interpreter\n",
      "Exception ignored in: <function BaseEventLoop.__del__ at 0x7f9725646a70>\n",
      "Traceback (most recent call last):\n",
      "  File \"/home/diegol/anaconda3/envs/actual/lib/python3.10/asyncio/base_events.py\", line 687, in __del__\n",
      "    self.close()\n",
      "  File \"/home/diegol/anaconda3/envs/actual/lib/python3.10/asyncio/unix_events.py\", line 71, in close\n",
      "    self.remove_signal_handler(sig)\n",
      "  File \"/home/diegol/anaconda3/envs/actual/lib/python3.10/asyncio/unix_events.py\", line 160, in remove_signal_handler\n",
      "    signal.signal(sig, handler)\n",
      "  File \"/home/diegol/anaconda3/envs/actual/lib/python3.10/signal.py\", line 56, in signal\n",
      "    handler = _signal.signal(_enum_to_int(signalnum), _enum_to_int(handler))\n",
      "ValueError: signal only works in main thread of the main interpreter\n"
     ]
    },
    {
     "data": {
      "application/vnd.jupyter.widget-view+json": {
       "model_id": "ec1fc4b79a3847718dc62b927b4a3c24",
       "version_major": 2,
       "version_minor": 0
      },
      "text/plain": [
       "20110215_045400_d4c2b.fts:   0%|          | 0.00/8.42M [00:00<?, ?B/s]"
      ]
     },
     "metadata": {},
     "output_type": "display_data"
    },
    {
     "name": "stdout",
     "output_type": "stream",
     "text": [
      "El directorio /data_local/GCS/gcs/Imagenes/2011-02-14/Cor2B/ ya existe\n"
     ]
    },
    {
     "data": {
      "application/vnd.jupyter.widget-view+json": {
       "model_id": "f9449931beb04e1cb89b3e2581b4745c",
       "version_major": 2,
       "version_minor": 0
      },
      "text/plain": [
       "Files Downloaded:   0%|          | 0/1 [00:00<?, ?file/s]"
      ]
     },
     "metadata": {},
     "output_type": "display_data"
    },
    {
     "data": {
      "application/vnd.jupyter.widget-view+json": {
       "model_id": "d8f084892d484e02be54dfbccb679766",
       "version_major": 2,
       "version_minor": 0
      },
      "text/plain": [
       "20110215_050800_d4c2b.fts:   0%|          | 0.00/153k [00:00<?, ?B/s]"
      ]
     },
     "metadata": {},
     "output_type": "display_data"
    },
    {
     "name": "stdout",
     "output_type": "stream",
     "text": [
      "El directorio /data_local/GCS/gcs/Imagenes/2011-02-14/Cor2B/ ya existe\n"
     ]
    },
    {
     "data": {
      "application/vnd.jupyter.widget-view+json": {
       "model_id": "f6e3fc6e99b9485eb39edc4b24607d30",
       "version_major": 2,
       "version_minor": 0
      },
      "text/plain": [
       "Files Downloaded:   0%|          | 0/1 [00:00<?, ?file/s]"
      ]
     },
     "metadata": {},
     "output_type": "display_data"
    },
    {
     "data": {
      "application/vnd.jupyter.widget-view+json": {
       "model_id": "5b43d8706665492bb5dce1c05aa3497f",
       "version_major": 2,
       "version_minor": 0
      },
      "text/plain": [
       "20110215_052400_d4c2b.fts:   0%|          | 0.00/8.42M [00:00<?, ?B/s]"
      ]
     },
     "metadata": {},
     "output_type": "display_data"
    },
    {
     "name": "stdout",
     "output_type": "stream",
     "text": [
      "El directorio /data_local/GCS/gcs/Imagenes/2011-02-14/Cor2B/ ya existe\n"
     ]
    },
    {
     "data": {
      "application/vnd.jupyter.widget-view+json": {
       "model_id": "0960f01c0b8c48c59268973696317f73",
       "version_major": 2,
       "version_minor": 0
      },
      "text/plain": [
       "Files Downloaded:   0%|          | 0/1 [00:00<?, ?file/s]"
      ]
     },
     "metadata": {},
     "output_type": "display_data"
    },
    {
     "data": {
      "application/vnd.jupyter.widget-view+json": {
       "model_id": "fbf047b7ad6b417badace8e7272c12d5",
       "version_major": 2,
       "version_minor": 0
      },
      "text/plain": [
       "20110215_053900_d4c2b.fts:   0%|          | 0.00/8.42M [00:00<?, ?B/s]"
      ]
     },
     "metadata": {},
     "output_type": "display_data"
    },
    {
     "name": "stdout",
     "output_type": "stream",
     "text": [
      "El directorio /data_local/GCS/gcs/Imagenes/2011-02-14/Cor2B/ ya existe\n"
     ]
    },
    {
     "data": {
      "application/vnd.jupyter.widget-view+json": {
       "model_id": "48a0739e846345a7bcb16f6758f7812f",
       "version_major": 2,
       "version_minor": 0
      },
      "text/plain": [
       "Files Downloaded:   0%|          | 0/1 [00:00<?, ?file/s]"
      ]
     },
     "metadata": {},
     "output_type": "display_data"
    },
    {
     "data": {
      "application/vnd.jupyter.widget-view+json": {
       "model_id": "52e8b6f0e2594233a0b8246731c055fd",
       "version_major": 2,
       "version_minor": 0
      },
      "text/plain": [
       "20110215_055400_d4c2b.fts:   0%|          | 0.00/8.42M [00:00<?, ?B/s]"
      ]
     },
     "metadata": {},
     "output_type": "display_data"
    },
    {
     "name": "stdout",
     "output_type": "stream",
     "text": [
      "El directorio /data_local/GCS/gcs/Imagenes/2011-02-14/Cor2B/ ya existe\n"
     ]
    },
    {
     "data": {
      "application/vnd.jupyter.widget-view+json": {
       "model_id": "958ee75a5c62466f9ff177413492a101",
       "version_major": 2,
       "version_minor": 0
      },
      "text/plain": [
       "Files Downloaded:   0%|          | 0/1 [00:00<?, ?file/s]"
      ]
     },
     "metadata": {},
     "output_type": "display_data"
    },
    {
     "data": {
      "application/vnd.jupyter.widget-view+json": {
       "model_id": "39c86556ef33410f9c60b889d2a64ca1",
       "version_major": 2,
       "version_minor": 0
      },
      "text/plain": [
       "20110215_060800_d4c2b.fts:   0%|          | 0.00/153k [00:00<?, ?B/s]"
      ]
     },
     "metadata": {},
     "output_type": "display_data"
    },
    {
     "name": "stdout",
     "output_type": "stream",
     "text": [
      "Archivos descargados en: /data_local/GCS/gcs/Imagenes/2011-02-14/Cor2B/\n"
     ]
    }
   ],
   "source": [
    "#cor2B_images.search_cor2['Size']\n",
    "#path='/data1/work/gcs/Imagenes/2010-04-03/Cor2B/'\n",
    "path='/data_local/GCS/gcs/Imagenes/'+cor2B_i.split()[0]+'/Cor2B/'\n",
    "cor2B_images.download(download_path=path)"
   ]
  },
  {
   "cell_type": "code",
   "execution_count": null,
   "metadata": {},
   "outputs": [],
   "source": [
    "cor1B_i = evento_1['T0_Cor1B'][0]\n",
    "cor1B_f = evento_1['Tf_Cor1B'][0]\n",
    "print(cor1B_i,cor1B_f)\n",
    "ini,fin = initial_final_time(cor1B_i, cor1B_f, delta_t=30)\n",
    "print(ini,fin)\n",
    "cor1B_images = cor1_downloader(start_time=ini,end_time=fin,size=2,image_type='seq',nave='STEREO_B',nivel='s4c')\n",
    "cor1B_images = cor1_downloader(start_time=ini,end_time=fin,image_type='seq',nave='STEREO_B',nivel='s4c')\n",
    "cor1B_images.search()\n",
    "cor1B_images.search_cor1['fileid']\n",
    "\n"
   ]
  },
  {
   "cell_type": "code",
   "execution_count": null,
   "metadata": {},
   "outputs": [],
   "source": [
    "path='/data1/work/gcs/Imagenes/2010-04-03/Cor1B/'\n",
    "path='/data_local/GCS/gcs/Imagenes/2010-04-03/Cor1B/'\n",
    "cor1B_images.download(download_path=path)"
   ]
  },
  {
   "cell_type": "code",
   "execution_count": 23,
   "metadata": {},
   "outputs": [
    {
     "data": {
      "text/html": [
       "<div><i>VSOQueryResponseTable length=67</i>\n",
       "<table id=\"table140116175467472\" class=\"table-striped table-bordered table-condensed\">\n",
       "<thead><tr><th>Start Time</th><th>End Time</th><th>Source</th><th>Instrument</th><th>Wavelength</th><th>Provider</th><th>Wavetype</th><th>Extent Type</th><th>Size</th></tr></thead>\n",
       "<thead><tr><th></th><th></th><th></th><th></th><th>Angstrom</th><th></th><th></th><th></th><th>Mibyte</th></tr></thead>\n",
       "<thead><tr><th>Time</th><th>Time</th><th>str8</th><th>str6</th><th>float64[2]</th><th>str3</th><th>str5</th><th>str6</th><th>float64</th></tr></thead>\n",
       "<tr><td>2010-04-03 08:35:00.000</td><td>2010-04-03 08:35:01.000</td><td>STEREO_A</td><td>SECCHI</td><td>6500.0 .. 6700.0</td><td>SSC</td><td>BROAD</td><td>CORONA</td><td>0.52185</td></tr>\n",
       "<tr><td>2010-04-03 08:35:09.000</td><td>2010-04-03 08:35:10.000</td><td>STEREO_A</td><td>SECCHI</td><td>6500.0 .. 6700.0</td><td>SSC</td><td>BROAD</td><td>CORONA</td><td>0.52185</td></tr>\n",
       "<tr><td>2010-04-03 08:35:18.000</td><td>2010-04-03 08:35:19.000</td><td>STEREO_A</td><td>SECCHI</td><td>6500.0 .. 6700.0</td><td>SSC</td><td>BROAD</td><td>CORONA</td><td>0.52185</td></tr>\n",
       "<tr><td>2010-04-03 08:40:00.000</td><td>2010-04-03 08:40:01.000</td><td>STEREO_A</td><td>SECCHI</td><td>6500.0 .. 6700.0</td><td>SSC</td><td>BROAD</td><td>CORONA</td><td>0.52185</td></tr>\n",
       "<tr><td>2010-04-03 08:40:09.000</td><td>2010-04-03 08:40:10.000</td><td>STEREO_A</td><td>SECCHI</td><td>6500.0 .. 6700.0</td><td>SSC</td><td>BROAD</td><td>CORONA</td><td>0.52185</td></tr>\n",
       "<tr><td>2010-04-03 08:40:18.000</td><td>2010-04-03 08:40:19.000</td><td>STEREO_A</td><td>SECCHI</td><td>6500.0 .. 6700.0</td><td>SSC</td><td>BROAD</td><td>CORONA</td><td>0.52185</td></tr>\n",
       "<tr><td>2010-04-03 08:45:00.000</td><td>2010-04-03 08:45:01.000</td><td>STEREO_A</td><td>SECCHI</td><td>6500.0 .. 6700.0</td><td>SSC</td><td>BROAD</td><td>CORONA</td><td>0.52185</td></tr>\n",
       "<tr><td>2010-04-03 08:45:09.000</td><td>2010-04-03 08:45:10.000</td><td>STEREO_A</td><td>SECCHI</td><td>6500.0 .. 6700.0</td><td>SSC</td><td>BROAD</td><td>CORONA</td><td>0.52185</td></tr>\n",
       "<tr><td>2010-04-03 08:45:18.000</td><td>2010-04-03 08:45:19.000</td><td>STEREO_A</td><td>SECCHI</td><td>6500.0 .. 6700.0</td><td>SSC</td><td>BROAD</td><td>CORONA</td><td>0.52185</td></tr>\n",
       "<tr><td>...</td><td>...</td><td>...</td><td>...</td><td>...</td><td>...</td><td>...</td><td>...</td><td>...</td></tr>\n",
       "<tr><td>2010-04-03 10:10:00.000</td><td>2010-04-03 10:10:01.000</td><td>STEREO_A</td><td>SECCHI</td><td>6500.0 .. 6700.0</td><td>SSC</td><td>BROAD</td><td>CORONA</td><td>0.52185</td></tr>\n",
       "<tr><td>2010-04-03 10:10:09.000</td><td>2010-04-03 10:10:10.000</td><td>STEREO_A</td><td>SECCHI</td><td>6500.0 .. 6700.0</td><td>SSC</td><td>BROAD</td><td>CORONA</td><td>0.52185</td></tr>\n",
       "<tr><td>2010-04-03 10:10:18.000</td><td>2010-04-03 10:10:19.000</td><td>STEREO_A</td><td>SECCHI</td><td>6500.0 .. 6700.0</td><td>SSC</td><td>BROAD</td><td>CORONA</td><td>0.52185</td></tr>\n",
       "<tr><td>2010-04-03 10:15:00.000</td><td>2010-04-03 10:15:01.000</td><td>STEREO_A</td><td>SECCHI</td><td>6500.0 .. 6700.0</td><td>SSC</td><td>BROAD</td><td>CORONA</td><td>0.52185</td></tr>\n",
       "<tr><td>2010-04-03 10:15:09.000</td><td>2010-04-03 10:15:10.000</td><td>STEREO_A</td><td>SECCHI</td><td>6500.0 .. 6700.0</td><td>SSC</td><td>BROAD</td><td>CORONA</td><td>0.52185</td></tr>\n",
       "<tr><td>2010-04-03 10:15:18.000</td><td>2010-04-03 10:15:19.000</td><td>STEREO_A</td><td>SECCHI</td><td>6500.0 .. 6700.0</td><td>SSC</td><td>BROAD</td><td>CORONA</td><td>0.52185</td></tr>\n",
       "<tr><td>2010-04-03 10:20:00.000</td><td>2010-04-03 10:20:01.000</td><td>STEREO_A</td><td>SECCHI</td><td>6500.0 .. 6700.0</td><td>SSC</td><td>BROAD</td><td>CORONA</td><td>0.52185</td></tr>\n",
       "<tr><td>2010-04-03 10:20:09.000</td><td>2010-04-03 10:20:10.000</td><td>STEREO_A</td><td>SECCHI</td><td>6500.0 .. 6700.0</td><td>SSC</td><td>BROAD</td><td>CORONA</td><td>0.52185</td></tr>\n",
       "<tr><td>2010-04-03 10:20:18.000</td><td>2010-04-03 10:20:19.000</td><td>STEREO_A</td><td>SECCHI</td><td>6500.0 .. 6700.0</td><td>SSC</td><td>BROAD</td><td>CORONA</td><td>0.52185</td></tr>\n",
       "<tr><td>2010-04-03 10:25:00.000</td><td>2010-04-03 10:25:01.000</td><td>STEREO_A</td><td>SECCHI</td><td>6500.0 .. 6700.0</td><td>SSC</td><td>BROAD</td><td>CORONA</td><td>0.52185</td></tr>\n",
       "</table></div>"
      ],
      "text/plain": [
       "<sunpy.net.vso.table_response.VSOQueryResponseTable object at 0x7f6f56ddaf80>\n",
       "       Start Time               End Time         Source  ... Extent Type   Size \n",
       "                                                         ...              Mibyte\n",
       "----------------------- ----------------------- -------- ... ----------- -------\n",
       "2010-04-03 08:35:00.000 2010-04-03 08:35:01.000 STEREO_A ...      CORONA 0.52185\n",
       "2010-04-03 08:35:09.000 2010-04-03 08:35:10.000 STEREO_A ...      CORONA 0.52185\n",
       "2010-04-03 08:35:18.000 2010-04-03 08:35:19.000 STEREO_A ...      CORONA 0.52185\n",
       "2010-04-03 08:40:00.000 2010-04-03 08:40:01.000 STEREO_A ...      CORONA 0.52185\n",
       "2010-04-03 08:40:09.000 2010-04-03 08:40:10.000 STEREO_A ...      CORONA 0.52185\n",
       "2010-04-03 08:40:18.000 2010-04-03 08:40:19.000 STEREO_A ...      CORONA 0.52185\n",
       "2010-04-03 08:45:00.000 2010-04-03 08:45:01.000 STEREO_A ...      CORONA 0.52185\n",
       "2010-04-03 08:45:09.000 2010-04-03 08:45:10.000 STEREO_A ...      CORONA 0.52185\n",
       "2010-04-03 08:45:18.000 2010-04-03 08:45:19.000 STEREO_A ...      CORONA 0.52185\n",
       "2010-04-03 08:50:00.000 2010-04-03 08:50:01.000 STEREO_A ...      CORONA 0.52185\n",
       "                    ...                     ...      ... ...         ...     ...\n",
       "2010-04-03 10:10:00.000 2010-04-03 10:10:01.000 STEREO_A ...      CORONA 0.52185\n",
       "2010-04-03 10:10:09.000 2010-04-03 10:10:10.000 STEREO_A ...      CORONA 0.52185\n",
       "2010-04-03 10:10:18.000 2010-04-03 10:10:19.000 STEREO_A ...      CORONA 0.52185\n",
       "2010-04-03 10:15:00.000 2010-04-03 10:15:01.000 STEREO_A ...      CORONA 0.52185\n",
       "2010-04-03 10:15:09.000 2010-04-03 10:15:10.000 STEREO_A ...      CORONA 0.52185\n",
       "2010-04-03 10:15:18.000 2010-04-03 10:15:19.000 STEREO_A ...      CORONA 0.52185\n",
       "2010-04-03 10:20:00.000 2010-04-03 10:20:01.000 STEREO_A ...      CORONA 0.52185\n",
       "2010-04-03 10:20:09.000 2010-04-03 10:20:10.000 STEREO_A ...      CORONA 0.52185\n",
       "2010-04-03 10:20:18.000 2010-04-03 10:20:19.000 STEREO_A ...      CORONA 0.52185\n",
       "2010-04-03 10:25:00.000 2010-04-03 10:25:01.000 STEREO_A ...      CORONA 0.52185\n",
       "Length = 67 rows"
      ]
     },
     "execution_count": 23,
     "metadata": {},
     "output_type": "execute_result"
    }
   ],
   "source": [
    "cor1A_i = evento_1['T0_Cor1A'][0]\n",
    "cor1A_f = evento_1['Tf_Cor1A'][0]\n",
    "ini,fin = initial_final_time(cor1A_i, cor1A_f, delta_t=30)\n",
    "cor1A_images = cor1_downloader(start_time=ini,end_time=fin,size=2,image_type='seq',nave='STEREO_A',nivel='s4c')\n",
    "cor1A_images = cor1_downloader(start_time=ini,end_time=fin,image_type='seq',nave='STEREO_A',nivel='s4c')\n",
    "cor1A_images.search()\n",
    "cor1A_images.search_cor1"
   ]
  },
  {
   "cell_type": "code",
   "execution_count": null,
   "metadata": {},
   "outputs": [],
   "source": [
    "path='/data1/work/gcs/Imagenes/2010-04-03/Cor1A/'\n",
    "path='/data_local/GCS/gcs/Imagenes/2010-04-03/Cor1A/'\n",
    "cor1A_images.download(download_path=path)"
   ]
  }
 ],
 "metadata": {
  "kernelspec": {
   "display_name": "actual",
   "language": "python",
   "name": "python3"
  },
  "language_info": {
   "codemirror_mode": {
    "name": "ipython",
    "version": 3
   },
   "file_extension": ".py",
   "mimetype": "text/x-python",
   "name": "python",
   "nbconvert_exporter": "python",
   "pygments_lexer": "ipython3",
   "version": "3.10.6"
  },
  "orig_nbformat": 4
 },
 "nbformat": 4,
 "nbformat_minor": 2
}
