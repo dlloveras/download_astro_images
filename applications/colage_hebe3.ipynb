{
 "cells": [
  {
   "cell_type": "code",
   "execution_count": 1,
   "metadata": {},
   "outputs": [],
   "source": [
    "import pandas as pd\n",
    "from descargar_imagenes_clases import euvi_downloader\n",
    "from descargar_imagenes_clases import aia_downloader\n",
    "import sunpy.map\n",
    "import sunpy.data.sample \n",
    "from descargar_imagenes_clases import initial_final_time\n",
    "import astropy.units as u\n",
    "from astropy.io import fits\n",
    "from sunpy.net import Fido, attrs as a\n",
    "from datetime import datetime, timedelta\n",
    "import os\n",
    "import matplotlib.pyplot as plt\n",
    "import pdb\n",
    "import numpy as np\n",
    "import requests\n",
    "import warnings\n",
    "warnings.filterwarnings(\"ignore\")\n",
    "# Specify the file path\n",
    "file_path = \"/data_local/Descargas/DatesandTimesCMEs-SRcharacteristics.csv\"\n",
    "\n",
    "# Read the CSV file\n",
    "data = pd.read_csv(file_path)\n",
    "\n",
    "# Display the data\n",
    "#print(data)"
   ]
  },
  {
   "cell_type": "code",
   "execution_count": 2,
   "metadata": {},
   "outputs": [
    {
     "data": {
      "text/plain": [
       "0      2010/12/12 1:00:00\n",
       "1     2010/12/14 14:50:00\n",
       "2        2011/03/17 10:00\n",
       "3      2011/06/05 3:00:00\n",
       "4     2013/01/23 12:00:00\n",
       "5      2013/01/29 0:00:00\n",
       "6      2013/02/09 5:00:00\n",
       "7      2013/04/24 4:00:00\n",
       "8      2013/05/02 4:00:00\n",
       "9     2013/05/17 18:00:00\n",
       "10    2013/05/27 16:00:00\n",
       "11    2013/06/07 22:00:00\n",
       "12     No sirve, stealth \n",
       "13     2011/04/27 5:00:00\n",
       "14     2011/05/23 0:00:00\n",
       "15     2013/01/16 5:00:00\n",
       "16    2013/01/23 18:00:00\n",
       "17     2013/01/27 5:00:00\n",
       "Name: EUV loops data start time, dtype: object"
      ]
     },
     "execution_count": 2,
     "metadata": {},
     "output_type": "execute_result"
    }
   ],
   "source": [
    "#asd=data.iloc[0:13]['EUV loops data start time']\n",
    "data_short = data.iloc[0:18].copy()\n",
    "data_short['EUV loops data start time'] #= pd.to_datetime(data_short['EUV loops data start time'])"
   ]
  },
  {
   "cell_type": "code",
   "execution_count": 3,
   "metadata": {},
   "outputs": [
    {
     "data": {
      "text/html": [
       "<div>\n",
       "<style scoped>\n",
       "    .dataframe tbody tr th:only-of-type {\n",
       "        vertical-align: middle;\n",
       "    }\n",
       "\n",
       "    .dataframe tbody tr th {\n",
       "        vertical-align: top;\n",
       "    }\n",
       "\n",
       "    .dataframe thead th {\n",
       "        text-align: right;\n",
       "    }\n",
       "</style>\n",
       "<table border=\"1\" class=\"dataframe\">\n",
       "  <thead>\n",
       "    <tr style=\"text-align: right;\">\n",
       "      <th></th>\n",
       "      <th>Instrument</th>\n",
       "      <th>EUV loops data start time</th>\n",
       "      <th>EUV loops data end time</th>\n",
       "    </tr>\n",
       "  </thead>\n",
       "  <tbody>\n",
       "    <tr>\n",
       "      <th>0</th>\n",
       "      <td>AIA</td>\n",
       "      <td>2010/12/12 1:00:00</td>\n",
       "      <td>2010/12/12 15:00:00</td>\n",
       "    </tr>\n",
       "    <tr>\n",
       "      <th>1</th>\n",
       "      <td>EUVI-A</td>\n",
       "      <td>2010/12/14 14:50:00</td>\n",
       "      <td>2010/12/14 23:59:00</td>\n",
       "    </tr>\n",
       "    <tr>\n",
       "      <th>2</th>\n",
       "      <td>EUVI-B</td>\n",
       "      <td>2011/03/17 10:00</td>\n",
       "      <td>2011/03/17 22:00</td>\n",
       "    </tr>\n",
       "    <tr>\n",
       "      <th>3</th>\n",
       "      <td>AIA</td>\n",
       "      <td>2011/06/05 3:00:00</td>\n",
       "      <td>2011/06/05 16:00:00</td>\n",
       "    </tr>\n",
       "    <tr>\n",
       "      <th>4</th>\n",
       "      <td>AIA</td>\n",
       "      <td>2013/01/23 12:00:00</td>\n",
       "      <td>2013/01/23 20:00:00</td>\n",
       "    </tr>\n",
       "    <tr>\n",
       "      <th>5</th>\n",
       "      <td>AIA</td>\n",
       "      <td>2013/01/29 0:00:00</td>\n",
       "      <td>2013/01/29 8:00:00</td>\n",
       "    </tr>\n",
       "    <tr>\n",
       "      <th>6</th>\n",
       "      <td>AIA</td>\n",
       "      <td>2013/02/09 5:00:00</td>\n",
       "      <td>2013/02/09 12:00:00</td>\n",
       "    </tr>\n",
       "    <tr>\n",
       "      <th>7</th>\n",
       "      <td>EUVI-B</td>\n",
       "      <td>2013/04/24 4:00:00</td>\n",
       "      <td>2013/04/24 18:00:00</td>\n",
       "    </tr>\n",
       "    <tr>\n",
       "      <th>8</th>\n",
       "      <td>AIA</td>\n",
       "      <td>2013/05/02 4:00:00</td>\n",
       "      <td>2013/05/02 12:00:00</td>\n",
       "    </tr>\n",
       "    <tr>\n",
       "      <th>9</th>\n",
       "      <td>EUVI-B</td>\n",
       "      <td>2013/05/17 18:00:00</td>\n",
       "      <td>2013/05/18 10:00:00</td>\n",
       "    </tr>\n",
       "    <tr>\n",
       "      <th>10</th>\n",
       "      <td>EUVI-B</td>\n",
       "      <td>2013/05/27 16:00:00</td>\n",
       "      <td>2013/05/28 8:00:00</td>\n",
       "    </tr>\n",
       "    <tr>\n",
       "      <th>11</th>\n",
       "      <td>EUVI-A</td>\n",
       "      <td>2013/06/07 22:00:00</td>\n",
       "      <td>2013/06/08 12:00:00</td>\n",
       "    </tr>\n",
       "    <tr>\n",
       "      <th>12</th>\n",
       "      <td>AIA</td>\n",
       "      <td>No sirve, stealth</td>\n",
       "      <td>No sirve, stealth</td>\n",
       "    </tr>\n",
       "    <tr>\n",
       "      <th>13</th>\n",
       "      <td>EUVI-A</td>\n",
       "      <td>2011/04/27 5:00:00</td>\n",
       "      <td>2011/04/27 16:00:00</td>\n",
       "    </tr>\n",
       "    <tr>\n",
       "      <th>14</th>\n",
       "      <td>AIA</td>\n",
       "      <td>2011/05/23 0:00:00</td>\n",
       "      <td>2011/05/23 10:00:00</td>\n",
       "    </tr>\n",
       "    <tr>\n",
       "      <th>15</th>\n",
       "      <td>EUVI-A</td>\n",
       "      <td>2013/01/16 5:00:00</td>\n",
       "      <td>2013/01/16 15:00:00</td>\n",
       "    </tr>\n",
       "    <tr>\n",
       "      <th>16</th>\n",
       "      <td>AIA</td>\n",
       "      <td>2013/01/23 18:00:00</td>\n",
       "      <td>2013/01/24 8:00:00</td>\n",
       "    </tr>\n",
       "    <tr>\n",
       "      <th>17</th>\n",
       "      <td>EUVI-A</td>\n",
       "      <td>2013/01/27 5:00:00</td>\n",
       "      <td>2013/01/27 14:00:00</td>\n",
       "    </tr>\n",
       "  </tbody>\n",
       "</table>\n",
       "</div>"
      ],
      "text/plain": [
       "   Instrument EUV loops data start time EUV loops data end time\n",
       "0         AIA        2010/12/12 1:00:00     2010/12/12 15:00:00\n",
       "1      EUVI-A       2010/12/14 14:50:00     2010/12/14 23:59:00\n",
       "2      EUVI-B          2011/03/17 10:00        2011/03/17 22:00\n",
       "3         AIA        2011/06/05 3:00:00     2011/06/05 16:00:00\n",
       "4         AIA       2013/01/23 12:00:00     2013/01/23 20:00:00\n",
       "5         AIA        2013/01/29 0:00:00      2013/01/29 8:00:00\n",
       "6         AIA        2013/02/09 5:00:00     2013/02/09 12:00:00\n",
       "7      EUVI-B        2013/04/24 4:00:00     2013/04/24 18:00:00\n",
       "8         AIA        2013/05/02 4:00:00     2013/05/02 12:00:00\n",
       "9      EUVI-B       2013/05/17 18:00:00     2013/05/18 10:00:00\n",
       "10     EUVI-B       2013/05/27 16:00:00      2013/05/28 8:00:00\n",
       "11     EUVI-A       2013/06/07 22:00:00     2013/06/08 12:00:00\n",
       "12        AIA        No sirve, stealth       No sirve, stealth \n",
       "13     EUVI-A        2011/04/27 5:00:00     2011/04/27 16:00:00\n",
       "14        AIA        2011/05/23 0:00:00     2011/05/23 10:00:00\n",
       "15     EUVI-A        2013/01/16 5:00:00     2013/01/16 15:00:00\n",
       "16        AIA       2013/01/23 18:00:00      2013/01/24 8:00:00\n",
       "17     EUVI-A        2013/01/27 5:00:00     2013/01/27 14:00:00"
      ]
     },
     "execution_count": 3,
     "metadata": {},
     "output_type": "execute_result"
    }
   ],
   "source": [
    "data2=data_short[['Instrument','EUV loops data start time','EUV loops data end time']].copy()\n",
    "data2"
   ]
  },
  {
   "cell_type": "code",
   "execution_count": 4,
   "metadata": {},
   "outputs": [
    {
     "data": {
      "image/png": "[encoded data removed]",
      "text/plain": [
       "<Figure size 1500x500 with 1 Axes>"
      ]
     },
     "metadata": {},
     "output_type": "display_data"
    }
   ],
   "source": [
    "#EUVI\n",
    "#index = 2\n",
    "#index = 7\n",
    "#index = 9 #??\n",
    "index = 10\n",
    "nave='STEREO_B'\n",
    "ini=data2.iloc[index]['EUV loops data start time'].replace('/', '-')\n",
    "fin=data2.iloc[index]['EUV loops data end time'].replace('/', '-')\n",
    "t_ini=ini\n",
    "t_fin=fin\n",
    "ini,fin = initial_final_time(t_ini, t_fin, delta_t=10)\n",
    "euvi_images = euvi_downloader(start_time=ini,end_time=fin,nave=nave,cadence=1.1,wave=195,origin_download_path=True,band_folder=True)\n",
    "euvi_images.search()\n",
    "euvi_images.display()"
   ]
  },
  {
   "cell_type": "code",
   "execution_count": 5,
   "metadata": {},
   "outputs": [
    {
     "data": {
      "application/vnd.jupyter.widget-view+json": {
       "model_id": "6d78b84e4b184e8eb34d888295a5de9d",
       "version_major": 2,
       "version_minor": 0
      },
      "text/plain": [
       "Files Downloaded:   0%|          | 0/1 [00:00<?, ?file/s]"
      ]
     },
     "metadata": {},
     "output_type": "display_data"
    },
    {
     "data": {
      "application/vnd.jupyter.widget-view+json": {
       "model_id": "c3749b10579242f28ceea7aec6b60c1e",
       "version_major": 2,
       "version_minor": 0
      },
      "text/plain": [
       "20130527_161030_n4eub.fts:   0%|          | 0.00/8.41M [00:00<?, ?B/s]"
      ]
     },
     "metadata": {},
     "output_type": "display_data"
    },
    {
     "name": "stdout",
     "output_type": "stream",
     "text": [
      "Downloaded: /media/gehme/gehme/data/stereo/secchi/L0/b/img/euvi/20130527/195/20130527_161030_n4euB.fts\n"
     ]
    },
    {
     "data": {
      "application/vnd.jupyter.widget-view+json": {
       "model_id": "382426df177544118f4c990fb1962652",
       "version_major": 2,
       "version_minor": 0
      },
      "text/plain": [
       "Files Downloaded:   0%|          | 0/1 [00:00<?, ?file/s]"
      ]
     },
     "metadata": {},
     "output_type": "display_data"
    },
    {
     "data": {
      "application/vnd.jupyter.widget-view+json": {
       "model_id": "5b0d4424997049b1b4daaff1671c5a8b",
       "version_major": 2,
       "version_minor": 0
      },
      "text/plain": [
       "20130527_162030_n4eub.fts:   0%|          | 0.00/8.41M [00:00<?, ?B/s]"
      ]
     },
     "metadata": {},
     "output_type": "display_data"
    },
    {
     "name": "stdout",
     "output_type": "stream",
     "text": [
      "Downloaded: /media/gehme/gehme/data/stereo/secchi/L0/b/img/euvi/20130527/195/20130527_162030_n4euB.fts\n"
     ]
    },
    {
     "data": {
      "application/vnd.jupyter.widget-view+json": {
       "model_id": "612ee1203e634c428529e2ff902ddf4e",
       "version_major": 2,
       "version_minor": 0
      },
      "text/plain": [
       "Files Downloaded:   0%|          | 0/1 [00:00<?, ?file/s]"
      ]
     },
     "metadata": {},
     "output_type": "display_data"
    },
    {
     "data": {
      "application/vnd.jupyter.widget-view+json": {
       "model_id": "b8b5ed9761c6479593e0cd7615c90042",
       "version_major": 2,
       "version_minor": 0
      },
      "text/plain": [
       "20130527_163030_n4eub.fts:   0%|          | 0.00/8.41M [00:00<?, ?B/s]"
      ]
     },
     "metadata": {},
     "output_type": "display_data"
    },
    {
     "name": "stdout",
     "output_type": "stream",
     "text": [
      "Downloaded: /media/gehme/gehme/data/stereo/secchi/L0/b/img/euvi/20130527/195/20130527_163030_n4euB.fts\n"
     ]
    },
    {
     "data": {
      "application/vnd.jupyter.widget-view+json": {
       "model_id": "d52063ff32884c5280b3ae3b87694ca5",
       "version_major": 2,
       "version_minor": 0
      },
      "text/plain": [
       "Files Downloaded:   0%|          | 0/1 [00:00<?, ?file/s]"
      ]
     },
     "metadata": {},
     "output_type": "display_data"
    },
    {
     "data": {
      "application/vnd.jupyter.widget-view+json": {
       "model_id": "f4d0f2f205104d1fa30ea363850ff4b1",
       "version_major": 2,
       "version_minor": 0
      },
      "text/plain": [
       "20130527_164030_n4eub.fts:   0%|          | 0.00/8.41M [00:00<?, ?B/s]"
      ]
     },
     "metadata": {},
     "output_type": "display_data"
    },
    {
     "name": "stdout",
     "output_type": "stream",
     "text": [
      "Downloaded: /media/gehme/gehme/data/stereo/secchi/L0/b/img/euvi/20130527/195/20130527_164030_n4euB.fts\n"
     ]
    },
    {
     "data": {
      "application/vnd.jupyter.widget-view+json": {
       "model_id": "ae0d98420a7d487cbe59402ba2028852",
       "version_major": 2,
       "version_minor": 0
      },
      "text/plain": [
       "Files Downloaded:   0%|          | 0/1 [00:00<?, ?file/s]"
      ]
     },
     "metadata": {},
     "output_type": "display_data"
    },
    {
     "data": {
      "application/vnd.jupyter.widget-view+json": {
       "model_id": "15f68b34368840e69dd8d7566ed50bcd",
       "version_major": 2,
       "version_minor": 0
      },
      "text/plain": [
       "20130527_170530_n4eub.fts:   0%|          | 0.00/8.41M [00:00<?, ?B/s]"
      ]
     },
     "metadata": {},
     "output_type": "display_data"
    },
    {
     "name": "stderr",
     "output_type": "stream",
     "text": [
      "Exception ignored in: <function BaseEventLoop.__del__ at 0x7f25773fa170>\n",
      "Traceback (most recent call last):\n",
      "  File \"/home/diegol/anaconda3/envs/new_actual/lib/python3.10/asyncio/base_events.py\", line 687, in __del__\n",
      "    self.close()\n",
      "  File \"/home/diegol/anaconda3/envs/new_actual/lib/python3.10/asyncio/unix_events.py\", line 71, in close\n",
      "    self.remove_signal_handler(sig)\n",
      "  File \"/home/diegol/anaconda3/envs/new_actual/lib/python3.10/asyncio/unix_events.py\", line 160, in remove_signal_handler\n",
      "    signal.signal(sig, handler)\n",
      "  File \"/home/diegol/anaconda3/envs/new_actual/lib/python3.10/signal.py\", line 56, in signal\n",
      "    handler = _signal.signal(_enum_to_int(signalnum), _enum_to_int(handler))\n",
      "ValueError: signal only works in main thread of the main interpreter\n",
      "Exception ignored in: <function BaseEventLoop.__del__ at 0x7f25773fa170>\n",
      "Traceback (most recent call last):\n",
      "  File \"/home/diegol/anaconda3/envs/new_actual/lib/python3.10/asyncio/base_events.py\", line 687, in __del__\n",
      "    self.close()\n",
      "  File \"/home/diegol/anaconda3/envs/new_actual/lib/python3.10/asyncio/unix_events.py\", line 71, in close\n",
      "    self.remove_signal_handler(sig)\n",
      "  File \"/home/diegol/anaconda3/envs/new_actual/lib/python3.10/asyncio/unix_events.py\", line 160, in remove_signal_handler\n",
      "    signal.signal(sig, handler)\n",
      "  File \"/home/diegol/anaconda3/envs/new_actual/lib/python3.10/signal.py\", line 56, in signal\n",
      "    handler = _signal.signal(_enum_to_int(signalnum), _enum_to_int(handler))\n",
      "ValueError: signal only works in main thread of the main interpreter\n",
      "Exception ignored in: <function BaseEventLoop.__del__ at 0x7f25773fa170>\n",
      "Traceback (most recent call last):\n",
      "  File \"/home/diegol/anaconda3/envs/new_actual/lib/python3.10/asyncio/base_events.py\", line 687, in __del__\n",
      "    self.close()\n",
      "  File \"/home/diegol/anaconda3/envs/new_actual/lib/python3.10/asyncio/unix_events.py\", line 71, in close\n",
      "    self.remove_signal_handler(sig)\n",
      "  File \"/home/diegol/anaconda3/envs/new_actual/lib/python3.10/asyncio/unix_events.py\", line 160, in remove_signal_handler\n",
      "    signal.signal(sig, handler)\n",
      "  File \"/home/diegol/anaconda3/envs/new_actual/lib/python3.10/signal.py\", line 56, in signal\n",
      "    handler = _signal.signal(_enum_to_int(signalnum), _enum_to_int(handler))\n",
      "ValueError: signal only works in main thread of the main interpreter\n",
      "Exception ignored in: <function BaseEventLoop.__del__ at 0x7f25773fa170>\n",
      "Traceback (most recent call last):\n",
      "  File \"/home/diegol/anaconda3/envs/new_actual/lib/python3.10/asyncio/base_events.py\", line 687, in __del__\n",
      "    self.close()\n",
      "  File \"/home/diegol/anaconda3/envs/new_actual/lib/python3.10/asyncio/unix_events.py\", line 71, in close\n",
      "    self.remove_signal_handler(sig)\n",
      "  File \"/home/diegol/anaconda3/envs/new_actual/lib/python3.10/asyncio/unix_events.py\", line 160, in remove_signal_handler\n",
      "    signal.signal(sig, handler)\n",
      "  File \"/home/diegol/anaconda3/envs/new_actual/lib/python3.10/signal.py\", line 56, in signal\n",
      "    handler = _signal.signal(_enum_to_int(signalnum), _enum_to_int(handler))\n",
      "ValueError: signal only works in main thread of the main interpreter\n"
     ]
    },
    {
     "name": "stdout",
     "output_type": "stream",
     "text": [
      "Downloaded: /media/gehme/gehme/data/stereo/secchi/L0/b/img/euvi/20130527/195/20130527_170530_n4euB.fts\n"
     ]
    },
    {
     "data": {
      "application/vnd.jupyter.widget-view+json": {
       "model_id": "34ebacc9ada14732a1d3f84339a2fba2",
       "version_major": 2,
       "version_minor": 0
      },
      "text/plain": [
       "Files Downloaded:   0%|          | 0/1 [00:00<?, ?file/s]"
      ]
     },
     "metadata": {},
     "output_type": "display_data"
    },
    {
     "name": "stderr",
     "output_type": "stream",
     "text": [
      "Exception ignored in: <function BaseEventLoop.__del__ at 0x7f25773fa170>\n",
      "Traceback (most recent call last):\n",
      "  File \"/home/diegol/anaconda3/envs/new_actual/lib/python3.10/asyncio/base_events.py\", line 687, in __del__\n",
      "    self.close()\n",
      "  File \"/home/diegol/anaconda3/envs/new_actual/lib/python3.10/asyncio/unix_events.py\", line 71, in close\n",
      "    self.remove_signal_handler(sig)\n",
      "  File \"/home/diegol/anaconda3/envs/new_actual/lib/python3.10/asyncio/unix_events.py\", line 160, in remove_signal_handler\n",
      "    signal.signal(sig, handler)\n",
      "  File \"/home/diegol/anaconda3/envs/new_actual/lib/python3.10/signal.py\", line 56, in signal\n",
      "    handler = _signal.signal(_enum_to_int(signalnum), _enum_to_int(handler))\n",
      "ValueError: signal only works in main thread of the main interpreter\n"
     ]
    },
    {
     "data": {
      "application/vnd.jupyter.widget-view+json": {
       "model_id": "f84404bbc305457bbd8b0d3e482ac264",
       "version_major": 2,
       "version_minor": 0
      },
      "text/plain": [
       "20130527_171530_n4eub.fts:   0%|          | 0.00/8.41M [00:00<?, ?B/s]"
      ]
     },
     "metadata": {},
     "output_type": "display_data"
    },
    {
     "name": "stdout",
     "output_type": "stream",
     "text": [
      "Downloaded: /media/gehme/gehme/data/stereo/secchi/L0/b/img/euvi/20130527/195/20130527_171530_n4euB.fts\n"
     ]
    },
    {
     "data": {
      "application/vnd.jupyter.widget-view+json": {
       "model_id": "90e66cc4f63d40e6847bcfcbb5369b0c",
       "version_major": 2,
       "version_minor": 0
      },
      "text/plain": [
       "Files Downloaded:   0%|          | 0/1 [00:00<?, ?file/s]"
      ]
     },
     "metadata": {},
     "output_type": "display_data"
    },
    {
     "data": {
      "application/vnd.jupyter.widget-view+json": {
       "model_id": "a8d409a14aa74e5b976e4b1cf12de857",
       "version_major": 2,
       "version_minor": 0
      },
      "text/plain": [
       "20130527_172530_n4eub.fts:   0%|          | 0.00/8.41M [00:00<?, ?B/s]"
      ]
     },
     "metadata": {},
     "output_type": "display_data"
    },
    {
     "name": "stdout",
     "output_type": "stream",
     "text": [
      "Downloaded: /media/gehme/gehme/data/stereo/secchi/L0/b/img/euvi/20130527/195/20130527_172530_n4euB.fts\n"
     ]
    },
    {
     "data": {
      "application/vnd.jupyter.widget-view+json": {
       "model_id": "e17cea1bc94d41d2baf8c81fbc9b406d",
       "version_major": 2,
       "version_minor": 0
      },
      "text/plain": [
       "Files Downloaded:   0%|          | 0/1 [00:00<?, ?file/s]"
      ]
     },
     "metadata": {},
     "output_type": "display_data"
    },
    {
     "data": {
      "application/vnd.jupyter.widget-view+json": {
       "model_id": "8ceb133f10954f3db45cf66693c972f3",
       "version_major": 2,
       "version_minor": 0
      },
      "text/plain": [
       "20130527_173530_n4eub.fts:   0%|          | 0.00/8.41M [00:00<?, ?B/s]"
      ]
     },
     "metadata": {},
     "output_type": "display_data"
    },
    {
     "name": "stdout",
     "output_type": "stream",
     "text": [
      "Downloaded: /media/gehme/gehme/data/stereo/secchi/L0/b/img/euvi/20130527/195/20130527_173530_n4euB.fts\n"
     ]
    },
    {
     "data": {
      "application/vnd.jupyter.widget-view+json": {
       "model_id": "c6b1c844e1e3426b841eb29943512fc3",
       "version_major": 2,
       "version_minor": 0
      },
      "text/plain": [
       "Files Downloaded:   0%|          | 0/1 [00:00<?, ?file/s]"
      ]
     },
     "metadata": {},
     "output_type": "display_data"
    },
    {
     "data": {
      "application/vnd.jupyter.widget-view+json": {
       "model_id": "13b60b57b0ee4e04a5ae1073641b66b1",
       "version_major": 2,
       "version_minor": 0
      },
      "text/plain": [
       "20130527_180030_n4eub.fts:   0%|          | 0.00/8.41M [00:00<?, ?B/s]"
      ]
     },
     "metadata": {},
     "output_type": "display_data"
    },
    {
     "name": "stdout",
     "output_type": "stream",
     "text": [
      "Downloaded: /media/gehme/gehme/data/stereo/secchi/L0/b/img/euvi/20130527/195/20130527_180030_n4euB.fts\n"
     ]
    },
    {
     "data": {
      "application/vnd.jupyter.widget-view+json": {
       "model_id": "f4e34b85babf4cf9bddcd8e3379d3d62",
       "version_major": 2,
       "version_minor": 0
      },
      "text/plain": [
       "Files Downloaded:   0%|          | 0/1 [00:00<?, ?file/s]"
      ]
     },
     "metadata": {},
     "output_type": "display_data"
    },
    {
     "data": {
      "application/vnd.jupyter.widget-view+json": {
       "model_id": "fa7ec0112f9547b2af7b79df72889d19",
       "version_major": 2,
       "version_minor": 0
      },
      "text/plain": [
       "20130527_181030_n4eub.fts:   0%|          | 0.00/8.41M [00:00<?, ?B/s]"
      ]
     },
     "metadata": {},
     "output_type": "display_data"
    },
    {
     "name": "stdout",
     "output_type": "stream",
     "text": [
      "Downloaded: /media/gehme/gehme/data/stereo/secchi/L0/b/img/euvi/20130527/195/20130527_181030_n4euB.fts\n"
     ]
    },
    {
     "data": {
      "application/vnd.jupyter.widget-view+json": {
       "model_id": "8e1d3b1ceb5b451db5d800cbaeab458b",
       "version_major": 2,
       "version_minor": 0
      },
      "text/plain": [
       "Files Downloaded:   0%|          | 0/1 [00:00<?, ?file/s]"
      ]
     },
     "metadata": {},
     "output_type": "display_data"
    },
    {
     "data": {
      "application/vnd.jupyter.widget-view+json": {
       "model_id": "a666e51f246e448fbdf742ff1b9414bf",
       "version_major": 2,
       "version_minor": 0
      },
      "text/plain": [
       "20130527_182030_n4eub.fts:   0%|          | 0.00/8.41M [00:00<?, ?B/s]"
      ]
     },
     "metadata": {},
     "output_type": "display_data"
    },
    {
     "name": "stdout",
     "output_type": "stream",
     "text": [
      "Downloaded: /media/gehme/gehme/data/stereo/secchi/L0/b/img/euvi/20130527/195/20130527_182030_n4euB.fts\n"
     ]
    },
    {
     "data": {
      "application/vnd.jupyter.widget-view+json": {
       "model_id": "731ca3b960934d1bbc0879b7d4510d2d",
       "version_major": 2,
       "version_minor": 0
      },
      "text/plain": [
       "Files Downloaded:   0%|          | 0/1 [00:00<?, ?file/s]"
      ]
     },
     "metadata": {},
     "output_type": "display_data"
    },
    {
     "name": "stderr",
     "output_type": "stream",
     "text": [
      "Exception ignored in: <function BaseEventLoop.__del__ at 0x7f25773fa170>\n",
      "Traceback (most recent call last):\n",
      "  File \"/home/diegol/anaconda3/envs/new_actual/lib/python3.10/asyncio/base_events.py\", line 687, in __del__\n",
      "    self.close()\n",
      "  File \"/home/diegol/anaconda3/envs/new_actual/lib/python3.10/asyncio/unix_events.py\", line 71, in close\n",
      "    self.remove_signal_handler(sig)\n",
      "  File \"/home/diegol/anaconda3/envs/new_actual/lib/python3.10/asyncio/unix_events.py\", line 160, in remove_signal_handler\n",
      "    signal.signal(sig, handler)\n",
      "  File \"/home/diegol/anaconda3/envs/new_actual/lib/python3.10/signal.py\", line 56, in signal\n",
      "    handler = _signal.signal(_enum_to_int(signalnum), _enum_to_int(handler))\n",
      "ValueError: signal only works in main thread of the main interpreter\n",
      "Exception ignored in: <function BaseEventLoop.__del__ at 0x7f25773fa170>\n",
      "Traceback (most recent call last):\n",
      "  File \"/home/diegol/anaconda3/envs/new_actual/lib/python3.10/asyncio/base_events.py\", line 687, in __del__\n",
      "    self.close()\n",
      "  File \"/home/diegol/anaconda3/envs/new_actual/lib/python3.10/asyncio/unix_events.py\", line 71, in close\n",
      "    self.remove_signal_handler(sig)\n",
      "  File \"/home/diegol/anaconda3/envs/new_actual/lib/python3.10/asyncio/unix_events.py\", line 160, in remove_signal_handler\n",
      "    signal.signal(sig, handler)\n",
      "  File \"/home/diegol/anaconda3/envs/new_actual/lib/python3.10/signal.py\", line 56, in signal\n",
      "    handler = _signal.signal(_enum_to_int(signalnum), _enum_to_int(handler))\n",
      "ValueError: signal only works in main thread of the main interpreter\n",
      "Exception ignored in: <function BaseEventLoop.__del__ at 0x7f25773fa170>\n",
      "Traceback (most recent call last):\n",
      "  File \"/home/diegol/anaconda3/envs/new_actual/lib/python3.10/asyncio/base_events.py\", line 687, in __del__\n",
      "    self.close()\n",
      "  File \"/home/diegol/anaconda3/envs/new_actual/lib/python3.10/asyncio/unix_events.py\", line 71, in close\n",
      "    self.remove_signal_handler(sig)\n",
      "  File \"/home/diegol/anaconda3/envs/new_actual/lib/python3.10/asyncio/unix_events.py\", line 160, in remove_signal_handler\n",
      "    signal.signal(sig, handler)\n",
      "  File \"/home/diegol/anaconda3/envs/new_actual/lib/python3.10/signal.py\", line 56, in signal\n",
      "    handler = _signal.signal(_enum_to_int(signalnum), _enum_to_int(handler))\n",
      "ValueError: signal only works in main thread of the main interpreter\n",
      "Exception ignored in: <function BaseEventLoop.__del__ at 0x7f25773fa170>\n",
      "Traceback (most recent call last):\n",
      "  File \"/home/diegol/anaconda3/envs/new_actual/lib/python3.10/asyncio/base_events.py\", line 687, in __del__\n",
      "    self.close()\n",
      "  File \"/home/diegol/anaconda3/envs/new_actual/lib/python3.10/asyncio/unix_events.py\", line 71, in close\n",
      "    self.remove_signal_handler(sig)\n",
      "  File \"/home/diegol/anaconda3/envs/new_actual/lib/python3.10/asyncio/unix_events.py\", line 160, in remove_signal_handler\n",
      "    signal.signal(sig, handler)\n",
      "  File \"/home/diegol/anaconda3/envs/new_actual/lib/python3.10/signal.py\", line 56, in signal\n",
      "    handler = _signal.signal(_enum_to_int(signalnum), _enum_to_int(handler))\n",
      "ValueError: signal only works in main thread of the main interpreter\n",
      "Exception ignored in: <function BaseEventLoop.__del__ at 0x7f25773fa170>\n",
      "Traceback (most recent call last):\n",
      "  File \"/home/diegol/anaconda3/envs/new_actual/lib/python3.10/asyncio/base_events.py\", line 687, in __del__\n",
      "    self.close()\n",
      "  File \"/home/diegol/anaconda3/envs/new_actual/lib/python3.10/asyncio/unix_events.py\", line 71, in close\n",
      "    self.remove_signal_handler(sig)\n",
      "  File \"/home/diegol/anaconda3/envs/new_actual/lib/python3.10/asyncio/unix_events.py\", line 160, in remove_signal_handler\n",
      "    signal.signal(sig, handler)\n",
      "  File \"/home/diegol/anaconda3/envs/new_actual/lib/python3.10/signal.py\", line 56, in signal\n",
      "    handler = _signal.signal(_enum_to_int(signalnum), _enum_to_int(handler))\n",
      "ValueError: signal only works in main thread of the main interpreter\n"
     ]
    },
    {
     "data": {
      "application/vnd.jupyter.widget-view+json": {
       "model_id": "b8d275578efe4106ba56c60d8fd2eac4",
       "version_major": 2,
       "version_minor": 0
      },
      "text/plain": [
       "20130527_183030_n4eub.fts:   0%|          | 0.00/8.41M [00:00<?, ?B/s]"
      ]
     },
     "metadata": {},
     "output_type": "display_data"
    },
    {
     "name": "stdout",
     "output_type": "stream",
     "text": [
      "Downloaded: /media/gehme/gehme/data/stereo/secchi/L0/b/img/euvi/20130527/195/20130527_183030_n4euB.fts\n"
     ]
    },
    {
     "data": {
      "application/vnd.jupyter.widget-view+json": {
       "model_id": "14fb76a0daae44a59c3bbf82b145c9c0",
       "version_major": 2,
       "version_minor": 0
      },
      "text/plain": [
       "Files Downloaded:   0%|          | 0/1 [00:00<?, ?file/s]"
      ]
     },
     "metadata": {},
     "output_type": "display_data"
    },
    {
     "data": {
      "application/vnd.jupyter.widget-view+json": {
       "model_id": "c62a4a44da094c54bbccadfadec0ecc2",
       "version_major": 2,
       "version_minor": 0
      },
      "text/plain": [
       "20130527_185530_n4eub.fts:   0%|          | 0.00/8.41M [00:00<?, ?B/s]"
      ]
     },
     "metadata": {},
     "output_type": "display_data"
    },
    {
     "name": "stdout",
     "output_type": "stream",
     "text": [
      "Downloaded: /media/gehme/gehme/data/stereo/secchi/L0/b/img/euvi/20130527/195/20130527_185530_n4euB.fts\n"
     ]
    },
    {
     "data": {
      "application/vnd.jupyter.widget-view+json": {
       "model_id": "f844ed7efdbf4ece8bc71052274826b8",
       "version_major": 2,
       "version_minor": 0
      },
      "text/plain": [
       "Files Downloaded:   0%|          | 0/1 [00:00<?, ?file/s]"
      ]
     },
     "metadata": {},
     "output_type": "display_data"
    },
    {
     "data": {
      "application/vnd.jupyter.widget-view+json": {
       "model_id": "fccbc49d3d1941c8ac2ccff04a5d5324",
       "version_major": 2,
       "version_minor": 0
      },
      "text/plain": [
       "20130527_190530_n4eub.fts:   0%|          | 0.00/8.41M [00:00<?, ?B/s]"
      ]
     },
     "metadata": {},
     "output_type": "display_data"
    },
    {
     "name": "stdout",
     "output_type": "stream",
     "text": [
      "Downloaded: /media/gehme/gehme/data/stereo/secchi/L0/b/img/euvi/20130527/195/20130527_190530_n4euB.fts\n"
     ]
    },
    {
     "data": {
      "application/vnd.jupyter.widget-view+json": {
       "model_id": "7aee85a78c7546ffab05b12a8ff60be4",
       "version_major": 2,
       "version_minor": 0
      },
      "text/plain": [
       "Files Downloaded:   0%|          | 0/1 [00:00<?, ?file/s]"
      ]
     },
     "metadata": {},
     "output_type": "display_data"
    },
    {
     "data": {
      "application/vnd.jupyter.widget-view+json": {
       "model_id": "b2ed70a29a6149968dfac2593fa2e783",
       "version_major": 2,
       "version_minor": 0
      },
      "text/plain": [
       "20130527_191530_n4eub.fts:   0%|          | 0.00/8.41M [00:00<?, ?B/s]"
      ]
     },
     "metadata": {},
     "output_type": "display_data"
    },
    {
     "name": "stdout",
     "output_type": "stream",
     "text": [
      "Downloaded: /media/gehme/gehme/data/stereo/secchi/L0/b/img/euvi/20130527/195/20130527_191530_n4euB.fts\n"
     ]
    },
    {
     "data": {
      "application/vnd.jupyter.widget-view+json": {
       "model_id": "8aecf1f4090c4751a8a24312a3436a70",
       "version_major": 2,
       "version_minor": 0
      },
      "text/plain": [
       "Files Downloaded:   0%|          | 0/1 [00:00<?, ?file/s]"
      ]
     },
     "metadata": {},
     "output_type": "display_data"
    },
    {
     "data": {
      "application/vnd.jupyter.widget-view+json": {
       "model_id": "20ba8705366b4def9ce90452e88e1351",
       "version_major": 2,
       "version_minor": 0
      },
      "text/plain": [
       "20130527_192530_n4eub.fts:   0%|          | 0.00/8.41M [00:00<?, ?B/s]"
      ]
     },
     "metadata": {},
     "output_type": "display_data"
    },
    {
     "name": "stdout",
     "output_type": "stream",
     "text": [
      "Downloaded: /media/gehme/gehme/data/stereo/secchi/L0/b/img/euvi/20130527/195/20130527_192530_n4euB.fts\n"
     ]
    },
    {
     "data": {
      "application/vnd.jupyter.widget-view+json": {
       "model_id": "811286016744413699d9927235aaa8a7",
       "version_major": 2,
       "version_minor": 0
      },
      "text/plain": [
       "Files Downloaded:   0%|          | 0/1 [00:00<?, ?file/s]"
      ]
     },
     "metadata": {},
     "output_type": "display_data"
    },
    {
     "data": {
      "application/vnd.jupyter.widget-view+json": {
       "model_id": "fcb0d788890145ecb536aee2f700b6c3",
       "version_major": 2,
       "version_minor": 0
      },
      "text/plain": [
       "20130527_195030_n4eub.fts:   0%|          | 0.00/8.41M [00:00<?, ?B/s]"
      ]
     },
     "metadata": {},
     "output_type": "display_data"
    },
    {
     "name": "stdout",
     "output_type": "stream",
     "text": [
      "Downloaded: /media/gehme/gehme/data/stereo/secchi/L0/b/img/euvi/20130527/195/20130527_195030_n4euB.fts\n"
     ]
    },
    {
     "data": {
      "application/vnd.jupyter.widget-view+json": {
       "model_id": "d952eeba23344f59898dfecc82c4b71e",
       "version_major": 2,
       "version_minor": 0
      },
      "text/plain": [
       "Files Downloaded:   0%|          | 0/1 [00:00<?, ?file/s]"
      ]
     },
     "metadata": {},
     "output_type": "display_data"
    },
    {
     "data": {
      "application/vnd.jupyter.widget-view+json": {
       "model_id": "992c3b7b7b6d40e494aeb4a9d3c26ca3",
       "version_major": 2,
       "version_minor": 0
      },
      "text/plain": [
       "20130527_200030_n4eub.fts:   0%|          | 0.00/8.41M [00:00<?, ?B/s]"
      ]
     },
     "metadata": {},
     "output_type": "display_data"
    },
    {
     "name": "stdout",
     "output_type": "stream",
     "text": [
      "Downloaded: /media/gehme/gehme/data/stereo/secchi/L0/b/img/euvi/20130527/195/20130527_200030_n4euB.fts\n"
     ]
    },
    {
     "data": {
      "application/vnd.jupyter.widget-view+json": {
       "model_id": "ad9c2871d9274e40a5deec05b1b8cd57",
       "version_major": 2,
       "version_minor": 0
      },
      "text/plain": [
       "Files Downloaded:   0%|          | 0/1 [00:00<?, ?file/s]"
      ]
     },
     "metadata": {},
     "output_type": "display_data"
    },
    {
     "data": {
      "application/vnd.jupyter.widget-view+json": {
       "model_id": "cc1f34bce0004540a8dc947025d6333e",
       "version_major": 2,
       "version_minor": 0
      },
      "text/plain": [
       "20130527_201030_n4eub.fts:   0%|          | 0.00/8.41M [00:00<?, ?B/s]"
      ]
     },
     "metadata": {},
     "output_type": "display_data"
    },
    {
     "name": "stderr",
     "output_type": "stream",
     "text": [
      "Exception ignored in: <function BaseEventLoop.__del__ at 0x7f25773fa170>\n",
      "Traceback (most recent call last):\n",
      "  File \"/home/diegol/anaconda3/envs/new_actual/lib/python3.10/asyncio/base_events.py\", line 687, in __del__\n",
      "    self.close()\n",
      "  File \"/home/diegol/anaconda3/envs/new_actual/lib/python3.10/asyncio/unix_events.py\", line 71, in close\n",
      "    self.remove_signal_handler(sig)\n",
      "  File \"/home/diegol/anaconda3/envs/new_actual/lib/python3.10/asyncio/unix_events.py\", line 160, in remove_signal_handler\n",
      "    signal.signal(sig, handler)\n",
      "  File \"/home/diegol/anaconda3/envs/new_actual/lib/python3.10/signal.py\", line 56, in signal\n",
      "    handler = _signal.signal(_enum_to_int(signalnum), _enum_to_int(handler))\n",
      "ValueError: signal only works in main thread of the main interpreter\n",
      "Exception ignored in: <function BaseEventLoop.__del__ at 0x7f25773fa170>\n",
      "Traceback (most recent call last):\n",
      "  File \"/home/diegol/anaconda3/envs/new_actual/lib/python3.10/asyncio/base_events.py\", line 687, in __del__\n",
      "    self.close()\n",
      "  File \"/home/diegol/anaconda3/envs/new_actual/lib/python3.10/asyncio/unix_events.py\", line 71, in close\n",
      "    self.remove_signal_handler(sig)\n",
      "  File \"/home/diegol/anaconda3/envs/new_actual/lib/python3.10/asyncio/unix_events.py\", line 160, in remove_signal_handler\n",
      "    signal.signal(sig, handler)\n",
      "  File \"/home/diegol/anaconda3/envs/new_actual/lib/python3.10/signal.py\", line 56, in signal\n",
      "    handler = _signal.signal(_enum_to_int(signalnum), _enum_to_int(handler))\n",
      "ValueError: signal only works in main thread of the main interpreter\n",
      "Exception ignored in: <function BaseEventLoop.__del__ at 0x7f25773fa170>\n",
      "Traceback (most recent call last):\n",
      "  File \"/home/diegol/anaconda3/envs/new_actual/lib/python3.10/asyncio/base_events.py\", line 687, in __del__\n",
      "    self.close()\n",
      "  File \"/home/diegol/anaconda3/envs/new_actual/lib/python3.10/asyncio/unix_events.py\", line 71, in close\n",
      "    self.remove_signal_handler(sig)\n",
      "  File \"/home/diegol/anaconda3/envs/new_actual/lib/python3.10/asyncio/unix_events.py\", line 160, in remove_signal_handler\n",
      "    signal.signal(sig, handler)\n",
      "  File \"/home/diegol/anaconda3/envs/new_actual/lib/python3.10/signal.py\", line 56, in signal\n",
      "    handler = _signal.signal(_enum_to_int(signalnum), _enum_to_int(handler))\n",
      "ValueError: signal only works in main thread of the main interpreter\n",
      "Exception ignored in: <function BaseEventLoop.__del__ at 0x7f25773fa170>\n",
      "Traceback (most recent call last):\n",
      "  File \"/home/diegol/anaconda3/envs/new_actual/lib/python3.10/asyncio/base_events.py\", line 687, in __del__\n",
      "    self.close()\n",
      "  File \"/home/diegol/anaconda3/envs/new_actual/lib/python3.10/asyncio/unix_events.py\", line 71, in close\n",
      "    self.remove_signal_handler(sig)\n",
      "  File \"/home/diegol/anaconda3/envs/new_actual/lib/python3.10/asyncio/unix_events.py\", line 160, in remove_signal_handler\n",
      "    signal.signal(sig, handler)\n",
      "  File \"/home/diegol/anaconda3/envs/new_actual/lib/python3.10/signal.py\", line 56, in signal\n",
      "    handler = _signal.signal(_enum_to_int(signalnum), _enum_to_int(handler))\n",
      "ValueError: signal only works in main thread of the main interpreter\n",
      "Exception ignored in: <function BaseEventLoop.__del__ at 0x7f25773fa170>\n",
      "Traceback (most recent call last):\n",
      "  File \"/home/diegol/anaconda3/envs/new_actual/lib/python3.10/asyncio/base_events.py\", line 687, in __del__\n",
      "    self.close()\n",
      "  File \"/home/diegol/anaconda3/envs/new_actual/lib/python3.10/asyncio/unix_events.py\", line 71, in close\n",
      "    self.remove_signal_handler(sig)\n",
      "  File \"/home/diegol/anaconda3/envs/new_actual/lib/python3.10/asyncio/unix_events.py\", line 160, in remove_signal_handler\n",
      "    signal.signal(sig, handler)\n",
      "  File \"/home/diegol/anaconda3/envs/new_actual/lib/python3.10/signal.py\", line 56, in signal\n",
      "    handler = _signal.signal(_enum_to_int(signalnum), _enum_to_int(handler))\n",
      "ValueError: signal only works in main thread of the main interpreter\n",
      "Exception ignored in: <function BaseEventLoop.__del__ at 0x7f25773fa170>\n",
      "Traceback (most recent call last):\n",
      "  File \"/home/diegol/anaconda3/envs/new_actual/lib/python3.10/asyncio/base_events.py\", line 687, in __del__\n",
      "    self.close()\n",
      "  File \"/home/diegol/anaconda3/envs/new_actual/lib/python3.10/asyncio/unix_events.py\", line 71, in close\n",
      "    self.remove_signal_handler(sig)\n",
      "  File \"/home/diegol/anaconda3/envs/new_actual/lib/python3.10/asyncio/unix_events.py\", line 160, in remove_signal_handler\n",
      "    signal.signal(sig, handler)\n",
      "  File \"/home/diegol/anaconda3/envs/new_actual/lib/python3.10/signal.py\", line 56, in signal\n",
      "    handler = _signal.signal(_enum_to_int(signalnum), _enum_to_int(handler))\n",
      "ValueError: signal only works in main thread of the main interpreter\n"
     ]
    },
    {
     "name": "stdout",
     "output_type": "stream",
     "text": [
      "Downloaded: /media/gehme/gehme/data/stereo/secchi/L0/b/img/euvi/20130527/195/20130527_201030_n4euB.fts\n"
     ]
    },
    {
     "data": {
      "application/vnd.jupyter.widget-view+json": {
       "model_id": "7faae5ae8a2a4932bad0ad56b1d84330",
       "version_major": 2,
       "version_minor": 0
      },
      "text/plain": [
       "Files Downloaded:   0%|          | 0/1 [00:00<?, ?file/s]"
      ]
     },
     "metadata": {},
     "output_type": "display_data"
    },
    {
     "data": {
      "application/vnd.jupyter.widget-view+json": {
       "model_id": "1705c717791c421dba7c1808fd122c6d",
       "version_major": 2,
       "version_minor": 0
      },
      "text/plain": [
       "20130527_202030_n4eub.fts:   0%|          | 0.00/8.41M [00:00<?, ?B/s]"
      ]
     },
     "metadata": {},
     "output_type": "display_data"
    },
    {
     "name": "stdout",
     "output_type": "stream",
     "text": [
      "Downloaded: /media/gehme/gehme/data/stereo/secchi/L0/b/img/euvi/20130527/195/20130527_202030_n4euB.fts\n"
     ]
    },
    {
     "data": {
      "application/vnd.jupyter.widget-view+json": {
       "model_id": "dd2efb83c5cf44558ee88db50c408160",
       "version_major": 2,
       "version_minor": 0
      },
      "text/plain": [
       "Files Downloaded:   0%|          | 0/1 [00:00<?, ?file/s]"
      ]
     },
     "metadata": {},
     "output_type": "display_data"
    },
    {
     "data": {
      "application/vnd.jupyter.widget-view+json": {
       "model_id": "516e7a618587422aa0952f637da9436f",
       "version_major": 2,
       "version_minor": 0
      },
      "text/plain": [
       "20130527_204530_n4eub.fts:   0%|          | 0.00/8.41M [00:00<?, ?B/s]"
      ]
     },
     "metadata": {},
     "output_type": "display_data"
    },
    {
     "name": "stdout",
     "output_type": "stream",
     "text": [
      "Downloaded: /media/gehme/gehme/data/stereo/secchi/L0/b/img/euvi/20130527/195/20130527_204530_n4euB.fts\n"
     ]
    },
    {
     "data": {
      "application/vnd.jupyter.widget-view+json": {
       "model_id": "8c3464e1e5e64b26b2fda4efa3604cb0",
       "version_major": 2,
       "version_minor": 0
      },
      "text/plain": [
       "Files Downloaded:   0%|          | 0/1 [00:00<?, ?file/s]"
      ]
     },
     "metadata": {},
     "output_type": "display_data"
    },
    {
     "data": {
      "application/vnd.jupyter.widget-view+json": {
       "model_id": "56dd832292f74b58a175116e2191c59a",
       "version_major": 2,
       "version_minor": 0
      },
      "text/plain": [
       "20130527_205530_n4eub.fts:   0%|          | 0.00/8.41M [00:00<?, ?B/s]"
      ]
     },
     "metadata": {},
     "output_type": "display_data"
    },
    {
     "name": "stdout",
     "output_type": "stream",
     "text": [
      "Downloaded: /media/gehme/gehme/data/stereo/secchi/L0/b/img/euvi/20130527/195/20130527_205530_n4euB.fts\n"
     ]
    },
    {
     "data": {
      "application/vnd.jupyter.widget-view+json": {
       "model_id": "81586ae8aaaa46ca9a0238f4f4731f64",
       "version_major": 2,
       "version_minor": 0
      },
      "text/plain": [
       "Files Downloaded:   0%|          | 0/1 [00:00<?, ?file/s]"
      ]
     },
     "metadata": {},
     "output_type": "display_data"
    },
    {
     "data": {
      "application/vnd.jupyter.widget-view+json": {
       "model_id": "2ce78ff9814c4511b91b2da840d2a0da",
       "version_major": 2,
       "version_minor": 0
      },
      "text/plain": [
       "20130527_210530_n4eub.fts:   0%|          | 0.00/8.41M [00:00<?, ?B/s]"
      ]
     },
     "metadata": {},
     "output_type": "display_data"
    },
    {
     "name": "stdout",
     "output_type": "stream",
     "text": [
      "Downloaded: /media/gehme/gehme/data/stereo/secchi/L0/b/img/euvi/20130527/195/20130527_210530_n4euB.fts\n"
     ]
    },
    {
     "data": {
      "application/vnd.jupyter.widget-view+json": {
       "model_id": "2be5651a89e04e30bc6e1d813342344f",
       "version_major": 2,
       "version_minor": 0
      },
      "text/plain": [
       "Files Downloaded:   0%|          | 0/1 [00:00<?, ?file/s]"
      ]
     },
     "metadata": {},
     "output_type": "display_data"
    },
    {
     "data": {
      "application/vnd.jupyter.widget-view+json": {
       "model_id": "4be6bab4d7094b5aa819a0a1875b9be4",
       "version_major": 2,
       "version_minor": 0
      },
      "text/plain": [
       "20130527_211530_n4eub.fts:   0%|          | 0.00/8.41M [00:00<?, ?B/s]"
      ]
     },
     "metadata": {},
     "output_type": "display_data"
    },
    {
     "name": "stdout",
     "output_type": "stream",
     "text": [
      "Downloaded: /media/gehme/gehme/data/stereo/secchi/L0/b/img/euvi/20130527/195/20130527_211530_n4euB.fts\n"
     ]
    },
    {
     "data": {
      "application/vnd.jupyter.widget-view+json": {
       "model_id": "3a814fd377864a7cb2e606a07db12ddb",
       "version_major": 2,
       "version_minor": 0
      },
      "text/plain": [
       "Files Downloaded:   0%|          | 0/1 [00:00<?, ?file/s]"
      ]
     },
     "metadata": {},
     "output_type": "display_data"
    },
    {
     "data": {
      "application/vnd.jupyter.widget-view+json": {
       "model_id": "2d70076970c946028d426b48d0bf41ee",
       "version_major": 2,
       "version_minor": 0
      },
      "text/plain": [
       "20130527_214030_n4eub.fts:   0%|          | 0.00/8.41M [00:00<?, ?B/s]"
      ]
     },
     "metadata": {},
     "output_type": "display_data"
    },
    {
     "name": "stdout",
     "output_type": "stream",
     "text": [
      "Downloaded: /media/gehme/gehme/data/stereo/secchi/L0/b/img/euvi/20130527/195/20130527_214030_n4euB.fts\n"
     ]
    },
    {
     "data": {
      "application/vnd.jupyter.widget-view+json": {
       "model_id": "6e1d011ea35446069cf404940cd4e111",
       "version_major": 2,
       "version_minor": 0
      },
      "text/plain": [
       "Files Downloaded:   0%|          | 0/1 [00:00<?, ?file/s]"
      ]
     },
     "metadata": {},
     "output_type": "display_data"
    },
    {
     "data": {
      "application/vnd.jupyter.widget-view+json": {
       "model_id": "78fca82f74a44869b546947d576cbb57",
       "version_major": 2,
       "version_minor": 0
      },
      "text/plain": [
       "20130527_215030_n4eub.fts:   0%|          | 0.00/8.41M [00:00<?, ?B/s]"
      ]
     },
     "metadata": {},
     "output_type": "display_data"
    },
    {
     "name": "stdout",
     "output_type": "stream",
     "text": [
      "Downloaded: /media/gehme/gehme/data/stereo/secchi/L0/b/img/euvi/20130527/195/20130527_215030_n4euB.fts\n"
     ]
    },
    {
     "name": "stderr",
     "output_type": "stream",
     "text": [
      "Exception ignored in: <function BaseEventLoop.__del__ at 0x7f25773fa170>\n",
      "Traceback (most recent call last):\n",
      "  File \"/home/diegol/anaconda3/envs/new_actual/lib/python3.10/asyncio/base_events.py\", line 687, in __del__\n",
      "    self.close()\n",
      "  File \"/home/diegol/anaconda3/envs/new_actual/lib/python3.10/asyncio/unix_events.py\", line 71, in close\n",
      "    self.remove_signal_handler(sig)\n",
      "  File \"/home/diegol/anaconda3/envs/new_actual/lib/python3.10/asyncio/unix_events.py\", line 160, in remove_signal_handler\n",
      "    signal.signal(sig, handler)\n",
      "  File \"/home/diegol/anaconda3/envs/new_actual/lib/python3.10/signal.py\", line 56, in signal\n",
      "    handler = _signal.signal(_enum_to_int(signalnum), _enum_to_int(handler))\n",
      "ValueError: signal only works in main thread of the main interpreter\n",
      "Exception ignored in: <function BaseEventLoop.__del__ at 0x7f25773fa170>\n",
      "Traceback (most recent call last):\n",
      "  File \"/home/diegol/anaconda3/envs/new_actual/lib/python3.10/asyncio/base_events.py\", line 687, in __del__\n",
      "    self.close()\n",
      "  File \"/home/diegol/anaconda3/envs/new_actual/lib/python3.10/asyncio/unix_events.py\", line 71, in close\n",
      "    self.remove_signal_handler(sig)\n",
      "  File \"/home/diegol/anaconda3/envs/new_actual/lib/python3.10/asyncio/unix_events.py\", line 160, in remove_signal_handler\n",
      "    signal.signal(sig, handler)\n",
      "  File \"/home/diegol/anaconda3/envs/new_actual/lib/python3.10/signal.py\", line 56, in signal\n",
      "    handler = _signal.signal(_enum_to_int(signalnum), _enum_to_int(handler))\n",
      "ValueError: signal only works in main thread of the main interpreter\n",
      "Exception ignored in: <function BaseEventLoop.__del__ at 0x7f25773fa170>\n",
      "Traceback (most recent call last):\n",
      "  File \"/home/diegol/anaconda3/envs/new_actual/lib/python3.10/asyncio/base_events.py\", line 687, in __del__\n",
      "    self.close()\n",
      "  File \"/home/diegol/anaconda3/envs/new_actual/lib/python3.10/asyncio/unix_events.py\", line 71, in close\n",
      "    self.remove_signal_handler(sig)\n",
      "  File \"/home/diegol/anaconda3/envs/new_actual/lib/python3.10/asyncio/unix_events.py\", line 160, in remove_signal_handler\n",
      "    signal.signal(sig, handler)\n",
      "  File \"/home/diegol/anaconda3/envs/new_actual/lib/python3.10/signal.py\", line 56, in signal\n",
      "    handler = _signal.signal(_enum_to_int(signalnum), _enum_to_int(handler))\n",
      "ValueError: signal only works in main thread of the main interpreter\n",
      "Exception ignored in: <function BaseEventLoop.__del__ at 0x7f25773fa170>\n",
      "Traceback (most recent call last):\n",
      "  File \"/home/diegol/anaconda3/envs/new_actual/lib/python3.10/asyncio/base_events.py\", line 687, in __del__\n",
      "    self.close()\n",
      "  File \"/home/diegol/anaconda3/envs/new_actual/lib/python3.10/asyncio/unix_events.py\", line 71, in close\n",
      "    self.remove_signal_handler(sig)\n",
      "  File \"/home/diegol/anaconda3/envs/new_actual/lib/python3.10/asyncio/unix_events.py\", line 160, in remove_signal_handler\n",
      "    signal.signal(sig, handler)\n",
      "  File \"/home/diegol/anaconda3/envs/new_actual/lib/python3.10/signal.py\", line 56, in signal\n",
      "    handler = _signal.signal(_enum_to_int(signalnum), _enum_to_int(handler))\n",
      "ValueError: signal only works in main thread of the main interpreter\n",
      "Exception ignored in: <function BaseEventLoop.__del__ at 0x7f25773fa170>\n",
      "Traceback (most recent call last):\n",
      "  File \"/home/diegol/anaconda3/envs/new_actual/lib/python3.10/asyncio/base_events.py\", line 687, in __del__\n",
      "    self.close()\n",
      "  File \"/home/diegol/anaconda3/envs/new_actual/lib/python3.10/asyncio/unix_events.py\", line 71, in close\n",
      "    self.remove_signal_handler(sig)\n",
      "  File \"/home/diegol/anaconda3/envs/new_actual/lib/python3.10/asyncio/unix_events.py\", line 160, in remove_signal_handler\n",
      "    signal.signal(sig, handler)\n",
      "  File \"/home/diegol/anaconda3/envs/new_actual/lib/python3.10/signal.py\", line 56, in signal\n",
      "    handler = _signal.signal(_enum_to_int(signalnum), _enum_to_int(handler))\n",
      "ValueError: signal only works in main thread of the main interpreter\n",
      "Exception ignored in: <function BaseEventLoop.__del__ at 0x7f25773fa170>\n",
      "Traceback (most recent call last):\n",
      "  File \"/home/diegol/anaconda3/envs/new_actual/lib/python3.10/asyncio/base_events.py\", line 687, in __del__\n",
      "    self.close()\n",
      "  File \"/home/diegol/anaconda3/envs/new_actual/lib/python3.10/asyncio/unix_events.py\", line 71, in close\n",
      "    self.remove_signal_handler(sig)\n",
      "  File \"/home/diegol/anaconda3/envs/new_actual/lib/python3.10/asyncio/unix_events.py\", line 160, in remove_signal_handler\n",
      "    signal.signal(sig, handler)\n",
      "  File \"/home/diegol/anaconda3/envs/new_actual/lib/python3.10/signal.py\", line 56, in signal\n",
      "    handler = _signal.signal(_enum_to_int(signalnum), _enum_to_int(handler))\n",
      "ValueError: signal only works in main thread of the main interpreter\n",
      "Exception ignored in: <function BaseEventLoop.__del__ at 0x7f25773fa170>\n",
      "Traceback (most recent call last):\n",
      "  File \"/home/diegol/anaconda3/envs/new_actual/lib/python3.10/asyncio/base_events.py\", line 687, in __del__\n",
      "    self.close()\n",
      "  File \"/home/diegol/anaconda3/envs/new_actual/lib/python3.10/asyncio/unix_events.py\", line 71, in close\n",
      "    self.remove_signal_handler(sig)\n",
      "  File \"/home/diegol/anaconda3/envs/new_actual/lib/python3.10/asyncio/unix_events.py\", line 160, in remove_signal_handler\n",
      "    signal.signal(sig, handler)\n",
      "  File \"/home/diegol/anaconda3/envs/new_actual/lib/python3.10/signal.py\", line 56, in signal\n",
      "    handler = _signal.signal(_enum_to_int(signalnum), _enum_to_int(handler))\n",
      "ValueError: signal only works in main thread of the main interpreter\n"
     ]
    },
    {
     "data": {
      "application/vnd.jupyter.widget-view+json": {
       "model_id": "2df7f4ddf8874ca1bcbdace1a48711f6",
       "version_major": 2,
       "version_minor": 0
      },
      "text/plain": [
       "Files Downloaded:   0%|          | 0/1 [00:00<?, ?file/s]"
      ]
     },
     "metadata": {},
     "output_type": "display_data"
    },
    {
     "data": {
      "application/vnd.jupyter.widget-view+json": {
       "model_id": "f96461d9b4f04472a4626eb2d49570f5",
       "version_major": 2,
       "version_minor": 0
      },
      "text/plain": [
       "20130527_220030_n4eub.fts:   0%|          | 0.00/8.41M [00:00<?, ?B/s]"
      ]
     },
     "metadata": {},
     "output_type": "display_data"
    },
    {
     "name": "stdout",
     "output_type": "stream",
     "text": [
      "Downloaded: /media/gehme/gehme/data/stereo/secchi/L0/b/img/euvi/20130527/195/20130527_220030_n4euB.fts\n"
     ]
    },
    {
     "data": {
      "application/vnd.jupyter.widget-view+json": {
       "model_id": "7bbb971fefe24eecb258924ce9b6c128",
       "version_major": 2,
       "version_minor": 0
      },
      "text/plain": [
       "Files Downloaded:   0%|          | 0/1 [00:00<?, ?file/s]"
      ]
     },
     "metadata": {},
     "output_type": "display_data"
    },
    {
     "data": {
      "application/vnd.jupyter.widget-view+json": {
       "model_id": "55fc55a5b81e4a61ac72c220f6dcc1ab",
       "version_major": 2,
       "version_minor": 0
      },
      "text/plain": [
       "20130527_221030_n4eub.fts:   0%|          | 0.00/8.41M [00:00<?, ?B/s]"
      ]
     },
     "metadata": {},
     "output_type": "display_data"
    },
    {
     "name": "stdout",
     "output_type": "stream",
     "text": [
      "Downloaded: /media/gehme/gehme/data/stereo/secchi/L0/b/img/euvi/20130527/195/20130527_221030_n4euB.fts\n"
     ]
    },
    {
     "data": {
      "application/vnd.jupyter.widget-view+json": {
       "model_id": "ddc0d9fd4fd242ce880de21ad2598c2b",
       "version_major": 2,
       "version_minor": 0
      },
      "text/plain": [
       "Files Downloaded:   0%|          | 0/1 [00:00<?, ?file/s]"
      ]
     },
     "metadata": {},
     "output_type": "display_data"
    },
    {
     "data": {
      "application/vnd.jupyter.widget-view+json": {
       "model_id": "811f2ececb0d4c57a4f071b3613d8e9f",
       "version_major": 2,
       "version_minor": 0
      },
      "text/plain": [
       "20130527_223530_n4eub.fts:   0%|          | 0.00/8.41M [00:00<?, ?B/s]"
      ]
     },
     "metadata": {},
     "output_type": "display_data"
    },
    {
     "name": "stdout",
     "output_type": "stream",
     "text": [
      "Downloaded: /media/gehme/gehme/data/stereo/secchi/L0/b/img/euvi/20130527/195/20130527_223530_n4euB.fts\n"
     ]
    },
    {
     "data": {
      "application/vnd.jupyter.widget-view+json": {
       "model_id": "9f0c934bf19a4f129afaa1704beaa65f",
       "version_major": 2,
       "version_minor": 0
      },
      "text/plain": [
       "Files Downloaded:   0%|          | 0/1 [00:00<?, ?file/s]"
      ]
     },
     "metadata": {},
     "output_type": "display_data"
    },
    {
     "data": {
      "application/vnd.jupyter.widget-view+json": {
       "model_id": "cd58e2a7d24b4dd7a273acdb0fd90b12",
       "version_major": 2,
       "version_minor": 0
      },
      "text/plain": [
       "20130527_224530_n4eub.fts:   0%|          | 0.00/8.41M [00:00<?, ?B/s]"
      ]
     },
     "metadata": {},
     "output_type": "display_data"
    },
    {
     "name": "stdout",
     "output_type": "stream",
     "text": [
      "Downloaded: /media/gehme/gehme/data/stereo/secchi/L0/b/img/euvi/20130527/195/20130527_224530_n4euB.fts\n"
     ]
    },
    {
     "data": {
      "application/vnd.jupyter.widget-view+json": {
       "model_id": "b7a04ef143b64b7896afaf691a922627",
       "version_major": 2,
       "version_minor": 0
      },
      "text/plain": [
       "Files Downloaded:   0%|          | 0/1 [00:00<?, ?file/s]"
      ]
     },
     "metadata": {},
     "output_type": "display_data"
    },
    {
     "data": {
      "application/vnd.jupyter.widget-view+json": {
       "model_id": "0b4d35a3a9604d00a6d3153a141126da",
       "version_major": 2,
       "version_minor": 0
      },
      "text/plain": [
       "20130527_225530_n4eub.fts:   0%|          | 0.00/8.41M [00:00<?, ?B/s]"
      ]
     },
     "metadata": {},
     "output_type": "display_data"
    },
    {
     "name": "stdout",
     "output_type": "stream",
     "text": [
      "Downloaded: /media/gehme/gehme/data/stereo/secchi/L0/b/img/euvi/20130527/195/20130527_225530_n4euB.fts\n"
     ]
    },
    {
     "data": {
      "application/vnd.jupyter.widget-view+json": {
       "model_id": "c635557a150643e9b63e29bfcc213c92",
       "version_major": 2,
       "version_minor": 0
      },
      "text/plain": [
       "Files Downloaded:   0%|          | 0/1 [00:00<?, ?file/s]"
      ]
     },
     "metadata": {},
     "output_type": "display_data"
    },
    {
     "data": {
      "application/vnd.jupyter.widget-view+json": {
       "model_id": "c0789185c54044368be04a5d88d259e6",
       "version_major": 2,
       "version_minor": 0
      },
      "text/plain": [
       "20130527_230530_n4eub.fts:   0%|          | 0.00/8.41M [00:00<?, ?B/s]"
      ]
     },
     "metadata": {},
     "output_type": "display_data"
    },
    {
     "name": "stdout",
     "output_type": "stream",
     "text": [
      "Downloaded: /media/gehme/gehme/data/stereo/secchi/L0/b/img/euvi/20130527/195/20130527_230530_n4euB.fts\n"
     ]
    },
    {
     "data": {
      "application/vnd.jupyter.widget-view+json": {
       "model_id": "30c8f0a3e750422294466f0f1362d65b",
       "version_major": 2,
       "version_minor": 0
      },
      "text/plain": [
       "Files Downloaded:   0%|          | 0/1 [00:00<?, ?file/s]"
      ]
     },
     "metadata": {},
     "output_type": "display_data"
    },
    {
     "data": {
      "application/vnd.jupyter.widget-view+json": {
       "model_id": "053d0c72fe354d21bd682743bc9350b8",
       "version_major": 2,
       "version_minor": 0
      },
      "text/plain": [
       "20130527_233030_n4eub.fts:   0%|          | 0.00/8.41M [00:00<?, ?B/s]"
      ]
     },
     "metadata": {},
     "output_type": "display_data"
    },
    {
     "name": "stdout",
     "output_type": "stream",
     "text": [
      "Downloaded: /media/gehme/gehme/data/stereo/secchi/L0/b/img/euvi/20130527/195/20130527_233030_n4euB.fts\n"
     ]
    },
    {
     "data": {
      "application/vnd.jupyter.widget-view+json": {
       "model_id": "0cb7627ec7d14105966cae6b2e7de545",
       "version_major": 2,
       "version_minor": 0
      },
      "text/plain": [
       "Files Downloaded:   0%|          | 0/1 [00:00<?, ?file/s]"
      ]
     },
     "metadata": {},
     "output_type": "display_data"
    },
    {
     "data": {
      "application/vnd.jupyter.widget-view+json": {
       "model_id": "9b9e6211204e4777bb84cc5bfa03434b",
       "version_major": 2,
       "version_minor": 0
      },
      "text/plain": [
       "20130527_234030_n4eub.fts:   0%|          | 0.00/8.41M [00:00<?, ?B/s]"
      ]
     },
     "metadata": {},
     "output_type": "display_data"
    },
    {
     "name": "stdout",
     "output_type": "stream",
     "text": [
      "Downloaded: /media/gehme/gehme/data/stereo/secchi/L0/b/img/euvi/20130527/195/20130527_234030_n4euB.fts\n"
     ]
    },
    {
     "name": "stderr",
     "output_type": "stream",
     "text": [
      "Exception ignored in: <function BaseEventLoop.__del__ at 0x7f25773fa170>\n",
      "Traceback (most recent call last):\n",
      "  File \"/home/diegol/anaconda3/envs/new_actual/lib/python3.10/asyncio/base_events.py\", line 687, in __del__\n",
      "    self.close()\n",
      "  File \"/home/diegol/anaconda3/envs/new_actual/lib/python3.10/asyncio/unix_events.py\", line 71, in close\n",
      "    self.remove_signal_handler(sig)\n",
      "  File \"/home/diegol/anaconda3/envs/new_actual/lib/python3.10/asyncio/unix_events.py\", line 160, in remove_signal_handler\n",
      "    signal.signal(sig, handler)\n",
      "  File \"/home/diegol/anaconda3/envs/new_actual/lib/python3.10/signal.py\", line 56, in signal\n",
      "    handler = _signal.signal(_enum_to_int(signalnum), _enum_to_int(handler))\n",
      "ValueError: signal only works in main thread of the main interpreter\n",
      "Exception ignored in: <function BaseEventLoop.__del__ at 0x7f25773fa170>\n",
      "Traceback (most recent call last):\n",
      "  File \"/home/diegol/anaconda3/envs/new_actual/lib/python3.10/asyncio/base_events.py\", line 687, in __del__\n",
      "    self.close()\n",
      "  File \"/home/diegol/anaconda3/envs/new_actual/lib/python3.10/asyncio/unix_events.py\", line 71, in close\n",
      "    self.remove_signal_handler(sig)\n",
      "  File \"/home/diegol/anaconda3/envs/new_actual/lib/python3.10/asyncio/unix_events.py\", line 160, in remove_signal_handler\n",
      "    signal.signal(sig, handler)\n",
      "  File \"/home/diegol/anaconda3/envs/new_actual/lib/python3.10/signal.py\", line 56, in signal\n",
      "    handler = _signal.signal(_enum_to_int(signalnum), _enum_to_int(handler))\n",
      "ValueError: signal only works in main thread of the main interpreter\n",
      "Exception ignored in: <function BaseEventLoop.__del__ at 0x7f25773fa170>\n",
      "Traceback (most recent call last):\n",
      "  File \"/home/diegol/anaconda3/envs/new_actual/lib/python3.10/asyncio/base_events.py\", line 687, in __del__\n",
      "    self.close()\n",
      "  File \"/home/diegol/anaconda3/envs/new_actual/lib/python3.10/asyncio/unix_events.py\", line 71, in close\n",
      "    self.remove_signal_handler(sig)\n",
      "  File \"/home/diegol/anaconda3/envs/new_actual/lib/python3.10/asyncio/unix_events.py\", line 160, in remove_signal_handler\n",
      "    signal.signal(sig, handler)\n",
      "  File \"/home/diegol/anaconda3/envs/new_actual/lib/python3.10/signal.py\", line 56, in signal\n",
      "    handler = _signal.signal(_enum_to_int(signalnum), _enum_to_int(handler))\n",
      "ValueError: signal only works in main thread of the main interpreter\n",
      "Exception ignored in: <function BaseEventLoop.__del__ at 0x7f25773fa170>\n",
      "Traceback (most recent call last):\n",
      "  File \"/home/diegol/anaconda3/envs/new_actual/lib/python3.10/asyncio/base_events.py\", line 687, in __del__\n",
      "    self.close()\n",
      "  File \"/home/diegol/anaconda3/envs/new_actual/lib/python3.10/asyncio/unix_events.py\", line 71, in close\n",
      "    self.remove_signal_handler(sig)\n",
      "  File \"/home/diegol/anaconda3/envs/new_actual/lib/python3.10/asyncio/unix_events.py\", line 160, in remove_signal_handler\n",
      "    signal.signal(sig, handler)\n",
      "  File \"/home/diegol/anaconda3/envs/new_actual/lib/python3.10/signal.py\", line 56, in signal\n",
      "    handler = _signal.signal(_enum_to_int(signalnum), _enum_to_int(handler))\n",
      "ValueError: signal only works in main thread of the main interpreter\n",
      "Exception ignored in: <function BaseEventLoop.__del__ at 0x7f25773fa170>\n",
      "Traceback (most recent call last):\n",
      "  File \"/home/diegol/anaconda3/envs/new_actual/lib/python3.10/asyncio/base_events.py\", line 687, in __del__\n",
      "    self.close()\n",
      "  File \"/home/diegol/anaconda3/envs/new_actual/lib/python3.10/asyncio/unix_events.py\", line 71, in close\n",
      "    self.remove_signal_handler(sig)\n",
      "  File \"/home/diegol/anaconda3/envs/new_actual/lib/python3.10/asyncio/unix_events.py\", line 160, in remove_signal_handler\n",
      "    signal.signal(sig, handler)\n",
      "  File \"/home/diegol/anaconda3/envs/new_actual/lib/python3.10/signal.py\", line 56, in signal\n",
      "    handler = _signal.signal(_enum_to_int(signalnum), _enum_to_int(handler))\n",
      "ValueError: signal only works in main thread of the main interpreter\n",
      "Exception ignored in: <function BaseEventLoop.__del__ at 0x7f25773fa170>\n",
      "Traceback (most recent call last):\n",
      "  File \"/home/diegol/anaconda3/envs/new_actual/lib/python3.10/asyncio/base_events.py\", line 687, in __del__\n",
      "    self.close()\n",
      "  File \"/home/diegol/anaconda3/envs/new_actual/lib/python3.10/asyncio/unix_events.py\", line 71, in close\n",
      "    self.remove_signal_handler(sig)\n",
      "  File \"/home/diegol/anaconda3/envs/new_actual/lib/python3.10/asyncio/unix_events.py\", line 160, in remove_signal_handler\n",
      "    signal.signal(sig, handler)\n",
      "  File \"/home/diegol/anaconda3/envs/new_actual/lib/python3.10/signal.py\", line 56, in signal\n",
      "    handler = _signal.signal(_enum_to_int(signalnum), _enum_to_int(handler))\n",
      "ValueError: signal only works in main thread of the main interpreter\n",
      "Exception ignored in: <function BaseEventLoop.__del__ at 0x7f25773fa170>\n",
      "Traceback (most recent call last):\n",
      "  File \"/home/diegol/anaconda3/envs/new_actual/lib/python3.10/asyncio/base_events.py\", line 687, in __del__\n",
      "    self.close()\n",
      "  File \"/home/diegol/anaconda3/envs/new_actual/lib/python3.10/asyncio/unix_events.py\", line 71, in close\n",
      "    self.remove_signal_handler(sig)\n",
      "  File \"/home/diegol/anaconda3/envs/new_actual/lib/python3.10/asyncio/unix_events.py\", line 160, in remove_signal_handler\n",
      "    signal.signal(sig, handler)\n",
      "  File \"/home/diegol/anaconda3/envs/new_actual/lib/python3.10/signal.py\", line 56, in signal\n",
      "    handler = _signal.signal(_enum_to_int(signalnum), _enum_to_int(handler))\n",
      "ValueError: signal only works in main thread of the main interpreter\n"
     ]
    },
    {
     "data": {
      "application/vnd.jupyter.widget-view+json": {
       "model_id": "f22802c1fe7e4eb8a04698c4f05a9062",
       "version_major": 2,
       "version_minor": 0
      },
      "text/plain": [
       "Files Downloaded:   0%|          | 0/1 [00:00<?, ?file/s]"
      ]
     },
     "metadata": {},
     "output_type": "display_data"
    },
    {
     "data": {
      "application/vnd.jupyter.widget-view+json": {
       "model_id": "757f872509fc4244a8b8d4e8577a6732",
       "version_major": 2,
       "version_minor": 0
      },
      "text/plain": [
       "20130527_235030_n4eub.fts:   0%|          | 0.00/8.41M [00:00<?, ?B/s]"
      ]
     },
     "metadata": {},
     "output_type": "display_data"
    },
    {
     "name": "stdout",
     "output_type": "stream",
     "text": [
      "Downloaded: /media/gehme/gehme/data/stereo/secchi/L0/b/img/euvi/20130527/195/20130527_235030_n4euB.fts\n",
      "Se ha creado el directorio /media/gehme/gehme/data/stereo/secchi/L0/b/img/euvi/20130528/195/\n"
     ]
    },
    {
     "data": {
      "application/vnd.jupyter.widget-view+json": {
       "model_id": "2ad29841e4ac4d58a7580dc08e438bee",
       "version_major": 2,
       "version_minor": 0
      },
      "text/plain": [
       "Files Downloaded:   0%|          | 0/1 [00:00<?, ?file/s]"
      ]
     },
     "metadata": {},
     "output_type": "display_data"
    },
    {
     "data": {
      "application/vnd.jupyter.widget-view+json": {
       "model_id": "677049e77f16459297e14914a004fd05",
       "version_major": 2,
       "version_minor": 0
      },
      "text/plain": [
       "20130528_002530_n4eub.fts:   0%|          | 0.00/8.41M [00:00<?, ?B/s]"
      ]
     },
     "metadata": {},
     "output_type": "display_data"
    },
    {
     "name": "stdout",
     "output_type": "stream",
     "text": [
      "Downloaded: /media/gehme/gehme/data/stereo/secchi/L0/b/img/euvi/20130528/195/20130528_002530_n4euB.fts\n"
     ]
    },
    {
     "data": {
      "application/vnd.jupyter.widget-view+json": {
       "model_id": "7869282fa0ec43acbaf6de03341fa9a8",
       "version_major": 2,
       "version_minor": 0
      },
      "text/plain": [
       "Files Downloaded:   0%|          | 0/1 [00:00<?, ?file/s]"
      ]
     },
     "metadata": {},
     "output_type": "display_data"
    },
    {
     "data": {
      "application/vnd.jupyter.widget-view+json": {
       "model_id": "52603aade4ed42258b9c11e78083ae54",
       "version_major": 2,
       "version_minor": 0
      },
      "text/plain": [
       "20130528_003530_n4eub.fts:   0%|          | 0.00/8.41M [00:00<?, ?B/s]"
      ]
     },
     "metadata": {},
     "output_type": "display_data"
    },
    {
     "name": "stdout",
     "output_type": "stream",
     "text": [
      "Downloaded: /media/gehme/gehme/data/stereo/secchi/L0/b/img/euvi/20130528/195/20130528_003530_n4euB.fts\n"
     ]
    },
    {
     "data": {
      "application/vnd.jupyter.widget-view+json": {
       "model_id": "14b7384a2aeb4946b059f6f715e75786",
       "version_major": 2,
       "version_minor": 0
      },
      "text/plain": [
       "Files Downloaded:   0%|          | 0/1 [00:00<?, ?file/s]"
      ]
     },
     "metadata": {},
     "output_type": "display_data"
    },
    {
     "data": {
      "application/vnd.jupyter.widget-view+json": {
       "model_id": "c78cceb6031c4252877cee091ee6546c",
       "version_major": 2,
       "version_minor": 0
      },
      "text/plain": [
       "20130528_004530_n4eub.fts:   0%|          | 0.00/8.41M [00:00<?, ?B/s]"
      ]
     },
     "metadata": {},
     "output_type": "display_data"
    },
    {
     "name": "stdout",
     "output_type": "stream",
     "text": [
      "Downloaded: /media/gehme/gehme/data/stereo/secchi/L0/b/img/euvi/20130528/195/20130528_004530_n4euB.fts\n"
     ]
    },
    {
     "data": {
      "application/vnd.jupyter.widget-view+json": {
       "model_id": "636561f025e04954a8f340d87c20be20",
       "version_major": 2,
       "version_minor": 0
      },
      "text/plain": [
       "Files Downloaded:   0%|          | 0/1 [00:00<?, ?file/s]"
      ]
     },
     "metadata": {},
     "output_type": "display_data"
    },
    {
     "data": {
      "application/vnd.jupyter.widget-view+json": {
       "model_id": "a84c9e95c2fe4700b1d159a9c1cea9c9",
       "version_major": 2,
       "version_minor": 0
      },
      "text/plain": [
       "20130528_005530_n4eub.fts:   0%|          | 0.00/8.41M [00:00<?, ?B/s]"
      ]
     },
     "metadata": {},
     "output_type": "display_data"
    },
    {
     "name": "stdout",
     "output_type": "stream",
     "text": [
      "Downloaded: /media/gehme/gehme/data/stereo/secchi/L0/b/img/euvi/20130528/195/20130528_005530_n4euB.fts\n"
     ]
    },
    {
     "data": {
      "application/vnd.jupyter.widget-view+json": {
       "model_id": "0237557d7bcd4770a37629ec19742d9a",
       "version_major": 2,
       "version_minor": 0
      },
      "text/plain": [
       "Files Downloaded:   0%|          | 0/1 [00:00<?, ?file/s]"
      ]
     },
     "metadata": {},
     "output_type": "display_data"
    },
    {
     "data": {
      "application/vnd.jupyter.widget-view+json": {
       "model_id": "a0042dedb39a41589bed1996ad7f6cf2",
       "version_major": 2,
       "version_minor": 0
      },
      "text/plain": [
       "20130528_012030_n4eub.fts:   0%|          | 0.00/8.41M [00:00<?, ?B/s]"
      ]
     },
     "metadata": {},
     "output_type": "display_data"
    },
    {
     "name": "stdout",
     "output_type": "stream",
     "text": [
      "Downloaded: /media/gehme/gehme/data/stereo/secchi/L0/b/img/euvi/20130528/195/20130528_012030_n4euB.fts\n"
     ]
    },
    {
     "data": {
      "application/vnd.jupyter.widget-view+json": {
       "model_id": "d4ae9bb2ccd4474ab756751c5800833d",
       "version_major": 2,
       "version_minor": 0
      },
      "text/plain": [
       "Files Downloaded:   0%|          | 0/1 [00:00<?, ?file/s]"
      ]
     },
     "metadata": {},
     "output_type": "display_data"
    },
    {
     "data": {
      "application/vnd.jupyter.widget-view+json": {
       "model_id": "241b3854aeae41d18b2bdebfa1f91d6e",
       "version_major": 2,
       "version_minor": 0
      },
      "text/plain": [
       "20130528_013030_n4eub.fts:   0%|          | 0.00/8.41M [00:00<?, ?B/s]"
      ]
     },
     "metadata": {},
     "output_type": "display_data"
    },
    {
     "name": "stdout",
     "output_type": "stream",
     "text": [
      "Downloaded: /media/gehme/gehme/data/stereo/secchi/L0/b/img/euvi/20130528/195/20130528_013030_n4euB.fts\n"
     ]
    },
    {
     "data": {
      "application/vnd.jupyter.widget-view+json": {
       "model_id": "ae2df535b08d4f1cb558cf36c5aacdff",
       "version_major": 2,
       "version_minor": 0
      },
      "text/plain": [
       "Files Downloaded:   0%|          | 0/1 [00:00<?, ?file/s]"
      ]
     },
     "metadata": {},
     "output_type": "display_data"
    },
    {
     "data": {
      "application/vnd.jupyter.widget-view+json": {
       "model_id": "fe0dd0d7c3c64749846bd54b99a2c11c",
       "version_major": 2,
       "version_minor": 0
      },
      "text/plain": [
       "20130528_014030_n4eub.fts:   0%|          | 0.00/8.41M [00:00<?, ?B/s]"
      ]
     },
     "metadata": {},
     "output_type": "display_data"
    },
    {
     "name": "stdout",
     "output_type": "stream",
     "text": [
      "Downloaded: /media/gehme/gehme/data/stereo/secchi/L0/b/img/euvi/20130528/195/20130528_014030_n4euB.fts\n"
     ]
    },
    {
     "name": "stderr",
     "output_type": "stream",
     "text": [
      "Exception ignored in: <function BaseEventLoop.__del__ at 0x7f25773fa170>\n",
      "Traceback (most recent call last):\n",
      "  File \"/home/diegol/anaconda3/envs/new_actual/lib/python3.10/asyncio/base_events.py\", line 687, in __del__\n",
      "    self.close()\n",
      "  File \"/home/diegol/anaconda3/envs/new_actual/lib/python3.10/asyncio/unix_events.py\", line 71, in close\n",
      "    self.remove_signal_handler(sig)\n",
      "  File \"/home/diegol/anaconda3/envs/new_actual/lib/python3.10/asyncio/unix_events.py\", line 160, in remove_signal_handler\n",
      "    signal.signal(sig, handler)\n",
      "  File \"/home/diegol/anaconda3/envs/new_actual/lib/python3.10/signal.py\", line 56, in signal\n",
      "    handler = _signal.signal(_enum_to_int(signalnum), _enum_to_int(handler))\n",
      "ValueError: signal only works in main thread of the main interpreter\n",
      "Exception ignored in: <function BaseEventLoop.__del__ at 0x7f25773fa170>\n",
      "Traceback (most recent call last):\n",
      "  File \"/home/diegol/anaconda3/envs/new_actual/lib/python3.10/asyncio/base_events.py\", line 687, in __del__\n",
      "    self.close()\n",
      "  File \"/home/diegol/anaconda3/envs/new_actual/lib/python3.10/asyncio/unix_events.py\", line 71, in close\n",
      "    self.remove_signal_handler(sig)\n",
      "  File \"/home/diegol/anaconda3/envs/new_actual/lib/python3.10/asyncio/unix_events.py\", line 160, in remove_signal_handler\n",
      "    signal.signal(sig, handler)\n",
      "  File \"/home/diegol/anaconda3/envs/new_actual/lib/python3.10/signal.py\", line 56, in signal\n",
      "    handler = _signal.signal(_enum_to_int(signalnum), _enum_to_int(handler))\n",
      "ValueError: signal only works in main thread of the main interpreter\n",
      "Exception ignored in: <function BaseEventLoop.__del__ at 0x7f25773fa170>\n",
      "Traceback (most recent call last):\n",
      "  File \"/home/diegol/anaconda3/envs/new_actual/lib/python3.10/asyncio/base_events.py\", line 687, in __del__\n",
      "    self.close()\n",
      "  File \"/home/diegol/anaconda3/envs/new_actual/lib/python3.10/asyncio/unix_events.py\", line 71, in close\n",
      "    self.remove_signal_handler(sig)\n",
      "  File \"/home/diegol/anaconda3/envs/new_actual/lib/python3.10/asyncio/unix_events.py\", line 160, in remove_signal_handler\n",
      "    signal.signal(sig, handler)\n",
      "  File \"/home/diegol/anaconda3/envs/new_actual/lib/python3.10/signal.py\", line 56, in signal\n",
      "    handler = _signal.signal(_enum_to_int(signalnum), _enum_to_int(handler))\n",
      "ValueError: signal only works in main thread of the main interpreter\n",
      "Exception ignored in: <function BaseEventLoop.__del__ at 0x7f25773fa170>\n",
      "Traceback (most recent call last):\n",
      "  File \"/home/diegol/anaconda3/envs/new_actual/lib/python3.10/asyncio/base_events.py\", line 687, in __del__\n",
      "    self.close()\n",
      "  File \"/home/diegol/anaconda3/envs/new_actual/lib/python3.10/asyncio/unix_events.py\", line 71, in close\n",
      "    self.remove_signal_handler(sig)\n",
      "  File \"/home/diegol/anaconda3/envs/new_actual/lib/python3.10/asyncio/unix_events.py\", line 160, in remove_signal_handler\n",
      "    signal.signal(sig, handler)\n",
      "  File \"/home/diegol/anaconda3/envs/new_actual/lib/python3.10/signal.py\", line 56, in signal\n",
      "    handler = _signal.signal(_enum_to_int(signalnum), _enum_to_int(handler))\n",
      "ValueError: signal only works in main thread of the main interpreter\n",
      "Exception ignored in: <function BaseEventLoop.__del__ at 0x7f25773fa170>\n",
      "Traceback (most recent call last):\n",
      "  File \"/home/diegol/anaconda3/envs/new_actual/lib/python3.10/asyncio/base_events.py\", line 687, in __del__\n",
      "    self.close()\n",
      "  File \"/home/diegol/anaconda3/envs/new_actual/lib/python3.10/asyncio/unix_events.py\", line 71, in close\n",
      "    self.remove_signal_handler(sig)\n",
      "  File \"/home/diegol/anaconda3/envs/new_actual/lib/python3.10/asyncio/unix_events.py\", line 160, in remove_signal_handler\n",
      "    signal.signal(sig, handler)\n",
      "  File \"/home/diegol/anaconda3/envs/new_actual/lib/python3.10/signal.py\", line 56, in signal\n",
      "    handler = _signal.signal(_enum_to_int(signalnum), _enum_to_int(handler))\n",
      "ValueError: signal only works in main thread of the main interpreter\n",
      "Exception ignored in: <function BaseEventLoop.__del__ at 0x7f25773fa170>\n",
      "Traceback (most recent call last):\n",
      "  File \"/home/diegol/anaconda3/envs/new_actual/lib/python3.10/asyncio/base_events.py\", line 687, in __del__\n",
      "    self.close()\n",
      "  File \"/home/diegol/anaconda3/envs/new_actual/lib/python3.10/asyncio/unix_events.py\", line 71, in close\n",
      "    self.remove_signal_handler(sig)\n",
      "  File \"/home/diegol/anaconda3/envs/new_actual/lib/python3.10/asyncio/unix_events.py\", line 160, in remove_signal_handler\n",
      "    signal.signal(sig, handler)\n",
      "  File \"/home/diegol/anaconda3/envs/new_actual/lib/python3.10/signal.py\", line 56, in signal\n",
      "    handler = _signal.signal(_enum_to_int(signalnum), _enum_to_int(handler))\n",
      "ValueError: signal only works in main thread of the main interpreter\n",
      "Exception ignored in: <function BaseEventLoop.__del__ at 0x7f25773fa170>\n",
      "Traceback (most recent call last):\n",
      "  File \"/home/diegol/anaconda3/envs/new_actual/lib/python3.10/asyncio/base_events.py\", line 687, in __del__\n",
      "    self.close()\n",
      "  File \"/home/diegol/anaconda3/envs/new_actual/lib/python3.10/asyncio/unix_events.py\", line 71, in close\n",
      "    self.remove_signal_handler(sig)\n",
      "  File \"/home/diegol/anaconda3/envs/new_actual/lib/python3.10/asyncio/unix_events.py\", line 160, in remove_signal_handler\n",
      "    signal.signal(sig, handler)\n",
      "  File \"/home/diegol/anaconda3/envs/new_actual/lib/python3.10/signal.py\", line 56, in signal\n",
      "    handler = _signal.signal(_enum_to_int(signalnum), _enum_to_int(handler))\n",
      "ValueError: signal only works in main thread of the main interpreter\n"
     ]
    },
    {
     "data": {
      "application/vnd.jupyter.widget-view+json": {
       "model_id": "fd488686bb8441b39b81ea47d31927a1",
       "version_major": 2,
       "version_minor": 0
      },
      "text/plain": [
       "Files Downloaded:   0%|          | 0/1 [00:00<?, ?file/s]"
      ]
     },
     "metadata": {},
     "output_type": "display_data"
    },
    {
     "data": {
      "application/vnd.jupyter.widget-view+json": {
       "model_id": "9c4bec28921d4bdd86d7c34388b26d04",
       "version_major": 2,
       "version_minor": 0
      },
      "text/plain": [
       "20130528_015030_n4eub.fts:   0%|          | 0.00/8.41M [00:00<?, ?B/s]"
      ]
     },
     "metadata": {},
     "output_type": "display_data"
    },
    {
     "name": "stdout",
     "output_type": "stream",
     "text": [
      "Downloaded: /media/gehme/gehme/data/stereo/secchi/L0/b/img/euvi/20130528/195/20130528_015030_n4euB.fts\n"
     ]
    },
    {
     "data": {
      "application/vnd.jupyter.widget-view+json": {
       "model_id": "9a7b8e945dec44ac82dd95d250018d02",
       "version_major": 2,
       "version_minor": 0
      },
      "text/plain": [
       "Files Downloaded:   0%|          | 0/1 [00:00<?, ?file/s]"
      ]
     },
     "metadata": {},
     "output_type": "display_data"
    },
    {
     "data": {
      "application/vnd.jupyter.widget-view+json": {
       "model_id": "2d6c19fa70d3446eb45f95a9c18f0b59",
       "version_major": 2,
       "version_minor": 0
      },
      "text/plain": [
       "20130528_021530_n4eub.fts:   0%|          | 0.00/8.41M [00:00<?, ?B/s]"
      ]
     },
     "metadata": {},
     "output_type": "display_data"
    },
    {
     "name": "stdout",
     "output_type": "stream",
     "text": [
      "Downloaded: /media/gehme/gehme/data/stereo/secchi/L0/b/img/euvi/20130528/195/20130528_021530_n4euB.fts\n"
     ]
    },
    {
     "data": {
      "application/vnd.jupyter.widget-view+json": {
       "model_id": "b6619056c1154220a9b95955d4cc7680",
       "version_major": 2,
       "version_minor": 0
      },
      "text/plain": [
       "Files Downloaded:   0%|          | 0/1 [00:00<?, ?file/s]"
      ]
     },
     "metadata": {},
     "output_type": "display_data"
    },
    {
     "data": {
      "application/vnd.jupyter.widget-view+json": {
       "model_id": "dd14cb3e7c0947ed99dc2f248a27a331",
       "version_major": 2,
       "version_minor": 0
      },
      "text/plain": [
       "20130528_022530_n4eub.fts:   0%|          | 0.00/8.41M [00:00<?, ?B/s]"
      ]
     },
     "metadata": {},
     "output_type": "display_data"
    },
    {
     "name": "stdout",
     "output_type": "stream",
     "text": [
      "Downloaded: /media/gehme/gehme/data/stereo/secchi/L0/b/img/euvi/20130528/195/20130528_022530_n4euB.fts\n"
     ]
    },
    {
     "data": {
      "application/vnd.jupyter.widget-view+json": {
       "model_id": "ae88de7025094da7ab77b73b89d62d98",
       "version_major": 2,
       "version_minor": 0
      },
      "text/plain": [
       "Files Downloaded:   0%|          | 0/1 [00:00<?, ?file/s]"
      ]
     },
     "metadata": {},
     "output_type": "display_data"
    },
    {
     "data": {
      "application/vnd.jupyter.widget-view+json": {
       "model_id": "d52c103434d044a083baba7eb2064ce0",
       "version_major": 2,
       "version_minor": 0
      },
      "text/plain": [
       "20130528_023530_n4eub.fts:   0%|          | 0.00/8.41M [00:00<?, ?B/s]"
      ]
     },
     "metadata": {},
     "output_type": "display_data"
    },
    {
     "name": "stdout",
     "output_type": "stream",
     "text": [
      "Downloaded: /media/gehme/gehme/data/stereo/secchi/L0/b/img/euvi/20130528/195/20130528_023530_n4euB.fts\n"
     ]
    },
    {
     "data": {
      "application/vnd.jupyter.widget-view+json": {
       "model_id": "e12d5f5c999c4ffab1688a095ee13e3e",
       "version_major": 2,
       "version_minor": 0
      },
      "text/plain": [
       "Files Downloaded:   0%|          | 0/1 [00:00<?, ?file/s]"
      ]
     },
     "metadata": {},
     "output_type": "display_data"
    },
    {
     "data": {
      "application/vnd.jupyter.widget-view+json": {
       "model_id": "b1b751ecdc5547f39eaeb740e1904198",
       "version_major": 2,
       "version_minor": 0
      },
      "text/plain": [
       "20130528_024530_n4eub.fts:   0%|          | 0.00/8.41M [00:00<?, ?B/s]"
      ]
     },
     "metadata": {},
     "output_type": "display_data"
    },
    {
     "name": "stdout",
     "output_type": "stream",
     "text": [
      "Downloaded: /media/gehme/gehme/data/stereo/secchi/L0/b/img/euvi/20130528/195/20130528_024530_n4euB.fts\n"
     ]
    },
    {
     "data": {
      "application/vnd.jupyter.widget-view+json": {
       "model_id": "b5f776cdef4049a799d8586a069ae758",
       "version_major": 2,
       "version_minor": 0
      },
      "text/plain": [
       "Files Downloaded:   0%|          | 0/1 [00:00<?, ?file/s]"
      ]
     },
     "metadata": {},
     "output_type": "display_data"
    },
    {
     "data": {
      "application/vnd.jupyter.widget-view+json": {
       "model_id": "baa70d58e58b43c4bc77c7a4defea99b",
       "version_major": 2,
       "version_minor": 0
      },
      "text/plain": [
       "20130528_031030_n4eub.fts:   0%|          | 0.00/8.41M [00:00<?, ?B/s]"
      ]
     },
     "metadata": {},
     "output_type": "display_data"
    },
    {
     "name": "stdout",
     "output_type": "stream",
     "text": [
      "Downloaded: /media/gehme/gehme/data/stereo/secchi/L0/b/img/euvi/20130528/195/20130528_031030_n4euB.fts\n"
     ]
    },
    {
     "data": {
      "application/vnd.jupyter.widget-view+json": {
       "model_id": "0419456fd53648fc86fec3888eece3ba",
       "version_major": 2,
       "version_minor": 0
      },
      "text/plain": [
       "Files Downloaded:   0%|          | 0/1 [00:00<?, ?file/s]"
      ]
     },
     "metadata": {},
     "output_type": "display_data"
    },
    {
     "data": {
      "application/vnd.jupyter.widget-view+json": {
       "model_id": "a66142adc49540db832aedce16a5ede3",
       "version_major": 2,
       "version_minor": 0
      },
      "text/plain": [
       "20130528_032030_n4eub.fts:   0%|          | 0.00/8.41M [00:00<?, ?B/s]"
      ]
     },
     "metadata": {},
     "output_type": "display_data"
    },
    {
     "name": "stdout",
     "output_type": "stream",
     "text": [
      "Downloaded: /media/gehme/gehme/data/stereo/secchi/L0/b/img/euvi/20130528/195/20130528_032030_n4euB.fts\n"
     ]
    },
    {
     "data": {
      "application/vnd.jupyter.widget-view+json": {
       "model_id": "dfc71a3a3cda423794f0f53fe83f355e",
       "version_major": 2,
       "version_minor": 0
      },
      "text/plain": [
       "Files Downloaded:   0%|          | 0/1 [00:00<?, ?file/s]"
      ]
     },
     "metadata": {},
     "output_type": "display_data"
    },
    {
     "data": {
      "application/vnd.jupyter.widget-view+json": {
       "model_id": "a46a0b8446464186bbadec4c7868c480",
       "version_major": 2,
       "version_minor": 0
      },
      "text/plain": [
       "20130528_033030_n4eub.fts:   0%|          | 0.00/8.41M [00:00<?, ?B/s]"
      ]
     },
     "metadata": {},
     "output_type": "display_data"
    },
    {
     "name": "stdout",
     "output_type": "stream",
     "text": [
      "Downloaded: /media/gehme/gehme/data/stereo/secchi/L0/b/img/euvi/20130528/195/20130528_033030_n4euB.fts\n"
     ]
    },
    {
     "name": "stderr",
     "output_type": "stream",
     "text": [
      "Exception ignored in: <function BaseEventLoop.__del__ at 0x7f25773fa170>\n",
      "Traceback (most recent call last):\n",
      "  File \"/home/diegol/anaconda3/envs/new_actual/lib/python3.10/asyncio/base_events.py\", line 687, in __del__\n",
      "    self.close()\n",
      "  File \"/home/diegol/anaconda3/envs/new_actual/lib/python3.10/asyncio/unix_events.py\", line 71, in close\n",
      "    self.remove_signal_handler(sig)\n",
      "  File \"/home/diegol/anaconda3/envs/new_actual/lib/python3.10/asyncio/unix_events.py\", line 160, in remove_signal_handler\n",
      "    signal.signal(sig, handler)\n",
      "  File \"/home/diegol/anaconda3/envs/new_actual/lib/python3.10/signal.py\", line 56, in signal\n",
      "    handler = _signal.signal(_enum_to_int(signalnum), _enum_to_int(handler))\n",
      "ValueError: signal only works in main thread of the main interpreter\n",
      "Exception ignored in: <function BaseEventLoop.__del__ at 0x7f25773fa170>\n",
      "Traceback (most recent call last):\n",
      "  File \"/home/diegol/anaconda3/envs/new_actual/lib/python3.10/asyncio/base_events.py\", line 687, in __del__\n",
      "    self.close()\n",
      "  File \"/home/diegol/anaconda3/envs/new_actual/lib/python3.10/asyncio/unix_events.py\", line 71, in close\n",
      "    self.remove_signal_handler(sig)\n",
      "  File \"/home/diegol/anaconda3/envs/new_actual/lib/python3.10/asyncio/unix_events.py\", line 160, in remove_signal_handler\n",
      "    signal.signal(sig, handler)\n",
      "  File \"/home/diegol/anaconda3/envs/new_actual/lib/python3.10/signal.py\", line 56, in signal\n",
      "    handler = _signal.signal(_enum_to_int(signalnum), _enum_to_int(handler))\n",
      "ValueError: signal only works in main thread of the main interpreter\n",
      "Exception ignored in: <function BaseEventLoop.__del__ at 0x7f25773fa170>\n",
      "Traceback (most recent call last):\n",
      "  File \"/home/diegol/anaconda3/envs/new_actual/lib/python3.10/asyncio/base_events.py\", line 687, in __del__\n",
      "    self.close()\n",
      "  File \"/home/diegol/anaconda3/envs/new_actual/lib/python3.10/asyncio/unix_events.py\", line 71, in close\n",
      "    self.remove_signal_handler(sig)\n",
      "  File \"/home/diegol/anaconda3/envs/new_actual/lib/python3.10/asyncio/unix_events.py\", line 160, in remove_signal_handler\n",
      "    signal.signal(sig, handler)\n",
      "  File \"/home/diegol/anaconda3/envs/new_actual/lib/python3.10/signal.py\", line 56, in signal\n",
      "    handler = _signal.signal(_enum_to_int(signalnum), _enum_to_int(handler))\n",
      "ValueError: signal only works in main thread of the main interpreter\n",
      "Exception ignored in: <function BaseEventLoop.__del__ at 0x7f25773fa170>\n",
      "Traceback (most recent call last):\n",
      "  File \"/home/diegol/anaconda3/envs/new_actual/lib/python3.10/asyncio/base_events.py\", line 687, in __del__\n",
      "    self.close()\n",
      "  File \"/home/diegol/anaconda3/envs/new_actual/lib/python3.10/asyncio/unix_events.py\", line 71, in close\n",
      "    self.remove_signal_handler(sig)\n",
      "  File \"/home/diegol/anaconda3/envs/new_actual/lib/python3.10/asyncio/unix_events.py\", line 160, in remove_signal_handler\n",
      "    signal.signal(sig, handler)\n",
      "  File \"/home/diegol/anaconda3/envs/new_actual/lib/python3.10/signal.py\", line 56, in signal\n",
      "    handler = _signal.signal(_enum_to_int(signalnum), _enum_to_int(handler))\n",
      "ValueError: signal only works in main thread of the main interpreter\n",
      "Exception ignored in: <function BaseEventLoop.__del__ at 0x7f25773fa170>\n",
      "Traceback (most recent call last):\n",
      "  File \"/home/diegol/anaconda3/envs/new_actual/lib/python3.10/asyncio/base_events.py\", line 687, in __del__\n",
      "    self.close()\n",
      "  File \"/home/diegol/anaconda3/envs/new_actual/lib/python3.10/asyncio/unix_events.py\", line 71, in close\n",
      "    self.remove_signal_handler(sig)\n",
      "  File \"/home/diegol/anaconda3/envs/new_actual/lib/python3.10/asyncio/unix_events.py\", line 160, in remove_signal_handler\n",
      "    signal.signal(sig, handler)\n",
      "  File \"/home/diegol/anaconda3/envs/new_actual/lib/python3.10/signal.py\", line 56, in signal\n",
      "    handler = _signal.signal(_enum_to_int(signalnum), _enum_to_int(handler))\n",
      "ValueError: signal only works in main thread of the main interpreter\n",
      "Exception ignored in: <function BaseEventLoop.__del__ at 0x7f25773fa170>\n",
      "Traceback (most recent call last):\n",
      "  File \"/home/diegol/anaconda3/envs/new_actual/lib/python3.10/asyncio/base_events.py\", line 687, in __del__\n",
      "    self.close()\n",
      "  File \"/home/diegol/anaconda3/envs/new_actual/lib/python3.10/asyncio/unix_events.py\", line 71, in close\n",
      "    self.remove_signal_handler(sig)\n",
      "  File \"/home/diegol/anaconda3/envs/new_actual/lib/python3.10/asyncio/unix_events.py\", line 160, in remove_signal_handler\n",
      "    signal.signal(sig, handler)\n",
      "  File \"/home/diegol/anaconda3/envs/new_actual/lib/python3.10/signal.py\", line 56, in signal\n",
      "    handler = _signal.signal(_enum_to_int(signalnum), _enum_to_int(handler))\n",
      "ValueError: signal only works in main thread of the main interpreter\n",
      "Exception ignored in: <function BaseEventLoop.__del__ at 0x7f25773fa170>\n",
      "Traceback (most recent call last):\n",
      "  File \"/home/diegol/anaconda3/envs/new_actual/lib/python3.10/asyncio/base_events.py\", line 687, in __del__\n",
      "    self.close()\n",
      "  File \"/home/diegol/anaconda3/envs/new_actual/lib/python3.10/asyncio/unix_events.py\", line 71, in close\n",
      "    self.remove_signal_handler(sig)\n",
      "  File \"/home/diegol/anaconda3/envs/new_actual/lib/python3.10/asyncio/unix_events.py\", line 160, in remove_signal_handler\n",
      "    signal.signal(sig, handler)\n",
      "  File \"/home/diegol/anaconda3/envs/new_actual/lib/python3.10/signal.py\", line 56, in signal\n",
      "    handler = _signal.signal(_enum_to_int(signalnum), _enum_to_int(handler))\n",
      "ValueError: signal only works in main thread of the main interpreter\n"
     ]
    },
    {
     "data": {
      "application/vnd.jupyter.widget-view+json": {
       "model_id": "a41218a0d2544b68bf22489b49d9d6b6",
       "version_major": 2,
       "version_minor": 0
      },
      "text/plain": [
       "Files Downloaded:   0%|          | 0/1 [00:00<?, ?file/s]"
      ]
     },
     "metadata": {},
     "output_type": "display_data"
    },
    {
     "data": {
      "application/vnd.jupyter.widget-view+json": {
       "model_id": "4c46686b796a4ec3819671455e44f44b",
       "version_major": 2,
       "version_minor": 0
      },
      "text/plain": [
       "20130528_034030_n4eub.fts:   0%|          | 0.00/8.41M [00:00<?, ?B/s]"
      ]
     },
     "metadata": {},
     "output_type": "display_data"
    },
    {
     "name": "stdout",
     "output_type": "stream",
     "text": [
      "Downloaded: /media/gehme/gehme/data/stereo/secchi/L0/b/img/euvi/20130528/195/20130528_034030_n4euB.fts\n"
     ]
    },
    {
     "data": {
      "application/vnd.jupyter.widget-view+json": {
       "model_id": "aa8afbf4ceeb4940a5dd010472f44e70",
       "version_major": 2,
       "version_minor": 0
      },
      "text/plain": [
       "Files Downloaded:   0%|          | 0/1 [00:00<?, ?file/s]"
      ]
     },
     "metadata": {},
     "output_type": "display_data"
    },
    {
     "data": {
      "application/vnd.jupyter.widget-view+json": {
       "model_id": "94df281f43604d2bb6a7ea91c0ac69b3",
       "version_major": 2,
       "version_minor": 0
      },
      "text/plain": [
       "20130528_040530_n4eub.fts:   0%|          | 0.00/8.41M [00:00<?, ?B/s]"
      ]
     },
     "metadata": {},
     "output_type": "display_data"
    },
    {
     "name": "stdout",
     "output_type": "stream",
     "text": [
      "Downloaded: /media/gehme/gehme/data/stereo/secchi/L0/b/img/euvi/20130528/195/20130528_040530_n4euB.fts\n"
     ]
    },
    {
     "data": {
      "application/vnd.jupyter.widget-view+json": {
       "model_id": "0fe5b01acab04108aff40b5876f92412",
       "version_major": 2,
       "version_minor": 0
      },
      "text/plain": [
       "Files Downloaded:   0%|          | 0/1 [00:00<?, ?file/s]"
      ]
     },
     "metadata": {},
     "output_type": "display_data"
    },
    {
     "data": {
      "application/vnd.jupyter.widget-view+json": {
       "model_id": "b853d1e7bc864e638c109c4e0d2c726a",
       "version_major": 2,
       "version_minor": 0
      },
      "text/plain": [
       "20130528_041530_n4eub.fts:   0%|          | 0.00/8.41M [00:00<?, ?B/s]"
      ]
     },
     "metadata": {},
     "output_type": "display_data"
    },
    {
     "name": "stdout",
     "output_type": "stream",
     "text": [
      "Downloaded: /media/gehme/gehme/data/stereo/secchi/L0/b/img/euvi/20130528/195/20130528_041530_n4euB.fts\n"
     ]
    },
    {
     "data": {
      "application/vnd.jupyter.widget-view+json": {
       "model_id": "a077be1f39ec4534b614418d6fb1b348",
       "version_major": 2,
       "version_minor": 0
      },
      "text/plain": [
       "Files Downloaded:   0%|          | 0/1 [00:00<?, ?file/s]"
      ]
     },
     "metadata": {},
     "output_type": "display_data"
    },
    {
     "data": {
      "application/vnd.jupyter.widget-view+json": {
       "model_id": "dd6d5d7ac6974f55821c5b0a84c98c46",
       "version_major": 2,
       "version_minor": 0
      },
      "text/plain": [
       "20130528_042530_n4eub.fts:   0%|          | 0.00/8.41M [00:00<?, ?B/s]"
      ]
     },
     "metadata": {},
     "output_type": "display_data"
    },
    {
     "name": "stdout",
     "output_type": "stream",
     "text": [
      "Downloaded: /media/gehme/gehme/data/stereo/secchi/L0/b/img/euvi/20130528/195/20130528_042530_n4euB.fts\n"
     ]
    },
    {
     "data": {
      "application/vnd.jupyter.widget-view+json": {
       "model_id": "e46d0ed570794d2680df9f290e8fd046",
       "version_major": 2,
       "version_minor": 0
      },
      "text/plain": [
       "Files Downloaded:   0%|          | 0/1 [00:00<?, ?file/s]"
      ]
     },
     "metadata": {},
     "output_type": "display_data"
    },
    {
     "data": {
      "application/vnd.jupyter.widget-view+json": {
       "model_id": "4ede5b39b2b343ee8df8185a83bdbd48",
       "version_major": 2,
       "version_minor": 0
      },
      "text/plain": [
       "20130528_043530_n4eub.fts:   0%|          | 0.00/8.41M [00:00<?, ?B/s]"
      ]
     },
     "metadata": {},
     "output_type": "display_data"
    },
    {
     "name": "stdout",
     "output_type": "stream",
     "text": [
      "Downloaded: /media/gehme/gehme/data/stereo/secchi/L0/b/img/euvi/20130528/195/20130528_043530_n4euB.fts\n"
     ]
    },
    {
     "data": {
      "application/vnd.jupyter.widget-view+json": {
       "model_id": "3985e8732024457697d60017798af8fc",
       "version_major": 2,
       "version_minor": 0
      },
      "text/plain": [
       "Files Downloaded:   0%|          | 0/1 [00:00<?, ?file/s]"
      ]
     },
     "metadata": {},
     "output_type": "display_data"
    },
    {
     "data": {
      "application/vnd.jupyter.widget-view+json": {
       "model_id": "29d3bebff1e2400290c2435b51116244",
       "version_major": 2,
       "version_minor": 0
      },
      "text/plain": [
       "20130528_050030_n4eub.fts:   0%|          | 0.00/8.41M [00:00<?, ?B/s]"
      ]
     },
     "metadata": {},
     "output_type": "display_data"
    },
    {
     "name": "stdout",
     "output_type": "stream",
     "text": [
      "Downloaded: /media/gehme/gehme/data/stereo/secchi/L0/b/img/euvi/20130528/195/20130528_050030_n4euB.fts\n"
     ]
    },
    {
     "data": {
      "application/vnd.jupyter.widget-view+json": {
       "model_id": "69e1d36f530345d7ac5b306fcbe007e2",
       "version_major": 2,
       "version_minor": 0
      },
      "text/plain": [
       "Files Downloaded:   0%|          | 0/1 [00:00<?, ?file/s]"
      ]
     },
     "metadata": {},
     "output_type": "display_data"
    },
    {
     "data": {
      "application/vnd.jupyter.widget-view+json": {
       "model_id": "deb2a29f3e5b496f93ad8243a8a6b353",
       "version_major": 2,
       "version_minor": 0
      },
      "text/plain": [
       "20130528_051030_n4eub.fts:   0%|          | 0.00/8.41M [00:00<?, ?B/s]"
      ]
     },
     "metadata": {},
     "output_type": "display_data"
    },
    {
     "name": "stdout",
     "output_type": "stream",
     "text": [
      "Downloaded: /media/gehme/gehme/data/stereo/secchi/L0/b/img/euvi/20130528/195/20130528_051030_n4euB.fts\n"
     ]
    },
    {
     "data": {
      "application/vnd.jupyter.widget-view+json": {
       "model_id": "d67ac8e41a5b488ea8dd9c4c190834e8",
       "version_major": 2,
       "version_minor": 0
      },
      "text/plain": [
       "Files Downloaded:   0%|          | 0/1 [00:00<?, ?file/s]"
      ]
     },
     "metadata": {},
     "output_type": "display_data"
    },
    {
     "data": {
      "application/vnd.jupyter.widget-view+json": {
       "model_id": "9154c24443e54006b44dd9596076b77c",
       "version_major": 2,
       "version_minor": 0
      },
      "text/plain": [
       "20130528_052030_n4eub.fts:   0%|          | 0.00/8.41M [00:00<?, ?B/s]"
      ]
     },
     "metadata": {},
     "output_type": "display_data"
    },
    {
     "name": "stdout",
     "output_type": "stream",
     "text": [
      "Downloaded: /media/gehme/gehme/data/stereo/secchi/L0/b/img/euvi/20130528/195/20130528_052030_n4euB.fts\n"
     ]
    },
    {
     "name": "stderr",
     "output_type": "stream",
     "text": [
      "Exception ignored in: <function BaseEventLoop.__del__ at 0x7f25773fa170>\n",
      "Traceback (most recent call last):\n",
      "  File \"/home/diegol/anaconda3/envs/new_actual/lib/python3.10/asyncio/base_events.py\", line 687, in __del__\n",
      "    self.close()\n",
      "  File \"/home/diegol/anaconda3/envs/new_actual/lib/python3.10/asyncio/unix_events.py\", line 71, in close\n",
      "    self.remove_signal_handler(sig)\n",
      "  File \"/home/diegol/anaconda3/envs/new_actual/lib/python3.10/asyncio/unix_events.py\", line 160, in remove_signal_handler\n",
      "    signal.signal(sig, handler)\n",
      "  File \"/home/diegol/anaconda3/envs/new_actual/lib/python3.10/signal.py\", line 56, in signal\n",
      "    handler = _signal.signal(_enum_to_int(signalnum), _enum_to_int(handler))\n",
      "ValueError: signal only works in main thread of the main interpreter\n",
      "Exception ignored in: <function BaseEventLoop.__del__ at 0x7f25773fa170>\n",
      "Traceback (most recent call last):\n",
      "  File \"/home/diegol/anaconda3/envs/new_actual/lib/python3.10/asyncio/base_events.py\", line 687, in __del__\n",
      "    self.close()\n",
      "  File \"/home/diegol/anaconda3/envs/new_actual/lib/python3.10/asyncio/unix_events.py\", line 71, in close\n",
      "    self.remove_signal_handler(sig)\n",
      "  File \"/home/diegol/anaconda3/envs/new_actual/lib/python3.10/asyncio/unix_events.py\", line 160, in remove_signal_handler\n",
      "    signal.signal(sig, handler)\n",
      "  File \"/home/diegol/anaconda3/envs/new_actual/lib/python3.10/signal.py\", line 56, in signal\n",
      "    handler = _signal.signal(_enum_to_int(signalnum), _enum_to_int(handler))\n",
      "ValueError: signal only works in main thread of the main interpreter\n",
      "Exception ignored in: <function BaseEventLoop.__del__ at 0x7f25773fa170>\n",
      "Traceback (most recent call last):\n",
      "  File \"/home/diegol/anaconda3/envs/new_actual/lib/python3.10/asyncio/base_events.py\", line 687, in __del__\n",
      "    self.close()\n",
      "  File \"/home/diegol/anaconda3/envs/new_actual/lib/python3.10/asyncio/unix_events.py\", line 71, in close\n",
      "    self.remove_signal_handler(sig)\n",
      "  File \"/home/diegol/anaconda3/envs/new_actual/lib/python3.10/asyncio/unix_events.py\", line 160, in remove_signal_handler\n",
      "    signal.signal(sig, handler)\n",
      "  File \"/home/diegol/anaconda3/envs/new_actual/lib/python3.10/signal.py\", line 56, in signal\n",
      "    handler = _signal.signal(_enum_to_int(signalnum), _enum_to_int(handler))\n",
      "ValueError: signal only works in main thread of the main interpreter\n",
      "Exception ignored in: <function BaseEventLoop.__del__ at 0x7f25773fa170>\n",
      "Traceback (most recent call last):\n",
      "  File \"/home/diegol/anaconda3/envs/new_actual/lib/python3.10/asyncio/base_events.py\", line 687, in __del__\n",
      "    self.close()\n",
      "  File \"/home/diegol/anaconda3/envs/new_actual/lib/python3.10/asyncio/unix_events.py\", line 71, in close\n",
      "    self.remove_signal_handler(sig)\n",
      "  File \"/home/diegol/anaconda3/envs/new_actual/lib/python3.10/asyncio/unix_events.py\", line 160, in remove_signal_handler\n",
      "    signal.signal(sig, handler)\n",
      "  File \"/home/diegol/anaconda3/envs/new_actual/lib/python3.10/signal.py\", line 56, in signal\n",
      "    handler = _signal.signal(_enum_to_int(signalnum), _enum_to_int(handler))\n",
      "ValueError: signal only works in main thread of the main interpreter\n",
      "Exception ignored in: <function BaseEventLoop.__del__ at 0x7f25773fa170>\n",
      "Traceback (most recent call last):\n",
      "  File \"/home/diegol/anaconda3/envs/new_actual/lib/python3.10/asyncio/base_events.py\", line 687, in __del__\n",
      "    self.close()\n",
      "  File \"/home/diegol/anaconda3/envs/new_actual/lib/python3.10/asyncio/unix_events.py\", line 71, in close\n",
      "    self.remove_signal_handler(sig)\n",
      "  File \"/home/diegol/anaconda3/envs/new_actual/lib/python3.10/asyncio/unix_events.py\", line 160, in remove_signal_handler\n",
      "    signal.signal(sig, handler)\n",
      "  File \"/home/diegol/anaconda3/envs/new_actual/lib/python3.10/signal.py\", line 56, in signal\n",
      "    handler = _signal.signal(_enum_to_int(signalnum), _enum_to_int(handler))\n",
      "ValueError: signal only works in main thread of the main interpreter\n",
      "Exception ignored in: <function BaseEventLoop.__del__ at 0x7f25773fa170>\n",
      "Traceback (most recent call last):\n",
      "  File \"/home/diegol/anaconda3/envs/new_actual/lib/python3.10/asyncio/base_events.py\", line 687, in __del__\n",
      "    self.close()\n",
      "  File \"/home/diegol/anaconda3/envs/new_actual/lib/python3.10/asyncio/unix_events.py\", line 71, in close\n",
      "    self.remove_signal_handler(sig)\n",
      "  File \"/home/diegol/anaconda3/envs/new_actual/lib/python3.10/asyncio/unix_events.py\", line 160, in remove_signal_handler\n",
      "    signal.signal(sig, handler)\n",
      "  File \"/home/diegol/anaconda3/envs/new_actual/lib/python3.10/signal.py\", line 56, in signal\n",
      "    handler = _signal.signal(_enum_to_int(signalnum), _enum_to_int(handler))\n",
      "ValueError: signal only works in main thread of the main interpreter\n",
      "Exception ignored in: <function BaseEventLoop.__del__ at 0x7f25773fa170>\n",
      "Traceback (most recent call last):\n",
      "  File \"/home/diegol/anaconda3/envs/new_actual/lib/python3.10/asyncio/base_events.py\", line 687, in __del__\n",
      "    self.close()\n",
      "  File \"/home/diegol/anaconda3/envs/new_actual/lib/python3.10/asyncio/unix_events.py\", line 71, in close\n",
      "    self.remove_signal_handler(sig)\n",
      "  File \"/home/diegol/anaconda3/envs/new_actual/lib/python3.10/asyncio/unix_events.py\", line 160, in remove_signal_handler\n",
      "    signal.signal(sig, handler)\n",
      "  File \"/home/diegol/anaconda3/envs/new_actual/lib/python3.10/signal.py\", line 56, in signal\n",
      "    handler = _signal.signal(_enum_to_int(signalnum), _enum_to_int(handler))\n",
      "ValueError: signal only works in main thread of the main interpreter\n"
     ]
    },
    {
     "data": {
      "application/vnd.jupyter.widget-view+json": {
       "model_id": "baa3dc96883b4fb3b88ab54ef2adb795",
       "version_major": 2,
       "version_minor": 0
      },
      "text/plain": [
       "Files Downloaded:   0%|          | 0/1 [00:00<?, ?file/s]"
      ]
     },
     "metadata": {},
     "output_type": "display_data"
    },
    {
     "data": {
      "application/vnd.jupyter.widget-view+json": {
       "model_id": "bbc79c1ab39b403d9f2301bd36630837",
       "version_major": 2,
       "version_minor": 0
      },
      "text/plain": [
       "20130528_053030_n4eub.fts:   0%|          | 0.00/8.41M [00:00<?, ?B/s]"
      ]
     },
     "metadata": {},
     "output_type": "display_data"
    },
    {
     "name": "stdout",
     "output_type": "stream",
     "text": [
      "Downloaded: /media/gehme/gehme/data/stereo/secchi/L0/b/img/euvi/20130528/195/20130528_053030_n4euB.fts\n"
     ]
    },
    {
     "data": {
      "application/vnd.jupyter.widget-view+json": {
       "model_id": "97bafac650f74c24a1a853f67bcac03d",
       "version_major": 2,
       "version_minor": 0
      },
      "text/plain": [
       "Files Downloaded:   0%|          | 0/1 [00:00<?, ?file/s]"
      ]
     },
     "metadata": {},
     "output_type": "display_data"
    },
    {
     "data": {
      "application/vnd.jupyter.widget-view+json": {
       "model_id": "28fa278e3c554b499b20422476089f59",
       "version_major": 2,
       "version_minor": 0
      },
      "text/plain": [
       "20130528_055530_n4eub.fts:   0%|          | 0.00/8.41M [00:00<?, ?B/s]"
      ]
     },
     "metadata": {},
     "output_type": "display_data"
    },
    {
     "name": "stdout",
     "output_type": "stream",
     "text": [
      "Downloaded: /media/gehme/gehme/data/stereo/secchi/L0/b/img/euvi/20130528/195/20130528_055530_n4euB.fts\n"
     ]
    },
    {
     "data": {
      "application/vnd.jupyter.widget-view+json": {
       "model_id": "9f3ba33fa6904dc880b69041964ab852",
       "version_major": 2,
       "version_minor": 0
      },
      "text/plain": [
       "Files Downloaded:   0%|          | 0/1 [00:00<?, ?file/s]"
      ]
     },
     "metadata": {},
     "output_type": "display_data"
    },
    {
     "data": {
      "application/vnd.jupyter.widget-view+json": {
       "model_id": "e3676bec0d8e4e1c8e4d7cd6654b177f",
       "version_major": 2,
       "version_minor": 0
      },
      "text/plain": [
       "20130528_060530_n4eub.fts:   0%|          | 0.00/8.41M [00:00<?, ?B/s]"
      ]
     },
     "metadata": {},
     "output_type": "display_data"
    },
    {
     "name": "stdout",
     "output_type": "stream",
     "text": [
      "Downloaded: /media/gehme/gehme/data/stereo/secchi/L0/b/img/euvi/20130528/195/20130528_060530_n4euB.fts\n"
     ]
    },
    {
     "data": {
      "application/vnd.jupyter.widget-view+json": {
       "model_id": "824673f28598462bb050147da7baa561",
       "version_major": 2,
       "version_minor": 0
      },
      "text/plain": [
       "Files Downloaded:   0%|          | 0/1 [00:00<?, ?file/s]"
      ]
     },
     "metadata": {},
     "output_type": "display_data"
    },
    {
     "data": {
      "application/vnd.jupyter.widget-view+json": {
       "model_id": "64766f3106dd46b581b62e30ce34dbbb",
       "version_major": 2,
       "version_minor": 0
      },
      "text/plain": [
       "20130528_061530_n4eub.fts:   0%|          | 0.00/8.41M [00:00<?, ?B/s]"
      ]
     },
     "metadata": {},
     "output_type": "display_data"
    },
    {
     "name": "stdout",
     "output_type": "stream",
     "text": [
      "Downloaded: /media/gehme/gehme/data/stereo/secchi/L0/b/img/euvi/20130528/195/20130528_061530_n4euB.fts\n"
     ]
    },
    {
     "data": {
      "application/vnd.jupyter.widget-view+json": {
       "model_id": "4437ff90a9094f31bf87f939df213a82",
       "version_major": 2,
       "version_minor": 0
      },
      "text/plain": [
       "Files Downloaded:   0%|          | 0/1 [00:00<?, ?file/s]"
      ]
     },
     "metadata": {},
     "output_type": "display_data"
    },
    {
     "data": {
      "application/vnd.jupyter.widget-view+json": {
       "model_id": "2ffb477e449344a3a9ff648ca7bc400b",
       "version_major": 2,
       "version_minor": 0
      },
      "text/plain": [
       "20130528_062530_n4eub.fts:   0%|          | 0.00/8.41M [00:00<?, ?B/s]"
      ]
     },
     "metadata": {},
     "output_type": "display_data"
    },
    {
     "name": "stdout",
     "output_type": "stream",
     "text": [
      "Downloaded: /media/gehme/gehme/data/stereo/secchi/L0/b/img/euvi/20130528/195/20130528_062530_n4euB.fts\n"
     ]
    },
    {
     "data": {
      "application/vnd.jupyter.widget-view+json": {
       "model_id": "285d88feee15434580c38b9bb611df59",
       "version_major": 2,
       "version_minor": 0
      },
      "text/plain": [
       "Files Downloaded:   0%|          | 0/1 [00:00<?, ?file/s]"
      ]
     },
     "metadata": {},
     "output_type": "display_data"
    },
    {
     "data": {
      "application/vnd.jupyter.widget-view+json": {
       "model_id": "5d2570d7f2a34400baf2b36989248558",
       "version_major": 2,
       "version_minor": 0
      },
      "text/plain": [
       "20130528_065030_n4eub.fts:   0%|          | 0.00/8.41M [00:00<?, ?B/s]"
      ]
     },
     "metadata": {},
     "output_type": "display_data"
    },
    {
     "name": "stdout",
     "output_type": "stream",
     "text": [
      "Downloaded: /media/gehme/gehme/data/stereo/secchi/L0/b/img/euvi/20130528/195/20130528_065030_n4euB.fts\n"
     ]
    },
    {
     "data": {
      "application/vnd.jupyter.widget-view+json": {
       "model_id": "f3be141d71f247a6a32ce8b5cda7e323",
       "version_major": 2,
       "version_minor": 0
      },
      "text/plain": [
       "Files Downloaded:   0%|          | 0/1 [00:00<?, ?file/s]"
      ]
     },
     "metadata": {},
     "output_type": "display_data"
    },
    {
     "data": {
      "application/vnd.jupyter.widget-view+json": {
       "model_id": "5ce42896381047db98b7c1e00871acbb",
       "version_major": 2,
       "version_minor": 0
      },
      "text/plain": [
       "20130528_070030_n4eub.fts:   0%|          | 0.00/8.41M [00:00<?, ?B/s]"
      ]
     },
     "metadata": {},
     "output_type": "display_data"
    },
    {
     "name": "stdout",
     "output_type": "stream",
     "text": [
      "Downloaded: /media/gehme/gehme/data/stereo/secchi/L0/b/img/euvi/20130528/195/20130528_070030_n4euB.fts\n"
     ]
    },
    {
     "data": {
      "application/vnd.jupyter.widget-view+json": {
       "model_id": "b62233e6d74e4f3b9e2ca4daafa970b6",
       "version_major": 2,
       "version_minor": 0
      },
      "text/plain": [
       "Files Downloaded:   0%|          | 0/1 [00:00<?, ?file/s]"
      ]
     },
     "metadata": {},
     "output_type": "display_data"
    },
    {
     "data": {
      "application/vnd.jupyter.widget-view+json": {
       "model_id": "e16fbf7d008a48b3ad3fee043970e3e5",
       "version_major": 2,
       "version_minor": 0
      },
      "text/plain": [
       "20130528_071030_n4eub.fts:   0%|          | 0.00/8.41M [00:00<?, ?B/s]"
      ]
     },
     "metadata": {},
     "output_type": "display_data"
    },
    {
     "name": "stdout",
     "output_type": "stream",
     "text": [
      "Downloaded: /media/gehme/gehme/data/stereo/secchi/L0/b/img/euvi/20130528/195/20130528_071030_n4euB.fts\n"
     ]
    },
    {
     "name": "stderr",
     "output_type": "stream",
     "text": [
      "Exception ignored in: <function BaseEventLoop.__del__ at 0x7f25773fa170>\n",
      "Traceback (most recent call last):\n",
      "  File \"/home/diegol/anaconda3/envs/new_actual/lib/python3.10/asyncio/base_events.py\", line 687, in __del__\n",
      "    self.close()\n",
      "  File \"/home/diegol/anaconda3/envs/new_actual/lib/python3.10/asyncio/unix_events.py\", line 71, in close\n",
      "    self.remove_signal_handler(sig)\n",
      "  File \"/home/diegol/anaconda3/envs/new_actual/lib/python3.10/asyncio/unix_events.py\", line 160, in remove_signal_handler\n",
      "    signal.signal(sig, handler)\n",
      "  File \"/home/diegol/anaconda3/envs/new_actual/lib/python3.10/signal.py\", line 56, in signal\n",
      "    handler = _signal.signal(_enum_to_int(signalnum), _enum_to_int(handler))\n",
      "ValueError: signal only works in main thread of the main interpreter\n",
      "Exception ignored in: <function BaseEventLoop.__del__ at 0x7f25773fa170>\n",
      "Traceback (most recent call last):\n",
      "  File \"/home/diegol/anaconda3/envs/new_actual/lib/python3.10/asyncio/base_events.py\", line 687, in __del__\n",
      "    self.close()\n",
      "  File \"/home/diegol/anaconda3/envs/new_actual/lib/python3.10/asyncio/unix_events.py\", line 71, in close\n",
      "    self.remove_signal_handler(sig)\n",
      "  File \"/home/diegol/anaconda3/envs/new_actual/lib/python3.10/asyncio/unix_events.py\", line 160, in remove_signal_handler\n",
      "    signal.signal(sig, handler)\n",
      "  File \"/home/diegol/anaconda3/envs/new_actual/lib/python3.10/signal.py\", line 56, in signal\n",
      "    handler = _signal.signal(_enum_to_int(signalnum), _enum_to_int(handler))\n",
      "ValueError: signal only works in main thread of the main interpreter\n",
      "Exception ignored in: <function BaseEventLoop.__del__ at 0x7f25773fa170>\n",
      "Traceback (most recent call last):\n",
      "  File \"/home/diegol/anaconda3/envs/new_actual/lib/python3.10/asyncio/base_events.py\", line 687, in __del__\n",
      "    self.close()\n",
      "  File \"/home/diegol/anaconda3/envs/new_actual/lib/python3.10/asyncio/unix_events.py\", line 71, in close\n",
      "    self.remove_signal_handler(sig)\n",
      "  File \"/home/diegol/anaconda3/envs/new_actual/lib/python3.10/asyncio/unix_events.py\", line 160, in remove_signal_handler\n",
      "    signal.signal(sig, handler)\n",
      "  File \"/home/diegol/anaconda3/envs/new_actual/lib/python3.10/signal.py\", line 56, in signal\n",
      "    handler = _signal.signal(_enum_to_int(signalnum), _enum_to_int(handler))\n",
      "ValueError: signal only works in main thread of the main interpreter\n",
      "Exception ignored in: <function BaseEventLoop.__del__ at 0x7f25773fa170>\n",
      "Traceback (most recent call last):\n",
      "  File \"/home/diegol/anaconda3/envs/new_actual/lib/python3.10/asyncio/base_events.py\", line 687, in __del__\n",
      "    self.close()\n",
      "  File \"/home/diegol/anaconda3/envs/new_actual/lib/python3.10/asyncio/unix_events.py\", line 71, in close\n",
      "    self.remove_signal_handler(sig)\n",
      "  File \"/home/diegol/anaconda3/envs/new_actual/lib/python3.10/asyncio/unix_events.py\", line 160, in remove_signal_handler\n",
      "    signal.signal(sig, handler)\n",
      "  File \"/home/diegol/anaconda3/envs/new_actual/lib/python3.10/signal.py\", line 56, in signal\n",
      "    handler = _signal.signal(_enum_to_int(signalnum), _enum_to_int(handler))\n",
      "ValueError: signal only works in main thread of the main interpreter\n",
      "Exception ignored in: <function BaseEventLoop.__del__ at 0x7f25773fa170>\n",
      "Traceback (most recent call last):\n",
      "  File \"/home/diegol/anaconda3/envs/new_actual/lib/python3.10/asyncio/base_events.py\", line 687, in __del__\n",
      "    self.close()\n",
      "  File \"/home/diegol/anaconda3/envs/new_actual/lib/python3.10/asyncio/unix_events.py\", line 71, in close\n",
      "    self.remove_signal_handler(sig)\n",
      "  File \"/home/diegol/anaconda3/envs/new_actual/lib/python3.10/asyncio/unix_events.py\", line 160, in remove_signal_handler\n",
      "    signal.signal(sig, handler)\n",
      "  File \"/home/diegol/anaconda3/envs/new_actual/lib/python3.10/signal.py\", line 56, in signal\n",
      "    handler = _signal.signal(_enum_to_int(signalnum), _enum_to_int(handler))\n",
      "ValueError: signal only works in main thread of the main interpreter\n",
      "Exception ignored in: <function BaseEventLoop.__del__ at 0x7f25773fa170>\n",
      "Traceback (most recent call last):\n",
      "  File \"/home/diegol/anaconda3/envs/new_actual/lib/python3.10/asyncio/base_events.py\", line 687, in __del__\n",
      "    self.close()\n",
      "  File \"/home/diegol/anaconda3/envs/new_actual/lib/python3.10/asyncio/unix_events.py\", line 71, in close\n",
      "    self.remove_signal_handler(sig)\n",
      "  File \"/home/diegol/anaconda3/envs/new_actual/lib/python3.10/asyncio/unix_events.py\", line 160, in remove_signal_handler\n",
      "    signal.signal(sig, handler)\n",
      "  File \"/home/diegol/anaconda3/envs/new_actual/lib/python3.10/signal.py\", line 56, in signal\n",
      "    handler = _signal.signal(_enum_to_int(signalnum), _enum_to_int(handler))\n",
      "ValueError: signal only works in main thread of the main interpreter\n",
      "Exception ignored in: <function BaseEventLoop.__del__ at 0x7f25773fa170>\n",
      "Traceback (most recent call last):\n",
      "  File \"/home/diegol/anaconda3/envs/new_actual/lib/python3.10/asyncio/base_events.py\", line 687, in __del__\n",
      "    self.close()\n",
      "  File \"/home/diegol/anaconda3/envs/new_actual/lib/python3.10/asyncio/unix_events.py\", line 71, in close\n",
      "    self.remove_signal_handler(sig)\n",
      "  File \"/home/diegol/anaconda3/envs/new_actual/lib/python3.10/asyncio/unix_events.py\", line 160, in remove_signal_handler\n",
      "    signal.signal(sig, handler)\n",
      "  File \"/home/diegol/anaconda3/envs/new_actual/lib/python3.10/signal.py\", line 56, in signal\n",
      "    handler = _signal.signal(_enum_to_int(signalnum), _enum_to_int(handler))\n",
      "ValueError: signal only works in main thread of the main interpreter\n"
     ]
    },
    {
     "data": {
      "application/vnd.jupyter.widget-view+json": {
       "model_id": "639fe7dfa862415d81ef9b661c98bd28",
       "version_major": 2,
       "version_minor": 0
      },
      "text/plain": [
       "Files Downloaded:   0%|          | 0/1 [00:00<?, ?file/s]"
      ]
     },
     "metadata": {},
     "output_type": "display_data"
    },
    {
     "data": {
      "application/vnd.jupyter.widget-view+json": {
       "model_id": "90bbaeff09674764a4decb7defd49dcd",
       "version_major": 2,
       "version_minor": 0
      },
      "text/plain": [
       "20130528_072030_n4eub.fts:   0%|          | 0.00/8.41M [00:00<?, ?B/s]"
      ]
     },
     "metadata": {},
     "output_type": "display_data"
    },
    {
     "name": "stdout",
     "output_type": "stream",
     "text": [
      "Downloaded: /media/gehme/gehme/data/stereo/secchi/L0/b/img/euvi/20130528/195/20130528_072030_n4euB.fts\n"
     ]
    },
    {
     "data": {
      "application/vnd.jupyter.widget-view+json": {
       "model_id": "9dfca9368def4e4db8e46a8962326a75",
       "version_major": 2,
       "version_minor": 0
      },
      "text/plain": [
       "Files Downloaded:   0%|          | 0/1 [00:00<?, ?file/s]"
      ]
     },
     "metadata": {},
     "output_type": "display_data"
    },
    {
     "data": {
      "application/vnd.jupyter.widget-view+json": {
       "model_id": "0257232e7dfd4d878a1d8aa596355b37",
       "version_major": 2,
       "version_minor": 0
      },
      "text/plain": [
       "20130528_074530_n4eub.fts:   0%|          | 0.00/8.41M [00:00<?, ?B/s]"
      ]
     },
     "metadata": {},
     "output_type": "display_data"
    },
    {
     "name": "stdout",
     "output_type": "stream",
     "text": [
      "Downloaded: /media/gehme/gehme/data/stereo/secchi/L0/b/img/euvi/20130528/195/20130528_074530_n4euB.fts\n"
     ]
    },
    {
     "data": {
      "application/vnd.jupyter.widget-view+json": {
       "model_id": "c6181764f4294e6dac590110344959e0",
       "version_major": 2,
       "version_minor": 0
      },
      "text/plain": [
       "Files Downloaded:   0%|          | 0/1 [00:00<?, ?file/s]"
      ]
     },
     "metadata": {},
     "output_type": "display_data"
    },
    {
     "data": {
      "application/vnd.jupyter.widget-view+json": {
       "model_id": "0defadcc3635444c89689708a6dfbf32",
       "version_major": 2,
       "version_minor": 0
      },
      "text/plain": [
       "20130528_075530_n4eub.fts:   0%|          | 0.00/8.41M [00:00<?, ?B/s]"
      ]
     },
     "metadata": {},
     "output_type": "display_data"
    },
    {
     "name": "stdout",
     "output_type": "stream",
     "text": [
      "Downloaded: /media/gehme/gehme/data/stereo/secchi/L0/b/img/euvi/20130528/195/20130528_075530_n4euB.fts\n"
     ]
    },
    {
     "data": {
      "application/vnd.jupyter.widget-view+json": {
       "model_id": "96f949b2b0cb4e63a1bc92681372d91a",
       "version_major": 2,
       "version_minor": 0
      },
      "text/plain": [
       "Files Downloaded:   0%|          | 0/1 [00:00<?, ?file/s]"
      ]
     },
     "metadata": {},
     "output_type": "display_data"
    },
    {
     "data": {
      "application/vnd.jupyter.widget-view+json": {
       "model_id": "e3f2ccc69e3b41b3bcf66ad867f18722",
       "version_major": 2,
       "version_minor": 0
      },
      "text/plain": [
       "20130528_080530_n4eub.fts:   0%|          | 0.00/8.41M [00:00<?, ?B/s]"
      ]
     },
     "metadata": {},
     "output_type": "display_data"
    },
    {
     "name": "stdout",
     "output_type": "stream",
     "text": [
      "Downloaded: /media/gehme/gehme/data/stereo/secchi/L0/b/img/euvi/20130528/195/20130528_080530_n4euB.fts\n"
     ]
    }
   ],
   "source": [
    "euvi_images.download()"
   ]
  }
 ],
 "metadata": {
  "kernelspec": {
   "display_name": "new_actual",
   "language": "python",
   "name": "python3"
  },
  "language_info": {
   "codemirror_mode": {
    "name": "ipython",
    "version": 3
   },
   "file_extension": ".py",
   "mimetype": "text/x-python",
   "name": "python",
   "nbconvert_exporter": "python",
   "pygments_lexer": "ipython3",
   "version": "3.10.6"
  }
 },
 "nbformat": 4,
 "nbformat_minor": 2
}
