{
 "cells": [
  {
   "cell_type": "code",
   "execution_count": 1,
   "metadata": {},
   "outputs": [],
   "source": [
    "from descargar_imagenes_clases import euvi_downloader\n",
    "import sunpy.map\n",
    "import sunpy.data.sample \n",
    "from descargar_imagenes_clases import initial_final_time\n",
    "import astropy.units as u\n",
    "from astropy.io import fits\n",
    "from sunpy.net import Fido, attrs as a\n",
    "from datetime import datetime, timedelta\n",
    "import os\n",
    "import matplotlib.pyplot as plt\n",
    "import pdb\n",
    "import numpy as np\n",
    "import requests\n",
    "import warnings\n",
    "warnings.filterwarnings(\"ignore\")"
   ]
  },
  {
   "cell_type": "code",
   "execution_count": 4,
   "metadata": {},
   "outputs": [],
   "source": [
    "t_ini='2010-12-14 14:50:00'\n",
    "t_fin='2010-12-14 15:15:00'\n",
    "ini,fin = initial_final_time(t_ini, t_fin, delta_t=1)\n"
   ]
  },
  {
   "cell_type": "code",
   "execution_count": 5,
   "metadata": {},
   "outputs": [
    {
     "data": {
      "image/png": "[encoded data removed]",
      "text/plain": [
       "<Figure size 1500x500 with 1 Axes>"
      ]
     },
     "metadata": {},
     "output_type": "display_data"
    }
   ],
   "source": [
    "euvi_images = euvi_downloader(start_time=ini,end_time=fin,nave='STEREO_A',cadence=5,wave=195,origin_download_path=True,band_folder=False)\n",
    "euvi_images.search()\n",
    "euvi_images.display()"
   ]
  },
  {
   "cell_type": "code",
   "execution_count": null,
   "metadata": {},
   "outputs": [],
   "source": [
    "euvi_images.download()"
   ]
  },
  {
   "cell_type": "code",
   "execution_count": null,
   "metadata": {},
   "outputs": [],
   "source": [
    "downloaded_files = Fido.fetch(euvi_images.search_euvi,progress=True)"
   ]
  },
  {
   "cell_type": "code",
   "execution_count": 7,
   "metadata": {},
   "outputs": [
    {
     "data": {
      "text/plain": [
       "<parfive.results.Results object at 0x7f4babf0e890>\n",
       "['/home/diegol/sunpy/data/20111214_100030_n4eua.fts', '/home/diegol/sunpy/data/20111214_100530_n4eua.fts', '/home/diegol/sunpy/data/20111214_101030_n4eua.fts', '/home/diegol/sunpy/data/20111214_101530_n4eua.fts', '/home/diegol/sunpy/data/20111214_102030_n4eua.fts', '/home/diegol/sunpy/data/20111214_102530_n4eua.fts', '/home/diegol/sunpy/data/20111214_103030_n4eua.fts', '/home/diegol/sunpy/data/20111214_103530_n4eua.fts', '/home/diegol/sunpy/data/20111214_104030_n4eua.fts', '/home/diegol/sunpy/data/20111214_104530_n4eua.fts', '/home/diegol/sunpy/data/20111214_105030_n4eua.fts', '/home/diegol/sunpy/data/20111214_105530_n4eua.fts', '/home/diegol/sunpy/data/20111214_110030_n4eua.fts']"
      ]
     },
     "execution_count": 7,
     "metadata": {},
     "output_type": "execute_result"
    }
   ],
   "source": [
    "downloaded_files"
   ]
  },
  {
   "cell_type": "code",
   "execution_count": 4,
   "metadata": {},
   "outputs": [
    {
     "data": {
      "text/html": [
       "&lt;QueryResponseColumn name=&apos;fileid&apos; dtype=&apos;str55&apos; length=110&gt;\n",
       "<table>\n",
       "<tr><td>secchi/L0/a/img/euvi/20101214/20101214_145030_n4euA.fts</td></tr>\n",
       "<tr><td>secchi/L0/a/img/euvi/20101214/20101214_145530_n4euA.fts</td></tr>\n",
       "<tr><td>secchi/L0/a/img/euvi/20101214/20101214_150030_n4euA.fts</td></tr>\n",
       "<tr><td>secchi/L0/a/img/euvi/20101214/20101214_150530_n4euA.fts</td></tr>\n",
       "<tr><td>secchi/L0/a/img/euvi/20101214/20101214_151030_n4euA.fts</td></tr>\n",
       "<tr><td>secchi/L0/a/img/euvi/20101214/20101214_151530_n4euA.fts</td></tr>\n",
       "<tr><td>secchi/L0/a/img/euvi/20101214/20101214_152030_n4euA.fts</td></tr>\n",
       "<tr><td>secchi/L0/a/img/euvi/20101214/20101214_152530_n4euA.fts</td></tr>\n",
       "<tr><td>secchi/L0/a/img/euvi/20101214/20101214_153030_n4euA.fts</td></tr>\n",
       "<tr><td>secchi/L0/a/img/euvi/20101214/20101214_153530_n4euA.fts</td></tr>\n",
       "<tr><td>secchi/L0/a/img/euvi/20101214/20101214_154030_n4euA.fts</td></tr>\n",
       "<tr><td>secchi/L0/a/img/euvi/20101214/20101214_154530_n4euA.fts</td></tr>\n",
       "<tr><td>...</td></tr>\n",
       "<tr><td>secchi/L0/a/img/euvi/20101214/20101214_230030_n4euA.fts</td></tr>\n",
       "<tr><td>secchi/L0/a/img/euvi/20101214/20101214_230530_n4euA.fts</td></tr>\n",
       "<tr><td>secchi/L0/a/img/euvi/20101214/20101214_231030_n4euA.fts</td></tr>\n",
       "<tr><td>secchi/L0/a/img/euvi/20101214/20101214_231530_n4euA.fts</td></tr>\n",
       "<tr><td>secchi/L0/a/img/euvi/20101214/20101214_232030_n4euA.fts</td></tr>\n",
       "<tr><td>secchi/L0/a/img/euvi/20101214/20101214_232530_n4euA.fts</td></tr>\n",
       "<tr><td>secchi/L0/a/img/euvi/20101214/20101214_233030_n4euA.fts</td></tr>\n",
       "<tr><td>secchi/L0/a/img/euvi/20101214/20101214_233530_n4euA.fts</td></tr>\n",
       "<tr><td>secchi/L0/a/img/euvi/20101214/20101214_234030_n4euA.fts</td></tr>\n",
       "<tr><td>secchi/L0/a/img/euvi/20101214/20101214_234530_n4euA.fts</td></tr>\n",
       "<tr><td>secchi/L0/a/img/euvi/20101214/20101214_235030_n4euA.fts</td></tr>\n",
       "<tr><td>secchi/L0/a/img/euvi/20101214/20101214_235530_n4euA.fts</td></tr>\n",
       "</table>"
      ],
      "text/plain": [
       "<QueryResponseColumn name='fileid' dtype='str55' length=110>\n",
       "secchi/L0/a/img/euvi/20101214/20101214_145030_n4euA.fts\n",
       "secchi/L0/a/img/euvi/20101214/20101214_145530_n4euA.fts\n",
       "secchi/L0/a/img/euvi/20101214/20101214_150030_n4euA.fts\n",
       "secchi/L0/a/img/euvi/20101214/20101214_150530_n4euA.fts\n",
       "secchi/L0/a/img/euvi/20101214/20101214_151030_n4euA.fts\n",
       "secchi/L0/a/img/euvi/20101214/20101214_151530_n4euA.fts\n",
       "secchi/L0/a/img/euvi/20101214/20101214_152030_n4euA.fts\n",
       "secchi/L0/a/img/euvi/20101214/20101214_152530_n4euA.fts\n",
       "secchi/L0/a/img/euvi/20101214/20101214_153030_n4euA.fts\n",
       "secchi/L0/a/img/euvi/20101214/20101214_153530_n4euA.fts\n",
       "secchi/L0/a/img/euvi/20101214/20101214_154030_n4euA.fts\n",
       "secchi/L0/a/img/euvi/20101214/20101214_154530_n4euA.fts\n",
       "                                                    ...\n",
       "secchi/L0/a/img/euvi/20101214/20101214_230030_n4euA.fts\n",
       "secchi/L0/a/img/euvi/20101214/20101214_230530_n4euA.fts\n",
       "secchi/L0/a/img/euvi/20101214/20101214_231030_n4euA.fts\n",
       "secchi/L0/a/img/euvi/20101214/20101214_231530_n4euA.fts\n",
       "secchi/L0/a/img/euvi/20101214/20101214_232030_n4euA.fts\n",
       "secchi/L0/a/img/euvi/20101214/20101214_232530_n4euA.fts\n",
       "secchi/L0/a/img/euvi/20101214/20101214_233030_n4euA.fts\n",
       "secchi/L0/a/img/euvi/20101214/20101214_233530_n4euA.fts\n",
       "secchi/L0/a/img/euvi/20101214/20101214_234030_n4euA.fts\n",
       "secchi/L0/a/img/euvi/20101214/20101214_234530_n4euA.fts\n",
       "secchi/L0/a/img/euvi/20101214/20101214_235030_n4euA.fts\n",
       "secchi/L0/a/img/euvi/20101214/20101214_235530_n4euA.fts"
      ]
     },
     "execution_count": 4,
     "metadata": {},
     "output_type": "execute_result"
    }
   ],
   "source": [
    "euvi_images.search_euvi['fileid']"
   ]
  },
  {
   "cell_type": "code",
   "execution_count": 10,
   "metadata": {},
   "outputs": [
    {
     "data": {
      "text/plain": [
       "'secchi/L0/a/img/euvi/20111214/'"
      ]
     },
     "execution_count": 10,
     "metadata": {},
     "output_type": "execute_result"
    }
   ],
   "source": [
    "euvi_images.search_euvi['fileid'][0].rsplit('/', 1)[0] + '/'"
   ]
  },
  {
   "cell_type": "code",
   "execution_count": 6,
   "metadata": {},
   "outputs": [
    {
     "data": {
      "text/html": [
       "&lt;QueryResponseColumn name=&apos;fileid&apos; dtype=&apos;str55&apos; length=140&gt;\n",
       "<table>\n",
       "<tr><td>secchi/L0/a/img/euvi/20111214/20111214_100030_n4euA.fts</td></tr>\n",
       "<tr><td>secchi/L0/a/img/euvi/20111214/20111214_100530_n4euA.fts</td></tr>\n",
       "<tr><td>secchi/L0/a/img/euvi/20111214/20111214_101030_n4euA.fts</td></tr>\n",
       "<tr><td>secchi/L0/a/img/euvi/20111214/20111214_101530_n4euA.fts</td></tr>\n",
       "<tr><td>secchi/L0/a/img/euvi/20111214/20111214_102030_n4euA.fts</td></tr>\n",
       "<tr><td>secchi/L0/a/img/euvi/20111214/20111214_102530_n4euA.fts</td></tr>\n",
       "<tr><td>secchi/L0/a/img/euvi/20111214/20111214_103030_n4euA.fts</td></tr>\n",
       "<tr><td>secchi/L0/a/img/euvi/20111214/20111214_103530_n4euA.fts</td></tr>\n",
       "<tr><td>secchi/L0/a/img/euvi/20111214/20111214_104030_n4euA.fts</td></tr>\n",
       "<tr><td>secchi/L0/a/img/euvi/20111214/20111214_104530_n4euA.fts</td></tr>\n",
       "<tr><td>secchi/L0/a/img/euvi/20111214/20111214_105030_n4euA.fts</td></tr>\n",
       "<tr><td>secchi/L0/a/img/euvi/20111214/20111214_105530_n4euA.fts</td></tr>\n",
       "<tr><td>...</td></tr>\n",
       "<tr><td>secchi/L0/a/img/euvi/20111214/20111214_210530_n4euA.fts</td></tr>\n",
       "<tr><td>secchi/L0/a/img/euvi/20111214/20111214_211030_n4euA.fts</td></tr>\n",
       "<tr><td>secchi/L0/a/img/euvi/20111214/20111214_211530_n4euA.fts</td></tr>\n",
       "<tr><td>secchi/L0/a/img/euvi/20111214/20111214_212030_n4euA.fts</td></tr>\n",
       "<tr><td>secchi/L0/a/img/euvi/20111214/20111214_212530_n4euA.fts</td></tr>\n",
       "<tr><td>secchi/L0/a/img/euvi/20111214/20111214_213030_n4euA.fts</td></tr>\n",
       "<tr><td>secchi/L0/a/img/euvi/20111214/20111214_213530_n4euA.fts</td></tr>\n",
       "<tr><td>secchi/L0/a/img/euvi/20111214/20111214_214030_n4euA.fts</td></tr>\n",
       "<tr><td>secchi/L0/a/img/euvi/20111214/20111214_214530_n4euA.fts</td></tr>\n",
       "<tr><td>secchi/L0/a/img/euvi/20111214/20111214_215030_n4euA.fts</td></tr>\n",
       "<tr><td>secchi/L0/a/img/euvi/20111214/20111214_215530_n4euA.fts</td></tr>\n",
       "<tr><td>secchi/L0/a/img/euvi/20111214/20111214_220030_n4euA.fts</td></tr>\n",
       "</table>"
      ],
      "text/plain": [
       "<QueryResponseColumn name='fileid' dtype='str55' length=140>\n",
       "secchi/L0/a/img/euvi/20111214/20111214_100030_n4euA.fts\n",
       "secchi/L0/a/img/euvi/20111214/20111214_100530_n4euA.fts\n",
       "secchi/L0/a/img/euvi/20111214/20111214_101030_n4euA.fts\n",
       "secchi/L0/a/img/euvi/20111214/20111214_101530_n4euA.fts\n",
       "secchi/L0/a/img/euvi/20111214/20111214_102030_n4euA.fts\n",
       "secchi/L0/a/img/euvi/20111214/20111214_102530_n4euA.fts\n",
       "secchi/L0/a/img/euvi/20111214/20111214_103030_n4euA.fts\n",
       "secchi/L0/a/img/euvi/20111214/20111214_103530_n4euA.fts\n",
       "secchi/L0/a/img/euvi/20111214/20111214_104030_n4euA.fts\n",
       "secchi/L0/a/img/euvi/20111214/20111214_104530_n4euA.fts\n",
       "secchi/L0/a/img/euvi/20111214/20111214_105030_n4euA.fts\n",
       "secchi/L0/a/img/euvi/20111214/20111214_105530_n4euA.fts\n",
       "                                                    ...\n",
       "secchi/L0/a/img/euvi/20111214/20111214_210530_n4euA.fts\n",
       "secchi/L0/a/img/euvi/20111214/20111214_211030_n4euA.fts\n",
       "secchi/L0/a/img/euvi/20111214/20111214_211530_n4euA.fts\n",
       "secchi/L0/a/img/euvi/20111214/20111214_212030_n4euA.fts\n",
       "secchi/L0/a/img/euvi/20111214/20111214_212530_n4euA.fts\n",
       "secchi/L0/a/img/euvi/20111214/20111214_213030_n4euA.fts\n",
       "secchi/L0/a/img/euvi/20111214/20111214_213530_n4euA.fts\n",
       "secchi/L0/a/img/euvi/20111214/20111214_214030_n4euA.fts\n",
       "secchi/L0/a/img/euvi/20111214/20111214_214530_n4euA.fts\n",
       "secchi/L0/a/img/euvi/20111214/20111214_215030_n4euA.fts\n",
       "secchi/L0/a/img/euvi/20111214/20111214_215530_n4euA.fts\n",
       "secchi/L0/a/img/euvi/20111214/20111214_220030_n4euA.fts"
      ]
     },
     "execution_count": 6,
     "metadata": {},
     "output_type": "execute_result"
    }
   ],
   "source": [
    "euvi_images.search_euvi['fileid']"
   ]
  },
  {
   "cell_type": "code",
   "execution_count": 5,
   "metadata": {},
   "outputs": [],
   "source": [
    "euvi_images.dir_descarga='/data_local/work/gcs/Imagenes/171/'"
   ]
  },
  {
   "cell_type": "code",
   "execution_count": null,
   "metadata": {},
   "outputs": [],
   "source": [
    "euvi_images.download()"
   ]
  },
  {
   "cell_type": "code",
   "execution_count": 40,
   "metadata": {},
   "outputs": [],
   "source": [
    "instrumento = a.Instrument.secchi\n",
    "detector = a.Detector.euvi\n",
    "\n",
    "wave_195 = a.Wavelength(171*u.angstrom)\n",
    "cadence = a.Sample(1*u.minute)\n",
    "t_ini='2011-03-10 10:00:00'\n",
    "t_fin='2011-03-20 20:00:00'\n",
    "ini,fin = initial_final_time(t_ini, t_fin, delta_t=1)\n",
    "\n",
    "search_euvi_195 = Fido.search(a.Time(ini,fin),instrumento,wave_195,cadence)\n"
   ]
  },
  {
   "cell_type": "code",
   "execution_count": 42,
   "metadata": {},
   "outputs": [
    {
     "data": {
      "text/html": [
       "&lt;QueryResponseColumn name=&apos;fileid&apos; dtype=&apos;str55&apos; length=1079&gt;\n",
       "<table>\n",
       "<tr><td>secchi/L0/a/img/euvi/20110310/20110310_101400_n4euA.fts</td></tr>\n",
       "<tr><td>secchi/L0/a/img/euvi/20110310/20110310_121400_n4euA.fts</td></tr>\n",
       "<tr><td>secchi/L0/a/img/euvi/20110310/20110310_141400_n4euA.fts</td></tr>\n",
       "<tr><td>secchi/L0/a/img/euvi/20110310/20110310_161400_n4euA.fts</td></tr>\n",
       "<tr><td>secchi/L0/a/img/euvi/20110310/20110310_181400_n4euA.fts</td></tr>\n",
       "<tr><td>secchi/L0/a/img/euvi/20110310/20110310_201400_n4euA.fts</td></tr>\n",
       "<tr><td>secchi/L0/a/img/euvi/20110311/20110311_001400_n4euA.fts</td></tr>\n",
       "<tr><td>secchi/L0/a/img/euvi/20110311/20110311_021400_n4euA.fts</td></tr>\n",
       "<tr><td>secchi/L0/a/img/euvi/20110311/20110311_041400_n4euA.fts</td></tr>\n",
       "<tr><td>secchi/L0/a/img/euvi/20110311/20110311_061400_n4euA.fts</td></tr>\n",
       "<tr><td>secchi/L0/a/img/euvi/20110311/20110311_081400_n4euA.fts</td></tr>\n",
       "<tr><td>secchi/L0/a/img/euvi/20110311/20110311_101400_n4euA.fts</td></tr>\n",
       "<tr><td>...</td></tr>\n",
       "<tr><td>secchi/L0/a/img/euvi/20110320/20110320_173100_n5euA.fts</td></tr>\n",
       "<tr><td>secchi/L0/a/img/euvi/20110320/20110320_173215_n5euA.fts</td></tr>\n",
       "<tr><td>secchi/L0/a/img/euvi/20110320/20110320_173330_n5euA.fts</td></tr>\n",
       "<tr><td>secchi/L0/a/img/euvi/20110320/20110320_173445_n5euA.fts</td></tr>\n",
       "<tr><td>secchi/L0/a/img/euvi/20110320/20110320_173600_n5euA.fts</td></tr>\n",
       "<tr><td>secchi/L0/a/img/euvi/20110320/20110320_173715_n5euA.fts</td></tr>\n",
       "<tr><td>secchi/L0/a/img/euvi/20110320/20110320_173830_n5euA.fts</td></tr>\n",
       "<tr><td>secchi/L0/a/img/euvi/20110320/20110320_173945_n5euA.fts</td></tr>\n",
       "<tr><td>secchi/L0/a/img/euvi/20110320/20110320_174100_n5euA.fts</td></tr>\n",
       "<tr><td>secchi/L0/a/img/euvi/20110320/20110320_174215_n5euA.fts</td></tr>\n",
       "<tr><td>secchi/L0/a/img/euvi/20110320/20110320_181400_n4euA.fts</td></tr>\n",
       "<tr><td>secchi/L0/a/img/euvi/20110320/20110320_201400_n4euA.fts</td></tr>\n",
       "</table>"
      ],
      "text/plain": [
       "<QueryResponseColumn name='fileid' dtype='str55' length=1079>\n",
       "secchi/L0/a/img/euvi/20110310/20110310_101400_n4euA.fts\n",
       "secchi/L0/a/img/euvi/20110310/20110310_121400_n4euA.fts\n",
       "secchi/L0/a/img/euvi/20110310/20110310_141400_n4euA.fts\n",
       "secchi/L0/a/img/euvi/20110310/20110310_161400_n4euA.fts\n",
       "secchi/L0/a/img/euvi/20110310/20110310_181400_n4euA.fts\n",
       "secchi/L0/a/img/euvi/20110310/20110310_201400_n4euA.fts\n",
       "secchi/L0/a/img/euvi/20110311/20110311_001400_n4euA.fts\n",
       "secchi/L0/a/img/euvi/20110311/20110311_021400_n4euA.fts\n",
       "secchi/L0/a/img/euvi/20110311/20110311_041400_n4euA.fts\n",
       "secchi/L0/a/img/euvi/20110311/20110311_061400_n4euA.fts\n",
       "secchi/L0/a/img/euvi/20110311/20110311_081400_n4euA.fts\n",
       "secchi/L0/a/img/euvi/20110311/20110311_101400_n4euA.fts\n",
       "                                                    ...\n",
       "secchi/L0/a/img/euvi/20110320/20110320_173100_n5euA.fts\n",
       "secchi/L0/a/img/euvi/20110320/20110320_173215_n5euA.fts\n",
       "secchi/L0/a/img/euvi/20110320/20110320_173330_n5euA.fts\n",
       "secchi/L0/a/img/euvi/20110320/20110320_173445_n5euA.fts\n",
       "secchi/L0/a/img/euvi/20110320/20110320_173600_n5euA.fts\n",
       "secchi/L0/a/img/euvi/20110320/20110320_173715_n5euA.fts\n",
       "secchi/L0/a/img/euvi/20110320/20110320_173830_n5euA.fts\n",
       "secchi/L0/a/img/euvi/20110320/20110320_173945_n5euA.fts\n",
       "secchi/L0/a/img/euvi/20110320/20110320_174100_n5euA.fts\n",
       "secchi/L0/a/img/euvi/20110320/20110320_174215_n5euA.fts\n",
       "secchi/L0/a/img/euvi/20110320/20110320_181400_n4euA.fts\n",
       "secchi/L0/a/img/euvi/20110320/20110320_201400_n4euA.fts"
      ]
     },
     "execution_count": 42,
     "metadata": {},
     "output_type": "execute_result"
    }
   ],
   "source": [
    "search_euvi_195['vso'][search_euvi_195['vso']['Source'] == 'STEREO_A']['fileid']"
   ]
  },
  {
   "cell_type": "code",
   "execution_count": 28,
   "metadata": {},
   "outputs": [
    {
     "data": {
      "text/plain": [
       "['vso']"
      ]
     },
     "execution_count": 28,
     "metadata": {},
     "output_type": "execute_result"
    }
   ],
   "source": [
    "search_euvi_195.keys()"
   ]
  },
  {
   "cell_type": "code",
   "execution_count": 4,
   "metadata": {},
   "outputs": [
    {
     "data": {
      "text/plain": [
       "'/data_local/work/gcs/Imagenes/193/'"
      ]
     },
     "execution_count": 4,
     "metadata": {},
     "output_type": "execute_result"
    }
   ],
   "source": [
    "aia_images.dir_descarga='/data_local/work/gcs/Imagenes/193/'\n",
    "aia_images.dir_descarga"
   ]
  },
  {
   "cell_type": "code",
   "execution_count": null,
   "metadata": {},
   "outputs": [],
   "source": [
    "aia_images.decompress()"
   ]
  },
  {
   "cell_type": "code",
   "execution_count": null,
   "metadata": {},
   "outputs": [],
   "source": [
    "aia_images.download()"
   ]
  },
  {
   "cell_type": "code",
   "execution_count": 18,
   "metadata": {},
   "outputs": [],
   "source": [
    "dir='/data_local/work/gcs/Imagenes/193/'\n",
    "file= 'aia_lev1_193a_2010_12_12t15_00_07_84z_image_lev1.fits'\n",
    "file2= file.replace('z', '')\n",
    "with fits.open(dir+file) as hdul:\n",
    "    data = hdul[1].data\n",
    "    header = hdul[1].header\n",
    "#fits.writeto(dir+file2, data, header, overwrite=True)"
   ]
  },
  {
   "cell_type": "code",
   "execution_count": 19,
   "metadata": {},
   "outputs": [
    {
     "data": {
      "text/plain": [
       "XTENSION= 'IMAGE   '           / binary table extension                         \n",
       "BITPIX  =                   16 / data type of original image                    \n",
       "NAXIS   =                    2 / dimension of original image                    \n",
       "NAXIS1  =                 4096 / length of original image axis                  \n",
       "NAXIS2  =                 4096 / length of original image axis                  \n",
       "PCOUNT  =                    0 / size of special data area                      \n",
       "GCOUNT  =                    1 / one data group (required keyword)              \n",
       "BLD_VERS= 'V5R12X'                                                              \n",
       "LVL_NUM = 1.000000                                                              \n",
       "T_REC   = '2010-12-12T15:00:09Z'                                                \n",
       "TRECSTEP= 1.000000                                                              \n",
       "TRECEPOC= '1977.01.01_00:00:00_TAI'                                             \n",
       "TRECROUN=                    1                                                  \n",
       "ORIGIN  = 'SDO/JSOC-SDP'                                                        \n",
       "DATE    = '2012-10-12T13:10:18'                                                 \n",
       "TELESCOP= 'SDO/AIA'                                                             \n",
       "INSTRUME= 'AIA_2'                                                               \n",
       "DATE-OBS= '2010-12-12T15:00:07.84'                                              \n",
       "T_OBS   = '2010-12-12T15:00:08.84Z'                                             \n",
       "CAMERA  =                    2                                                  \n",
       "IMG_TYPE= 'LIGHT'                                                               \n",
       "EXPTIME = 2.000068                                                              \n",
       "EXPSDEV = 0.000191                                                              \n",
       "INT_TIME= 2.273438                                                              \n",
       "WAVELNTH=                  193                                                  \n",
       "WAVEUNIT= 'angstrom'                                                            \n",
       "WAVE_STR= '193_THIN'                                                            \n",
       "FSN     =             17097755                                                  \n",
       "FID     =                    0                                                  \n",
       "QUALLEV0=                    0                                                  \n",
       "QUALITY =                    0                                                  \n",
       "TOTVALS =             16777216                                                  \n",
       "DATAVALS=             16777216                                                  \n",
       "MISSVALS=                    0                                                  \n",
       "PERCENTD= 100.00                                                                \n",
       "DATAMIN =                   -5                                                  \n",
       "DATAMAX =                11666                                                  \n",
       "DATAMEDN=                  165                                                  \n",
       "DATAMEAN= 249.85                                                                \n",
       "DATARMS = 370.29                                                                \n",
       "DATASKEW= 6.22                                                                  \n",
       "DATAKURT= 73.46                                                                 \n",
       "DATACENT= 212.33                                                                \n",
       "DATAP01 = 0.00                                                                  \n",
       "DATAP10 = 10.00                                                                 \n",
       "DATAP25 = 40.00                                                                 \n",
       "DATAP75 = 305.00                                                                \n",
       "DATAP90 = 549.00                                                                \n",
       "DATAP95 = 830.00                                                                \n",
       "DATAP98 = 1254.00                                                               \n",
       "DATAP99 = 1625.00                                                               \n",
       "NSATPIX =                    0                                                  \n",
       "OSCNMEAN= 'nan     '                                                            \n",
       "OSCNRMS = 'nan     '                                                            \n",
       "FLAT_REC= 'aia.flatfield[:#10]'                                                 \n",
       "NSPIKES =                 2798                                                  \n",
       "CTYPE1  = 'HPLN-TAN'                                                            \n",
       "CUNIT1  = 'arcsec'                                                              \n",
       "CRVAL1  = 0.000000                                                              \n",
       "CDELT1  = 0.600758                                                              \n",
       "CRPIX1  = 2046.209961                                                           \n",
       "CTYPE2  = 'HPLT-TAN'                                                            \n",
       "CUNIT2  = 'arcsec'                                                              \n",
       "CRVAL2  = 0.000000                                                              \n",
       "CDELT2  = 0.600758                                                              \n",
       "CRPIX2  = 2040.750000                                                           \n",
       "CROTA2  = 0.056490                                                              \n",
       "R_SUN   = 1623.855957                                                           \n",
       "MPO_REC = 'sdo.master_pointing[:#368]'                                          \n",
       "INST_ROT= 0.056433                                                              \n",
       "IMSCL_MP= 0.600758                                                              \n",
       "X0_MP   = 2045.209961                                                           \n",
       "Y0_MP   = 2039.750000                                                           \n",
       "ASD_REC = 'sdo.lev0_asd_0004[:#6856596]'                                        \n",
       "SAT_Y0  = -4.181411                                                             \n",
       "SAT_Z0  = 11.419811                                                             \n",
       "SAT_ROT = 0.000057                                                              \n",
       "ACS_MODE= 'SCIENCE'                                                             \n",
       "ACS_ECLP= 'NO'                                                                  \n",
       "ACS_SUNP= 'YES'                                                                 \n",
       "ACS_SAFE= 'NO'                                                                  \n",
       "ACS_CGT = 'GT3'                                                                 \n",
       "ORB_REC = 'sdo.fds_orbit_vectors[2010.12.12_15:00:00_UTC]'                      \n",
       "DSUN_REF= 149597870691.0                                                        \n",
       "DSUN_OBS= 147272240811.51                                                       \n",
       "RSUN_REF= 696000000.0                                                           \n",
       "RSUN_OBS= 974.799044                                                            \n",
       "GAEX_OBS= -38526481.83                                                          \n",
       "GAEY_OBS= -11661891.59                                                          \n",
       "GAEZ_OBS= 12535409.16                                                           \n",
       "HAEX_OBS= 24712924600.67                                                        \n",
       "HAEY_OBS= 145183966763.87                                                       \n",
       "HAEZ_OBS= 8126070.56                                                            \n",
       "OBS_VR  = -1688.408863                                                          \n",
       "OBS_VW  = 28784.029833                                                          \n",
       "OBS_VN  = -1413.095689                                                          \n",
       "CRLN_OBS= 150.608124                                                            \n",
       "CRLT_OBS= -0.574226                                                             \n",
       "CAR_ROT =                 2104                                                  \n",
       "HGLN_OBS= 0.000000                                                              \n",
       "HGLT_OBS= -0.574226                                                             \n",
       "ROI_NWIN=          -2147483648                                                  \n",
       "ROI_SUM =          -2147483648                                                  \n",
       "ROI_NAX1=          -2147483648                                                  \n",
       "ROI_NAY1=          -2147483648                                                  \n",
       "ROI_LLX1=          -2147483648                                                  \n",
       "ROI_LLY1=          -2147483648                                                  \n",
       "ROI_NAX2=          -2147483648                                                  \n",
       "ROI_NAY2=          -2147483648                                                  \n",
       "ROI_LLX2=          -2147483648                                                  \n",
       "ROI_LLY2=          -2147483648                                                  \n",
       "PIXLUNIT= 'DN'                                                                  \n",
       "DN_GAIN = 18.300                                                                \n",
       "EFF_AREA= 1.476                                                                 \n",
       "EFF_AR_V= 3.000                                                                 \n",
       "TEMPCCD = -70.000                                                               \n",
       "TEMPGT  = 14.940                                                                \n",
       "TEMPSMIR= 32.605                                                                \n",
       "TEMPFPAD= 17.633                                                                \n",
       "ISPSNAME= 'aia.lev0_isp_0011'                                                   \n",
       "ISPPKTIM= '2010-12-12T15:00:05.00Z'                                             \n",
       "ISPPKTVN= '001.197'                                                             \n",
       "AIVNMST =                  453                                                  \n",
       "AIMGOTS =           1670857242                                                  \n",
       "ASQHDR  =           1090839579                                                  \n",
       "ASQTNUM =                    1                                                  \n",
       "ASQFSN  =             17097755                                                  \n",
       "AIAHFSN =             17097747                                                  \n",
       "AECDELAY=                 1545                                                  \n",
       "AIAECTI =                    0                                                  \n",
       "AIASEN  =                    6                                                  \n",
       "AIFDBID =                  241                                                  \n",
       "AIMGOTSS=                37770                                                  \n",
       "AIFCPS  =                   55                                                  \n",
       "AIFTSWTH=                    0                                                  \n",
       "AIFRMLID=                 3009                                                  \n",
       "AIFTSID =                40962                                                  \n",
       "AIHISMXB=                    7                                                  \n",
       "AIHIS192=              8371126                                                  \n",
       "AIHIS348=              8386453                                                  \n",
       "AIHIS604=              8388593                                                  \n",
       "AIHIS860=              8388608                                                  \n",
       "AIFWEN  =                  270                                                  \n",
       "AIMGSHCE=                 2000                                                  \n",
       "AECTYPE =                    2                                                  \n",
       "AECMODE = 'ON'                                                                  \n",
       "AISTATE = 'CLOSED'                                                              \n",
       "AIAECENF=                    1                                                  \n",
       "AIFILTYP=                    0                                                  \n",
       "AIMSHOBC= 55.928001                                                             \n",
       "AIMSHOBE= 70.031998                                                             \n",
       "AIMSHOTC= 41.723999                                                             \n",
       "AIMSHOTE= 26.832001                                                             \n",
       "AIMSHCBC= 2056.120117                                                           \n",
       "AIMSHCBE= 2070.231934                                                           \n",
       "AIMSHCTC= 2041.864014                                                           \n",
       "AIMSHCTE= 2026.572021                                                           \n",
       "AICFGDL1=                    0                                                  \n",
       "AICFGDL2=                  137                                                  \n",
       "AICFGDL3=                  201                                                  \n",
       "AICFGDL4=                  236                                                  \n",
       "AIFOENFL=                    1                                                  \n",
       "AIMGFSN =                    2                                                  \n",
       "AIMGTYP =                    0                                                  \n",
       "AIAWVLEN=                    3                                                  \n",
       "AIAGP1  =                    0                                                  \n",
       "AIAGP2  =                    0                                                  \n",
       "AIAGP3  =                    0                                                  \n",
       "AIAGP4  =                    0                                                  \n",
       "AIAGP5  =                    0                                                  \n",
       "AIAGP6  =                    0                                                  \n",
       "AIAGP7  =                    0                                                  \n",
       "AIAGP8  =                  393                                                  \n",
       "AIAGP9  =                  457                                                  \n",
       "AIAGP10 =                  748                                                  \n",
       "AGT1SVY =                   -1                                                  \n",
       "AGT1SVZ =                    5                                                  \n",
       "AGT2SVY =                   -5                                                  \n",
       "AGT2SVZ =                   -8                                                  \n",
       "AGT3SVY =                    1                                                  \n",
       "AGT3SVZ =                   -2                                                  \n",
       "AGT4SVY =                   -2                                                  \n",
       "AGT4SVZ =                   -5                                                  \n",
       "AIMGSHEN=                   13                                                  \n",
       "KEYWDDOC= 'https://www.lmsal.com/sdodocs/doc?cmd=dcur&proj_num=SDOD0019&file_ty'\n",
       "RECNUM  =             66303433                                                  \n",
       "BLANK   =               -32768                                                  "
      ]
     },
     "execution_count": 19,
     "metadata": {},
     "output_type": "execute_result"
    }
   ],
   "source": [
    "header"
   ]
  },
  {
   "cell_type": "code",
   "execution_count": 20,
   "metadata": {},
   "outputs": [],
   "source": [
    "fits.writeto(dir+file2, data, header, overwrite=True)"
   ]
  },
  {
   "cell_type": "code",
   "execution_count": 22,
   "metadata": {},
   "outputs": [],
   "source": [
    "os.remove(dir+file)"
   ]
  },
  {
   "cell_type": "code",
   "execution_count": 9,
   "metadata": {},
   "outputs": [
    {
     "name": "stdout",
     "output_type": "stream",
     "text": [
      "Year: 2021\n",
      "Month: 8\n",
      "Day: 8\n"
     ]
    }
   ],
   "source": [
    "from astropy.time import Time\n",
    "julian_day=2459434.5 \n",
    "time = Time(julian_day, format='jd')\n",
    "year = time.datetime.year\n",
    "month = time.datetime.month\n",
    "day = time.datetime.day\n",
    "print(\"Year:\", year)\n",
    "print(\"Month:\", month)\n",
    "print(\"Day:\", day)"
   ]
  }
 ],
 "metadata": {
  "kernelspec": {
   "display_name": "actual",
   "language": "python",
   "name": "python3"
  },
  "language_info": {
   "codemirror_mode": {
    "name": "ipython",
    "version": 3
   },
   "file_extension": ".py",
   "mimetype": "text/x-python",
   "name": "python",
   "nbconvert_exporter": "python",
   "pygments_lexer": "ipython3",
   "version": "3.10.6"
  }
 },
 "nbformat": 4,
 "nbformat_minor": 2
}
