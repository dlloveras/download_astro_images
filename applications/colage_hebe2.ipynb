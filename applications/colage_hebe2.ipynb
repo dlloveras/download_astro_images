{
 "cells": [
  {
   "cell_type": "code",
   "execution_count": 2,
   "metadata": {},
   "outputs": [],
   "source": [
    "import pandas as pd\n",
    "from descargar_imagenes_clases import euvi_downloader\n",
    "from descargar_imagenes_clases import aia_downloader\n",
    "from descargar_imagenes_clases import convert_string\n",
    "import sunpy.map\n",
    "import sunpy.data.sample \n",
    "from descargar_imagenes_clases import initial_final_time\n",
    "import astropy.units as u\n",
    "from astropy.io import fits\n",
    "from sunpy.net import Fido, attrs as a\n",
    "from datetime import datetime, timedelta\n",
    "import os\n",
    "import matplotlib.pyplot as plt\n",
    "import pdb\n",
    "import numpy as np\n",
    "import requests\n",
    "import warnings\n",
    "warnings.filterwarnings(\"ignore\")\n",
    "# Specify the file path\n",
    "file_path = \"/data_local/Descargas/DatesandTimesCMEs-SRcharacteristics.csv\"\n",
    "\n",
    "# Read the CSV file\n",
    "data = pd.read_csv(file_path)\n",
    "\n",
    "# Display the data\n",
    "#print(data)"
   ]
  },
  {
   "cell_type": "code",
   "execution_count": 3,
   "metadata": {},
   "outputs": [
    {
     "data": {
      "text/plain": [
       "0      2010/12/12 1:00:00\n",
       "1     2010/12/14 14:50:00\n",
       "2        2011/03/17 10:00\n",
       "3      2011/06/05 3:00:00\n",
       "4     2013/01/23 12:00:00\n",
       "5      2013/01/29 0:00:00\n",
       "6      2013/02/09 5:00:00\n",
       "7      2013/04/24 4:00:00\n",
       "8      2013/05/02 4:00:00\n",
       "9     2013/05/17 18:00:00\n",
       "10    2013/05/27 16:00:00\n",
       "11    2013/06/07 22:00:00\n",
       "12     No sirve, stealth \n",
       "13     2011/04/27 5:00:00\n",
       "14     2011/05/23 0:00:00\n",
       "15     2013/01/16 5:00:00\n",
       "16    2013/01/23 18:00:00\n",
       "17     2013/01/27 5:00:00\n",
       "Name: EUV loops data start time, dtype: object"
      ]
     },
     "execution_count": 3,
     "metadata": {},
     "output_type": "execute_result"
    }
   ],
   "source": [
    "data_short = data.iloc[0:18].copy()\n",
    "data_short['EUV loops data start time'] "
   ]
  },
  {
   "cell_type": "code",
   "execution_count": 4,
   "metadata": {},
   "outputs": [
    {
     "data": {
      "text/html": [
       "<div>\n",
       "<style scoped>\n",
       "    .dataframe tbody tr th:only-of-type {\n",
       "        vertical-align: middle;\n",
       "    }\n",
       "\n",
       "    .dataframe tbody tr th {\n",
       "        vertical-align: top;\n",
       "    }\n",
       "\n",
       "    .dataframe thead th {\n",
       "        text-align: right;\n",
       "    }\n",
       "</style>\n",
       "<table border=\"1\" class=\"dataframe\">\n",
       "  <thead>\n",
       "    <tr style=\"text-align: right;\">\n",
       "      <th></th>\n",
       "      <th>Instrument</th>\n",
       "      <th>EUV loops data start time</th>\n",
       "      <th>EUV loops data end time</th>\n",
       "    </tr>\n",
       "  </thead>\n",
       "  <tbody>\n",
       "    <tr>\n",
       "      <th>0</th>\n",
       "      <td>AIA</td>\n",
       "      <td>2010/12/12 1:00:00</td>\n",
       "      <td>2010/12/12 15:00:00</td>\n",
       "    </tr>\n",
       "    <tr>\n",
       "      <th>1</th>\n",
       "      <td>EUVI-A</td>\n",
       "      <td>2010/12/14 14:50:00</td>\n",
       "      <td>2010/12/14 23:59:00</td>\n",
       "    </tr>\n",
       "    <tr>\n",
       "      <th>2</th>\n",
       "      <td>EUVI-B</td>\n",
       "      <td>2011/03/17 10:00</td>\n",
       "      <td>2011/03/17 22:00</td>\n",
       "    </tr>\n",
       "    <tr>\n",
       "      <th>3</th>\n",
       "      <td>AIA</td>\n",
       "      <td>2011/06/05 3:00:00</td>\n",
       "      <td>2011/06/05 16:00:00</td>\n",
       "    </tr>\n",
       "    <tr>\n",
       "      <th>4</th>\n",
       "      <td>AIA</td>\n",
       "      <td>2013/01/23 12:00:00</td>\n",
       "      <td>2013/01/23 20:00:00</td>\n",
       "    </tr>\n",
       "    <tr>\n",
       "      <th>5</th>\n",
       "      <td>AIA</td>\n",
       "      <td>2013/01/29 0:00:00</td>\n",
       "      <td>2013/01/29 8:00:00</td>\n",
       "    </tr>\n",
       "    <tr>\n",
       "      <th>6</th>\n",
       "      <td>AIA</td>\n",
       "      <td>2013/02/09 5:00:00</td>\n",
       "      <td>2013/02/09 12:00:00</td>\n",
       "    </tr>\n",
       "    <tr>\n",
       "      <th>7</th>\n",
       "      <td>EUVI-B</td>\n",
       "      <td>2013/04/24 4:00:00</td>\n",
       "      <td>2013/04/24 18:00:00</td>\n",
       "    </tr>\n",
       "    <tr>\n",
       "      <th>8</th>\n",
       "      <td>AIA</td>\n",
       "      <td>2013/05/02 4:00:00</td>\n",
       "      <td>2013/05/02 12:00:00</td>\n",
       "    </tr>\n",
       "    <tr>\n",
       "      <th>9</th>\n",
       "      <td>EUVI-B</td>\n",
       "      <td>2013/05/17 18:00:00</td>\n",
       "      <td>2013/05/18 10:00:00</td>\n",
       "    </tr>\n",
       "    <tr>\n",
       "      <th>10</th>\n",
       "      <td>EUVI-B</td>\n",
       "      <td>2013/05/27 16:00:00</td>\n",
       "      <td>2013/05/28 8:00:00</td>\n",
       "    </tr>\n",
       "    <tr>\n",
       "      <th>11</th>\n",
       "      <td>EUVI-A</td>\n",
       "      <td>2013/06/07 22:00:00</td>\n",
       "      <td>2013/06/08 12:00:00</td>\n",
       "    </tr>\n",
       "    <tr>\n",
       "      <th>12</th>\n",
       "      <td>AIA</td>\n",
       "      <td>No sirve, stealth</td>\n",
       "      <td>No sirve, stealth</td>\n",
       "    </tr>\n",
       "    <tr>\n",
       "      <th>13</th>\n",
       "      <td>EUVI-A</td>\n",
       "      <td>2011/04/27 5:00:00</td>\n",
       "      <td>2011/04/27 16:00:00</td>\n",
       "    </tr>\n",
       "    <tr>\n",
       "      <th>14</th>\n",
       "      <td>AIA</td>\n",
       "      <td>2011/05/23 0:00:00</td>\n",
       "      <td>2011/05/23 10:00:00</td>\n",
       "    </tr>\n",
       "    <tr>\n",
       "      <th>15</th>\n",
       "      <td>EUVI-A</td>\n",
       "      <td>2013/01/16 5:00:00</td>\n",
       "      <td>2013/01/16 15:00:00</td>\n",
       "    </tr>\n",
       "    <tr>\n",
       "      <th>16</th>\n",
       "      <td>AIA</td>\n",
       "      <td>2013/01/23 18:00:00</td>\n",
       "      <td>2013/01/24 8:00:00</td>\n",
       "    </tr>\n",
       "    <tr>\n",
       "      <th>17</th>\n",
       "      <td>EUVI-A</td>\n",
       "      <td>2013/01/27 5:00:00</td>\n",
       "      <td>2013/01/27 14:00:00</td>\n",
       "    </tr>\n",
       "  </tbody>\n",
       "</table>\n",
       "</div>"
      ],
      "text/plain": [
       "   Instrument EUV loops data start time EUV loops data end time\n",
       "0         AIA        2010/12/12 1:00:00     2010/12/12 15:00:00\n",
       "1      EUVI-A       2010/12/14 14:50:00     2010/12/14 23:59:00\n",
       "2      EUVI-B          2011/03/17 10:00        2011/03/17 22:00\n",
       "3         AIA        2011/06/05 3:00:00     2011/06/05 16:00:00\n",
       "4         AIA       2013/01/23 12:00:00     2013/01/23 20:00:00\n",
       "5         AIA        2013/01/29 0:00:00      2013/01/29 8:00:00\n",
       "6         AIA        2013/02/09 5:00:00     2013/02/09 12:00:00\n",
       "7      EUVI-B        2013/04/24 4:00:00     2013/04/24 18:00:00\n",
       "8         AIA        2013/05/02 4:00:00     2013/05/02 12:00:00\n",
       "9      EUVI-B       2013/05/17 18:00:00     2013/05/18 10:00:00\n",
       "10     EUVI-B       2013/05/27 16:00:00      2013/05/28 8:00:00\n",
       "11     EUVI-A       2013/06/07 22:00:00     2013/06/08 12:00:00\n",
       "12        AIA        No sirve, stealth       No sirve, stealth \n",
       "13     EUVI-A        2011/04/27 5:00:00     2011/04/27 16:00:00\n",
       "14        AIA        2011/05/23 0:00:00     2011/05/23 10:00:00\n",
       "15     EUVI-A        2013/01/16 5:00:00     2013/01/16 15:00:00\n",
       "16        AIA       2013/01/23 18:00:00      2013/01/24 8:00:00\n",
       "17     EUVI-A        2013/01/27 5:00:00     2013/01/27 14:00:00"
      ]
     },
     "execution_count": 4,
     "metadata": {},
     "output_type": "execute_result"
    }
   ],
   "source": [
    "data2=data_short[['Instrument','EUV loops data start time','EUV loops data end time']].copy()\n",
    "data2"
   ]
  },
  {
   "cell_type": "code",
   "execution_count": 27,
   "metadata": {},
   "outputs": [
    {
     "data": {
      "image/png": "[encoded data removed]",
      "text/plain": [
       "<Figure size 1500x500 with 1 Axes>"
      ]
     },
     "metadata": {},
     "output_type": "display_data"
    }
   ],
   "source": [
    "#AIA\n",
    "#index = 0\n",
    "#index = 3\n",
    "#index = 4\n",
    "#index = 5\n",
    "#index = 6\n",
    "#index = 8\n",
    "#index = 14\n",
    "index = 16\n",
    "ini=data2.iloc[index]['EUV loops data start time'].replace('/', '-')\n",
    "fin=data2.iloc[index]['EUV loops data end time'].replace('/', '-')\n",
    "t_ini=ini\n",
    "t_fin=fin\n",
    "ini,fin = initial_final_time(t_ini, t_fin, delta_t=1)\n",
    "aia_images = aia_downloader(start_time=ini,end_time=fin,cadence=10,wave=193,origin_download_path=True,band_folder=True)\n",
    "aia_images.search()\n",
    "aia_images.display()"
   ]
  },
  {
   "cell_type": "code",
   "execution_count": null,
   "metadata": {},
   "outputs": [],
   "source": [
    "aia_images.download()"
   ]
  },
  {
   "cell_type": "code",
   "execution_count": null,
   "metadata": {},
   "outputs": [],
   "source": [
    "aia_images.decompress()"
   ]
  },
  {
   "cell_type": "code",
   "execution_count": 9,
   "metadata": {},
   "outputs": [
    {
     "data": {
      "text/plain": [
       "'/media/gehme/gehme/data/sdo/aia/l1/193/20110605/'"
      ]
     },
     "execution_count": 9,
     "metadata": {},
     "output_type": "execute_result"
    }
   ],
   "source": [
    "aia_images.dir_descarga"
   ]
  }
 ],
 "metadata": {
  "kernelspec": {
   "display_name": "new_actual",
   "language": "python",
   "name": "python3"
  },
  "language_info": {
   "codemirror_mode": {
    "name": "ipython",
    "version": 3
   },
   "file_extension": ".py",
   "mimetype": "text/x-python",
   "name": "python",
   "nbconvert_exporter": "python",
   "pygments_lexer": "ipython3",
   "version": "3.10.6"
  }
 },
 "nbformat": 4,
 "nbformat_minor": 2
}
